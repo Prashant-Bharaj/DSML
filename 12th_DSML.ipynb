{
  "nbformat": 4,
  "nbformat_minor": 0,
  "metadata": {
    "colab": {
      "name": "12th_DSML.ipynb",
      "provenance": [],
      "collapsed_sections": [],
      "include_colab_link": true
    },
    "kernelspec": {
      "name": "python3",
      "display_name": "Python 3"
    }
  },
  "cells": [
    {
      "cell_type": "markdown",
      "metadata": {
        "id": "view-in-github",
        "colab_type": "text"
      },
      "source": [
        "<a href=\"https://colab.research.google.com/github/Prashant-Bharaj/DSML/blob/master/12th_DSML.ipynb\" target=\"_parent\"><img src=\"https://colab.research.google.com/assets/colab-badge.svg\" alt=\"Open In Colab\"/></a>"
      ]
    },
    {
      "cell_type": "code",
      "metadata": {
        "id": "-8nR4QuL6NOB",
        "colab_type": "code",
        "colab": {
          "base_uri": "https://localhost:8080/",
          "height": 34
        },
        "outputId": "5c752f6c-e47d-48b2-82b5-50e9bd305c2c"
      },
      "source": [
        "a=4\n",
        "b=9.0\n",
        "print(a+b)"
      ],
      "execution_count": null,
      "outputs": [
        {
          "output_type": "stream",
          "text": [
            "13.0\n"
          ],
          "name": "stdout"
        }
      ]
    },
    {
      "cell_type": "code",
      "metadata": {
        "id": "u6AmTfBsH4X1",
        "colab_type": "code",
        "colab": {
          "base_uri": "https://localhost:8080/",
          "height": 122
        },
        "outputId": "2aaccf40-625c-41e6-f414-215c5ca71809"
      },
      "source": [
        "from google.colab import drive\n",
        "drive.mount('/content/drive')"
      ],
      "execution_count": null,
      "outputs": [
        {
          "output_type": "stream",
          "text": [
            "Go to this URL in a browser: https://accounts.google.com/o/oauth2/auth?client_id=947318989803-6bn6qk8qdgf4n4g3pfee6491hc0brc4i.apps.googleusercontent.com&redirect_uri=urn%3aietf%3awg%3aoauth%3a2.0%3aoob&scope=email%20https%3a%2f%2fwww.googleapis.com%2fauth%2fdocs.test%20https%3a%2f%2fwww.googleapis.com%2fauth%2fdrive%20https%3a%2f%2fwww.googleapis.com%2fauth%2fdrive.photos.readonly%20https%3a%2f%2fwww.googleapis.com%2fauth%2fpeopleapi.readonly&response_type=code\n",
            "\n",
            "Enter your authorization code:\n",
            "··········\n",
            "Mounted at /content/drive\n"
          ],
          "name": "stdout"
        }
      ]
    },
    {
      "cell_type": "code",
      "metadata": {
        "id": "tTaqZl_U7kRj",
        "colab_type": "code",
        "colab": {
          "base_uri": "https://localhost:8080/",
          "height": 34
        },
        "outputId": "42967d61-4a45-4317-90dd-67b5a9ec7062"
      },
      "source": [
        "c = 'bipul'\n",
        "print(c)"
      ],
      "execution_count": null,
      "outputs": [
        {
          "output_type": "stream",
          "text": [
            "bipul\n"
          ],
          "name": "stdout"
        }
      ]
    },
    {
      "cell_type": "code",
      "metadata": {
        "id": "IzNqGeAu6rpF",
        "colab_type": "code",
        "colab": {}
      },
      "source": [
        "#List\n",
        "#Tuple\n",
        "#Dictionary\n",
        "#For loop\n",
        "#if else\n",
        "#function"
      ],
      "execution_count": null,
      "outputs": []
    },
    {
      "cell_type": "code",
      "metadata": {
        "id": "pZG25yz27Bdh",
        "colab_type": "code",
        "colab": {
          "base_uri": "https://localhost:8080/",
          "height": 34
        },
        "outputId": "a43b998e-f304-4672-f438-d9e44e9749d6"
      },
      "source": [
        "l = [11,21,31,41,51]\n",
        "print(l[1])"
      ],
      "execution_count": null,
      "outputs": [
        {
          "output_type": "stream",
          "text": [
            "21\n"
          ],
          "name": "stdout"
        }
      ]
    },
    {
      "cell_type": "code",
      "metadata": {
        "id": "iXqBsmgB7Nn7",
        "colab_type": "code",
        "colab": {
          "base_uri": "https://localhost:8080/",
          "height": 34
        },
        "outputId": "e56d5f99-8fbb-4d26-f49e-3c522df3136d"
      },
      "source": [
        "t = (11,21,31,41,51)\n",
        "print(t[3])"
      ],
      "execution_count": null,
      "outputs": [
        {
          "output_type": "stream",
          "text": [
            "41\n"
          ],
          "name": "stdout"
        }
      ]
    },
    {
      "cell_type": "code",
      "metadata": {
        "id": "rE0vCmtd71h3",
        "colab_type": "code",
        "colab": {
          "base_uri": "https://localhost:8080/",
          "height": 51
        },
        "outputId": "a4e6a14e-55ef-47ee-f41e-288063acde4f"
      },
      "source": [
        "print(l)\n",
        "l[0] = 889\n",
        "print(l)"
      ],
      "execution_count": null,
      "outputs": [
        {
          "output_type": "stream",
          "text": [
            "[11, 21, 31, 41, 51]\n",
            "[889, 21, 31, 41, 51]\n"
          ],
          "name": "stdout"
        }
      ]
    },
    {
      "cell_type": "markdown",
      "metadata": {
        "id": "OFRQ4MTl8UII",
        "colab_type": "text"
      },
      "source": [
        "append , remove , insert , sort , revrse"
      ]
    },
    {
      "cell_type": "code",
      "metadata": {
        "id": "DYvoY_CZ78yP",
        "colab_type": "code",
        "colab": {
          "base_uri": "https://localhost:8080/",
          "height": 51
        },
        "outputId": "1799099f-0b57-430e-9a36-8aba3ec3fe4e"
      },
      "source": [
        "print(l)\n",
        "l.append(456)\n",
        "print(l)"
      ],
      "execution_count": null,
      "outputs": [
        {
          "output_type": "stream",
          "text": [
            "[889, 21, 31, 41, 51]\n",
            "[889, 21, 31, 41, 51, 456]\n"
          ],
          "name": "stdout"
        }
      ]
    },
    {
      "cell_type": "code",
      "metadata": {
        "id": "420cbWPn8Ns_",
        "colab_type": "code",
        "colab": {
          "base_uri": "https://localhost:8080/",
          "height": 51
        },
        "outputId": "cd69bd84-a98b-4b43-e416-dd3066687e3f"
      },
      "source": [
        "print(l)\n",
        "l.sort()\n",
        "print(l)"
      ],
      "execution_count": null,
      "outputs": [
        {
          "output_type": "stream",
          "text": [
            "[889, 21, 31, 41, 51, 456]\n",
            "[21, 31, 41, 51, 456, 889]\n"
          ],
          "name": "stdout"
        }
      ]
    },
    {
      "cell_type": "code",
      "metadata": {
        "id": "wRa0pXDW8bNH",
        "colab_type": "code",
        "colab": {
          "base_uri": "https://localhost:8080/",
          "height": 51
        },
        "outputId": "3f5808a1-057e-4717-fa0d-fbe7f1497376"
      },
      "source": [
        "print(l)\n",
        "l.reverse()\n",
        "print(l)"
      ],
      "execution_count": null,
      "outputs": [
        {
          "output_type": "stream",
          "text": [
            "[21, 31, 41, 51, 456, 889]\n",
            "[889, 456, 51, 41, 31, 21]\n"
          ],
          "name": "stdout"
        }
      ]
    },
    {
      "cell_type": "code",
      "metadata": {
        "id": "olMLWrey8nBY",
        "colab_type": "code",
        "colab": {
          "base_uri": "https://localhost:8080/",
          "height": 51
        },
        "outputId": "2942ed23-9d22-4759-c4e3-9688584ddf01"
      },
      "source": [
        "print(l)\n",
        "l.remove(51)\n",
        "print(l)"
      ],
      "execution_count": null,
      "outputs": [
        {
          "output_type": "stream",
          "text": [
            "[889, 456, 51, 41, 31, 21]\n",
            "[889, 456, 41, 31, 21]\n"
          ],
          "name": "stdout"
        }
      ]
    },
    {
      "cell_type": "code",
      "metadata": {
        "id": "MM-_YxOC8vyT",
        "colab_type": "code",
        "colab": {
          "base_uri": "https://localhost:8080/",
          "height": 51
        },
        "outputId": "e3682aaa-a866-4ad0-b71a-5cf2a3d52a0e"
      },
      "source": [
        "print(l)\n",
        "l.insert(2,467)\n",
        "print(l)"
      ],
      "execution_count": null,
      "outputs": [
        {
          "output_type": "stream",
          "text": [
            "[889, 456, 41, 31, 21]\n",
            "[889, 456, 467, 41, 31, 21]\n"
          ],
          "name": "stdout"
        }
      ]
    },
    {
      "cell_type": "code",
      "metadata": {
        "id": "fyaLTBVu84Tz",
        "colab_type": "code",
        "colab": {
          "base_uri": "https://localhost:8080/",
          "height": 34
        },
        "outputId": "9bae425b-1e10-4ce1-efe3-caa7eb4de7e8"
      },
      "source": [
        "list(t)"
      ],
      "execution_count": null,
      "outputs": [
        {
          "output_type": "execute_result",
          "data": {
            "text/plain": [
              "[11, 21, 31, 41, 51]"
            ]
          },
          "metadata": {
            "tags": []
          },
          "execution_count": 36
        }
      ]
    },
    {
      "cell_type": "code",
      "metadata": {
        "id": "rv19lbZV93B2",
        "colab_type": "code",
        "colab": {
          "base_uri": "https://localhost:8080/",
          "height": 51
        },
        "outputId": "30f5a3f4-082f-4d59-f360-ce09d233856f"
      },
      "source": [
        "d = {'name':'Bipul' , 'email':'bipul@diginique.com'}\n",
        "print(d['name'])\n",
        "print(d['email'])"
      ],
      "execution_count": null,
      "outputs": [
        {
          "output_type": "stream",
          "text": [
            "Bipul\n",
            "bipul@diginique.com\n"
          ],
          "name": "stdout"
        }
      ]
    },
    {
      "cell_type": "code",
      "metadata": {
        "id": "-wFgkjts-Grl",
        "colab_type": "code",
        "colab": {
          "base_uri": "https://localhost:8080/",
          "height": 51
        },
        "outputId": "9b6302e3-a3ea-48b9-d017-c3f84b279dc3"
      },
      "source": [
        "# == , != , >, < , >= , <=\n",
        "age = int(input('Enter your age'))\n",
        "if(age >= 18):\n",
        "  print('You can vote')\n",
        "  print('Hello')\n",
        "  print('Google')\n",
        "  if (age < 35):\n",
        "    print('Please go left')\n",
        "  else:\n",
        "    print('please go right')\n",
        "else:\n",
        "  print('You can not vote')"
      ],
      "execution_count": null,
      "outputs": [
        {
          "output_type": "stream",
          "text": [
            "Enter your age17\n",
            "You can not vote\n"
          ],
          "name": "stdout"
        }
      ]
    },
    {
      "cell_type": "code",
      "metadata": {
        "id": "SKUDDJRW-XFu",
        "colab_type": "code",
        "colab": {
          "base_uri": "https://localhost:8080/",
          "height": 187
        },
        "outputId": "f0925c29-a249-49a0-ecc1-31daad7d8768"
      },
      "source": [
        "#looping\n",
        "#while, for loop\n",
        "i = 0\n",
        "while(True):\n",
        "  i += 1\n",
        "  print('Bipul',i)\n",
        "  if i >= 10:\n",
        "    break"
      ],
      "execution_count": null,
      "outputs": [
        {
          "output_type": "stream",
          "text": [
            "Bipul 1\n",
            "Bipul 2\n",
            "Bipul 3\n",
            "Bipul 4\n",
            "Bipul 5\n",
            "Bipul 6\n",
            "Bipul 7\n",
            "Bipul 8\n",
            "Bipul 9\n",
            "Bipul 10\n"
          ],
          "name": "stdout"
        }
      ]
    },
    {
      "cell_type": "code",
      "metadata": {
        "id": "WBCl5bWOABh9",
        "colab_type": "code",
        "colab": {
          "base_uri": "https://localhost:8080/",
          "height": 204
        },
        "outputId": "a87851cc-1fc9-4a57-9ab4-a45288a77be2"
      },
      "source": [
        "i = 0\n",
        "while(i <= 10):\n",
        "  print('Bipul',i)\n",
        "  i += 1"
      ],
      "execution_count": null,
      "outputs": [
        {
          "output_type": "stream",
          "text": [
            "Bipul 0\n",
            "Bipul 1\n",
            "Bipul 2\n",
            "Bipul 3\n",
            "Bipul 4\n",
            "Bipul 5\n",
            "Bipul 6\n",
            "Bipul 7\n",
            "Bipul 8\n",
            "Bipul 9\n",
            "Bipul 10\n"
          ],
          "name": "stdout"
        }
      ]
    },
    {
      "cell_type": "code",
      "metadata": {
        "id": "12WpBg22AcGv",
        "colab_type": "code",
        "colab": {}
      },
      "source": [
        "while(False):\n",
        "  print('Google')"
      ],
      "execution_count": null,
      "outputs": []
    },
    {
      "cell_type": "code",
      "metadata": {
        "id": "OxxRVXDdAk7I",
        "colab_type": "code",
        "colab": {
          "base_uri": "https://localhost:8080/",
          "height": 187
        },
        "outputId": "18df5df3-6031-48f0-caa7-3af66e71282c"
      },
      "source": [
        "for i in range(0,10):\n",
        "  print('Google',i)"
      ],
      "execution_count": null,
      "outputs": [
        {
          "output_type": "stream",
          "text": [
            "Google 0\n",
            "Google 1\n",
            "Google 2\n",
            "Google 3\n",
            "Google 4\n",
            "Google 5\n",
            "Google 6\n",
            "Google 7\n",
            "Google 8\n",
            "Google 9\n"
          ],
          "name": "stdout"
        }
      ]
    },
    {
      "cell_type": "code",
      "metadata": {
        "id": "-XStUT8RBWHh",
        "colab_type": "code",
        "colab": {
          "base_uri": "https://localhost:8080/",
          "height": 34
        },
        "outputId": "4da25453-3224-4fe8-c349-3631f820b07d"
      },
      "source": [
        "print(len(l))"
      ],
      "execution_count": null,
      "outputs": [
        {
          "output_type": "stream",
          "text": [
            "6\n"
          ],
          "name": "stdout"
        }
      ]
    },
    {
      "cell_type": "code",
      "metadata": {
        "id": "P3epsCE6AuuO",
        "colab_type": "code",
        "colab": {
          "base_uri": "https://localhost:8080/",
          "height": 34
        },
        "outputId": "d9612489-49a5-4e65-9ea5-2380a0dd17cf"
      },
      "source": [
        "#For loop for a varible with multiple values\n",
        "#l*2\n",
        "l2 = []\n",
        "for i in range(len(l)):\n",
        "  l2.append(l[i]*2)\n",
        "print(l2)"
      ],
      "execution_count": null,
      "outputs": [
        {
          "output_type": "stream",
          "text": [
            "[1778, 912, 934, 82, 62, 42]\n"
          ],
          "name": "stdout"
        }
      ]
    },
    {
      "cell_type": "code",
      "metadata": {
        "id": "JIBjRpY9A4rp",
        "colab_type": "code",
        "colab": {
          "base_uri": "https://localhost:8080/",
          "height": 34
        },
        "outputId": "463cae14-e1e3-4de5-8d0b-00d0cd18207f"
      },
      "source": [
        "l3 = []\n",
        "for i in l:\n",
        "  l3.append(i*3)\n",
        "print(l3)"
      ],
      "execution_count": null,
      "outputs": [
        {
          "output_type": "stream",
          "text": [
            "[2667, 1368, 1401, 123, 93, 63]\n"
          ],
          "name": "stdout"
        }
      ]
    },
    {
      "cell_type": "code",
      "metadata": {
        "id": "VMQMRU8fBiaa",
        "colab_type": "code",
        "colab": {
          "base_uri": "https://localhost:8080/",
          "height": 51
        },
        "outputId": "9c2532e1-3f55-46c9-d1bd-9d7effe0c31e"
      },
      "source": [
        "for i in d:\n",
        "  print(i,d[i])"
      ],
      "execution_count": null,
      "outputs": [
        {
          "output_type": "stream",
          "text": [
            "name Bipul\n",
            "email bipul@diginique.com\n"
          ],
          "name": "stdout"
        }
      ]
    },
    {
      "cell_type": "code",
      "metadata": {
        "id": "-O_JR-0_BxCD",
        "colab_type": "code",
        "colab": {}
      },
      "source": [
        "#function\n",
        "#f(x) = x*2+3\n",
        "#f(3) = 9\n",
        "#Local Decalartion\n",
        "def abc():\n",
        "  a1 = 4\n",
        "  b1 = 7\n",
        "  c1 = 2*(a1*b1)\n",
        "  print(c1)"
      ],
      "execution_count": null,
      "outputs": []
    },
    {
      "cell_type": "code",
      "metadata": {
        "id": "v2NZhnpwCXMg",
        "colab_type": "code",
        "colab": {
          "base_uri": "https://localhost:8080/",
          "height": 248
        },
        "outputId": "3bbb7dd9-7199-4360-f2e4-edd4d3d4b1d6"
      },
      "source": [
        "abc()\n",
        "abc()\n",
        "abc()\n",
        "print(a1+b1)"
      ],
      "execution_count": null,
      "outputs": [
        {
          "output_type": "stream",
          "text": [
            "56\n",
            "56\n",
            "56\n"
          ],
          "name": "stdout"
        },
        {
          "output_type": "error",
          "ename": "NameError",
          "evalue": "ignored",
          "traceback": [
            "\u001b[0;31m---------------------------------------------------------------------------\u001b[0m",
            "\u001b[0;31mNameError\u001b[0m                                 Traceback (most recent call last)",
            "\u001b[0;32m<ipython-input-48-52a5fe12f27b>\u001b[0m in \u001b[0;36m<module>\u001b[0;34m()\u001b[0m\n\u001b[1;32m      2\u001b[0m \u001b[0mabc\u001b[0m\u001b[0;34m(\u001b[0m\u001b[0;34m)\u001b[0m\u001b[0;34m\u001b[0m\u001b[0;34m\u001b[0m\u001b[0m\n\u001b[1;32m      3\u001b[0m \u001b[0mabc\u001b[0m\u001b[0;34m(\u001b[0m\u001b[0;34m)\u001b[0m\u001b[0;34m\u001b[0m\u001b[0;34m\u001b[0m\u001b[0m\n\u001b[0;32m----> 4\u001b[0;31m \u001b[0mprint\u001b[0m\u001b[0;34m(\u001b[0m\u001b[0ma1\u001b[0m\u001b[0;34m+\u001b[0m\u001b[0mb1\u001b[0m\u001b[0;34m)\u001b[0m\u001b[0;34m\u001b[0m\u001b[0;34m\u001b[0m\u001b[0m\n\u001b[0m",
            "\u001b[0;31mNameError\u001b[0m: name 'a1' is not defined"
          ]
        }
      ]
    },
    {
      "cell_type": "code",
      "metadata": {
        "id": "NIylT5nlDE3X",
        "colab_type": "code",
        "colab": {}
      },
      "source": [
        "#Global Declaration\n",
        "x = 4\n",
        "y = 7\n",
        "def abc():\n",
        "  z = 2*(x*y)\n",
        "  print(z)"
      ],
      "execution_count": null,
      "outputs": []
    },
    {
      "cell_type": "code",
      "metadata": {
        "id": "5igVtjcyC-OQ",
        "colab_type": "code",
        "colab": {
          "base_uri": "https://localhost:8080/",
          "height": 85
        },
        "outputId": "30b0418b-35dc-47e6-8b08-e832b2392c68"
      },
      "source": [
        "abc()\n",
        "abc()\n",
        "abc()\n",
        "print(x+y)"
      ],
      "execution_count": null,
      "outputs": [
        {
          "output_type": "stream",
          "text": [
            "56\n",
            "56\n",
            "56\n",
            "11\n"
          ],
          "name": "stdout"
        }
      ]
    },
    {
      "cell_type": "code",
      "metadata": {
        "id": "X_1IUX8PCZd3",
        "colab_type": "code",
        "colab": {}
      },
      "source": [
        "#Functions with parameter\n",
        "def xyz(x,y):\n",
        "  z = 2*(x+y)\n",
        "  print(z)"
      ],
      "execution_count": null,
      "outputs": []
    },
    {
      "cell_type": "code",
      "metadata": {
        "id": "iDe0GR_YCpjK",
        "colab_type": "code",
        "colab": {
          "base_uri": "https://localhost:8080/",
          "height": 68
        },
        "outputId": "7648a6e0-403e-4e3c-c94c-7f3f83136aae"
      },
      "source": [
        "xyz(1,2)\n",
        "xyz(3,2)\n",
        "xyz(5,2)"
      ],
      "execution_count": null,
      "outputs": [
        {
          "output_type": "stream",
          "text": [
            "6\n",
            "10\n",
            "14\n"
          ],
          "name": "stdout"
        }
      ]
    },
    {
      "cell_type": "code",
      "metadata": {
        "id": "OnzmR7CSCu8z",
        "colab_type": "code",
        "colab": {}
      },
      "source": [
        "#Return type function - if we need to operate on the top of function\n",
        "def xyz(x,y):\n",
        "  z = 2*(x+y)\n",
        "  return z"
      ],
      "execution_count": null,
      "outputs": []
    },
    {
      "cell_type": "code",
      "metadata": {
        "id": "O3ixTkLmD9F7",
        "colab_type": "code",
        "colab": {
          "base_uri": "https://localhost:8080/",
          "height": 34
        },
        "outputId": "5b68c03e-1043-4682-9d47-7423a67d4e70"
      },
      "source": [
        "xyz(5,2) * 3"
      ],
      "execution_count": null,
      "outputs": [
        {
          "output_type": "execute_result",
          "data": {
            "text/plain": [
              "42"
            ]
          },
          "metadata": {
            "tags": []
          },
          "execution_count": 54
        }
      ]
    },
    {
      "cell_type": "code",
      "metadata": {
        "id": "zM2AXftyDox2",
        "colab_type": "code",
        "colab": {
          "base_uri": "https://localhost:8080/",
          "height": 34
        },
        "outputId": "45d1e8f7-ff75-4991-e7e9-68406f46e3a3"
      },
      "source": [
        "14*2"
      ],
      "execution_count": null,
      "outputs": [
        {
          "output_type": "execute_result",
          "data": {
            "text/plain": [
              "28"
            ]
          },
          "metadata": {
            "tags": []
          },
          "execution_count": 55
        }
      ]
    },
    {
      "cell_type": "code",
      "metadata": {
        "id": "5dGo8foHDqZ2",
        "colab_type": "code",
        "colab": {
          "base_uri": "https://localhost:8080/",
          "height": 34
        },
        "outputId": "61ff9bf9-701f-49db-ffd0-6b5c3b30ec4e"
      },
      "source": [
        "3*2"
      ],
      "execution_count": null,
      "outputs": [
        {
          "output_type": "execute_result",
          "data": {
            "text/plain": [
              "6"
            ]
          },
          "metadata": {
            "tags": []
          },
          "execution_count": 56
        }
      ]
    },
    {
      "cell_type": "code",
      "metadata": {
        "id": "29ixp5g1FfC9",
        "colab_type": "code",
        "colab": {}
      },
      "source": [
        ""
      ],
      "execution_count": null,
      "outputs": []
    }
  ]
}