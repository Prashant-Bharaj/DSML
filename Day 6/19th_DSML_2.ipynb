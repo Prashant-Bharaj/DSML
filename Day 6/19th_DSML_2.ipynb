{
  "nbformat": 4,
  "nbformat_minor": 0,
  "metadata": {
    "colab": {
      "name": "19th_DSML_2.ipynb",
      "provenance": [],
      "collapsed_sections": []
    },
    "kernelspec": {
      "name": "python3",
      "display_name": "Python 3"
    }
  },
  "cells": [
    {
      "cell_type": "code",
      "metadata": {
        "id": "ogsbmmvj8OGp",
        "colab_type": "code",
        "colab": {}
      },
      "source": [
        "from sklearn.datasets import load_breast_cancer,load_wine"
      ],
      "execution_count": null,
      "outputs": []
    },
    {
      "cell_type": "code",
      "metadata": {
        "id": "hDSzoKtk8jUq",
        "colab_type": "code",
        "colab": {}
      },
      "source": [
        "df1 = load_breast_cancer()\n",
        "df2 = load_wine()"
      ],
      "execution_count": null,
      "outputs": []
    },
    {
      "cell_type": "code",
      "metadata": {
        "id": "9ELL2ZT58rQn",
        "colab_type": "code",
        "colab": {
          "base_uri": "https://localhost:8080/",
          "height": 55
        },
        "outputId": "4dafc6f4-f78b-419e-f617-2c2f5ca8e40b"
      },
      "source": [
        "df1.keys()"
      ],
      "execution_count": null,
      "outputs": [
        {
          "output_type": "execute_result",
          "data": {
            "text/plain": [
              "dict_keys(['data', 'target', 'target_names', 'DESCR', 'feature_names', 'filename'])"
            ]
          },
          "metadata": {
            "tags": []
          },
          "execution_count": 94
        }
      ]
    },
    {
      "cell_type": "code",
      "metadata": {
        "id": "6pGg-Tcb8s7e",
        "colab_type": "code",
        "colab": {
          "base_uri": "https://localhost:8080/",
          "height": 55
        },
        "outputId": "374d2f27-2769-401c-81cc-3a89db628526"
      },
      "source": [
        "df2.keys()"
      ],
      "execution_count": null,
      "outputs": [
        {
          "output_type": "execute_result",
          "data": {
            "text/plain": [
              "dict_keys(['data', 'target', 'target_names', 'DESCR', 'feature_names'])"
            ]
          },
          "metadata": {
            "tags": []
          },
          "execution_count": 95
        }
      ]
    },
    {
      "cell_type": "code",
      "metadata": {
        "id": "qY9-fdol8xmc",
        "colab_type": "code",
        "colab": {
          "base_uri": "https://localhost:8080/",
          "height": 55
        },
        "outputId": "1f3ce279-aaf7-4172-ca85-4de0a060f0ae"
      },
      "source": [
        "df1['data']\n",
        "len(df1['feature_names'])\n",
        "df1['target']\n",
        "df1['target_names']"
      ],
      "execution_count": null,
      "outputs": [
        {
          "output_type": "execute_result",
          "data": {
            "text/plain": [
              "array(['malignant', 'benign'], dtype='<U9')"
            ]
          },
          "metadata": {
            "tags": []
          },
          "execution_count": 57
        }
      ]
    },
    {
      "cell_type": "code",
      "metadata": {
        "id": "nd6x6_Qu88M9",
        "colab_type": "code",
        "colab": {}
      },
      "source": [
        "X = df1['data']\n",
        "Y = df1['target']"
      ],
      "execution_count": null,
      "outputs": []
    },
    {
      "cell_type": "code",
      "metadata": {
        "id": "mP0hJnse9aEZ",
        "colab_type": "code",
        "colab": {}
      },
      "source": [
        "from sklearn.model_selection import train_test_split\n",
        "xtrain,xtest,ytrain,ytest = train_test_split(X,Y)"
      ],
      "execution_count": null,
      "outputs": []
    },
    {
      "cell_type": "code",
      "metadata": {
        "id": "-i1EwGq_9jgf",
        "colab_type": "code",
        "colab": {
          "base_uri": "https://localhost:8080/",
          "height": 444
        },
        "outputId": "b44f1133-1ab4-4df5-f310-9ec90012d413"
      },
      "source": [
        "import pandas as pd\n",
        "pd.DataFrame(xtrain)"
      ],
      "execution_count": null,
      "outputs": [
        {
          "output_type": "execute_result",
          "data": {
            "text/html": [
              "<div>\n",
              "<style scoped>\n",
              "    .dataframe tbody tr th:only-of-type {\n",
              "        vertical-align: middle;\n",
              "    }\n",
              "\n",
              "    .dataframe tbody tr th {\n",
              "        vertical-align: top;\n",
              "    }\n",
              "\n",
              "    .dataframe thead th {\n",
              "        text-align: right;\n",
              "    }\n",
              "</style>\n",
              "<table border=\"1\" class=\"dataframe\">\n",
              "  <thead>\n",
              "    <tr style=\"text-align: right;\">\n",
              "      <th></th>\n",
              "      <th>0</th>\n",
              "      <th>1</th>\n",
              "      <th>2</th>\n",
              "      <th>3</th>\n",
              "      <th>4</th>\n",
              "      <th>5</th>\n",
              "      <th>6</th>\n",
              "      <th>7</th>\n",
              "      <th>8</th>\n",
              "      <th>9</th>\n",
              "      <th>10</th>\n",
              "      <th>11</th>\n",
              "      <th>12</th>\n",
              "      <th>13</th>\n",
              "      <th>14</th>\n",
              "      <th>15</th>\n",
              "      <th>16</th>\n",
              "      <th>17</th>\n",
              "      <th>18</th>\n",
              "      <th>19</th>\n",
              "      <th>20</th>\n",
              "      <th>21</th>\n",
              "      <th>22</th>\n",
              "      <th>23</th>\n",
              "      <th>24</th>\n",
              "      <th>25</th>\n",
              "      <th>26</th>\n",
              "      <th>27</th>\n",
              "      <th>28</th>\n",
              "      <th>29</th>\n",
              "    </tr>\n",
              "  </thead>\n",
              "  <tbody>\n",
              "    <tr>\n",
              "      <th>0</th>\n",
              "      <td>23.27</td>\n",
              "      <td>22.04</td>\n",
              "      <td>152.10</td>\n",
              "      <td>1686.0</td>\n",
              "      <td>0.08439</td>\n",
              "      <td>0.11450</td>\n",
              "      <td>0.132400</td>\n",
              "      <td>0.097020</td>\n",
              "      <td>0.1801</td>\n",
              "      <td>0.05553</td>\n",
              "      <td>0.6642</td>\n",
              "      <td>0.8561</td>\n",
              "      <td>4.6030</td>\n",
              "      <td>97.85</td>\n",
              "      <td>0.004910</td>\n",
              "      <td>0.025440</td>\n",
              "      <td>0.02822</td>\n",
              "      <td>0.016230</td>\n",
              "      <td>0.01956</td>\n",
              "      <td>0.003740</td>\n",
              "      <td>28.01</td>\n",
              "      <td>28.22</td>\n",
              "      <td>184.20</td>\n",
              "      <td>2403.0</td>\n",
              "      <td>0.1228</td>\n",
              "      <td>0.35830</td>\n",
              "      <td>0.39480</td>\n",
              "      <td>0.23460</td>\n",
              "      <td>0.3589</td>\n",
              "      <td>0.09187</td>\n",
              "    </tr>\n",
              "    <tr>\n",
              "      <th>1</th>\n",
              "      <td>12.49</td>\n",
              "      <td>16.85</td>\n",
              "      <td>79.19</td>\n",
              "      <td>481.6</td>\n",
              "      <td>0.08511</td>\n",
              "      <td>0.03834</td>\n",
              "      <td>0.004473</td>\n",
              "      <td>0.006423</td>\n",
              "      <td>0.1215</td>\n",
              "      <td>0.05673</td>\n",
              "      <td>0.1716</td>\n",
              "      <td>0.7151</td>\n",
              "      <td>1.0470</td>\n",
              "      <td>12.69</td>\n",
              "      <td>0.004928</td>\n",
              "      <td>0.003012</td>\n",
              "      <td>0.00262</td>\n",
              "      <td>0.003390</td>\n",
              "      <td>0.01393</td>\n",
              "      <td>0.001344</td>\n",
              "      <td>13.34</td>\n",
              "      <td>19.71</td>\n",
              "      <td>84.48</td>\n",
              "      <td>544.2</td>\n",
              "      <td>0.1104</td>\n",
              "      <td>0.04953</td>\n",
              "      <td>0.01938</td>\n",
              "      <td>0.02784</td>\n",
              "      <td>0.1917</td>\n",
              "      <td>0.06174</td>\n",
              "    </tr>\n",
              "    <tr>\n",
              "      <th>2</th>\n",
              "      <td>13.17</td>\n",
              "      <td>18.66</td>\n",
              "      <td>85.98</td>\n",
              "      <td>534.6</td>\n",
              "      <td>0.11580</td>\n",
              "      <td>0.12310</td>\n",
              "      <td>0.122600</td>\n",
              "      <td>0.073400</td>\n",
              "      <td>0.2128</td>\n",
              "      <td>0.06777</td>\n",
              "      <td>0.2871</td>\n",
              "      <td>0.8937</td>\n",
              "      <td>1.8970</td>\n",
              "      <td>24.25</td>\n",
              "      <td>0.006532</td>\n",
              "      <td>0.023360</td>\n",
              "      <td>0.02905</td>\n",
              "      <td>0.012150</td>\n",
              "      <td>0.01743</td>\n",
              "      <td>0.003643</td>\n",
              "      <td>15.67</td>\n",
              "      <td>27.95</td>\n",
              "      <td>102.80</td>\n",
              "      <td>759.4</td>\n",
              "      <td>0.1786</td>\n",
              "      <td>0.41660</td>\n",
              "      <td>0.50060</td>\n",
              "      <td>0.20880</td>\n",
              "      <td>0.3900</td>\n",
              "      <td>0.11790</td>\n",
              "    </tr>\n",
              "    <tr>\n",
              "      <th>3</th>\n",
              "      <td>11.63</td>\n",
              "      <td>29.29</td>\n",
              "      <td>74.87</td>\n",
              "      <td>415.1</td>\n",
              "      <td>0.09357</td>\n",
              "      <td>0.08574</td>\n",
              "      <td>0.071600</td>\n",
              "      <td>0.020170</td>\n",
              "      <td>0.1799</td>\n",
              "      <td>0.06166</td>\n",
              "      <td>0.3135</td>\n",
              "      <td>2.4260</td>\n",
              "      <td>2.1500</td>\n",
              "      <td>23.13</td>\n",
              "      <td>0.009861</td>\n",
              "      <td>0.024180</td>\n",
              "      <td>0.04275</td>\n",
              "      <td>0.009215</td>\n",
              "      <td>0.02475</td>\n",
              "      <td>0.002128</td>\n",
              "      <td>13.12</td>\n",
              "      <td>38.81</td>\n",
              "      <td>86.04</td>\n",
              "      <td>527.8</td>\n",
              "      <td>0.1406</td>\n",
              "      <td>0.20310</td>\n",
              "      <td>0.29230</td>\n",
              "      <td>0.06835</td>\n",
              "      <td>0.2884</td>\n",
              "      <td>0.07220</td>\n",
              "    </tr>\n",
              "    <tr>\n",
              "      <th>4</th>\n",
              "      <td>10.75</td>\n",
              "      <td>14.97</td>\n",
              "      <td>68.26</td>\n",
              "      <td>355.3</td>\n",
              "      <td>0.07793</td>\n",
              "      <td>0.05139</td>\n",
              "      <td>0.022510</td>\n",
              "      <td>0.007875</td>\n",
              "      <td>0.1399</td>\n",
              "      <td>0.05688</td>\n",
              "      <td>0.2525</td>\n",
              "      <td>1.2390</td>\n",
              "      <td>1.8060</td>\n",
              "      <td>17.74</td>\n",
              "      <td>0.006547</td>\n",
              "      <td>0.017810</td>\n",
              "      <td>0.02018</td>\n",
              "      <td>0.005612</td>\n",
              "      <td>0.01671</td>\n",
              "      <td>0.002360</td>\n",
              "      <td>11.95</td>\n",
              "      <td>20.72</td>\n",
              "      <td>77.79</td>\n",
              "      <td>441.2</td>\n",
              "      <td>0.1076</td>\n",
              "      <td>0.12230</td>\n",
              "      <td>0.09755</td>\n",
              "      <td>0.03413</td>\n",
              "      <td>0.2300</td>\n",
              "      <td>0.06769</td>\n",
              "    </tr>\n",
              "    <tr>\n",
              "      <th>...</th>\n",
              "      <td>...</td>\n",
              "      <td>...</td>\n",
              "      <td>...</td>\n",
              "      <td>...</td>\n",
              "      <td>...</td>\n",
              "      <td>...</td>\n",
              "      <td>...</td>\n",
              "      <td>...</td>\n",
              "      <td>...</td>\n",
              "      <td>...</td>\n",
              "      <td>...</td>\n",
              "      <td>...</td>\n",
              "      <td>...</td>\n",
              "      <td>...</td>\n",
              "      <td>...</td>\n",
              "      <td>...</td>\n",
              "      <td>...</td>\n",
              "      <td>...</td>\n",
              "      <td>...</td>\n",
              "      <td>...</td>\n",
              "      <td>...</td>\n",
              "      <td>...</td>\n",
              "      <td>...</td>\n",
              "      <td>...</td>\n",
              "      <td>...</td>\n",
              "      <td>...</td>\n",
              "      <td>...</td>\n",
              "      <td>...</td>\n",
              "      <td>...</td>\n",
              "      <td>...</td>\n",
              "    </tr>\n",
              "    <tr>\n",
              "      <th>421</th>\n",
              "      <td>12.94</td>\n",
              "      <td>16.17</td>\n",
              "      <td>83.18</td>\n",
              "      <td>507.6</td>\n",
              "      <td>0.09879</td>\n",
              "      <td>0.08836</td>\n",
              "      <td>0.032960</td>\n",
              "      <td>0.023900</td>\n",
              "      <td>0.1735</td>\n",
              "      <td>0.06200</td>\n",
              "      <td>0.1458</td>\n",
              "      <td>0.9050</td>\n",
              "      <td>0.9975</td>\n",
              "      <td>11.36</td>\n",
              "      <td>0.002887</td>\n",
              "      <td>0.012850</td>\n",
              "      <td>0.01613</td>\n",
              "      <td>0.007308</td>\n",
              "      <td>0.01870</td>\n",
              "      <td>0.001972</td>\n",
              "      <td>13.86</td>\n",
              "      <td>23.02</td>\n",
              "      <td>89.69</td>\n",
              "      <td>580.9</td>\n",
              "      <td>0.1172</td>\n",
              "      <td>0.19580</td>\n",
              "      <td>0.18100</td>\n",
              "      <td>0.08388</td>\n",
              "      <td>0.3297</td>\n",
              "      <td>0.07834</td>\n",
              "    </tr>\n",
              "    <tr>\n",
              "      <th>422</th>\n",
              "      <td>14.76</td>\n",
              "      <td>14.74</td>\n",
              "      <td>94.87</td>\n",
              "      <td>668.7</td>\n",
              "      <td>0.08875</td>\n",
              "      <td>0.07780</td>\n",
              "      <td>0.046080</td>\n",
              "      <td>0.035280</td>\n",
              "      <td>0.1521</td>\n",
              "      <td>0.05912</td>\n",
              "      <td>0.3428</td>\n",
              "      <td>0.3981</td>\n",
              "      <td>2.5370</td>\n",
              "      <td>29.06</td>\n",
              "      <td>0.004732</td>\n",
              "      <td>0.015060</td>\n",
              "      <td>0.01855</td>\n",
              "      <td>0.010670</td>\n",
              "      <td>0.02163</td>\n",
              "      <td>0.002783</td>\n",
              "      <td>17.27</td>\n",
              "      <td>17.93</td>\n",
              "      <td>114.20</td>\n",
              "      <td>880.8</td>\n",
              "      <td>0.1220</td>\n",
              "      <td>0.20090</td>\n",
              "      <td>0.21510</td>\n",
              "      <td>0.12510</td>\n",
              "      <td>0.3109</td>\n",
              "      <td>0.08187</td>\n",
              "    </tr>\n",
              "    <tr>\n",
              "      <th>423</th>\n",
              "      <td>18.81</td>\n",
              "      <td>19.98</td>\n",
              "      <td>120.90</td>\n",
              "      <td>1102.0</td>\n",
              "      <td>0.08923</td>\n",
              "      <td>0.05884</td>\n",
              "      <td>0.080200</td>\n",
              "      <td>0.058430</td>\n",
              "      <td>0.1550</td>\n",
              "      <td>0.04996</td>\n",
              "      <td>0.3283</td>\n",
              "      <td>0.8280</td>\n",
              "      <td>2.3630</td>\n",
              "      <td>36.74</td>\n",
              "      <td>0.007571</td>\n",
              "      <td>0.011140</td>\n",
              "      <td>0.02623</td>\n",
              "      <td>0.014630</td>\n",
              "      <td>0.01930</td>\n",
              "      <td>0.001676</td>\n",
              "      <td>19.96</td>\n",
              "      <td>24.30</td>\n",
              "      <td>129.00</td>\n",
              "      <td>1236.0</td>\n",
              "      <td>0.1243</td>\n",
              "      <td>0.11600</td>\n",
              "      <td>0.22100</td>\n",
              "      <td>0.12940</td>\n",
              "      <td>0.2567</td>\n",
              "      <td>0.05737</td>\n",
              "    </tr>\n",
              "    <tr>\n",
              "      <th>424</th>\n",
              "      <td>12.90</td>\n",
              "      <td>15.92</td>\n",
              "      <td>83.74</td>\n",
              "      <td>512.2</td>\n",
              "      <td>0.08677</td>\n",
              "      <td>0.09509</td>\n",
              "      <td>0.048940</td>\n",
              "      <td>0.030880</td>\n",
              "      <td>0.1778</td>\n",
              "      <td>0.06235</td>\n",
              "      <td>0.2143</td>\n",
              "      <td>0.7712</td>\n",
              "      <td>1.6890</td>\n",
              "      <td>16.64</td>\n",
              "      <td>0.005324</td>\n",
              "      <td>0.015630</td>\n",
              "      <td>0.01510</td>\n",
              "      <td>0.007584</td>\n",
              "      <td>0.02104</td>\n",
              "      <td>0.001887</td>\n",
              "      <td>14.48</td>\n",
              "      <td>21.82</td>\n",
              "      <td>97.17</td>\n",
              "      <td>643.8</td>\n",
              "      <td>0.1312</td>\n",
              "      <td>0.25480</td>\n",
              "      <td>0.20900</td>\n",
              "      <td>0.10120</td>\n",
              "      <td>0.3549</td>\n",
              "      <td>0.08118</td>\n",
              "    </tr>\n",
              "    <tr>\n",
              "      <th>425</th>\n",
              "      <td>13.14</td>\n",
              "      <td>20.74</td>\n",
              "      <td>85.98</td>\n",
              "      <td>536.9</td>\n",
              "      <td>0.08675</td>\n",
              "      <td>0.10890</td>\n",
              "      <td>0.108500</td>\n",
              "      <td>0.035100</td>\n",
              "      <td>0.1562</td>\n",
              "      <td>0.06020</td>\n",
              "      <td>0.3152</td>\n",
              "      <td>0.7884</td>\n",
              "      <td>2.3120</td>\n",
              "      <td>27.40</td>\n",
              "      <td>0.007295</td>\n",
              "      <td>0.031790</td>\n",
              "      <td>0.04615</td>\n",
              "      <td>0.012540</td>\n",
              "      <td>0.01561</td>\n",
              "      <td>0.003230</td>\n",
              "      <td>14.80</td>\n",
              "      <td>25.46</td>\n",
              "      <td>100.90</td>\n",
              "      <td>689.1</td>\n",
              "      <td>0.1351</td>\n",
              "      <td>0.35490</td>\n",
              "      <td>0.45040</td>\n",
              "      <td>0.11810</td>\n",
              "      <td>0.2563</td>\n",
              "      <td>0.08174</td>\n",
              "    </tr>\n",
              "  </tbody>\n",
              "</table>\n",
              "<p>426 rows × 30 columns</p>\n",
              "</div>"
            ],
            "text/plain": [
              "        0      1       2       3   ...       26       27      28       29\n",
              "0    23.27  22.04  152.10  1686.0  ...  0.39480  0.23460  0.3589  0.09187\n",
              "1    12.49  16.85   79.19   481.6  ...  0.01938  0.02784  0.1917  0.06174\n",
              "2    13.17  18.66   85.98   534.6  ...  0.50060  0.20880  0.3900  0.11790\n",
              "3    11.63  29.29   74.87   415.1  ...  0.29230  0.06835  0.2884  0.07220\n",
              "4    10.75  14.97   68.26   355.3  ...  0.09755  0.03413  0.2300  0.06769\n",
              "..     ...    ...     ...     ...  ...      ...      ...     ...      ...\n",
              "421  12.94  16.17   83.18   507.6  ...  0.18100  0.08388  0.3297  0.07834\n",
              "422  14.76  14.74   94.87   668.7  ...  0.21510  0.12510  0.3109  0.08187\n",
              "423  18.81  19.98  120.90  1102.0  ...  0.22100  0.12940  0.2567  0.05737\n",
              "424  12.90  15.92   83.74   512.2  ...  0.20900  0.10120  0.3549  0.08118\n",
              "425  13.14  20.74   85.98   536.9  ...  0.45040  0.11810  0.2563  0.08174\n",
              "\n",
              "[426 rows x 30 columns]"
            ]
          },
          "metadata": {
            "tags": []
          },
          "execution_count": 60
        }
      ]
    },
    {
      "cell_type": "markdown",
      "metadata": {
        "id": "ngOFzBZL9w8i",
        "colab_type": "text"
      },
      "source": [
        "**Standardize the data**"
      ]
    },
    {
      "cell_type": "code",
      "metadata": {
        "id": "0WSXPUq_9tOV",
        "colab_type": "code",
        "colab": {}
      },
      "source": [
        "from sklearn.preprocessing import StandardScaler\n",
        "scl = StandardScaler()"
      ],
      "execution_count": null,
      "outputs": []
    },
    {
      "cell_type": "code",
      "metadata": {
        "id": "uOa-FkYp-jCg",
        "colab_type": "code",
        "colab": {
          "base_uri": "https://localhost:8080/",
          "height": 55
        },
        "outputId": "a1203b50-5b90-4f77-bdc7-49f4a8412b24"
      },
      "source": [
        "scl.fit(xtrain)"
      ],
      "execution_count": null,
      "outputs": [
        {
          "output_type": "execute_result",
          "data": {
            "text/plain": [
              "StandardScaler(copy=True, with_mean=True, with_std=True)"
            ]
          },
          "metadata": {
            "tags": []
          },
          "execution_count": 62
        }
      ]
    },
    {
      "cell_type": "code",
      "metadata": {
        "id": "qlrb24Zg-qLT",
        "colab_type": "code",
        "colab": {}
      },
      "source": [
        "xcl = scl.transform(xtrain)"
      ],
      "execution_count": null,
      "outputs": []
    },
    {
      "cell_type": "code",
      "metadata": {
        "id": "2GwaGUVL_PZz",
        "colab_type": "code",
        "colab": {}
      },
      "source": [
        "#(pd.DataFrame(xtrain)[0] - pd.DataFrame(xtrain)[0].mean()) / pd.DataFrame(xtrain)[0].std()"
      ],
      "execution_count": null,
      "outputs": []
    },
    {
      "cell_type": "code",
      "metadata": {
        "id": "HhrIekYA_Jgw",
        "colab_type": "code",
        "colab": {}
      },
      "source": [
        "#pd.DataFrame(xcl)"
      ],
      "execution_count": null,
      "outputs": []
    },
    {
      "cell_type": "markdown",
      "metadata": {
        "id": "0V_nWfml91jt",
        "colab_type": "text"
      },
      "source": [
        "**Calculate Principal Components**"
      ]
    },
    {
      "cell_type": "code",
      "metadata": {
        "id": "DfuWeY2k95hS",
        "colab_type": "code",
        "colab": {}
      },
      "source": [
        "from sklearn.decomposition import PCA\n",
        "pca = PCA(n_components=2)"
      ],
      "execution_count": null,
      "outputs": []
    },
    {
      "cell_type": "code",
      "metadata": {
        "id": "kuw913N-_1O-",
        "colab_type": "code",
        "colab": {
          "base_uri": "https://localhost:8080/",
          "height": 72
        },
        "outputId": "c333abcc-8e68-4a92-d0bc-3e4a808e209e"
      },
      "source": [
        "pca.fit(xcl)"
      ],
      "execution_count": null,
      "outputs": [
        {
          "output_type": "execute_result",
          "data": {
            "text/plain": [
              "PCA(copy=True, iterated_power='auto', n_components=2, random_state=None,\n",
              "    svd_solver='auto', tol=0.0, whiten=False)"
            ]
          },
          "metadata": {
            "tags": []
          },
          "execution_count": 76
        }
      ]
    },
    {
      "cell_type": "code",
      "metadata": {
        "id": "CRPZdfKCAGXu",
        "colab_type": "code",
        "colab": {}
      },
      "source": [
        "x_pca= pca.transform(xcl)"
      ],
      "execution_count": null,
      "outputs": []
    },
    {
      "cell_type": "code",
      "metadata": {
        "id": "6SM3225vALCD",
        "colab_type": "code",
        "colab": {
          "base_uri": "https://localhost:8080/",
          "height": 72
        },
        "outputId": "858f40fb-7636-4b7d-a515-16d45f28b7bf"
      },
      "source": [
        "print(pca.explained_variance_)\n",
        "print(pca.explained_variance_ratio_)"
      ],
      "execution_count": null,
      "outputs": [
        {
          "output_type": "stream",
          "text": [
            "[13.66572622  5.65594461]\n",
            "[0.4544549  0.18808892]\n"
          ],
          "name": "stdout"
        }
      ]
    },
    {
      "cell_type": "code",
      "metadata": {
        "id": "51ViHUFMAXZ2",
        "colab_type": "code",
        "colab": {
          "base_uri": "https://localhost:8080/",
          "height": 286
        },
        "outputId": "180b82e4-cfd2-4d78-bf28-29520e0ef9b2"
      },
      "source": [
        "import matplotlib.pyplot as plt\n",
        "plt.scatter(x_pca[:,0:1],x_pca[:,1:2],c=ytrain)\n",
        "plt.show()"
      ],
      "execution_count": null,
      "outputs": [
        {
          "output_type": "display_data",
          "data": {
            "image/png": "[encoded data removed]",
            "text/plain": [
              "<Figure size 432x288 with 1 Axes>"
            ]
          },
          "metadata": {
            "tags": [],
            "needs_background": "light"
          }
        }
      ]
    },
    {
      "cell_type": "code",
      "metadata": {
        "id": "DyI4US8DCsmQ",
        "colab_type": "code",
        "colab": {
          "base_uri": "https://localhost:8080/",
          "height": 1000
        },
        "outputId": "40820be8-b641-42cb-9ec4-15df7857366b"
      },
      "source": [
        "x_pca"
      ],
      "execution_count": null,
      "outputs": [
        {
          "output_type": "execute_result",
          "data": {
            "text/plain": [
              "array([[ 5.68546262, -4.26988456],\n",
              "       [-4.80817652, -2.39825046],\n",
              "       [ 1.71234884,  2.40870421],\n",
              "       [-1.23365787,  0.58205126],\n",
              "       [-4.25231483, -1.0160049 ],\n",
              "       [-1.10930405,  0.99044799],\n",
              "       [-3.7220148 ,  4.23855661],\n",
              "       [ 1.87053341, -0.28976957],\n",
              "       [-1.3534407 ,  1.54030322],\n",
              "       [ 3.31327391, -2.10930267],\n",
              "       [ 3.15720574,  1.61590275],\n",
              "       [-1.48878922, -1.74111289],\n",
              "       [ 2.9459178 ,  4.02729966],\n",
              "       [-1.75986688, -0.83583844],\n",
              "       [-2.32072995, -0.3390549 ],\n",
              "       [-4.69789317, -0.65833612],\n",
              "       [ 0.0388952 ,  2.08526015],\n",
              "       [-1.1524462 , -1.71027889],\n",
              "       [ 5.9598613 ,  3.44858974],\n",
              "       [-1.5737835 ,  1.60979535],\n",
              "       [-1.95656715, -0.31043975],\n",
              "       [-2.23365207, -1.05364894],\n",
              "       [-1.58011093, -0.293656  ],\n",
              "       [-1.55096482,  2.25391703],\n",
              "       [-4.22910248, -2.04566475],\n",
              "       [-2.83716367, -0.49452619],\n",
              "       [ 2.88281218,  1.30655671],\n",
              "       [ 5.3283047 , -1.98785799],\n",
              "       [-1.39298693, -1.71910988],\n",
              "       [-3.30363431, -0.15757742],\n",
              "       [-1.88270691, -0.31915385],\n",
              "       [-3.9505396 , -1.47360353],\n",
              "       [-3.19735446, -3.24417575],\n",
              "       [-4.57212968, -3.14570352],\n",
              "       [-2.45192681,  0.09648526],\n",
              "       [ 5.09767058, -3.30612111],\n",
              "       [-0.70196051, -2.76271823],\n",
              "       [ 3.73326002, -2.01903099],\n",
              "       [-4.653009  , -0.54355464],\n",
              "       [-2.5886073 ,  1.32511993],\n",
              "       [ 2.86625484,  3.33643946],\n",
              "       [-0.59640094, -0.93343529],\n",
              "       [-2.36005864, -0.05786011],\n",
              "       [-3.6144598 ,  0.79407403],\n",
              "       [-1.50280509, -4.68988668],\n",
              "       [-2.06178544,  1.41587711],\n",
              "       [-3.91747728, -2.64002909],\n",
              "       [ 0.46639305,  2.01141231],\n",
              "       [-2.51476436, -0.7863623 ],\n",
              "       [-2.95533212, -0.29453335],\n",
              "       [-2.10924734, -1.85699893],\n",
              "       [-2.50108431,  0.06450538],\n",
              "       [ 0.37456455, -0.64214396],\n",
              "       [-2.45535317, -2.62678521],\n",
              "       [-3.40668141, -2.74554348],\n",
              "       [ 4.65178481, -1.19454925],\n",
              "       [-2.1376528 , -1.27064691],\n",
              "       [ 4.75896234, -1.56185102],\n",
              "       [-2.92921   , -0.75316814],\n",
              "       [-3.11975453, -2.32000954],\n",
              "       [-5.31319136,  0.98670016],\n",
              "       [-3.11755759, -1.95008303],\n",
              "       [ 0.54186629,  0.36747226],\n",
              "       [-2.30995778,  2.6696642 ],\n",
              "       [-0.09948689,  7.27144761],\n",
              "       [-4.18480998,  0.13620328],\n",
              "       [11.89174301,  4.564646  ],\n",
              "       [-1.02425974, -1.45431708],\n",
              "       [ 2.7205227 ,  1.46783245],\n",
              "       [-0.26569913,  3.54684711],\n",
              "       [11.15424813, -3.76080053],\n",
              "       [-2.32628589,  3.24332147],\n",
              "       [-2.34045988, -0.33350682],\n",
              "       [ 1.86323838,  0.70132232],\n",
              "       [-3.09339411, -2.18976285],\n",
              "       [ 3.33853556, -1.83723709],\n",
              "       [-3.42908745, -1.57828404],\n",
              "       [-0.0525243 , -0.12032229],\n",
              "       [ 2.38888255,  4.02535636],\n",
              "       [-4.48404699, -2.89700921],\n",
              "       [ 4.58721078, -2.28312804],\n",
              "       [ 3.53602342, -1.25272959],\n",
              "       [-3.80443213, -1.54659349],\n",
              "       [ 4.06983693,  0.5395426 ],\n",
              "       [-1.87741774, -1.19623384],\n",
              "       [ 3.45252792, -1.78542397],\n",
              "       [-1.88671478, -1.05001825],\n",
              "       [-2.61463092,  0.87128676],\n",
              "       [17.05177949, -8.29102154],\n",
              "       [ 4.28153857,  0.70099103],\n",
              "       [-2.29256339, -1.84560776],\n",
              "       [-3.80597008,  0.75538404],\n",
              "       [-2.94241307,  0.42192302],\n",
              "       [ 0.60998769, -2.91055527],\n",
              "       [-2.96200824, -2.32615023],\n",
              "       [-2.41871327,  0.6296357 ],\n",
              "       [ 3.71738121,  6.10732759],\n",
              "       [-1.89869641,  1.21690692],\n",
              "       [-1.24696764,  3.40826917],\n",
              "       [ 4.82583413,  3.27223157],\n",
              "       [-1.36315839,  1.4879766 ],\n",
              "       [-0.28366525, -0.0929752 ],\n",
              "       [ 6.90505864, -6.23334823],\n",
              "       [-0.02022418, -0.16502604],\n",
              "       [-0.7625171 ,  1.95946833],\n",
              "       [ 3.70829042, -2.25270123],\n",
              "       [-2.33255633,  0.9689369 ],\n",
              "       [ 3.96127881,  2.22003279],\n",
              "       [ 1.20294057,  2.52192173],\n",
              "       [ 6.76881585, -3.80783069],\n",
              "       [-1.20724512,  1.58487596],\n",
              "       [ 6.45295812,  0.83049774],\n",
              "       [-1.88079667,  2.48144866],\n",
              "       [-5.50077477, -0.89541726],\n",
              "       [-2.42687796,  0.41900928],\n",
              "       [-0.16412251, -0.66765726],\n",
              "       [ 3.47027397, -3.40226144],\n",
              "       [ 3.01507534,  0.80854654],\n",
              "       [ 9.02698776, -0.75669242],\n",
              "       [-3.3045184 , -0.63666667],\n",
              "       [-2.92313937, -2.83123323],\n",
              "       [-2.74016899, -1.04942586],\n",
              "       [-3.0781885 , -1.93459227],\n",
              "       [-1.25928613,  0.55368443],\n",
              "       [-3.82156409,  0.92485011],\n",
              "       [-1.35724993,  0.20051955],\n",
              "       [ 0.98404156, -2.42784002],\n",
              "       [ 2.64726883,  2.11819373],\n",
              "       [ 1.75281097,  1.53001942],\n",
              "       [-3.08869575,  0.47444434],\n",
              "       [-3.21017185, -0.47650803],\n",
              "       [ 5.90478955, -1.15403548],\n",
              "       [ 5.0539354 ,  2.38237952],\n",
              "       [ 4.6033613 ,  3.09704111],\n",
              "       [-4.89129158, -3.53602537],\n",
              "       [-2.8144618 , -0.33781979],\n",
              "       [-2.70192608, -2.61928957],\n",
              "       [-1.25706526,  4.96433311],\n",
              "       [-3.08285752, -1.77120726],\n",
              "       [ 0.33607842, -1.64074167],\n",
              "       [ 9.23690969, -0.79013838],\n",
              "       [-2.24829554,  0.53394986],\n",
              "       [-3.01441615,  1.02242892],\n",
              "       [-3.31998365, -0.8307675 ],\n",
              "       [-1.39441294,  0.03106065],\n",
              "       [-1.16835424,  0.13172855],\n",
              "       [ 1.63447467, -2.11086339],\n",
              "       [-3.97539689,  1.12373043],\n",
              "       [-0.54499869,  0.56322818],\n",
              "       [-0.67666526, -2.22620031],\n",
              "       [-3.56921341,  1.5137537 ],\n",
              "       [ 4.8115195 , -2.38357368],\n",
              "       [-3.92090951,  0.84608593],\n",
              "       [-3.68960005,  0.21756825],\n",
              "       [-0.84959946,  0.80877725],\n",
              "       [-4.33412775, -0.82319672],\n",
              "       [ 3.59840006, -2.35864882],\n",
              "       [-3.60624576, -1.46477199],\n",
              "       [ 2.01395754, -4.443996  ],\n",
              "       [-1.4378042 ,  0.25672243],\n",
              "       [ 7.60711823, -5.36162883],\n",
              "       [-2.14440572,  1.24831148],\n",
              "       [-2.90786221, -0.10345944],\n",
              "       [-1.22645343,  4.13452445],\n",
              "       [ 1.38888579,  0.94595692],\n",
              "       [-3.2014403 ,  1.22794949],\n",
              "       [ 2.54320024, -3.84622714],\n",
              "       [-3.07535532, -1.82858755],\n",
              "       [ 1.5228726 , -2.69283296],\n",
              "       [-1.101237  , -0.49024061],\n",
              "       [ 5.62491104, -6.9168426 ],\n",
              "       [-1.83005151, -3.20091566],\n",
              "       [-3.43415381, -1.43133564],\n",
              "       [-1.82776565, -1.26452962],\n",
              "       [-2.12740169, -0.12840552],\n",
              "       [ 0.56539701,  0.86935724],\n",
              "       [ 3.05448997,  0.63002052],\n",
              "       [ 2.23726201,  0.93361369],\n",
              "       [11.00665457, -2.40425011],\n",
              "       [-0.51504271, -0.902926  ],\n",
              "       [-2.17243757, -1.35666332],\n",
              "       [-3.28767938,  0.47840477],\n",
              "       [-2.93136274, -0.4518583 ],\n",
              "       [ 6.61111232,  7.89233723],\n",
              "       [-2.1638902 , -0.51418671],\n",
              "       [-1.48813043, -1.32627064],\n",
              "       [-2.73096531, -1.76729329],\n",
              "       [ 1.43865411, -1.21371704],\n",
              "       [-1.17850392,  0.95543462],\n",
              "       [-2.86170397, -0.02111263],\n",
              "       [-3.48385871,  1.58650833],\n",
              "       [ 5.09282597, -1.56384117],\n",
              "       [ 5.32847955, -2.47691814],\n",
              "       [-2.01193499, -1.29445958],\n",
              "       [ 4.31017438,  1.12543843],\n",
              "       [-2.2270682 , -0.95941177],\n",
              "       [ 7.78550123, -0.86786546],\n",
              "       [13.35265362,  0.79663244],\n",
              "       [-3.23900722,  0.12623727],\n",
              "       [-2.13065092,  0.45452726],\n",
              "       [-0.36131062, -0.33635157],\n",
              "       [ 0.61283306,  0.27208069],\n",
              "       [ 3.47849551,  3.97776961],\n",
              "       [ 2.28996508,  0.15984477],\n",
              "       [ 0.5132359 , -1.14844787],\n",
              "       [-3.11855883,  0.41617338],\n",
              "       [ 4.31505407, -0.54658726],\n",
              "       [-3.08237608, -1.51638691],\n",
              "       [-3.0825686 , -0.78630634],\n",
              "       [ 3.52993344, -1.77593187],\n",
              "       [ 2.28108179,  1.93820025],\n",
              "       [ 3.29444282, -0.07287249],\n",
              "       [-2.99258633, -2.29995477],\n",
              "       [-2.48725088,  3.29445386],\n",
              "       [-4.53764351,  1.42471479],\n",
              "       [-2.28402194,  0.74396693],\n",
              "       [-0.44255327,  0.04929585],\n",
              "       [-5.3429173 ,  0.43760009],\n",
              "       [ 2.90436961, -4.05081657],\n",
              "       [-1.55000748,  0.29378394],\n",
              "       [ 1.37638456,  0.87639236],\n",
              "       [ 6.49924923, -1.66636766],\n",
              "       [-4.29591055, -0.39396323],\n",
              "       [ 0.84165503, -1.65753431],\n",
              "       [-1.96652818,  1.91537978],\n",
              "       [-2.68273159, -1.85188501],\n",
              "       [-0.83362623,  2.40823315],\n",
              "       [-3.82588334,  1.05179247],\n",
              "       [-2.69087589, -1.22835727],\n",
              "       [-0.58704191, -3.31974092],\n",
              "       [-0.91810781,  1.58846445],\n",
              "       [ 7.1015886 , 10.36659163],\n",
              "       [ 2.85834613, -0.36560625],\n",
              "       [-0.7925442 , -2.30034158],\n",
              "       [-4.59975485, -0.37393401],\n",
              "       [ 3.69287681, -3.14617371],\n",
              "       [13.30710052,  1.99475238],\n",
              "       [-3.53318346, -1.37270688],\n",
              "       [-2.21070921, -2.53687505],\n",
              "       [-1.90532003, -1.92177799],\n",
              "       [ 2.53550729,  4.19890409],\n",
              "       [-3.30398628,  0.60349079],\n",
              "       [-0.31994956,  0.12972597],\n",
              "       [ 2.7925929 ,  3.47432086],\n",
              "       [-2.08798829,  0.10630112],\n",
              "       [ 6.33794478,  2.11290297],\n",
              "       [-4.06523376, -1.50038548],\n",
              "       [-0.46838856,  1.65210404],\n",
              "       [-1.18515348,  2.46674441],\n",
              "       [-4.00151471, -0.2385302 ],\n",
              "       [ 4.495728  , -4.8309392 ],\n",
              "       [-2.84093795,  0.06120082],\n",
              "       [-2.38054496, -1.48994651],\n",
              "       [-1.38388118, -0.28544881],\n",
              "       [ 0.39214707,  3.45257447],\n",
              "       [-4.77304746, -2.4811169 ],\n",
              "       [-1.6200039 ,  0.84006564],\n",
              "       [ 3.91399747, -1.17343433],\n",
              "       [-0.59577997, -2.16307502],\n",
              "       [-2.22259011,  0.26115792],\n",
              "       [-4.9878891 ,  0.58848954],\n",
              "       [-3.6072845 , -0.69292329],\n",
              "       [-0.69426863, -1.33034451],\n",
              "       [ 6.34944269,  7.76269455],\n",
              "       [-2.02703628, -0.06766022],\n",
              "       [ 3.70162442,  1.07866929],\n",
              "       [ 0.68604687,  0.46047901],\n",
              "       [ 0.52451323,  1.30295103],\n",
              "       [-2.62486754,  2.27141194],\n",
              "       [-3.10423936, -2.15475204],\n",
              "       [-1.90445728, -0.50327434],\n",
              "       [-1.23415801,  1.35618549],\n",
              "       [ 1.84899585,  2.69428564],\n",
              "       [-1.86783228,  0.81218763],\n",
              "       [ 2.23329479,  2.28636981],\n",
              "       [-1.93946436,  1.41233398],\n",
              "       [-2.46725836, -0.69230478],\n",
              "       [-4.66831875, -1.87854388],\n",
              "       [ 2.43268067,  4.78312728],\n",
              "       [ 0.79321172,  0.91638086],\n",
              "       [ 1.33216137,  7.76754562],\n",
              "       [ 4.11565216,  2.99283102],\n",
              "       [ 1.12218438,  8.32910369],\n",
              "       [-4.34586896,  0.02912958],\n",
              "       [-2.56065277, -1.12787715],\n",
              "       [-2.80423732, -1.60035505],\n",
              "       [ 3.69373345, -1.81856654],\n",
              "       [-0.20045085,  1.54703535],\n",
              "       [-2.77361594,  0.37569292],\n",
              "       [ 3.46952678, -2.25829466],\n",
              "       [ 7.46429322, -0.17387874],\n",
              "       [ 5.19593766,  0.538754  ],\n",
              "       [-3.53197267,  0.81668581],\n",
              "       [-0.18685941,  2.06243465],\n",
              "       [-3.12327007, -1.07663815],\n",
              "       [ 5.51385063, -0.14042485],\n",
              "       [ 2.13815499,  2.17060394],\n",
              "       [-0.64090806,  3.67818139],\n",
              "       [-3.76292079,  0.80979711],\n",
              "       [-3.3758759 , -0.56206588],\n",
              "       [-2.43554666,  0.03753885],\n",
              "       [-3.38319392,  1.59579961],\n",
              "       [ 4.01667567, -3.86519438],\n",
              "       [-0.62202339, -2.04728584],\n",
              "       [ 5.6030613 ,  0.9075012 ],\n",
              "       [ 3.94836705, -1.170668  ],\n",
              "       [-1.88647401, -1.30995029],\n",
              "       [-1.95602224,  0.35119678],\n",
              "       [-2.50612343,  0.38205244],\n",
              "       [ 7.25734147,  0.4854275 ],\n",
              "       [-2.39726421,  2.48936355],\n",
              "       [-1.75854705, -1.75758473],\n",
              "       [ 0.45776355, -3.25870896],\n",
              "       [ 5.18655072, -3.02060365],\n",
              "       [ 4.63342898,  9.05169892],\n",
              "       [-3.86900076,  0.52730708],\n",
              "       [-1.75066974,  0.81719199],\n",
              "       [ 3.30233917, -1.39277503],\n",
              "       [ 4.50718843, -4.17476213],\n",
              "       [ 6.8403502 , -1.62164588],\n",
              "       [-1.50098936, -1.05056445],\n",
              "       [ 2.34449141, -0.39258429],\n",
              "       [-1.98488422, -2.48143325],\n",
              "       [-2.60615288,  1.29183503],\n",
              "       [ 7.61600684, -5.72707728],\n",
              "       [ 3.88548747, -1.92680308],\n",
              "       [-3.34340103,  2.71664674],\n",
              "       [-0.44364291,  1.24034025],\n",
              "       [-1.84510553,  1.43229248],\n",
              "       [ 2.25395255,  1.00727332],\n",
              "       [-3.18835652, -0.99201064],\n",
              "       [-0.70758402, -0.07751409],\n",
              "       [ 0.14966089,  7.07804153],\n",
              "       [-2.62491228, -0.29931231],\n",
              "       [-1.20238582,  3.36762532],\n",
              "       [ 4.92089059,  2.88867478],\n",
              "       [-1.87823706,  1.40435653],\n",
              "       [-0.4120659 , -1.09081728],\n",
              "       [ 1.10349984,  1.0108108 ],\n",
              "       [ 4.4899453 ,  1.43011373],\n",
              "       [-4.55522404, -1.93606377],\n",
              "       [-1.6527159 ,  0.95241285],\n",
              "       [-2.79140337, -1.03884908],\n",
              "       [-2.06644868,  1.80129281],\n",
              "       [ 3.25068178,  4.1234817 ],\n",
              "       [ 8.86566078, -3.57253833],\n",
              "       [ 1.76405671, -2.15610389],\n",
              "       [-2.9893909 , -0.50285316],\n",
              "       [ 3.51211856,  2.20669232],\n",
              "       [ 0.33422601,  2.07484682],\n",
              "       [-2.42428479, -2.05525948],\n",
              "       [-3.74496982, -1.02514121],\n",
              "       [-2.32401568, -0.72182979],\n",
              "       [ 9.09627533,  0.58371412],\n",
              "       [-1.20151807, -0.19109929],\n",
              "       [-4.6044454 , -1.15903294],\n",
              "       [-4.43054359, -3.26080079],\n",
              "       [-1.95079891,  0.224207  ],\n",
              "       [-1.32009969, -1.80574869],\n",
              "       [-3.26657396,  0.05890681],\n",
              "       [-0.91489248,  0.45508151],\n",
              "       [-5.37326368, -0.86001826],\n",
              "       [-0.34459181, -0.86477151],\n",
              "       [ 0.63099347,  3.37890727],\n",
              "       [ 1.36587326,  2.12757225],\n",
              "       [-0.8450075 ,  0.1570884 ],\n",
              "       [-0.27565111,  2.15020916],\n",
              "       [ 9.04362805,  2.95508655],\n",
              "       [ 2.34281327, -2.71682872],\n",
              "       [-2.73760425,  2.20635866],\n",
              "       [ 2.24575823,  6.25465377],\n",
              "       [-4.11444431,  2.45340637],\n",
              "       [ 3.46873535, -1.26322679],\n",
              "       [ 2.69464891,  0.55813164],\n",
              "       [ 3.50246891, -2.37652545],\n",
              "       [-2.93835438, -0.74614161],\n",
              "       [-2.94184809,  1.76625986],\n",
              "       [ 7.48550209, -3.76909962],\n",
              "       [ 3.76457874,  2.26246272],\n",
              "       [ 1.03396406,  0.99476854],\n",
              "       [-1.02023506,  5.46753491],\n",
              "       [-2.40195551, -1.32458214],\n",
              "       [ 7.99007804, -3.2983066 ],\n",
              "       [-1.94069202,  1.12282706],\n",
              "       [ 7.29963977,  1.92601134],\n",
              "       [-2.5598661 , -0.77112608],\n",
              "       [-2.5200767 , -1.97957355],\n",
              "       [ 5.24312625, -2.10203931],\n",
              "       [ 1.38537266, -2.20881436],\n",
              "       [-4.56177667,  3.5229088 ],\n",
              "       [ 4.9649018 , -0.53179715],\n",
              "       [-3.89541801, -1.66661028],\n",
              "       [-0.07951155,  2.26969889],\n",
              "       [-2.92950478,  0.18650545],\n",
              "       [ 5.15320834, -4.22367972],\n",
              "       [-3.42405729, -0.75172823],\n",
              "       [-2.17600987,  0.64696376],\n",
              "       [ 6.29574022, -2.06476878],\n",
              "       [-2.7155571 , -3.0475618 ],\n",
              "       [ 9.3776756 ,  1.7418316 ],\n",
              "       [-1.76719988,  0.39223633],\n",
              "       [-1.97199269,  0.26013729],\n",
              "       [-0.66778133, -2.47798526],\n",
              "       [-1.88779545,  3.45648555],\n",
              "       [ 0.25488309, -0.56173975],\n",
              "       [ 5.37003037,  3.881886  ],\n",
              "       [-0.90394024,  2.33014259],\n",
              "       [-2.19064434,  3.01793192],\n",
              "       [ 1.13458453,  2.34302282],\n",
              "       [-3.50982898,  2.49622246],\n",
              "       [-3.67300161, -1.62603011],\n",
              "       [-1.94557301, -0.20127358],\n",
              "       [-2.8528776 , -1.83960414],\n",
              "       [-2.89552047,  0.33077615],\n",
              "       [ 2.64042381, -1.67680597],\n",
              "       [-2.53762378,  2.30832653],\n",
              "       [ 1.84838324,  0.18332249],\n",
              "       [ 3.8307468 ,  3.7097479 ],\n",
              "       [-0.30057811, -0.6544378 ],\n",
              "       [ 4.87299642, -1.5476711 ],\n",
              "       [-2.19517504,  1.90099068],\n",
              "       [-2.44165364, -0.36033376],\n",
              "       [-1.11263827, -1.34541906],\n",
              "       [ 0.15375193, -3.55102477],\n",
              "       [-1.79276346, -0.10925926],\n",
              "       [-0.31070305,  0.04073359]])"
            ]
          },
          "metadata": {
            "tags": []
          },
          "execution_count": 80
        }
      ]
    },
    {
      "cell_type": "code",
      "metadata": {
        "id": "j0lDaYhJC6G4",
        "colab_type": "code",
        "colab": {
          "base_uri": "https://localhost:8080/",
          "height": 55
        },
        "outputId": "68e4e34f-cc9b-4764-9410-173f9707304f"
      },
      "source": [
        "from sklearn.neighbors import KNeighborsClassifier\n",
        "kmodel = KNeighborsClassifier(n_neighbors=5)\n",
        "\n",
        "kmodel.fit(x_pca,ytrain)\n",
        "\n",
        "print(kmodel.score(x_pca,ytrain))"
      ],
      "execution_count": null,
      "outputs": [
        {
          "output_type": "stream",
          "text": [
            "0.9530516431924883\n"
          ],
          "name": "stdout"
        }
      ]
    },
    {
      "cell_type": "code",
      "metadata": {
        "id": "FxmqP0oVDttj",
        "colab_type": "code",
        "colab": {}
      },
      "source": [
        "#xtest - 30 features\n",
        "xtscl = scl.transform(xtest)\n",
        "xtpca = pca.transform(xtscl)"
      ],
      "execution_count": null,
      "outputs": []
    },
    {
      "cell_type": "code",
      "metadata": {
        "id": "Vr4s9cBZEbEz",
        "colab_type": "code",
        "colab": {
          "base_uri": "https://localhost:8080/",
          "height": 55
        },
        "outputId": "580509b2-fc21-41c9-ca06-a5d06068bb68"
      },
      "source": [
        "print(kmodel.score(xtpca,ytest))"
      ],
      "execution_count": null,
      "outputs": [
        {
          "output_type": "stream",
          "text": [
            "0.9370629370629371\n"
          ],
          "name": "stdout"
        }
      ]
    },
    {
      "cell_type": "code",
      "metadata": {
        "id": "gzKIhrobFdFJ",
        "colab_type": "code",
        "colab": {
          "base_uri": "https://localhost:8080/",
          "height": 211
        },
        "outputId": "2e7d1b0f-38f3-415b-b094-f759437c7c5e"
      },
      "source": [
        "df1['feature_names']"
      ],
      "execution_count": null,
      "outputs": [
        {
          "output_type": "execute_result",
          "data": {
            "text/plain": [
              "array(['mean radius', 'mean texture', 'mean perimeter', 'mean area',\n",
              "       'mean smoothness', 'mean compactness', 'mean concavity',\n",
              "       'mean concave points', 'mean symmetry', 'mean fractal dimension',\n",
              "       'radius error', 'texture error', 'perimeter error', 'area error',\n",
              "       'smoothness error', 'compactness error', 'concavity error',\n",
              "       'concave points error', 'symmetry error',\n",
              "       'fractal dimension error', 'worst radius', 'worst texture',\n",
              "       'worst perimeter', 'worst area', 'worst smoothness',\n",
              "       'worst compactness', 'worst concavity', 'worst concave points',\n",
              "       'worst symmetry', 'worst fractal dimension'], dtype='<U23')"
            ]
          },
          "metadata": {
            "tags": []
          },
          "execution_count": 84
        }
      ]
    },
    {
      "cell_type": "code",
      "metadata": {
        "id": "chjrnkqHGR7j",
        "colab_type": "code",
        "colab": {
          "base_uri": "https://localhost:8080/",
          "height": 55
        },
        "outputId": "9d6635dd-c93a-442c-f1f5-9bf4d6aa60b6"
      },
      "source": [
        "df1['target_names']"
      ],
      "execution_count": null,
      "outputs": [
        {
          "output_type": "execute_result",
          "data": {
            "text/plain": [
              "array(['malignant', 'benign'], dtype='<U9')"
            ]
          },
          "metadata": {
            "tags": []
          },
          "execution_count": 91
        }
      ]
    },
    {
      "cell_type": "code",
      "metadata": {
        "id": "GjWgjm6-Egbi",
        "colab_type": "code",
        "colab": {
          "base_uri": "https://localhost:8080/",
          "height": 55
        },
        "outputId": "f62ed626-77c5-4cb9-8888-b364c1164df6"
      },
      "source": [
        "u_v = df1['data'][7]\n",
        "uscl = scl.transform([u_v])\n",
        "upca = pca.transform(uscl)\n",
        "kmodel.predict(upca)"
      ],
      "execution_count": null,
      "outputs": [
        {
          "output_type": "execute_result",
          "data": {
            "text/plain": [
              "array([0])"
            ]
          },
          "metadata": {
            "tags": []
          },
          "execution_count": 89
        }
      ]
    },
    {
      "cell_type": "markdown",
      "metadata": {
        "id": "kRtfpjWQGpiV",
        "colab_type": "text"
      },
      "source": [
        "**Wine Data Set**"
      ]
    },
    {
      "cell_type": "code",
      "metadata": {
        "id": "1dijqfUHFpVE",
        "colab_type": "code",
        "colab": {}
      },
      "source": [
        "X = df2['data']\n",
        "Y = df2['target']"
      ],
      "execution_count": null,
      "outputs": []
    },
    {
      "cell_type": "code",
      "metadata": {
        "id": "8lZej0vGGoJc",
        "colab_type": "code",
        "colab": {}
      },
      "source": [
        "from sklearn.model_selection import train_test_split\n",
        "xtrain,xtest,ytrain,ytest = train_test_split(X,Y)"
      ],
      "execution_count": null,
      "outputs": []
    },
    {
      "cell_type": "code",
      "metadata": {
        "id": "sXgMPpcgG3xa",
        "colab_type": "code",
        "colab": {
          "base_uri": "https://localhost:8080/",
          "height": 55
        },
        "outputId": "bcf54dc1-7a7a-4df1-9f45-eb8a8f15a5f2"
      },
      "source": [
        "xtrain.shape"
      ],
      "execution_count": null,
      "outputs": [
        {
          "output_type": "execute_result",
          "data": {
            "text/plain": [
              "(133, 13)"
            ]
          },
          "metadata": {
            "tags": []
          },
          "execution_count": 98
        }
      ]
    },
    {
      "cell_type": "code",
      "metadata": {
        "id": "dbY2eoLpGxX6",
        "colab_type": "code",
        "colab": {}
      },
      "source": [
        "from sklearn.preprocessing import StandardScaler\n",
        "scl = StandardScaler()\n",
        "scl.fit(xtrain)\n",
        "xts = scl.transform(xtrain)"
      ],
      "execution_count": null,
      "outputs": []
    },
    {
      "cell_type": "code",
      "metadata": {
        "id": "oD0eJ624HB0s",
        "colab_type": "code",
        "colab": {}
      },
      "source": [
        "from sklearn.decomposition import PCA\n",
        "pca = PCA(n_components=2)\n",
        "\n",
        "pca.fit(xts)\n",
        "xpca = pca.transform(xts)"
      ],
      "execution_count": null,
      "outputs": []
    },
    {
      "cell_type": "code",
      "metadata": {
        "id": "7DgrTs4UHPu9",
        "colab_type": "code",
        "colab": {
          "base_uri": "https://localhost:8080/",
          "height": 72
        },
        "outputId": "365789fb-cae9-498c-b60f-ab223132946e"
      },
      "source": [
        "print(pca.explained_variance_)\n",
        "print(pca.explained_variance_ratio_)"
      ],
      "execution_count": null,
      "outputs": [
        {
          "output_type": "stream",
          "text": [
            "[4.85997816 2.57904445]\n",
            "[0.37103361 0.1968964 ]\n"
          ],
          "name": "stdout"
        }
      ]
    },
    {
      "cell_type": "code",
      "metadata": {
        "id": "z3ML_YRRHVZR",
        "colab_type": "code",
        "colab": {
          "base_uri": "https://localhost:8080/",
          "height": 286
        },
        "outputId": "d3b0af29-b860-4df8-bc10-1c824e2007d0"
      },
      "source": [
        "import matplotlib.pyplot as plt\n",
        "plt.scatter(xpca[:,0:1],xpca[:,1:2],c=ytrain)\n",
        "plt.show()"
      ],
      "execution_count": null,
      "outputs": [
        {
          "output_type": "display_data",
          "data": {
            "image/png": "[encoded data removed]",
            "text/plain": [
              "<Figure size 432x288 with 1 Axes>"
            ]
          },
          "metadata": {
            "tags": [],
            "needs_background": "light"
          }
        }
      ]
    },
    {
      "cell_type": "code",
      "metadata": {
        "id": "FILoS46lHZjH",
        "colab_type": "code",
        "colab": {
          "base_uri": "https://localhost:8080/",
          "height": 1000
        },
        "outputId": "662f3dd6-e244-4f52-9b5b-990af4a6e324"
      },
      "source": [
        "xpca"
      ],
      "execution_count": null,
      "outputs": [
        {
          "output_type": "execute_result",
          "data": {
            "text/plain": [
              "array([[-2.36179724, -2.24376386],\n",
              "       [ 0.72641134,  3.44884089],\n",
              "       [-1.09601646, -3.51750298],\n",
              "       [ 2.76328201, -0.595952  ],\n",
              "       [ 1.86657863, -1.53402461],\n",
              "       [-2.44973809, -2.03388879],\n",
              "       [ 2.46825225, -0.90377545],\n",
              "       [-1.63095317, -2.38049089],\n",
              "       [ 2.22961169,  1.50083297],\n",
              "       [ 2.7310655 , -1.53711444],\n",
              "       [-3.93074852, -0.03117193],\n",
              "       [ 1.04381746,  2.69254947],\n",
              "       [-0.81351459,  1.13697224],\n",
              "       [-1.64142511,  1.8710904 ],\n",
              "       [ 0.34533162,  2.24248563],\n",
              "       [-2.89209856, -0.49260332],\n",
              "       [-0.64232005,  0.07447325],\n",
              "       [ 0.8695973 ,  0.76634555],\n",
              "       [-2.86951851, -1.76167732],\n",
              "       [ 2.11566475, -0.60847895],\n",
              "       [-2.46978475, -2.66942816],\n",
              "       [ 1.7712841 ,  1.23260816],\n",
              "       [ 3.54074849, -1.41821924],\n",
              "       [-3.35805206, -1.99696003],\n",
              "       [ 3.53648576, -0.78869775],\n",
              "       [-3.06164697, -0.41632905],\n",
              "       [-3.01752921, -0.15711354],\n",
              "       [-2.38823605, -2.50438974],\n",
              "       [-2.39780213,  1.48892847],\n",
              "       [-0.78359722,  0.38667578],\n",
              "       [ 0.7503503 ,  2.07218338],\n",
              "       [ 2.1406507 , -0.40861934],\n",
              "       [-0.26375736,  1.13278104],\n",
              "       [ 2.22664904, -1.71359646],\n",
              "       [ 4.39921344, -1.79703981],\n",
              "       [-2.58063879, -2.15224185],\n",
              "       [-0.82718727,  2.55201108],\n",
              "       [ 1.62755637,  0.12903254],\n",
              "       [-3.46808989, -1.27845382],\n",
              "       [ 3.11067032, -0.72699781],\n",
              "       [ 1.30889475,  0.71544187],\n",
              "       [-1.48823294,  1.58521911],\n",
              "       [ 3.05118455, -1.02138148],\n",
              "       [ 1.1085457 ,  0.00569056],\n",
              "       [ 2.57802335, -0.71664757],\n",
              "       [-2.40110217, -0.37391146],\n",
              "       [ 2.83536998, -0.47348499],\n",
              "       [ 2.51817118, -0.38834633],\n",
              "       [-0.76600349,  3.3919495 ],\n",
              "       [ 0.91040171, -0.93217139],\n",
              "       [ 2.73762771, -0.94960453],\n",
              "       [-2.58199384,  0.24494063],\n",
              "       [-2.90736858, -2.03990074],\n",
              "       [ 2.43187273, -1.17749798],\n",
              "       [-1.86718006,  1.81068982],\n",
              "       [-2.17948314, -1.09949164],\n",
              "       [ 2.2666688 ,  0.02853571],\n",
              "       [-2.44184775, -0.25423413],\n",
              "       [-2.37700584, -0.27353275],\n",
              "       [ 2.16478107, -1.06807796],\n",
              "       [ 2.00101831, -1.10378064],\n",
              "       [ 2.06218397, -1.00116955],\n",
              "       [ 1.6718469 ,  0.39820991],\n",
              "       [ 2.30723023, -1.50863038],\n",
              "       [ 3.09204578, -1.8918011 ],\n",
              "       [ 1.46528413,  1.33303007],\n",
              "       [-3.65143688, -0.70185358],\n",
              "       [ 0.6621983 ,  0.07286282],\n",
              "       [ 2.27438666,  0.59800292],\n",
              "       [-4.26771203, -0.42140149],\n",
              "       [-0.05354943,  1.25653665],\n",
              "       [-1.37321694,  2.22638181],\n",
              "       [ 0.42078842,  2.34855894],\n",
              "       [ 0.69407381,  2.34633858],\n",
              "       [ 0.42322772,  3.92375743],\n",
              "       [-1.69369884,  1.42470421],\n",
              "       [-0.52902864,  2.21604216],\n",
              "       [-1.35655093,  0.55358912],\n",
              "       [ 2.09599804,  0.17002111],\n",
              "       [ 1.75961305, -0.49772757],\n",
              "       [ 0.64878161,  1.35255088],\n",
              "       [-0.40921457,  2.28739727],\n",
              "       [ 1.38288802,  2.26272211],\n",
              "       [ 1.26605654,  0.33641242],\n",
              "       [ 2.52959826, -1.73758254],\n",
              "       [-2.7048275 , -1.97698756],\n",
              "       [-0.67125028,  2.76072252],\n",
              "       [ 1.59879032,  0.62760388],\n",
              "       [-4.0085872 , -0.59519201],\n",
              "       [ 3.30081169, -1.35464561],\n",
              "       [-0.65480804,  2.75562006],\n",
              "       [ 2.67984281, -1.30261777],\n",
              "       [-1.86724004,  1.23813765],\n",
              "       [-3.53897518, -0.68232539],\n",
              "       [-2.24264769, -2.0933152 ],\n",
              "       [-1.7790744 ,  1.07879318],\n",
              "       [-0.180621  ,  2.15685005],\n",
              "       [ 2.56905751, -0.6194888 ],\n",
              "       [-2.99555523, -0.29869295],\n",
              "       [-2.6218257 , -0.44236051],\n",
              "       [-2.23835758, -1.03653385],\n",
              "       [ 0.82577273,  2.55089339],\n",
              "       [-3.14678848, -0.64515246],\n",
              "       [-0.70596135,  2.32612629],\n",
              "       [ 1.10782416, -1.5879009 ],\n",
              "       [ 2.46845606, -0.97689416],\n",
              "       [ 0.06149275,  1.50705597],\n",
              "       [ 2.13367373, -2.24875051],\n",
              "       [-0.20131572,  1.863445  ],\n",
              "       [ 1.35946317, -0.6043234 ],\n",
              "       [-2.80789674, -1.4592642 ],\n",
              "       [-1.96666205,  1.69262124],\n",
              "       [ 1.06454635, -0.57896896],\n",
              "       [ 3.13933884, -1.62928766],\n",
              "       [-2.42278269, -2.55930065],\n",
              "       [ 3.49181112, -1.07661327],\n",
              "       [-1.31878351, -0.23863161],\n",
              "       [ 2.03219504, -1.46077645],\n",
              "       [ 1.779528  , -0.35043481],\n",
              "       [-0.53886038,  0.72148666],\n",
              "       [-1.91057792, -1.75560606],\n",
              "       [ 2.15179361, -0.90700372],\n",
              "       [-0.31573469,  2.86198974],\n",
              "       [-0.58310777,  2.33188137],\n",
              "       [ 2.74754768, -1.32202291],\n",
              "       [-3.25935645, -2.68367205],\n",
              "       [ 2.29323278,  2.11544299],\n",
              "       [-1.19134159,  1.85462614],\n",
              "       [ 0.85692371,  1.37056775],\n",
              "       [-2.62456111, -1.68837614],\n",
              "       [-3.21368064,  0.31170344],\n",
              "       [-0.61044834,  1.94203633],\n",
              "       [ 1.01662291, -0.2090996 ]])"
            ]
          },
          "metadata": {
            "tags": []
          },
          "execution_count": 104
        }
      ]
    },
    {
      "cell_type": "code",
      "metadata": {
        "id": "buCA6qJRHjT3",
        "colab_type": "code",
        "colab": {
          "base_uri": "https://localhost:8080/",
          "height": 55
        },
        "outputId": "f5337232-6f26-4276-d47f-ae9b68a323dd"
      },
      "source": [
        "from sklearn.neighbors import KNeighborsClassifier\n",
        "kmodel = KNeighborsClassifier(n_neighbors=5)\n",
        "\n",
        "kmodel.fit(xpca,ytrain)\n",
        "\n",
        "print(kmodel.score(xpca,ytrain))"
      ],
      "execution_count": null,
      "outputs": [
        {
          "output_type": "stream",
          "text": [
            "0.9624060150375939\n"
          ],
          "name": "stdout"
        }
      ]
    },
    {
      "cell_type": "code",
      "metadata": {
        "id": "XkUc7tYqHoOx",
        "colab_type": "code",
        "colab": {}
      },
      "source": [
        "#xtest - 13 features\n",
        "xtscl = scl.transform(xtest)\n",
        "xtpca = pca.transform(xtscl)"
      ],
      "execution_count": null,
      "outputs": []
    },
    {
      "cell_type": "code",
      "metadata": {
        "id": "OYApGUMhHvHM",
        "colab_type": "code",
        "colab": {
          "base_uri": "https://localhost:8080/",
          "height": 55
        },
        "outputId": "61f6f59f-47c4-4cca-a857-e500aebc0b68"
      },
      "source": [
        "print(kmodel.score(xtpca,ytest))"
      ],
      "execution_count": null,
      "outputs": [
        {
          "output_type": "stream",
          "text": [
            "0.9333333333333333\n"
          ],
          "name": "stdout"
        }
      ]
    },
    {
      "cell_type": "code",
      "metadata": {
        "id": "0FTJNgShH1Rc",
        "colab_type": "code",
        "colab": {}
      },
      "source": [
        ""
      ],
      "execution_count": null,
      "outputs": []
    }
  ]
}