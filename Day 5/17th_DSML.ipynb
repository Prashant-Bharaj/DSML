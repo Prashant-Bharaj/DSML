{
  "nbformat": 4,
  "nbformat_minor": 0,
  "metadata": {
    "colab": {
      "name": "17th_DSML.ipynb",
      "provenance": []
    },
    "kernelspec": {
      "name": "python3",
      "display_name": "Python 3"
    }
  },
  "cells": [
    {
      "cell_type": "code",
      "metadata": {
        "id": "zk-G5n9eZ3GY",
        "colab_type": "code",
        "colab": {}
      },
      "source": [
        "from sklearn.datasets import load_iris"
      ],
      "execution_count": null,
      "outputs": []
    },
    {
      "cell_type": "code",
      "metadata": {
        "id": "G5d9ZqyoZ-rh",
        "colab_type": "code",
        "colab": {}
      },
      "source": [
        "iris = load_iris()"
      ],
      "execution_count": null,
      "outputs": []
    },
    {
      "cell_type": "code",
      "metadata": {
        "id": "_UMZmoehUCo1",
        "colab_type": "code",
        "colab": {
          "base_uri": "https://localhost:8080/",
          "height": 35
        },
        "outputId": "9d39ded9-8ddc-46dd-ce69-d23251c4510a"
      },
      "source": [
        "iris.keys()"
      ],
      "execution_count": null,
      "outputs": [
        {
          "output_type": "execute_result",
          "data": {
            "text/plain": [
              "dict_keys(['data', 'target', 'target_names', 'DESCR', 'feature_names', 'filename'])"
            ]
          },
          "metadata": {
            "tags": []
          },
          "execution_count": 4
        }
      ]
    },
    {
      "cell_type": "code",
      "metadata": {
        "id": "Xtkf90UqaFJx",
        "colab_type": "code",
        "colab": {
          "base_uri": "https://localhost:8080/",
          "height": 1000
        },
        "outputId": "877756db-a3fe-40d7-813b-37a1dfe0fc43"
      },
      "source": [
        "iris['data']"
      ],
      "execution_count": null,
      "outputs": [
        {
          "output_type": "execute_result",
          "data": {
            "text/plain": [
              "array([[5.1, 3.5, 1.4, 0.2],\n",
              "       [4.9, 3. , 1.4, 0.2],\n",
              "       [4.7, 3.2, 1.3, 0.2],\n",
              "       [4.6, 3.1, 1.5, 0.2],\n",
              "       [5. , 3.6, 1.4, 0.2],\n",
              "       [5.4, 3.9, 1.7, 0.4],\n",
              "       [4.6, 3.4, 1.4, 0.3],\n",
              "       [5. , 3.4, 1.5, 0.2],\n",
              "       [4.4, 2.9, 1.4, 0.2],\n",
              "       [4.9, 3.1, 1.5, 0.1],\n",
              "       [5.4, 3.7, 1.5, 0.2],\n",
              "       [4.8, 3.4, 1.6, 0.2],\n",
              "       [4.8, 3. , 1.4, 0.1],\n",
              "       [4.3, 3. , 1.1, 0.1],\n",
              "       [5.8, 4. , 1.2, 0.2],\n",
              "       [5.7, 4.4, 1.5, 0.4],\n",
              "       [5.4, 3.9, 1.3, 0.4],\n",
              "       [5.1, 3.5, 1.4, 0.3],\n",
              "       [5.7, 3.8, 1.7, 0.3],\n",
              "       [5.1, 3.8, 1.5, 0.3],\n",
              "       [5.4, 3.4, 1.7, 0.2],\n",
              "       [5.1, 3.7, 1.5, 0.4],\n",
              "       [4.6, 3.6, 1. , 0.2],\n",
              "       [5.1, 3.3, 1.7, 0.5],\n",
              "       [4.8, 3.4, 1.9, 0.2],\n",
              "       [5. , 3. , 1.6, 0.2],\n",
              "       [5. , 3.4, 1.6, 0.4],\n",
              "       [5.2, 3.5, 1.5, 0.2],\n",
              "       [5.2, 3.4, 1.4, 0.2],\n",
              "       [4.7, 3.2, 1.6, 0.2],\n",
              "       [4.8, 3.1, 1.6, 0.2],\n",
              "       [5.4, 3.4, 1.5, 0.4],\n",
              "       [5.2, 4.1, 1.5, 0.1],\n",
              "       [5.5, 4.2, 1.4, 0.2],\n",
              "       [4.9, 3.1, 1.5, 0.2],\n",
              "       [5. , 3.2, 1.2, 0.2],\n",
              "       [5.5, 3.5, 1.3, 0.2],\n",
              "       [4.9, 3.6, 1.4, 0.1],\n",
              "       [4.4, 3. , 1.3, 0.2],\n",
              "       [5.1, 3.4, 1.5, 0.2],\n",
              "       [5. , 3.5, 1.3, 0.3],\n",
              "       [4.5, 2.3, 1.3, 0.3],\n",
              "       [4.4, 3.2, 1.3, 0.2],\n",
              "       [5. , 3.5, 1.6, 0.6],\n",
              "       [5.1, 3.8, 1.9, 0.4],\n",
              "       [4.8, 3. , 1.4, 0.3],\n",
              "       [5.1, 3.8, 1.6, 0.2],\n",
              "       [4.6, 3.2, 1.4, 0.2],\n",
              "       [5.3, 3.7, 1.5, 0.2],\n",
              "       [5. , 3.3, 1.4, 0.2],\n",
              "       [7. , 3.2, 4.7, 1.4],\n",
              "       [6.4, 3.2, 4.5, 1.5],\n",
              "       [6.9, 3.1, 4.9, 1.5],\n",
              "       [5.5, 2.3, 4. , 1.3],\n",
              "       [6.5, 2.8, 4.6, 1.5],\n",
              "       [5.7, 2.8, 4.5, 1.3],\n",
              "       [6.3, 3.3, 4.7, 1.6],\n",
              "       [4.9, 2.4, 3.3, 1. ],\n",
              "       [6.6, 2.9, 4.6, 1.3],\n",
              "       [5.2, 2.7, 3.9, 1.4],\n",
              "       [5. , 2. , 3.5, 1. ],\n",
              "       [5.9, 3. , 4.2, 1.5],\n",
              "       [6. , 2.2, 4. , 1. ],\n",
              "       [6.1, 2.9, 4.7, 1.4],\n",
              "       [5.6, 2.9, 3.6, 1.3],\n",
              "       [6.7, 3.1, 4.4, 1.4],\n",
              "       [5.6, 3. , 4.5, 1.5],\n",
              "       [5.8, 2.7, 4.1, 1. ],\n",
              "       [6.2, 2.2, 4.5, 1.5],\n",
              "       [5.6, 2.5, 3.9, 1.1],\n",
              "       [5.9, 3.2, 4.8, 1.8],\n",
              "       [6.1, 2.8, 4. , 1.3],\n",
              "       [6.3, 2.5, 4.9, 1.5],\n",
              "       [6.1, 2.8, 4.7, 1.2],\n",
              "       [6.4, 2.9, 4.3, 1.3],\n",
              "       [6.6, 3. , 4.4, 1.4],\n",
              "       [6.8, 2.8, 4.8, 1.4],\n",
              "       [6.7, 3. , 5. , 1.7],\n",
              "       [6. , 2.9, 4.5, 1.5],\n",
              "       [5.7, 2.6, 3.5, 1. ],\n",
              "       [5.5, 2.4, 3.8, 1.1],\n",
              "       [5.5, 2.4, 3.7, 1. ],\n",
              "       [5.8, 2.7, 3.9, 1.2],\n",
              "       [6. , 2.7, 5.1, 1.6],\n",
              "       [5.4, 3. , 4.5, 1.5],\n",
              "       [6. , 3.4, 4.5, 1.6],\n",
              "       [6.7, 3.1, 4.7, 1.5],\n",
              "       [6.3, 2.3, 4.4, 1.3],\n",
              "       [5.6, 3. , 4.1, 1.3],\n",
              "       [5.5, 2.5, 4. , 1.3],\n",
              "       [5.5, 2.6, 4.4, 1.2],\n",
              "       [6.1, 3. , 4.6, 1.4],\n",
              "       [5.8, 2.6, 4. , 1.2],\n",
              "       [5. , 2.3, 3.3, 1. ],\n",
              "       [5.6, 2.7, 4.2, 1.3],\n",
              "       [5.7, 3. , 4.2, 1.2],\n",
              "       [5.7, 2.9, 4.2, 1.3],\n",
              "       [6.2, 2.9, 4.3, 1.3],\n",
              "       [5.1, 2.5, 3. , 1.1],\n",
              "       [5.7, 2.8, 4.1, 1.3],\n",
              "       [6.3, 3.3, 6. , 2.5],\n",
              "       [5.8, 2.7, 5.1, 1.9],\n",
              "       [7.1, 3. , 5.9, 2.1],\n",
              "       [6.3, 2.9, 5.6, 1.8],\n",
              "       [6.5, 3. , 5.8, 2.2],\n",
              "       [7.6, 3. , 6.6, 2.1],\n",
              "       [4.9, 2.5, 4.5, 1.7],\n",
              "       [7.3, 2.9, 6.3, 1.8],\n",
              "       [6.7, 2.5, 5.8, 1.8],\n",
              "       [7.2, 3.6, 6.1, 2.5],\n",
              "       [6.5, 3.2, 5.1, 2. ],\n",
              "       [6.4, 2.7, 5.3, 1.9],\n",
              "       [6.8, 3. , 5.5, 2.1],\n",
              "       [5.7, 2.5, 5. , 2. ],\n",
              "       [5.8, 2.8, 5.1, 2.4],\n",
              "       [6.4, 3.2, 5.3, 2.3],\n",
              "       [6.5, 3. , 5.5, 1.8],\n",
              "       [7.7, 3.8, 6.7, 2.2],\n",
              "       [7.7, 2.6, 6.9, 2.3],\n",
              "       [6. , 2.2, 5. , 1.5],\n",
              "       [6.9, 3.2, 5.7, 2.3],\n",
              "       [5.6, 2.8, 4.9, 2. ],\n",
              "       [7.7, 2.8, 6.7, 2. ],\n",
              "       [6.3, 2.7, 4.9, 1.8],\n",
              "       [6.7, 3.3, 5.7, 2.1],\n",
              "       [7.2, 3.2, 6. , 1.8],\n",
              "       [6.2, 2.8, 4.8, 1.8],\n",
              "       [6.1, 3. , 4.9, 1.8],\n",
              "       [6.4, 2.8, 5.6, 2.1],\n",
              "       [7.2, 3. , 5.8, 1.6],\n",
              "       [7.4, 2.8, 6.1, 1.9],\n",
              "       [7.9, 3.8, 6.4, 2. ],\n",
              "       [6.4, 2.8, 5.6, 2.2],\n",
              "       [6.3, 2.8, 5.1, 1.5],\n",
              "       [6.1, 2.6, 5.6, 1.4],\n",
              "       [7.7, 3. , 6.1, 2.3],\n",
              "       [6.3, 3.4, 5.6, 2.4],\n",
              "       [6.4, 3.1, 5.5, 1.8],\n",
              "       [6. , 3. , 4.8, 1.8],\n",
              "       [6.9, 3.1, 5.4, 2.1],\n",
              "       [6.7, 3.1, 5.6, 2.4],\n",
              "       [6.9, 3.1, 5.1, 2.3],\n",
              "       [5.8, 2.7, 5.1, 1.9],\n",
              "       [6.8, 3.2, 5.9, 2.3],\n",
              "       [6.7, 3.3, 5.7, 2.5],\n",
              "       [6.7, 3. , 5.2, 2.3],\n",
              "       [6.3, 2.5, 5. , 1.9],\n",
              "       [6.5, 3. , 5.2, 2. ],\n",
              "       [6.2, 3.4, 5.4, 2.3],\n",
              "       [5.9, 3. , 5.1, 1.8]])"
            ]
          },
          "metadata": {
            "tags": []
          },
          "execution_count": 5
        }
      ]
    },
    {
      "cell_type": "code",
      "metadata": {
        "id": "E5SREU80aIt1",
        "colab_type": "code",
        "colab": {
          "base_uri": "https://localhost:8080/",
          "height": 139
        },
        "outputId": "453ce5e9-e84c-46e2-a533-3330c237b36d"
      },
      "source": [
        "iris['target']"
      ],
      "execution_count": null,
      "outputs": [
        {
          "output_type": "execute_result",
          "data": {
            "text/plain": [
              "array([0, 0, 0, 0, 0, 0, 0, 0, 0, 0, 0, 0, 0, 0, 0, 0, 0, 0, 0, 0, 0, 0,\n",
              "       0, 0, 0, 0, 0, 0, 0, 0, 0, 0, 0, 0, 0, 0, 0, 0, 0, 0, 0, 0, 0, 0,\n",
              "       0, 0, 0, 0, 0, 0, 1, 1, 1, 1, 1, 1, 1, 1, 1, 1, 1, 1, 1, 1, 1, 1,\n",
              "       1, 1, 1, 1, 1, 1, 1, 1, 1, 1, 1, 1, 1, 1, 1, 1, 1, 1, 1, 1, 1, 1,\n",
              "       1, 1, 1, 1, 1, 1, 1, 1, 1, 1, 1, 1, 2, 2, 2, 2, 2, 2, 2, 2, 2, 2,\n",
              "       2, 2, 2, 2, 2, 2, 2, 2, 2, 2, 2, 2, 2, 2, 2, 2, 2, 2, 2, 2, 2, 2,\n",
              "       2, 2, 2, 2, 2, 2, 2, 2, 2, 2, 2, 2, 2, 2, 2, 2, 2, 2])"
            ]
          },
          "metadata": {
            "tags": []
          },
          "execution_count": 6
        }
      ]
    },
    {
      "cell_type": "code",
      "metadata": {
        "id": "hcGbh_G4VVtd",
        "colab_type": "code",
        "colab": {
          "base_uri": "https://localhost:8080/",
          "height": 52
        },
        "outputId": "b14f6a7f-de51-44ac-ff12-b30c71570235"
      },
      "source": [
        "print(iris['data'].shape)\n",
        "print(iris['target'].shape)"
      ],
      "execution_count": null,
      "outputs": [
        {
          "output_type": "stream",
          "text": [
            "(150, 4)\n",
            "(150,)\n"
          ],
          "name": "stdout"
        }
      ]
    },
    {
      "cell_type": "code",
      "metadata": {
        "id": "W3Uztsv5UnuM",
        "colab_type": "code",
        "colab": {
          "base_uri": "https://localhost:8080/",
          "height": 52
        },
        "outputId": "da261b32-270c-4a9e-ce34-4d024e523b2e"
      },
      "source": [
        "print(iris['feature_names'])\n",
        "print(iris['target_names'])"
      ],
      "execution_count": null,
      "outputs": [
        {
          "output_type": "stream",
          "text": [
            "['sepal length (cm)', 'sepal width (cm)', 'petal length (cm)', 'petal width (cm)']\n",
            "['setosa' 'versicolor' 'virginica']\n"
          ],
          "name": "stdout"
        }
      ]
    },
    {
      "cell_type": "code",
      "metadata": {
        "id": "kNtyZJvaU27u",
        "colab_type": "code",
        "colab": {}
      },
      "source": [
        "#3.2,2.2,4.3,5.4\n",
        "#KNN - K-Nearest-Neighbors\n",
        "import numpy as np\n",
        "data1 = np.random.rand(1,10).T\n",
        "data2 = np.random.rand(1,10).T\n",
        "label = np.random.randint(0,2,10).reshape(10,1)"
      ],
      "execution_count": null,
      "outputs": []
    },
    {
      "cell_type": "code",
      "metadata": {
        "id": "LOEHG832Ypen",
        "colab_type": "code",
        "colab": {
          "base_uri": "https://localhost:8080/",
          "height": 191
        },
        "outputId": "d2d634f7-fbf9-4367-fb01-5c32a34ac931"
      },
      "source": [
        "data = np.hstack([data1,data2,label])\n",
        "print(data)"
      ],
      "execution_count": null,
      "outputs": [
        {
          "output_type": "stream",
          "text": [
            "[[0.30943562 0.4649438  0.        ]\n",
            " [0.58439117 0.63549076 0.        ]\n",
            " [0.99478951 0.66644974 1.        ]\n",
            " [0.09591798 0.25522731 1.        ]\n",
            " [0.70453574 0.11905396 1.        ]\n",
            " [0.51550355 0.07413382 1.        ]\n",
            " [0.58953825 0.70043032 0.        ]\n",
            " [0.84975089 0.50213866 0.        ]\n",
            " [0.69556829 0.8266293  1.        ]\n",
            " [0.41076971 0.28458797 0.        ]]\n"
          ],
          "name": "stdout"
        }
      ]
    },
    {
      "cell_type": "code",
      "metadata": {
        "id": "6dphoyTJZ0t5",
        "colab_type": "code",
        "colab": {}
      },
      "source": [
        "#0.5,0.8---?"
      ],
      "execution_count": null,
      "outputs": []
    },
    {
      "cell_type": "code",
      "metadata": {
        "id": "aPCXhcJOZJjp",
        "colab_type": "code",
        "colab": {
          "base_uri": "https://localhost:8080/",
          "height": 266
        },
        "outputId": "0db65d8d-ef89-4825-88f7-2311fe22f4cc"
      },
      "source": [
        "import matplotlib.pyplot as plt\n",
        "plt.scatter(data[:,0:1],data[:,1:2],c=data[:,2:3])\n",
        "plt.show()"
      ],
      "execution_count": null,
      "outputs": [
        {
          "output_type": "display_data",
          "data": {
            "image/png": "[encoded data removed]",
            "text/plain": [
              "<Figure size 432x288 with 1 Axes>"
            ]
          },
          "metadata": {
            "tags": [],
            "needs_background": "light"
          }
        }
      ]
    },
    {
      "cell_type": "code",
      "metadata": {
        "id": "rFIzQM0FZfir",
        "colab_type": "code",
        "colab": {}
      },
      "source": [
        "from math import sqrt\n",
        "def my_knn(data,u_value):\n",
        "  distances = []\n",
        "  for row in data:\n",
        "    d = 0\n",
        "    for i in range(len(u_value)):\n",
        "      d += (u_value[i] - row[i])**2\n",
        "    distances.append((row , sqrt(d)))\n",
        "\n",
        "  distances.sort(key=lambda ds:ds[1])\n",
        "  return distances"
      ],
      "execution_count": null,
      "outputs": []
    },
    {
      "cell_type": "code",
      "metadata": {
        "id": "WB5CIbiCgmYl",
        "colab_type": "code",
        "colab": {
          "base_uri": "https://localhost:8080/",
          "height": 35
        },
        "outputId": "81eeaa29-0664-4577-cd39-b7dc3a4604d8"
      },
      "source": [
        "u_value = np.array([np.random.rand(1),np.random.rand(1)]).ravel()\n",
        "print(u_value)"
      ],
      "execution_count": null,
      "outputs": [
        {
          "output_type": "stream",
          "text": [
            "[0.97708523 0.03665104]\n"
          ],
          "name": "stdout"
        }
      ]
    },
    {
      "cell_type": "code",
      "metadata": {
        "id": "K2MutK0pgqKe",
        "colab_type": "code",
        "colab": {
          "base_uri": "https://localhost:8080/",
          "height": 55
        },
        "outputId": "720b8bc3-a8e3-490c-f250-7ca1d10cb00f"
      },
      "source": [
        "z = my_knn(data,u_value)\n",
        "print(z)"
      ],
      "execution_count": null,
      "outputs": [
        {
          "output_type": "stream",
          "text": [
            "[(array([0.70453574, 0.11905396, 1.        ]), 0.2847340250002585), (array([0.51550355, 0.07413382, 1.        ]), 0.46310107840132203), (array([0.84975089, 0.50213866, 0.        ]), 0.482589641184672), (array([0.41076971, 0.28458797, 0.        ]), 0.6182119331828311), (array([0.99478951, 0.66644974, 1.        ]), 0.6300475006970545), (array([0.58439117, 0.63549076, 0.        ]), 0.7161128704490232), (array([0.58953825, 0.70043032, 0.        ]), 0.7686322926511804), (array([0.30943562, 0.4649438 , 0.        ]), 0.7932154162687282), (array([0.69556829, 0.8266293 , 1.        ]), 0.8386402403435539), (array([0.09591798, 0.25522731, 1.        ]), 0.9078718597003084)]\n"
          ],
          "name": "stdout"
        }
      ]
    },
    {
      "cell_type": "code",
      "metadata": {
        "id": "RIVlLnO7hXb2",
        "colab_type": "code",
        "colab": {
          "base_uri": "https://localhost:8080/",
          "height": 35
        },
        "outputId": "ebf206d9-ffa8-4897-c17a-da9af71762c8"
      },
      "source": [
        "z[0][0][-1]"
      ],
      "execution_count": null,
      "outputs": [
        {
          "output_type": "execute_result",
          "data": {
            "text/plain": [
              "1.0"
            ]
          },
          "metadata": {
            "tags": []
          },
          "execution_count": 58
        }
      ]
    },
    {
      "cell_type": "code",
      "metadata": {
        "id": "vyrsW63wg_lB",
        "colab_type": "code",
        "colab": {}
      },
      "source": [
        "def prediction(u_value):\n",
        "  neighbors = []\n",
        "  p = []\n",
        "  k = 7\n",
        "  z = my_knn(data,u_value)\n",
        "  for i in range(k):\n",
        "    neighbors.append(z[i][0])\n",
        "  for row in neighbors:\n",
        "    p.append(row[-1])\n",
        "  print(max(p , key=p.count))\n",
        "  print(neighbors)"
      ],
      "execution_count": null,
      "outputs": []
    },
    {
      "cell_type": "code",
      "metadata": {
        "id": "tymN2JNAi8Jy",
        "colab_type": "code",
        "colab": {
          "base_uri": "https://localhost:8080/",
          "height": 90
        },
        "outputId": "85fd5f82-0e5e-4feb-9124-6f39c3559124"
      },
      "source": [
        "u_value = np.array([np.random.rand(1),np.random.rand(1)]).ravel()\n",
        "print(u_value)\n",
        "prediction(u_value)"
      ],
      "execution_count": null,
      "outputs": [
        {
          "output_type": "stream",
          "text": [
            "[0.8813907  0.93453937]\n",
            "0.0\n",
            "[array([0.69556829, 0.8266293 , 1.        ]), array([0.99478951, 0.66644974, 1.        ]), array([0.58953825, 0.70043032, 0.        ]), array([0.58439117, 0.63549076, 0.        ]), array([0.84975089, 0.50213866, 0.        ]), array([0.30943562, 0.4649438 , 0.        ]), array([0.41076971, 0.28458797, 0.        ])]\n"
          ],
          "name": "stdout"
        }
      ]
    },
    {
      "cell_type": "code",
      "metadata": {
        "id": "Pyql2GcscM2a",
        "colab_type": "code",
        "colab": {
          "base_uri": "https://localhost:8080/",
          "height": 35
        },
        "outputId": "9f511d0e-27f5-46b9-fb39-fad3cd7b4221"
      },
      "source": [
        "distances[0][1]"
      ],
      "execution_count": null,
      "outputs": [
        {
          "output_type": "execute_result",
          "data": {
            "text/plain": [
              "0.733020928119669"
            ]
          },
          "metadata": {
            "tags": []
          },
          "execution_count": 36
        }
      ]
    },
    {
      "cell_type": "code",
      "metadata": {
        "id": "dp-0P4iZaGXn",
        "colab_type": "code",
        "colab": {
          "base_uri": "https://localhost:8080/",
          "height": 191
        },
        "outputId": "723ad8a9-a5bf-437b-98ea-24d1bdb27473"
      },
      "source": [
        "distances"
      ],
      "execution_count": null,
      "outputs": [
        {
          "output_type": "execute_result",
          "data": {
            "text/plain": [
              "[(array([0.70453574, 0.11905396, 1.        ]), 0.25757005415834755),\n",
              " (array([0.84975089, 0.50213866, 0.        ]), 0.3879383829350691),\n",
              " (array([0.51550355, 0.07413382, 1.        ]), 0.44991272177855607),\n",
              " (array([0.99478951, 0.66644974, 1.        ]), 0.5367156167209779),\n",
              " (array([0.41076971, 0.28458797, 0.        ]), 0.5721415631802012),\n",
              " (array([0.58439117, 0.63549076, 0.        ]), 0.6302655190903309),\n",
              " (array([0.58953825, 0.70043032, 0.        ]), 0.6805501339581925),\n",
              " (array([0.30943562, 0.4649438 , 0.        ]), 0.733020928119669),\n",
              " (array([0.69556829, 0.8266293 , 1.        ]), 0.7450863638374327),\n",
              " (array([0.09591798, 0.25522731, 1.        ]), 0.8748239184055318)]"
            ]
          },
          "metadata": {
            "tags": []
          },
          "execution_count": 38
        }
      ]
    },
    {
      "cell_type": "code",
      "metadata": {
        "id": "hN6-4WNTb7dF",
        "colab_type": "code",
        "colab": {
          "base_uri": "https://localhost:8080/",
          "height": 35
        },
        "outputId": "acd936e2-7dd6-40fe-e7f5-dfaad98938ac"
      },
      "source": [
        "x = lambda a : a+10\n",
        "x(5)"
      ],
      "execution_count": null,
      "outputs": [
        {
          "output_type": "execute_result",
          "data": {
            "text/plain": [
              "15"
            ]
          },
          "metadata": {
            "tags": []
          },
          "execution_count": 40
        }
      ]
    },
    {
      "cell_type": "code",
      "metadata": {
        "id": "NLoMHwnNefJh",
        "colab_type": "code",
        "colab": {}
      },
      "source": [
        "def x(a):\n",
        "  return(a+10)"
      ],
      "execution_count": null,
      "outputs": []
    },
    {
      "cell_type": "code",
      "metadata": {
        "id": "gqGRQlP9ejFy",
        "colab_type": "code",
        "colab": {
          "base_uri": "https://localhost:8080/",
          "height": 35
        },
        "outputId": "43d2d6d4-18b4-4627-f9a3-fb04a834d5d3"
      },
      "source": [
        "x(5)"
      ],
      "execution_count": null,
      "outputs": [
        {
          "output_type": "execute_result",
          "data": {
            "text/plain": [
              "15"
            ]
          },
          "metadata": {
            "tags": []
          },
          "execution_count": 42
        }
      ]
    },
    {
      "cell_type": "code",
      "metadata": {
        "id": "3dULOLVwekNT",
        "colab_type": "code",
        "colab": {
          "base_uri": "https://localhost:8080/",
          "height": 35
        },
        "outputId": "24703fc9-1969-45e1-a28b-7c887cf102aa"
      },
      "source": [
        "z = lambda d:d[1]+2\n",
        "z([2,5,8])"
      ],
      "execution_count": null,
      "outputs": [
        {
          "output_type": "execute_result",
          "data": {
            "text/plain": [
              "7"
            ]
          },
          "metadata": {
            "tags": []
          },
          "execution_count": 45
        }
      ]
    },
    {
      "cell_type": "code",
      "metadata": {
        "id": "JNzB-Qg_e8Fc",
        "colab_type": "code",
        "colab": {}
      },
      "source": [
        "x = [3,5,2,1]\n",
        "x.sort()"
      ],
      "execution_count": null,
      "outputs": []
    },
    {
      "cell_type": "code",
      "metadata": {
        "id": "7YmkkGaNfNJ0",
        "colab_type": "code",
        "colab": {
          "base_uri": "https://localhost:8080/",
          "height": 35
        },
        "outputId": "9ceb1521-5cf7-4136-f95d-2095d842e3f0"
      },
      "source": [
        "x"
      ],
      "execution_count": null,
      "outputs": [
        {
          "output_type": "execute_result",
          "data": {
            "text/plain": [
              "[1, 2, 3, 5]"
            ]
          },
          "metadata": {
            "tags": []
          },
          "execution_count": 47
        }
      ]
    },
    {
      "cell_type": "markdown",
      "metadata": {
        "id": "Mv1hgp8SjgYh",
        "colab_type": "text"
      },
      "source": [
        "**KNN ALGO**"
      ]
    },
    {
      "cell_type": "code",
      "metadata": {
        "id": "_8kYCkA5fOOK",
        "colab_type": "code",
        "colab": {
          "base_uri": "https://localhost:8080/",
          "height": 90
        },
        "outputId": "f3bba41a-2563-4082-f629-4adb0a03b565"
      },
      "source": [
        "import numpy as np\n",
        "data1 = np.random.rand(1,10).T\n",
        "data2 = np.random.rand(1,10).T\n",
        "label = np.random.randint(0,2,10).reshape(10,1)\n",
        "\n",
        "data = np.hstack([data1,data2,label])\n",
        "\n",
        "from math import sqrt\n",
        "def my_knn(data,u_value):\n",
        "  distances = []\n",
        "  for row in data:\n",
        "    d = 0\n",
        "    for i in range(len(u_value)):\n",
        "      d += (u_value[i] - row[i])**2\n",
        "    distances.append((row , sqrt(d)))\n",
        "\n",
        "  distances.sort(key=lambda ds:ds[1])\n",
        "  return distances\n",
        "\n",
        "\n",
        "def prediction(u_value):\n",
        "  neighbors = []\n",
        "  p = []\n",
        "  k = 5\n",
        "  z = my_knn(data,u_value)\n",
        "  for i in range(k):\n",
        "    neighbors.append(z[i][0])\n",
        "  for row in neighbors:\n",
        "    p.append(row[-1])\n",
        "  print(max(p , key=p.count))\n",
        "  print(neighbors)\n",
        "\n",
        "u_value = np.array([np.random.rand(1),np.random.rand(1)]).ravel()\n",
        "print(u_value)\n",
        "prediction(u_value)"
      ],
      "execution_count": null,
      "outputs": [
        {
          "output_type": "stream",
          "text": [
            "[0.46915057 0.14405415]\n",
            "1.0\n",
            "[array([0.29232535, 0.28190562, 0.        ]), array([0.43813371, 0.40152059, 0.        ]), array([0.5341449 , 0.44453895, 1.        ]), array([0.36332996, 0.59077507, 1.        ]), array([0.78483473, 0.50072809, 1.        ])]\n"
          ],
          "name": "stdout"
        }
      ]
    },
    {
      "cell_type": "code",
      "metadata": {
        "id": "vSAMLpFYksoh",
        "colab_type": "code",
        "colab": {
          "base_uri": "https://localhost:8080/",
          "height": 363
        },
        "outputId": "adc5670a-b8c5-43c4-f1f6-c10ad64420e0"
      },
      "source": [
        "import pandas as pd\n",
        "df = pd.DataFrame(data,columns=['f1','f2','l'])\n",
        "df['lc'] = df['l'].map({1.0:'r' , 0.0:'g'})\n",
        "df"
      ],
      "execution_count": null,
      "outputs": [
        {
          "output_type": "execute_result",
          "data": {
            "text/html": [
              "<div>\n",
              "<style scoped>\n",
              "    .dataframe tbody tr th:only-of-type {\n",
              "        vertical-align: middle;\n",
              "    }\n",
              "\n",
              "    .dataframe tbody tr th {\n",
              "        vertical-align: top;\n",
              "    }\n",
              "\n",
              "    .dataframe thead th {\n",
              "        text-align: right;\n",
              "    }\n",
              "</style>\n",
              "<table border=\"1\" class=\"dataframe\">\n",
              "  <thead>\n",
              "    <tr style=\"text-align: right;\">\n",
              "      <th></th>\n",
              "      <th>f1</th>\n",
              "      <th>f2</th>\n",
              "      <th>l</th>\n",
              "      <th>lc</th>\n",
              "    </tr>\n",
              "  </thead>\n",
              "  <tbody>\n",
              "    <tr>\n",
              "      <th>0</th>\n",
              "      <td>0.491465</td>\n",
              "      <td>0.996351</td>\n",
              "      <td>0.0</td>\n",
              "      <td>g</td>\n",
              "    </tr>\n",
              "    <tr>\n",
              "      <th>1</th>\n",
              "      <td>0.583602</td>\n",
              "      <td>0.081994</td>\n",
              "      <td>1.0</td>\n",
              "      <td>r</td>\n",
              "    </tr>\n",
              "    <tr>\n",
              "      <th>2</th>\n",
              "      <td>0.526999</td>\n",
              "      <td>0.181038</td>\n",
              "      <td>0.0</td>\n",
              "      <td>g</td>\n",
              "    </tr>\n",
              "    <tr>\n",
              "      <th>3</th>\n",
              "      <td>0.778241</td>\n",
              "      <td>0.499105</td>\n",
              "      <td>1.0</td>\n",
              "      <td>r</td>\n",
              "    </tr>\n",
              "    <tr>\n",
              "      <th>4</th>\n",
              "      <td>0.160725</td>\n",
              "      <td>0.967275</td>\n",
              "      <td>0.0</td>\n",
              "      <td>g</td>\n",
              "    </tr>\n",
              "    <tr>\n",
              "      <th>5</th>\n",
              "      <td>0.878321</td>\n",
              "      <td>0.008896</td>\n",
              "      <td>0.0</td>\n",
              "      <td>g</td>\n",
              "    </tr>\n",
              "    <tr>\n",
              "      <th>6</th>\n",
              "      <td>0.677748</td>\n",
              "      <td>0.436015</td>\n",
              "      <td>1.0</td>\n",
              "      <td>r</td>\n",
              "    </tr>\n",
              "    <tr>\n",
              "      <th>7</th>\n",
              "      <td>0.736434</td>\n",
              "      <td>0.425187</td>\n",
              "      <td>0.0</td>\n",
              "      <td>g</td>\n",
              "    </tr>\n",
              "    <tr>\n",
              "      <th>8</th>\n",
              "      <td>0.654497</td>\n",
              "      <td>0.313816</td>\n",
              "      <td>1.0</td>\n",
              "      <td>r</td>\n",
              "    </tr>\n",
              "    <tr>\n",
              "      <th>9</th>\n",
              "      <td>0.934551</td>\n",
              "      <td>0.324806</td>\n",
              "      <td>0.0</td>\n",
              "      <td>g</td>\n",
              "    </tr>\n",
              "  </tbody>\n",
              "</table>\n",
              "</div>"
            ],
            "text/plain": [
              "         f1        f2    l lc\n",
              "0  0.491465  0.996351  0.0  g\n",
              "1  0.583602  0.081994  1.0  r\n",
              "2  0.526999  0.181038  0.0  g\n",
              "3  0.778241  0.499105  1.0  r\n",
              "4  0.160725  0.967275  0.0  g\n",
              "5  0.878321  0.008896  0.0  g\n",
              "6  0.677748  0.436015  1.0  r\n",
              "7  0.736434  0.425187  0.0  g\n",
              "8  0.654497  0.313816  1.0  r\n",
              "9  0.934551  0.324806  0.0  g"
            ]
          },
          "metadata": {
            "tags": []
          },
          "execution_count": 81
        }
      ]
    },
    {
      "cell_type": "code",
      "metadata": {
        "id": "Y7QG9yjij9AF",
        "colab_type": "code",
        "colab": {
          "base_uri": "https://localhost:8080/",
          "height": 266
        },
        "outputId": "53787995-8ed6-4216-f6fe-4ad750b4fde1"
      },
      "source": [
        "import matplotlib.pyplot as plt\n",
        "plt.scatter(df['f1'],df['f2'],c=df['lc'])\n",
        "plt.scatter(u_value[0],u_value[1])\n",
        "plt.show()"
      ],
      "execution_count": null,
      "outputs": [
        {
          "output_type": "display_data",
          "data": {
            "image/png": "[encoded data removed]",
            "text/plain": [
              "<Figure size 432x288 with 1 Axes>"
            ]
          },
          "metadata": {
            "tags": [],
            "needs_background": "light"
          }
        }
      ]
    },
    {
      "cell_type": "code",
      "metadata": {
        "id": "Dn-IZ6h0kFIG",
        "colab_type": "code",
        "colab": {
          "base_uri": "https://localhost:8080/",
          "height": 124
        },
        "outputId": "97125661-8956-4f49-95a2-9fa3bc33d4d3"
      },
      "source": [
        "from sklearn.neighbors import KNeighborsClassifier\n",
        "kmodel = KNeighborsClassifier(n_neighbors=5)\n",
        "kmodel.fit(df[['f1','f2']] , df[['l']])"
      ],
      "execution_count": null,
      "outputs": [
        {
          "output_type": "stream",
          "text": [
            "/usr/local/lib/python3.6/dist-packages/ipykernel_launcher.py:3: DataConversionWarning: A column-vector y was passed when a 1d array was expected. Please change the shape of y to (n_samples, ), for example using ravel().\n",
            "  This is separate from the ipykernel package so we can avoid doing imports until\n"
          ],
          "name": "stderr"
        },
        {
          "output_type": "execute_result",
          "data": {
            "text/plain": [
              "KNeighborsClassifier(algorithm='auto', leaf_size=30, metric='minkowski',\n",
              "                     metric_params=None, n_jobs=None, n_neighbors=5, p=2,\n",
              "                     weights='uniform')"
            ]
          },
          "metadata": {
            "tags": []
          },
          "execution_count": 85
        }
      ]
    },
    {
      "cell_type": "code",
      "metadata": {
        "id": "Nb0zDlxgmlK_",
        "colab_type": "code",
        "colab": {
          "base_uri": "https://localhost:8080/",
          "height": 35
        },
        "outputId": "dbc1da32-fe4d-4a30-f405-d694bb9aa1de"
      },
      "source": [
        "kmodel.predict([u_value])"
      ],
      "execution_count": null,
      "outputs": [
        {
          "output_type": "execute_result",
          "data": {
            "text/plain": [
              "array([1.])"
            ]
          },
          "metadata": {
            "tags": []
          },
          "execution_count": 86
        }
      ]
    },
    {
      "cell_type": "markdown",
      "metadata": {
        "id": "QWMeX6harZmE",
        "colab_type": "text"
      },
      "source": [
        "**Iris Problem**"
      ]
    },
    {
      "cell_type": "code",
      "metadata": {
        "id": "4MJRemxDm3q_",
        "colab_type": "code",
        "colab": {}
      },
      "source": [
        "X = iris['data'][:,2:4]\n",
        "Y = iris['target']"
      ],
      "execution_count": null,
      "outputs": []
    },
    {
      "cell_type": "markdown",
      "metadata": {
        "id": "68TnoxBNsNzg",
        "colab_type": "text"
      },
      "source": [
        "**Seperate training and Testing Set**"
      ]
    },
    {
      "cell_type": "code",
      "metadata": {
        "id": "JNk_P9Y2rjPI",
        "colab_type": "code",
        "colab": {}
      },
      "source": [
        "from sklearn.model_selection import train_test_split\n",
        "xtrain,xtest,ytrain,ytest = train_test_split(X,Y,test_size=0.3,random_state=6)"
      ],
      "execution_count": null,
      "outputs": []
    },
    {
      "cell_type": "code",
      "metadata": {
        "id": "D84mAPNayf53",
        "colab_type": "code",
        "colab": {
          "base_uri": "https://localhost:8080/",
          "height": 156
        },
        "outputId": "d768ac02-5cda-4dd7-8ac6-233f951c16b4"
      },
      "source": [
        "print(pd.DataFrame(ytrain)[0].value_counts())\n",
        "print(pd.DataFrame(ytest)[0].value_counts())"
      ],
      "execution_count": null,
      "outputs": [
        {
          "output_type": "stream",
          "text": [
            "2    35\n",
            "1    35\n",
            "0    35\n",
            "Name: 0, dtype: int64\n",
            "2    15\n",
            "1    15\n",
            "0    15\n",
            "Name: 0, dtype: int64\n"
          ],
          "name": "stdout"
        }
      ]
    },
    {
      "cell_type": "markdown",
      "metadata": {
        "id": "QI3yUpYZsVWT",
        "colab_type": "text"
      },
      "source": [
        "**Import Algorithm**"
      ]
    },
    {
      "cell_type": "code",
      "metadata": {
        "id": "aAAfsOoQsUnr",
        "colab_type": "code",
        "colab": {}
      },
      "source": [
        "from sklearn.neighbors import KNeighborsClassifier\n",
        "iris_model = KNeighborsClassifier(n_neighbors=5)"
      ],
      "execution_count": null,
      "outputs": []
    },
    {
      "cell_type": "markdown",
      "metadata": {
        "id": "XjFlUMvdsYv1",
        "colab_type": "text"
      },
      "source": [
        "**Train Your Model**"
      ]
    },
    {
      "cell_type": "code",
      "metadata": {
        "id": "moW_aKHJsIuV",
        "colab_type": "code",
        "colab": {
          "base_uri": "https://localhost:8080/",
          "height": 70
        },
        "outputId": "a01fb1a9-7df1-4857-cbf3-cbda5b164523"
      },
      "source": [
        "iris_model.fit(xtrain,ytrain)"
      ],
      "execution_count": null,
      "outputs": [
        {
          "output_type": "execute_result",
          "data": {
            "text/plain": [
              "KNeighborsClassifier(algorithm='auto', leaf_size=30, metric='minkowski',\n",
              "                     metric_params=None, n_jobs=None, n_neighbors=5, p=2,\n",
              "                     weights='uniform')"
            ]
          },
          "metadata": {
            "tags": []
          },
          "execution_count": 154
        }
      ]
    },
    {
      "cell_type": "markdown",
      "metadata": {
        "id": "KAApKqrrscrc",
        "colab_type": "text"
      },
      "source": [
        "**Validate Your model as training and Testing Accuracy**"
      ]
    },
    {
      "cell_type": "code",
      "metadata": {
        "id": "JcFtaUUvsiPp",
        "colab_type": "code",
        "colab": {
          "base_uri": "https://localhost:8080/",
          "height": 104
        },
        "outputId": "d7687d8f-0b85-4976-e29b-d00c81ce4bb7"
      },
      "source": [
        "ytrain_pred = iris_model.predict(xtrain)\n",
        "training_accuracy = (ytrain_pred == ytrain).sum()/len(xtrain)\n",
        "print(training_accuracy)\n",
        "print(iris_model.score(xtrain,ytrain))\n",
        "\n",
        "print('*********************************************************************')\n",
        "\n",
        "ytest_pred = iris_model.predict(xtest)\n",
        "testing_accuracy = (ytest_pred == ytest).sum()/len(xtest)\n",
        "print(testing_accuracy)\n",
        "print(iris_model.score(xtest,ytest))"
      ],
      "execution_count": null,
      "outputs": [
        {
          "output_type": "stream",
          "text": [
            "0.9809523809523809\n",
            "0.9809523809523809\n",
            "*********************************************************************\n",
            "0.9555555555555556\n",
            "0.9555555555555556\n"
          ],
          "name": "stdout"
        }
      ]
    },
    {
      "cell_type": "markdown",
      "metadata": {
        "id": "zraWITxAsi2P",
        "colab_type": "text"
      },
      "source": [
        "**Make predictions**"
      ]
    },
    {
      "cell_type": "code",
      "metadata": {
        "id": "KkJ6QWd-slWh",
        "colab_type": "code",
        "colab": {
          "base_uri": "https://localhost:8080/",
          "height": 70
        },
        "outputId": "e54c5853-e8c4-44b8-9387-015e4a779ab1"
      },
      "source": [
        "#[[3.2,1.1,3.3,2.2]]\n",
        "t = iris['target_names']\n",
        "print(t)\n",
        "print(iris_model.predict([[3.3,2.2] , [6.5,3.5]]))\n",
        "print(t[iris_model.predict([[3.3,2.2] , [6.5,3.5]])])"
      ],
      "execution_count": null,
      "outputs": [
        {
          "output_type": "stream",
          "text": [
            "['setosa' 'versicolor' 'virginica']\n",
            "[1 2]\n",
            "['versicolor' 'virginica']\n"
          ],
          "name": "stdout"
        }
      ]
    },
    {
      "cell_type": "markdown",
      "metadata": {
        "id": "XuA-SePqwMP_",
        "colab_type": "text"
      },
      "source": [
        "**Tune the value of K**"
      ]
    },
    {
      "cell_type": "code",
      "metadata": {
        "id": "vJqu4BbevHwZ",
        "colab_type": "code",
        "colab": {}
      },
      "source": [
        "tr_acc = []\n",
        "ts_acc = []\n",
        "for i in range(1,15):\n",
        "  ksmodel = KNeighborsClassifier(n_neighbors=i)\n",
        "  ksmodel.fit(xtrain,ytrain)\n",
        "  tr_acc.append(ksmodel.score(xtrain,ytrain))\n",
        "\n",
        "  ts_acc.append(ksmodel.score(xtest,ytest))"
      ],
      "execution_count": null,
      "outputs": []
    },
    {
      "cell_type": "code",
      "metadata": {
        "id": "2w4JZOQIwkoH",
        "colab_type": "code",
        "colab": {
          "base_uri": "https://localhost:8080/",
          "height": 266
        },
        "outputId": "2245fccb-d64f-4285-f81c-8d61f30b4e1b"
      },
      "source": [
        "plt.plot(range(1,15),tr_acc)\n",
        "plt.plot(range(1,15),ts_acc)\n",
        "plt.show()"
      ],
      "execution_count": null,
      "outputs": [
        {
          "output_type": "display_data",
          "data": {
            "image/png": "[encoded data removed]",
            "text/plain": [
              "<Figure size 432x288 with 1 Axes>"
            ]
          },
          "metadata": {
            "tags": [],
            "needs_background": "light"
          }
        }
      ]
    },
    {
      "cell_type": "code",
      "metadata": {
        "id": "y4gxhxkuwu9-",
        "colab_type": "code",
        "colab": {
          "base_uri": "https://localhost:8080/",
          "height": 268
        },
        "outputId": "7b6b5ad6-af21-4bde-ff67-f86d20604484"
      },
      "source": [
        "plt.scatter(iris['data'][:,0:1] , iris['data'][:,1:2] , c=Y)\n",
        "plt.show()"
      ],
      "execution_count": null,
      "outputs": [
        {
          "output_type": "display_data",
          "data": {
            "image/png": "[encoded data removed]",
            "text/plain": [
              "<Figure size 432x288 with 1 Axes>"
            ]
          },
          "metadata": {
            "tags": [],
            "needs_background": "light"
          }
        }
      ]
    },
    {
      "cell_type": "code",
      "metadata": {
        "id": "Ez-hVVp71VjP",
        "colab_type": "code",
        "colab": {
          "base_uri": "https://localhost:8080/",
          "height": 266
        },
        "outputId": "53db65dc-5b8f-49b1-e04c-1cc7259b4fa1"
      },
      "source": [
        "plt.scatter(iris['data'][:,2:3] , iris['data'][:,3:4] , c=Y)\n",
        "plt.show()"
      ],
      "execution_count": null,
      "outputs": [
        {
          "output_type": "display_data",
          "data": {
            "image/png": "[encoded data removed]",
            "text/plain": [
              "<Figure size 432x288 with 1 Axes>"
            ]
          },
          "metadata": {
            "tags": [],
            "needs_background": "light"
          }
        }
      ]
    },
    {
      "cell_type": "code",
      "metadata": {
        "id": "zJcdMdQo1yA8",
        "colab_type": "code",
        "colab": {}
      },
      "source": [
        "#Feature selection - 1. Select the appropriate features , 2. Generate the appropriate feature"
      ],
      "execution_count": null,
      "outputs": []
    }
  ]
}