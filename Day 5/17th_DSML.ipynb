{
  "nbformat": 4,
  "nbformat_minor": 0,
  "metadata": {
    "colab": {
      "name": "17th_DSML.ipynb",
      "provenance": []
    },
    "kernelspec": {
      "name": "python3",
      "display_name": "Python 3"
    }
  },
  "cells": [
    {
      "cell_type": "code",
      "metadata": {
        "id": "zk-G5n9eZ3GY",
        "colab_type": "code",
        "colab": {}
      },
      "source": [
        "from sklearn.datasets import load_iris"
      ],
      "execution_count": 1,
      "outputs": []
    },
    {
      "cell_type": "code",
      "metadata": {
        "id": "G5d9ZqyoZ-rh",
        "colab_type": "code",
        "colab": {}
      },
      "source": [
        "iris = load_iris()"
      ],
      "execution_count": 2,
      "outputs": []
    },
    {
      "cell_type": "code",
      "metadata": {
        "id": "_UMZmoehUCo1",
        "colab_type": "code",
        "colab": {
          "base_uri": "https://localhost:8080/",
          "height": 34
        },
        "outputId": "f654dd6c-e851-4e14-ce45-3e4f96215ff5"
      },
      "source": [
        "iris.keys()"
      ],
      "execution_count": 3,
      "outputs": [
        {
          "output_type": "execute_result",
          "data": {
            "text/plain": [
              "dict_keys(['data', 'target', 'target_names', 'DESCR', 'feature_names', 'filename'])"
            ]
          },
          "metadata": {
            "tags": []
          },
          "execution_count": 3
        }
      ]
    },
    {
      "cell_type": "code",
      "metadata": {
        "id": "Xtkf90UqaFJx",
        "colab_type": "code",
        "colab": {
          "base_uri": "https://localhost:8080/",
          "height": 1000
        },
        "outputId": "9f4a4658-ed4f-431c-98d6-7343b8d7d99b"
      },
      "source": [
        "iris['data']"
      ],
      "execution_count": 4,
      "outputs": [
        {
          "output_type": "execute_result",
          "data": {
            "text/plain": [
              "array([[5.1, 3.5, 1.4, 0.2],\n",
              "       [4.9, 3. , 1.4, 0.2],\n",
              "       [4.7, 3.2, 1.3, 0.2],\n",
              "       [4.6, 3.1, 1.5, 0.2],\n",
              "       [5. , 3.6, 1.4, 0.2],\n",
              "       [5.4, 3.9, 1.7, 0.4],\n",
              "       [4.6, 3.4, 1.4, 0.3],\n",
              "       [5. , 3.4, 1.5, 0.2],\n",
              "       [4.4, 2.9, 1.4, 0.2],\n",
              "       [4.9, 3.1, 1.5, 0.1],\n",
              "       [5.4, 3.7, 1.5, 0.2],\n",
              "       [4.8, 3.4, 1.6, 0.2],\n",
              "       [4.8, 3. , 1.4, 0.1],\n",
              "       [4.3, 3. , 1.1, 0.1],\n",
              "       [5.8, 4. , 1.2, 0.2],\n",
              "       [5.7, 4.4, 1.5, 0.4],\n",
              "       [5.4, 3.9, 1.3, 0.4],\n",
              "       [5.1, 3.5, 1.4, 0.3],\n",
              "       [5.7, 3.8, 1.7, 0.3],\n",
              "       [5.1, 3.8, 1.5, 0.3],\n",
              "       [5.4, 3.4, 1.7, 0.2],\n",
              "       [5.1, 3.7, 1.5, 0.4],\n",
              "       [4.6, 3.6, 1. , 0.2],\n",
              "       [5.1, 3.3, 1.7, 0.5],\n",
              "       [4.8, 3.4, 1.9, 0.2],\n",
              "       [5. , 3. , 1.6, 0.2],\n",
              "       [5. , 3.4, 1.6, 0.4],\n",
              "       [5.2, 3.5, 1.5, 0.2],\n",
              "       [5.2, 3.4, 1.4, 0.2],\n",
              "       [4.7, 3.2, 1.6, 0.2],\n",
              "       [4.8, 3.1, 1.6, 0.2],\n",
              "       [5.4, 3.4, 1.5, 0.4],\n",
              "       [5.2, 4.1, 1.5, 0.1],\n",
              "       [5.5, 4.2, 1.4, 0.2],\n",
              "       [4.9, 3.1, 1.5, 0.2],\n",
              "       [5. , 3.2, 1.2, 0.2],\n",
              "       [5.5, 3.5, 1.3, 0.2],\n",
              "       [4.9, 3.6, 1.4, 0.1],\n",
              "       [4.4, 3. , 1.3, 0.2],\n",
              "       [5.1, 3.4, 1.5, 0.2],\n",
              "       [5. , 3.5, 1.3, 0.3],\n",
              "       [4.5, 2.3, 1.3, 0.3],\n",
              "       [4.4, 3.2, 1.3, 0.2],\n",
              "       [5. , 3.5, 1.6, 0.6],\n",
              "       [5.1, 3.8, 1.9, 0.4],\n",
              "       [4.8, 3. , 1.4, 0.3],\n",
              "       [5.1, 3.8, 1.6, 0.2],\n",
              "       [4.6, 3.2, 1.4, 0.2],\n",
              "       [5.3, 3.7, 1.5, 0.2],\n",
              "       [5. , 3.3, 1.4, 0.2],\n",
              "       [7. , 3.2, 4.7, 1.4],\n",
              "       [6.4, 3.2, 4.5, 1.5],\n",
              "       [6.9, 3.1, 4.9, 1.5],\n",
              "       [5.5, 2.3, 4. , 1.3],\n",
              "       [6.5, 2.8, 4.6, 1.5],\n",
              "       [5.7, 2.8, 4.5, 1.3],\n",
              "       [6.3, 3.3, 4.7, 1.6],\n",
              "       [4.9, 2.4, 3.3, 1. ],\n",
              "       [6.6, 2.9, 4.6, 1.3],\n",
              "       [5.2, 2.7, 3.9, 1.4],\n",
              "       [5. , 2. , 3.5, 1. ],\n",
              "       [5.9, 3. , 4.2, 1.5],\n",
              "       [6. , 2.2, 4. , 1. ],\n",
              "       [6.1, 2.9, 4.7, 1.4],\n",
              "       [5.6, 2.9, 3.6, 1.3],\n",
              "       [6.7, 3.1, 4.4, 1.4],\n",
              "       [5.6, 3. , 4.5, 1.5],\n",
              "       [5.8, 2.7, 4.1, 1. ],\n",
              "       [6.2, 2.2, 4.5, 1.5],\n",
              "       [5.6, 2.5, 3.9, 1.1],\n",
              "       [5.9, 3.2, 4.8, 1.8],\n",
              "       [6.1, 2.8, 4. , 1.3],\n",
              "       [6.3, 2.5, 4.9, 1.5],\n",
              "       [6.1, 2.8, 4.7, 1.2],\n",
              "       [6.4, 2.9, 4.3, 1.3],\n",
              "       [6.6, 3. , 4.4, 1.4],\n",
              "       [6.8, 2.8, 4.8, 1.4],\n",
              "       [6.7, 3. , 5. , 1.7],\n",
              "       [6. , 2.9, 4.5, 1.5],\n",
              "       [5.7, 2.6, 3.5, 1. ],\n",
              "       [5.5, 2.4, 3.8, 1.1],\n",
              "       [5.5, 2.4, 3.7, 1. ],\n",
              "       [5.8, 2.7, 3.9, 1.2],\n",
              "       [6. , 2.7, 5.1, 1.6],\n",
              "       [5.4, 3. , 4.5, 1.5],\n",
              "       [6. , 3.4, 4.5, 1.6],\n",
              "       [6.7, 3.1, 4.7, 1.5],\n",
              "       [6.3, 2.3, 4.4, 1.3],\n",
              "       [5.6, 3. , 4.1, 1.3],\n",
              "       [5.5, 2.5, 4. , 1.3],\n",
              "       [5.5, 2.6, 4.4, 1.2],\n",
              "       [6.1, 3. , 4.6, 1.4],\n",
              "       [5.8, 2.6, 4. , 1.2],\n",
              "       [5. , 2.3, 3.3, 1. ],\n",
              "       [5.6, 2.7, 4.2, 1.3],\n",
              "       [5.7, 3. , 4.2, 1.2],\n",
              "       [5.7, 2.9, 4.2, 1.3],\n",
              "       [6.2, 2.9, 4.3, 1.3],\n",
              "       [5.1, 2.5, 3. , 1.1],\n",
              "       [5.7, 2.8, 4.1, 1.3],\n",
              "       [6.3, 3.3, 6. , 2.5],\n",
              "       [5.8, 2.7, 5.1, 1.9],\n",
              "       [7.1, 3. , 5.9, 2.1],\n",
              "       [6.3, 2.9, 5.6, 1.8],\n",
              "       [6.5, 3. , 5.8, 2.2],\n",
              "       [7.6, 3. , 6.6, 2.1],\n",
              "       [4.9, 2.5, 4.5, 1.7],\n",
              "       [7.3, 2.9, 6.3, 1.8],\n",
              "       [6.7, 2.5, 5.8, 1.8],\n",
              "       [7.2, 3.6, 6.1, 2.5],\n",
              "       [6.5, 3.2, 5.1, 2. ],\n",
              "       [6.4, 2.7, 5.3, 1.9],\n",
              "       [6.8, 3. , 5.5, 2.1],\n",
              "       [5.7, 2.5, 5. , 2. ],\n",
              "       [5.8, 2.8, 5.1, 2.4],\n",
              "       [6.4, 3.2, 5.3, 2.3],\n",
              "       [6.5, 3. , 5.5, 1.8],\n",
              "       [7.7, 3.8, 6.7, 2.2],\n",
              "       [7.7, 2.6, 6.9, 2.3],\n",
              "       [6. , 2.2, 5. , 1.5],\n",
              "       [6.9, 3.2, 5.7, 2.3],\n",
              "       [5.6, 2.8, 4.9, 2. ],\n",
              "       [7.7, 2.8, 6.7, 2. ],\n",
              "       [6.3, 2.7, 4.9, 1.8],\n",
              "       [6.7, 3.3, 5.7, 2.1],\n",
              "       [7.2, 3.2, 6. , 1.8],\n",
              "       [6.2, 2.8, 4.8, 1.8],\n",
              "       [6.1, 3. , 4.9, 1.8],\n",
              "       [6.4, 2.8, 5.6, 2.1],\n",
              "       [7.2, 3. , 5.8, 1.6],\n",
              "       [7.4, 2.8, 6.1, 1.9],\n",
              "       [7.9, 3.8, 6.4, 2. ],\n",
              "       [6.4, 2.8, 5.6, 2.2],\n",
              "       [6.3, 2.8, 5.1, 1.5],\n",
              "       [6.1, 2.6, 5.6, 1.4],\n",
              "       [7.7, 3. , 6.1, 2.3],\n",
              "       [6.3, 3.4, 5.6, 2.4],\n",
              "       [6.4, 3.1, 5.5, 1.8],\n",
              "       [6. , 3. , 4.8, 1.8],\n",
              "       [6.9, 3.1, 5.4, 2.1],\n",
              "       [6.7, 3.1, 5.6, 2.4],\n",
              "       [6.9, 3.1, 5.1, 2.3],\n",
              "       [5.8, 2.7, 5.1, 1.9],\n",
              "       [6.8, 3.2, 5.9, 2.3],\n",
              "       [6.7, 3.3, 5.7, 2.5],\n",
              "       [6.7, 3. , 5.2, 2.3],\n",
              "       [6.3, 2.5, 5. , 1.9],\n",
              "       [6.5, 3. , 5.2, 2. ],\n",
              "       [6.2, 3.4, 5.4, 2.3],\n",
              "       [5.9, 3. , 5.1, 1.8]])"
            ]
          },
          "metadata": {
            "tags": []
          },
          "execution_count": 4
        }
      ]
    },
    {
      "cell_type": "code",
      "metadata": {
        "id": "E5SREU80aIt1",
        "colab_type": "code",
        "colab": {
          "base_uri": "https://localhost:8080/",
          "height": 136
        },
        "outputId": "714c4dfb-221d-4b2d-a6bb-c682feaf86ca"
      },
      "source": [
        "iris['target']"
      ],
      "execution_count": 5,
      "outputs": [
        {
          "output_type": "execute_result",
          "data": {
            "text/plain": [
              "array([0, 0, 0, 0, 0, 0, 0, 0, 0, 0, 0, 0, 0, 0, 0, 0, 0, 0, 0, 0, 0, 0,\n",
              "       0, 0, 0, 0, 0, 0, 0, 0, 0, 0, 0, 0, 0, 0, 0, 0, 0, 0, 0, 0, 0, 0,\n",
              "       0, 0, 0, 0, 0, 0, 1, 1, 1, 1, 1, 1, 1, 1, 1, 1, 1, 1, 1, 1, 1, 1,\n",
              "       1, 1, 1, 1, 1, 1, 1, 1, 1, 1, 1, 1, 1, 1, 1, 1, 1, 1, 1, 1, 1, 1,\n",
              "       1, 1, 1, 1, 1, 1, 1, 1, 1, 1, 1, 1, 2, 2, 2, 2, 2, 2, 2, 2, 2, 2,\n",
              "       2, 2, 2, 2, 2, 2, 2, 2, 2, 2, 2, 2, 2, 2, 2, 2, 2, 2, 2, 2, 2, 2,\n",
              "       2, 2, 2, 2, 2, 2, 2, 2, 2, 2, 2, 2, 2, 2, 2, 2, 2, 2])"
            ]
          },
          "metadata": {
            "tags": []
          },
          "execution_count": 5
        }
      ]
    },
    {
      "cell_type": "code",
      "metadata": {
        "id": "hcGbh_G4VVtd",
        "colab_type": "code",
        "colab": {
          "base_uri": "https://localhost:8080/",
          "height": 51
        },
        "outputId": "cc4d5486-b22a-4e2c-a369-a0ae96c0b0d3"
      },
      "source": [
        "print(iris['data'].shape)\n",
        "print(iris['target'].shape)"
      ],
      "execution_count": 6,
      "outputs": [
        {
          "output_type": "stream",
          "text": [
            "(150, 4)\n",
            "(150,)\n"
          ],
          "name": "stdout"
        }
      ]
    },
    {
      "cell_type": "code",
      "metadata": {
        "id": "W3Uztsv5UnuM",
        "colab_type": "code",
        "colab": {
          "base_uri": "https://localhost:8080/",
          "height": 51
        },
        "outputId": "a0904255-54cf-44a7-c5be-177f34a1bdb8"
      },
      "source": [
        "print(iris['feature_names'])\n",
        "print(iris['target_names'])"
      ],
      "execution_count": 7,
      "outputs": [
        {
          "output_type": "stream",
          "text": [
            "['sepal length (cm)', 'sepal width (cm)', 'petal length (cm)', 'petal width (cm)']\n",
            "['setosa' 'versicolor' 'virginica']\n"
          ],
          "name": "stdout"
        }
      ]
    },
    {
      "cell_type": "code",
      "metadata": {
        "id": "kNtyZJvaU27u",
        "colab_type": "code",
        "colab": {}
      },
      "source": [
        "#3.2,2.2,4.3,5.4\n",
        "#KNN - K-Nearest-Neighbors\n",
        "import numpy as np\n",
        "data1 = np.random.rand(1,10).T\n",
        "data2 = np.random.rand(1,10).T\n",
        "label = np.random.randint(0,2,10).reshape(10,1)"
      ],
      "execution_count": 8,
      "outputs": []
    },
    {
      "cell_type": "code",
      "metadata": {
        "id": "LOEHG832Ypen",
        "colab_type": "code",
        "colab": {
          "base_uri": "https://localhost:8080/",
          "height": 187
        },
        "outputId": "d30e280b-2194-47dc-99b5-8d20897b9012"
      },
      "source": [
        "data = np.hstack([data1,data2,label])\n",
        "print(data)"
      ],
      "execution_count": 9,
      "outputs": [
        {
          "output_type": "stream",
          "text": [
            "[[0.50197988 0.32881053 0.        ]\n",
            " [0.66817096 0.14982459 1.        ]\n",
            " [0.63264389 0.68320692 0.        ]\n",
            " [0.84265261 0.06250662 1.        ]\n",
            " [0.11268508 0.49612678 1.        ]\n",
            " [0.14068341 0.59256106 0.        ]\n",
            " [0.00747667 0.84613723 0.        ]\n",
            " [0.28733879 0.44519066 1.        ]\n",
            " [0.28058221 0.0806534  0.        ]\n",
            " [0.95988812 0.63932881 1.        ]]\n"
          ],
          "name": "stdout"
        }
      ]
    },
    {
      "cell_type": "code",
      "metadata": {
        "id": "6dphoyTJZ0t5",
        "colab_type": "code",
        "colab": {}
      },
      "source": [
        "#0.5,0.8---?"
      ],
      "execution_count": 10,
      "outputs": []
    },
    {
      "cell_type": "code",
      "metadata": {
        "id": "aPCXhcJOZJjp",
        "colab_type": "code",
        "colab": {
          "base_uri": "https://localhost:8080/",
          "height": 265
        },
        "outputId": "cbacae3b-5f10-4123-858a-59d20b21b094"
      },
      "source": [
        "import matplotlib.pyplot as plt\n",
        "plt.scatter(data[:,0:1],data[:,1:2],c=data[:,2:3])\n",
        "plt.show()"
      ],
      "execution_count": 11,
      "outputs": [
        {
          "output_type": "display_data",
          "data": {
            "image/png": "[encoded data removed]",
            "text/plain": [
              "<Figure size 432x288 with 1 Axes>"
            ]
          },
          "metadata": {
            "tags": [],
            "needs_background": "light"
          }
        }
      ]
    },
    {
      "cell_type": "code",
      "metadata": {
        "id": "rFIzQM0FZfir",
        "colab_type": "code",
        "colab": {}
      },
      "source": [
        "from math import sqrt\n",
        "def my_knn(data,u_value):\n",
        "  distances = []\n",
        "  for row in data:\n",
        "    d = 0\n",
        "    for i in range(len(u_value)):\n",
        "      d += (u_value[i] - row[i])**2\n",
        "    distances.append((row , sqrt(d)))\n",
        "\n",
        "  distances.sort(key=lambda ds:ds[1])\n",
        "  return distances"
      ],
      "execution_count": 12,
      "outputs": []
    },
    {
      "cell_type": "code",
      "metadata": {
        "id": "WB5CIbiCgmYl",
        "colab_type": "code",
        "colab": {
          "base_uri": "https://localhost:8080/",
          "height": 34
        },
        "outputId": "5a3f307b-f201-454d-9b15-21c2ff3a37fd"
      },
      "source": [
        "u_value = np.array([np.random.rand(1),np.random.rand(1)]).ravel()\n",
        "print(u_value)"
      ],
      "execution_count": 13,
      "outputs": [
        {
          "output_type": "stream",
          "text": [
            "[0.97248152 0.19419708]\n"
          ],
          "name": "stdout"
        }
      ]
    },
    {
      "cell_type": "code",
      "metadata": {
        "id": "K2MutK0pgqKe",
        "colab_type": "code",
        "colab": {
          "base_uri": "https://localhost:8080/",
          "height": 54
        },
        "outputId": "166571b6-644a-4ebf-a1d2-d078d4ef2882"
      },
      "source": [
        "z = my_knn(data,u_value)\n",
        "print(z)"
      ],
      "execution_count": 14,
      "outputs": [
        {
          "output_type": "stream",
          "text": [
            "[(array([0.84265261, 0.06250662, 1.        ]), 0.18492680797818317), (array([0.66817096, 0.14982459, 1.        ]), 0.30752859768416196), (array([0.95988812, 0.63932881, 1.        ]), 0.4453098430844372), (array([0.50197988, 0.32881053, 0.        ]), 0.4893797951558982), (array([0.63264389, 0.68320692, 0.        ]), 0.5954999936249268), (array([0.28058221, 0.0806534 , 0.        ]), 0.7011539284665064), (array([0.28733879, 0.44519066, 1.        ]), 0.7296700222268051), (array([0.11268508, 0.49612678, 1.        ]), 0.9112691509973918), (array([0.14068341, 0.59256106, 0.        ]), 0.9222700076566179), (array([0.00747667, 0.84613723, 0.        ]), 1.1645859055128378)]\n"
          ],
          "name": "stdout"
        }
      ]
    },
    {
      "cell_type": "code",
      "metadata": {
        "id": "RIVlLnO7hXb2",
        "colab_type": "code",
        "colab": {
          "base_uri": "https://localhost:8080/",
          "height": 34
        },
        "outputId": "f54698ca-e0e3-4ee3-ebf2-f76f2a6a3cde"
      },
      "source": [
        "z[0][0][-1]"
      ],
      "execution_count": 15,
      "outputs": [
        {
          "output_type": "execute_result",
          "data": {
            "text/plain": [
              "1.0"
            ]
          },
          "metadata": {
            "tags": []
          },
          "execution_count": 15
        }
      ]
    },
    {
      "cell_type": "code",
      "metadata": {
        "id": "vyrsW63wg_lB",
        "colab_type": "code",
        "colab": {}
      },
      "source": [
        "def prediction(u_value):\n",
        "  neighbors = []\n",
        "  p = []\n",
        "  k = 7\n",
        "  z = my_knn(data,u_value)\n",
        "  for i in range(k):\n",
        "    neighbors.append(z[i][0])\n",
        "  for row in neighbors:\n",
        "    p.append(row[-1])\n",
        "  print(max(p , key=p.count))\n",
        "  print(neighbors)"
      ],
      "execution_count": 16,
      "outputs": []
    },
    {
      "cell_type": "code",
      "metadata": {
        "id": "tymN2JNAi8Jy",
        "colab_type": "code",
        "colab": {
          "base_uri": "https://localhost:8080/",
          "height": 88
        },
        "outputId": "bbfdea03-ccfc-409e-cf5f-c34aadea6dfa"
      },
      "source": [
        "u_value = np.array([np.random.rand(1),np.random.rand(1)]).ravel()\n",
        "print(u_value)\n",
        "prediction(u_value)"
      ],
      "execution_count": 17,
      "outputs": [
        {
          "output_type": "stream",
          "text": [
            "[0.21241958 0.81465807]\n",
            "0.0\n",
            "[array([0.00747667, 0.84613723, 0.        ]), array([0.14068341, 0.59256106, 0.        ]), array([0.11268508, 0.49612678, 1.        ]), array([0.28733879, 0.44519066, 1.        ]), array([0.63264389, 0.68320692, 0.        ]), array([0.50197988, 0.32881053, 0.        ]), array([0.28058221, 0.0806534 , 0.        ])]\n"
          ],
          "name": "stdout"
        }
      ]
    },
    {
      "cell_type": "code",
      "metadata": {
        "id": "Pyql2GcscM2a",
        "colab_type": "code",
        "colab": {
          "base_uri": "https://localhost:8080/",
          "height": 163
        },
        "outputId": "e7b998c4-539a-430e-900e-ff4f8323bc48"
      },
      "source": [
        "distances[0][1]"
      ],
      "execution_count": 19,
      "outputs": [
        {
          "output_type": "error",
          "ename": "NameError",
          "evalue": "ignored",
          "traceback": [
            "\u001b[0;31m---------------------------------------------------------------------------\u001b[0m",
            "\u001b[0;31mNameError\u001b[0m                                 Traceback (most recent call last)",
            "\u001b[0;32m<ipython-input-19-024f5204bdc6>\u001b[0m in \u001b[0;36m<module>\u001b[0;34m()\u001b[0m\n\u001b[0;32m----> 1\u001b[0;31m \u001b[0mdistances\u001b[0m\u001b[0;34m[\u001b[0m\u001b[0;36m0\u001b[0m\u001b[0;34m]\u001b[0m\u001b[0;34m[\u001b[0m\u001b[0;36m1\u001b[0m\u001b[0;34m]\u001b[0m\u001b[0;34m\u001b[0m\u001b[0;34m\u001b[0m\u001b[0m\n\u001b[0m",
            "\u001b[0;31mNameError\u001b[0m: name 'distances' is not defined"
          ]
        }
      ]
    },
    {
      "cell_type": "code",
      "metadata": {
        "id": "dp-0P4iZaGXn",
        "colab_type": "code",
        "colab": {
          "base_uri": "https://localhost:8080/",
          "height": 163
        },
        "outputId": "e6656eb7-1ea0-4553-f16e-ebe4286cd5b8"
      },
      "source": [
        "distances"
      ],
      "execution_count": 20,
      "outputs": [
        {
          "output_type": "error",
          "ename": "NameError",
          "evalue": "ignored",
          "traceback": [
            "\u001b[0;31m---------------------------------------------------------------------------\u001b[0m",
            "\u001b[0;31mNameError\u001b[0m                                 Traceback (most recent call last)",
            "\u001b[0;32m<ipython-input-20-a11e939ba179>\u001b[0m in \u001b[0;36m<module>\u001b[0;34m()\u001b[0m\n\u001b[0;32m----> 1\u001b[0;31m \u001b[0mdistances\u001b[0m\u001b[0;34m\u001b[0m\u001b[0;34m\u001b[0m\u001b[0m\n\u001b[0m",
            "\u001b[0;31mNameError\u001b[0m: name 'distances' is not defined"
          ]
        }
      ]
    },
    {
      "cell_type": "code",
      "metadata": {
        "id": "hN6-4WNTb7dF",
        "colab_type": "code",
        "colab": {
          "base_uri": "https://localhost:8080/",
          "height": 34
        },
        "outputId": "19323e2b-aa0d-4db1-e0da-57c32c9888f2"
      },
      "source": [
        "x = lambda a : a+10\n",
        "x(5)"
      ],
      "execution_count": 21,
      "outputs": [
        {
          "output_type": "execute_result",
          "data": {
            "text/plain": [
              "15"
            ]
          },
          "metadata": {
            "tags": []
          },
          "execution_count": 21
        }
      ]
    },
    {
      "cell_type": "code",
      "metadata": {
        "id": "NLoMHwnNefJh",
        "colab_type": "code",
        "colab": {}
      },
      "source": [
        "def x(a):\n",
        "  return(a+10)"
      ],
      "execution_count": 22,
      "outputs": []
    },
    {
      "cell_type": "code",
      "metadata": {
        "id": "gqGRQlP9ejFy",
        "colab_type": "code",
        "colab": {
          "base_uri": "https://localhost:8080/",
          "height": 34
        },
        "outputId": "84800d93-9d1c-4e61-9cc5-4a8c93a59b05"
      },
      "source": [
        "x(5)"
      ],
      "execution_count": 23,
      "outputs": [
        {
          "output_type": "execute_result",
          "data": {
            "text/plain": [
              "15"
            ]
          },
          "metadata": {
            "tags": []
          },
          "execution_count": 23
        }
      ]
    },
    {
      "cell_type": "code",
      "metadata": {
        "id": "3dULOLVwekNT",
        "colab_type": "code",
        "colab": {
          "base_uri": "https://localhost:8080/",
          "height": 34
        },
        "outputId": "51d78e14-ced0-4e21-ff8a-c14de37fe884"
      },
      "source": [
        "z = lambda d:d[1]+2\n",
        "z([2,5,8])"
      ],
      "execution_count": 24,
      "outputs": [
        {
          "output_type": "execute_result",
          "data": {
            "text/plain": [
              "7"
            ]
          },
          "metadata": {
            "tags": []
          },
          "execution_count": 24
        }
      ]
    },
    {
      "cell_type": "code",
      "metadata": {
        "id": "JNzB-Qg_e8Fc",
        "colab_type": "code",
        "colab": {}
      },
      "source": [
        "x = [3,5,2,1]\n",
        "x.sort()"
      ],
      "execution_count": 25,
      "outputs": []
    },
    {
      "cell_type": "code",
      "metadata": {
        "id": "7YmkkGaNfNJ0",
        "colab_type": "code",
        "colab": {
          "base_uri": "https://localhost:8080/",
          "height": 34
        },
        "outputId": "4a9dfd98-3f4e-4acf-dfb6-8a4a2449d93d"
      },
      "source": [
        "x"
      ],
      "execution_count": 26,
      "outputs": [
        {
          "output_type": "execute_result",
          "data": {
            "text/plain": [
              "[1, 2, 3, 5]"
            ]
          },
          "metadata": {
            "tags": []
          },
          "execution_count": 26
        }
      ]
    },
    {
      "cell_type": "markdown",
      "metadata": {
        "id": "Mv1hgp8SjgYh",
        "colab_type": "text"
      },
      "source": [
        "**KNN ALGO**"
      ]
    },
    {
      "cell_type": "code",
      "metadata": {
        "id": "_8kYCkA5fOOK",
        "colab_type": "code",
        "colab": {
          "base_uri": "https://localhost:8080/",
          "height": 88
        },
        "outputId": "73fdef3a-d23a-49a3-9281-cfd06573ec95"
      },
      "source": [
        "import numpy as np\n",
        "data1 = np.random.rand(1,10).T\n",
        "data2 = np.random.rand(1,10).T\n",
        "label = np.random.randint(0,2,10).reshape(10,1)\n",
        "\n",
        "data = np.hstack([data1,data2,label])\n",
        "\n",
        "from math import sqrt\n",
        "def my_knn(data,u_value):\n",
        "  distances = []\n",
        "  for row in data:\n",
        "    d = 0\n",
        "    for i in range(len(u_value)):\n",
        "      d += (u_value[i] - row[i])**2\n",
        "    distances.append((row , sqrt(d)))\n",
        "\n",
        "  distances.sort(key=lambda ds:ds[1])\n",
        "  return distances\n",
        "\n",
        "\n",
        "def prediction(u_value):\n",
        "  neighbors = []\n",
        "  p = []\n",
        "  k = 5\n",
        "  z = my_knn(data,u_value)\n",
        "  for i in range(k):\n",
        "    neighbors.append(z[i][0])\n",
        "  for row in neighbors:\n",
        "    p.append(row[-1])\n",
        "  print(max(p , key=p.count))\n",
        "  print(neighbors)\n",
        "\n",
        "u_value = np.array([np.random.rand(1),np.random.rand(1)]).ravel()\n",
        "print(u_value)\n",
        "prediction(u_value)"
      ],
      "execution_count": 27,
      "outputs": [
        {
          "output_type": "stream",
          "text": [
            "[0.25196207 0.94799617]\n",
            "1.0\n",
            "[array([0.17943802, 0.80173338, 0.        ]), array([0.04710779, 0.78296248, 1.        ]), array([0.16560296, 0.61486421, 1.        ]), array([0.2006315 , 0.48260974, 1.        ]), array([0.86641071, 0.87208019, 1.        ])]\n"
          ],
          "name": "stdout"
        }
      ]
    },
    {
      "cell_type": "code",
      "metadata": {
        "id": "vSAMLpFYksoh",
        "colab_type": "code",
        "colab": {
          "base_uri": "https://localhost:8080/",
          "height": 359
        },
        "outputId": "8d050eec-0c4a-4e19-efde-07eff25643cd"
      },
      "source": [
        "import pandas as pd\n",
        "df = pd.DataFrame(data,columns=['f1','f2','l'])\n",
        "df['lc'] = df['l'].map({1.0:'r' , 0.0:'g'})\n",
        "df"
      ],
      "execution_count": 28,
      "outputs": [
        {
          "output_type": "execute_result",
          "data": {
            "text/html": [
              "<div>\n",
              "<style scoped>\n",
              "    .dataframe tbody tr th:only-of-type {\n",
              "        vertical-align: middle;\n",
              "    }\n",
              "\n",
              "    .dataframe tbody tr th {\n",
              "        vertical-align: top;\n",
              "    }\n",
              "\n",
              "    .dataframe thead th {\n",
              "        text-align: right;\n",
              "    }\n",
              "</style>\n",
              "<table border=\"1\" class=\"dataframe\">\n",
              "  <thead>\n",
              "    <tr style=\"text-align: right;\">\n",
              "      <th></th>\n",
              "      <th>f1</th>\n",
              "      <th>f2</th>\n",
              "      <th>l</th>\n",
              "      <th>lc</th>\n",
              "    </tr>\n",
              "  </thead>\n",
              "  <tbody>\n",
              "    <tr>\n",
              "      <th>0</th>\n",
              "      <td>0.047108</td>\n",
              "      <td>0.782962</td>\n",
              "      <td>1.0</td>\n",
              "      <td>r</td>\n",
              "    </tr>\n",
              "    <tr>\n",
              "      <th>1</th>\n",
              "      <td>0.165603</td>\n",
              "      <td>0.614864</td>\n",
              "      <td>1.0</td>\n",
              "      <td>r</td>\n",
              "    </tr>\n",
              "    <tr>\n",
              "      <th>2</th>\n",
              "      <td>0.179438</td>\n",
              "      <td>0.801733</td>\n",
              "      <td>0.0</td>\n",
              "      <td>g</td>\n",
              "    </tr>\n",
              "    <tr>\n",
              "      <th>3</th>\n",
              "      <td>0.200631</td>\n",
              "      <td>0.482610</td>\n",
              "      <td>1.0</td>\n",
              "      <td>r</td>\n",
              "    </tr>\n",
              "    <tr>\n",
              "      <th>4</th>\n",
              "      <td>0.786307</td>\n",
              "      <td>0.329900</td>\n",
              "      <td>0.0</td>\n",
              "      <td>g</td>\n",
              "    </tr>\n",
              "    <tr>\n",
              "      <th>5</th>\n",
              "      <td>0.452609</td>\n",
              "      <td>0.359941</td>\n",
              "      <td>0.0</td>\n",
              "      <td>g</td>\n",
              "    </tr>\n",
              "    <tr>\n",
              "      <th>6</th>\n",
              "      <td>0.866411</td>\n",
              "      <td>0.872080</td>\n",
              "      <td>1.0</td>\n",
              "      <td>r</td>\n",
              "    </tr>\n",
              "    <tr>\n",
              "      <th>7</th>\n",
              "      <td>0.719611</td>\n",
              "      <td>0.091364</td>\n",
              "      <td>1.0</td>\n",
              "      <td>r</td>\n",
              "    </tr>\n",
              "    <tr>\n",
              "      <th>8</th>\n",
              "      <td>0.100000</td>\n",
              "      <td>0.160080</td>\n",
              "      <td>1.0</td>\n",
              "      <td>r</td>\n",
              "    </tr>\n",
              "    <tr>\n",
              "      <th>9</th>\n",
              "      <td>0.920493</td>\n",
              "      <td>0.759932</td>\n",
              "      <td>1.0</td>\n",
              "      <td>r</td>\n",
              "    </tr>\n",
              "  </tbody>\n",
              "</table>\n",
              "</div>"
            ],
            "text/plain": [
              "         f1        f2    l lc\n",
              "0  0.047108  0.782962  1.0  r\n",
              "1  0.165603  0.614864  1.0  r\n",
              "2  0.179438  0.801733  0.0  g\n",
              "3  0.200631  0.482610  1.0  r\n",
              "4  0.786307  0.329900  0.0  g\n",
              "5  0.452609  0.359941  0.0  g\n",
              "6  0.866411  0.872080  1.0  r\n",
              "7  0.719611  0.091364  1.0  r\n",
              "8  0.100000  0.160080  1.0  r\n",
              "9  0.920493  0.759932  1.0  r"
            ]
          },
          "metadata": {
            "tags": []
          },
          "execution_count": 28
        }
      ]
    },
    {
      "cell_type": "code",
      "metadata": {
        "id": "Y7QG9yjij9AF",
        "colab_type": "code",
        "colab": {
          "base_uri": "https://localhost:8080/",
          "height": 265
        },
        "outputId": "73cf7586-1331-4b32-c714-cf14b1819290"
      },
      "source": [
        "import matplotlib.pyplot as plt\n",
        "plt.scatter(df['f1'],df['f2'],c=df['lc'])\n",
        "plt.scatter(u_value[0],u_value[1])\n",
        "plt.show()"
      ],
      "execution_count": 29,
      "outputs": [
        {
          "output_type": "display_data",
          "data": {
            "image/png": "[encoded data removed]",
            "text/plain": [
              "<Figure size 432x288 with 1 Axes>"
            ]
          },
          "metadata": {
            "tags": [],
            "needs_background": "light"
          }
        }
      ]
    },
    {
      "cell_type": "code",
      "metadata": {
        "id": "Dn-IZ6h0kFIG",
        "colab_type": "code",
        "colab": {
          "base_uri": "https://localhost:8080/",
          "height": 122
        },
        "outputId": "333649e1-f2f9-48d3-a7ac-cb6301d155bb"
      },
      "source": [
        "from sklearn.neighbors import KNeighborsClassifier\n",
        "kmodel = KNeighborsClassifier(n_neighbors=5)\n",
        "kmodel.fit(df[['f1','f2']] , df[['l']])"
      ],
      "execution_count": 30,
      "outputs": [
        {
          "output_type": "stream",
          "text": [
            "/usr/local/lib/python3.6/dist-packages/ipykernel_launcher.py:3: DataConversionWarning: A column-vector y was passed when a 1d array was expected. Please change the shape of y to (n_samples, ), for example using ravel().\n",
            "  This is separate from the ipykernel package so we can avoid doing imports until\n"
          ],
          "name": "stderr"
        },
        {
          "output_type": "execute_result",
          "data": {
            "text/plain": [
              "KNeighborsClassifier(algorithm='auto', leaf_size=30, metric='minkowski',\n",
              "                     metric_params=None, n_jobs=None, n_neighbors=5, p=2,\n",
              "                     weights='uniform')"
            ]
          },
          "metadata": {
            "tags": []
          },
          "execution_count": 30
        }
      ]
    },
    {
      "cell_type": "code",
      "metadata": {
        "id": "Nb0zDlxgmlK_",
        "colab_type": "code",
        "colab": {
          "base_uri": "https://localhost:8080/",
          "height": 34
        },
        "outputId": "954edca1-f1c6-4ee2-812d-988e23fb864a"
      },
      "source": [
        "kmodel.predict([u_value])"
      ],
      "execution_count": 31,
      "outputs": [
        {
          "output_type": "execute_result",
          "data": {
            "text/plain": [
              "array([1.])"
            ]
          },
          "metadata": {
            "tags": []
          },
          "execution_count": 31
        }
      ]
    },
    {
      "cell_type": "markdown",
      "metadata": {
        "id": "QWMeX6harZmE",
        "colab_type": "text"
      },
      "source": [
        "**Iris Problem**"
      ]
    },
    {
      "cell_type": "code",
      "metadata": {
        "id": "4MJRemxDm3q_",
        "colab_type": "code",
        "colab": {}
      },
      "source": [
        "X = iris['data'][:,2:4]\n",
        "Y = iris['target']"
      ],
      "execution_count": 32,
      "outputs": []
    },
    {
      "cell_type": "markdown",
      "metadata": {
        "id": "68TnoxBNsNzg",
        "colab_type": "text"
      },
      "source": [
        "**Seperate training and Testing Set**"
      ]
    },
    {
      "cell_type": "code",
      "metadata": {
        "id": "JNk_P9Y2rjPI",
        "colab_type": "code",
        "colab": {}
      },
      "source": [
        "from sklearn.model_selection import train_test_split\n",
        "xtrain,xtest,ytrain,ytest = train_test_split(X,Y,test_size=0.3,random_state=6)"
      ],
      "execution_count": 33,
      "outputs": []
    },
    {
      "cell_type": "code",
      "metadata": {
        "id": "D84mAPNayf53",
        "colab_type": "code",
        "colab": {
          "base_uri": "https://localhost:8080/",
          "height": 153
        },
        "outputId": "08e76712-152f-41d9-e9f3-787c7ca5d1f9"
      },
      "source": [
        "print(pd.DataFrame(ytrain)[0].value_counts())\n",
        "print(pd.DataFrame(ytest)[0].value_counts())"
      ],
      "execution_count": 34,
      "outputs": [
        {
          "output_type": "stream",
          "text": [
            "2    35\n",
            "1    35\n",
            "0    35\n",
            "Name: 0, dtype: int64\n",
            "2    15\n",
            "1    15\n",
            "0    15\n",
            "Name: 0, dtype: int64\n"
          ],
          "name": "stdout"
        }
      ]
    },
    {
      "cell_type": "markdown",
      "metadata": {
        "id": "QI3yUpYZsVWT",
        "colab_type": "text"
      },
      "source": [
        "**Import Algorithm**"
      ]
    },
    {
      "cell_type": "code",
      "metadata": {
        "id": "aAAfsOoQsUnr",
        "colab_type": "code",
        "colab": {}
      },
      "source": [
        "from sklearn.neighbors import KNeighborsClassifier\n",
        "iris_model = KNeighborsClassifier(n_neighbors=5)"
      ],
      "execution_count": 35,
      "outputs": []
    },
    {
      "cell_type": "markdown",
      "metadata": {
        "id": "XjFlUMvdsYv1",
        "colab_type": "text"
      },
      "source": [
        "**Train Your Model**"
      ]
    },
    {
      "cell_type": "code",
      "metadata": {
        "id": "moW_aKHJsIuV",
        "colab_type": "code",
        "colab": {
          "base_uri": "https://localhost:8080/",
          "height": 68
        },
        "outputId": "ddf185be-179e-49eb-a549-cbfdd9ef13b4"
      },
      "source": [
        "iris_model.fit(xtrain,ytrain)"
      ],
      "execution_count": 36,
      "outputs": [
        {
          "output_type": "execute_result",
          "data": {
            "text/plain": [
              "KNeighborsClassifier(algorithm='auto', leaf_size=30, metric='minkowski',\n",
              "                     metric_params=None, n_jobs=None, n_neighbors=5, p=2,\n",
              "                     weights='uniform')"
            ]
          },
          "metadata": {
            "tags": []
          },
          "execution_count": 36
        }
      ]
    },
    {
      "cell_type": "markdown",
      "metadata": {
        "id": "KAApKqrrscrc",
        "colab_type": "text"
      },
      "source": [
        "**Validate Your model as training and Testing Accuracy**"
      ]
    },
    {
      "cell_type": "code",
      "metadata": {
        "id": "JcFtaUUvsiPp",
        "colab_type": "code",
        "colab": {
          "base_uri": "https://localhost:8080/",
          "height": 102
        },
        "outputId": "4ad10843-14a2-445b-e64c-5b7ea06d4edd"
      },
      "source": [
        "ytrain_pred = iris_model.predict(xtrain)\n",
        "training_accuracy = (ytrain_pred == ytrain).sum()/len(xtrain)\n",
        "print(training_accuracy)\n",
        "print(iris_model.score(xtrain,ytrain))\n",
        "\n",
        "print('*********************************************************************')\n",
        "\n",
        "ytest_pred = iris_model.predict(xtest)\n",
        "testing_accuracy = (ytest_pred == ytest).sum()/len(xtest)\n",
        "print(testing_accuracy)\n",
        "print(iris_model.score(xtest,ytest))"
      ],
      "execution_count": 37,
      "outputs": [
        {
          "output_type": "stream",
          "text": [
            "0.9809523809523809\n",
            "0.9809523809523809\n",
            "*********************************************************************\n",
            "0.9555555555555556\n",
            "0.9555555555555556\n"
          ],
          "name": "stdout"
        }
      ]
    },
    {
      "cell_type": "markdown",
      "metadata": {
        "id": "zraWITxAsi2P",
        "colab_type": "text"
      },
      "source": [
        "**Make predictions**"
      ]
    },
    {
      "cell_type": "code",
      "metadata": {
        "id": "KkJ6QWd-slWh",
        "colab_type": "code",
        "colab": {
          "base_uri": "https://localhost:8080/",
          "height": 68
        },
        "outputId": "20209c36-0d4a-4162-a41c-e0c595cc0cb0"
      },
      "source": [
        "#[[3.2,1.1,3.3,2.2]]\n",
        "t = iris['target_names']\n",
        "print(t)\n",
        "print(iris_model.predict([[3.3,2.2] , [6.5,3.5]]))\n",
        "print(t[iris_model.predict([[3.3,2.2] , [6.5,3.5]])])"
      ],
      "execution_count": 38,
      "outputs": [
        {
          "output_type": "stream",
          "text": [
            "['setosa' 'versicolor' 'virginica']\n",
            "[1 2]\n",
            "['versicolor' 'virginica']\n"
          ],
          "name": "stdout"
        }
      ]
    },
    {
      "cell_type": "markdown",
      "metadata": {
        "id": "XuA-SePqwMP_",
        "colab_type": "text"
      },
      "source": [
        "**Tune the value of K**"
      ]
    },
    {
      "cell_type": "code",
      "metadata": {
        "id": "vJqu4BbevHwZ",
        "colab_type": "code",
        "colab": {}
      },
      "source": [
        "tr_acc = []\n",
        "ts_acc = []\n",
        "for i in range(1,15):\n",
        "  ksmodel = KNeighborsClassifier(n_neighbors=i)\n",
        "  ksmodel.fit(xtrain,ytrain)\n",
        "  tr_acc.append(ksmodel.score(xtrain,ytrain))\n",
        "\n",
        "  ts_acc.append(ksmodel.score(xtest,ytest))"
      ],
      "execution_count": 39,
      "outputs": []
    },
    {
      "cell_type": "code",
      "metadata": {
        "id": "2w4JZOQIwkoH",
        "colab_type": "code",
        "colab": {
          "base_uri": "https://localhost:8080/",
          "height": 265
        },
        "outputId": "b7311880-2304-4b7a-8df9-246f4dcefece"
      },
      "source": [
        "plt.plot(range(1,15),tr_acc)\n",
        "plt.plot(range(1,15),ts_acc)\n",
        "plt.show()"
      ],
      "execution_count": 40,
      "outputs": [
        {
          "output_type": "display_data",
          "data": {
            "image/png": "[encoded data removed]",
            "text/plain": [
              "<Figure size 432x288 with 1 Axes>"
            ]
          },
          "metadata": {
            "tags": [],
            "needs_background": "light"
          }
        }
      ]
    },
    {
      "cell_type": "code",
      "metadata": {
        "id": "y4gxhxkuwu9-",
        "colab_type": "code",
        "colab": {
          "base_uri": "https://localhost:8080/",
          "height": 268
        },
        "outputId": "3051953a-8282-4744-dede-8d6ea4b6ee07"
      },
      "source": [
        "plt.scatter(iris['data'][:,0:1] , iris['data'][:,1:2] , c=Y)\n",
        "plt.show()"
      ],
      "execution_count": 41,
      "outputs": [
        {
          "output_type": "display_data",
          "data": {
            "image/png": "[encoded data removed]",
            "text/plain": [
              "<Figure size 432x288 with 1 Axes>"
            ]
          },
          "metadata": {
            "tags": [],
            "needs_background": "light"
          }
        }
      ]
    },
    {
      "cell_type": "code",
      "metadata": {
        "id": "Ez-hVVp71VjP",
        "colab_type": "code",
        "colab": {
          "base_uri": "https://localhost:8080/",
          "height": 265
        },
        "outputId": "90f46142-14de-4082-f7f6-e26d62427e81"
      },
      "source": [
        "plt.scatter(iris['data'][:,2:3] , iris['data'][:,3:4] , c=Y)\n",
        "plt.show()"
      ],
      "execution_count": 42,
      "outputs": [
        {
          "output_type": "display_data",
          "data": {
            "image/png": "[encoded data removed]",
            "text/plain": [
              "<Figure size 432x288 with 1 Axes>"
            ]
          },
          "metadata": {
            "tags": [],
            "needs_background": "light"
          }
        }
      ]
    },
    {
      "cell_type": "code",
      "metadata": {
        "id": "zJcdMdQo1yA8",
        "colab_type": "code",
        "colab": {}
      },
      "source": [
        "#Feature selection - 1. Select the appropriate features , 2. Generate the appropriate feature"
      ],
      "execution_count": 43,
      "outputs": []
    }
  ]
}