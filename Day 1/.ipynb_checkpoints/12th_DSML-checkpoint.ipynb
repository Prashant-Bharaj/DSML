{
 "cells": [
  {
   "cell_type": "markdown",
   "metadata": {
    "colab_type": "text",
    "id": "6djJJzTFZRY8"
   },
   "source": [
    "# if elif else"
   ]
  },
  {
   "cell_type": "code",
   "execution_count": null,
   "metadata": {
    "colab": {
     "base_uri": "https://localhost:8080/",
     "height": 51
    },
    "colab_type": "code",
    "id": "ct_VaU9nZQpd",
    "outputId": "22454578-f25b-40da-a8e1-23bb20a8b8cd"
   },
   "outputs": [
    {
     "name": "stdout",
     "output_type": "stream",
     "text": [
      "Enter your age: 12\n",
      "you can't apply for driving license\n"
     ]
    }
   ],
   "source": [
    "age = int(input('Enter your age: '))\n",
    "\n",
    "if age < 18:\n",
    "  print('you can\\'t apply for driving license')\n",
    "elif age > 40:\n",
    "  print('medical certificate is necessary for applying driving license')\n",
    "else:\n",
    "  print('you can apply for driving license🙂🙂🙂')"
   ]
  },
  {
   "cell_type": "markdown",
   "metadata": {
    "colab_type": "text",
    "id": "6e5Poszof0Ot"
   },
   "source": [
    "# while Loop Statements"
   ]
  },
  {
   "cell_type": "code",
   "execution_count": null,
   "metadata": {
    "colab": {},
    "colab_type": "code",
    "id": "bSai_cG2fKHi"
   },
   "outputs": [],
   "source": []
  },
  {
   "cell_type": "markdown",
   "metadata": {
    "colab_type": "text",
    "id": "ENdJBGn7gYph"
   },
   "source": [
    "# break Statements"
   ]
  },
  {
   "cell_type": "markdown",
   "metadata": {
    "colab_type": "text",
    "id": "WLzJCBtLgc7F"
   },
   "source": [
    "# continue statements"
   ]
  },
  {
   "cell_type": "markdown",
   "metadata": {
    "colab_type": "text",
    "id": "3hVG8NCzgh-Z"
   },
   "source": [
    "# for Loops and the range() Function"
   ]
  },
  {
   "cell_type": "markdown",
   "metadata": {
    "colab_type": "text",
    "id": "MXjKMYEGgo_i"
   },
   "source": [
    "# for else statement"
   ]
  },
  {
   "cell_type": "markdown",
   "metadata": {
    "colab_type": "text",
    "id": "YH6AT8aIgwGa"
   },
   "source": [
    "# Importing Modules"
   ]
  },
  {
   "cell_type": "markdown",
   "metadata": {
    "colab_type": "text",
    "id": "EBMuLq09hFwY"
   },
   "source": [
    "# Ending a Program Early with sys.exit()"
   ]
  },
  {
   "cell_type": "markdown",
   "metadata": {
    "colab_type": "text",
    "id": "LEf-H49BhL6S"
   },
   "source": [
    "# Map Function"
   ]
  },
  {
   "cell_type": "code",
   "execution_count": null,
   "metadata": {
    "colab": {},
    "colab_type": "code",
    "id": "ovxYlab_g-xp"
   },
   "outputs": [],
   "source": []
  },
  {
   "cell_type": "code",
   "execution_count": null,
   "metadata": {
    "colab": {
     "base_uri": "https://localhost:8080/",
     "height": 102
    },
    "colab_type": "code",
    "id": "bXk13emDa9LM",
    "outputId": "8e8e0620-9322-4fc5-86d1-5389ae1854c8"
   },
   "outputs": [
    {
     "name": "stdout",
     "output_type": "stream",
     "text": [
      "<map object at 0x7f9a9ee5c588>\n",
      "appleorange\n",
      "bananalemon\n",
      "cherrypineapple\n"
     ]
    },
    {
     "data": {
      "text/plain": [
       "['appleorange', 'bananalemon', 'cherrypineapple']"
      ]
     },
     "execution_count": 2,
     "metadata": {
      "tags": []
     },
     "output_type": "execute_result"
    }
   ],
   "source": [
    "def myfunc(a, b):\n",
    "  print(a+b)\n",
    "  return a + b\n",
    "\n",
    "g = map(myfunc, ('apple', 'banana', 'cherry'), ('orange', 'lemon', 'pineapple'))\n",
    "print(g)\n",
    "g = list(g)\n",
    "g \n"
   ]
  },
  {
   "cell_type": "markdown",
   "metadata": {
    "colab_type": "text",
    "id": "ryjL_QizX26v"
   },
   "source": [
    "\n",
    "# Dictonary"
   ]
  },
  {
   "cell_type": "code",
   "execution_count": null,
   "metadata": {
    "colab": {},
    "colab_type": "code",
    "id": "7L1Bp6U7X7qb"
   },
   "outputs": [],
   "source": [
    "students = dict({\n",
    "    'Prashant': ['C', 'Python', 'Java', 'Kotlin', 'c++', 'Dart']\n",
    "    \n",
    "})"
   ]
  },
  {
   "cell_type": "code",
   "execution_count": null,
   "metadata": {
    "colab": {
     "base_uri": "https://localhost:8080/",
     "height": 833
    },
    "colab_type": "code",
    "id": "HmBDy6aDZ1TB",
    "outputId": "2fc88aa0-ad61-458a-c3a5-77b7ecbfc776"
   },
   "outputs": [
    {
     "name": "stdout",
     "output_type": "stream",
     "text": [
      "68319 ['KAYLING', 'p1', 'p2']\n",
      "66928 ['BLAZE', 'p1']\n",
      "67832 ['CLARE', 'p1']\n",
      "65646 ['JONAS', 'p1', 'p2']\n",
      "67858 ['SCARLET', 'p1', 'p2']\n",
      "69062 ['FRANK', 'p2']\n",
      "63679 ['SANDRINE', 'p1', 'p2']\n",
      "64989 ['ADELYN', 'p1', 'p2']\n",
      "65271 ['WADE', 'p2']\n",
      "66564 ['MADDEN', 'p1', 'p2']\n",
      "68454 ['TUCKER', 'p2']\n",
      "68736 ['ADNRES', 'p1', 'p2']\n",
      "69000 ['JULIUS', 'p2']\n",
      "69324 ['MARKER', 'p1', 'p2']\n",
      "Enter your Employee id: \n",
      "69324\n"
     ]
    },
    {
     "ename": "KeyboardInterrupt",
     "evalue": "ignored",
     "output_type": "error",
     "traceback": [
      "\u001b[0;31m---------------------------------------------------------------------------\u001b[0m",
      "\u001b[0;31mKeyboardInterrupt\u001b[0m                         Traceback (most recent call last)",
      "\u001b[0;32m/usr/local/lib/python3.6/dist-packages/ipykernel/kernelbase.py\u001b[0m in \u001b[0;36m_input_request\u001b[0;34m(self, prompt, ident, parent, password)\u001b[0m\n\u001b[1;32m    728\u001b[0m             \u001b[0;32mtry\u001b[0m\u001b[0;34m:\u001b[0m\u001b[0;34m\u001b[0m\u001b[0;34m\u001b[0m\u001b[0m\n\u001b[0;32m--> 729\u001b[0;31m                 \u001b[0mident\u001b[0m\u001b[0;34m,\u001b[0m \u001b[0mreply\u001b[0m \u001b[0;34m=\u001b[0m \u001b[0mself\u001b[0m\u001b[0;34m.\u001b[0m\u001b[0msession\u001b[0m\u001b[0;34m.\u001b[0m\u001b[0mrecv\u001b[0m\u001b[0;34m(\u001b[0m\u001b[0mself\u001b[0m\u001b[0;34m.\u001b[0m\u001b[0mstdin_socket\u001b[0m\u001b[0;34m,\u001b[0m \u001b[0;36m0\u001b[0m\u001b[0;34m)\u001b[0m\u001b[0;34m\u001b[0m\u001b[0;34m\u001b[0m\u001b[0m\n\u001b[0m\u001b[1;32m    730\u001b[0m             \u001b[0;32mexcept\u001b[0m \u001b[0mException\u001b[0m\u001b[0;34m:\u001b[0m\u001b[0;34m\u001b[0m\u001b[0;34m\u001b[0m\u001b[0m\n",
      "\u001b[0;32m/usr/local/lib/python3.6/dist-packages/jupyter_client/session.py\u001b[0m in \u001b[0;36mrecv\u001b[0;34m(self, socket, mode, content, copy)\u001b[0m\n\u001b[1;32m    802\u001b[0m         \u001b[0;32mtry\u001b[0m\u001b[0;34m:\u001b[0m\u001b[0;34m\u001b[0m\u001b[0;34m\u001b[0m\u001b[0m\n\u001b[0;32m--> 803\u001b[0;31m             \u001b[0mmsg_list\u001b[0m \u001b[0;34m=\u001b[0m \u001b[0msocket\u001b[0m\u001b[0;34m.\u001b[0m\u001b[0mrecv_multipart\u001b[0m\u001b[0;34m(\u001b[0m\u001b[0mmode\u001b[0m\u001b[0;34m,\u001b[0m \u001b[0mcopy\u001b[0m\u001b[0;34m=\u001b[0m\u001b[0mcopy\u001b[0m\u001b[0;34m)\u001b[0m\u001b[0;34m\u001b[0m\u001b[0;34m\u001b[0m\u001b[0m\n\u001b[0m\u001b[1;32m    804\u001b[0m         \u001b[0;32mexcept\u001b[0m \u001b[0mzmq\u001b[0m\u001b[0;34m.\u001b[0m\u001b[0mZMQError\u001b[0m \u001b[0;32mas\u001b[0m \u001b[0me\u001b[0m\u001b[0;34m:\u001b[0m\u001b[0;34m\u001b[0m\u001b[0;34m\u001b[0m\u001b[0m\n",
      "\u001b[0;32m/usr/local/lib/python3.6/dist-packages/zmq/sugar/socket.py\u001b[0m in \u001b[0;36mrecv_multipart\u001b[0;34m(self, flags, copy, track)\u001b[0m\n\u001b[1;32m    490\u001b[0m         \"\"\"\n\u001b[0;32m--> 491\u001b[0;31m         \u001b[0mparts\u001b[0m \u001b[0;34m=\u001b[0m \u001b[0;34m[\u001b[0m\u001b[0mself\u001b[0m\u001b[0;34m.\u001b[0m\u001b[0mrecv\u001b[0m\u001b[0;34m(\u001b[0m\u001b[0mflags\u001b[0m\u001b[0;34m,\u001b[0m \u001b[0mcopy\u001b[0m\u001b[0;34m=\u001b[0m\u001b[0mcopy\u001b[0m\u001b[0;34m,\u001b[0m \u001b[0mtrack\u001b[0m\u001b[0;34m=\u001b[0m\u001b[0mtrack\u001b[0m\u001b[0;34m)\u001b[0m\u001b[0;34m]\u001b[0m\u001b[0;34m\u001b[0m\u001b[0;34m\u001b[0m\u001b[0m\n\u001b[0m\u001b[1;32m    492\u001b[0m         \u001b[0;31m# have first part already, only loop while more to receive\u001b[0m\u001b[0;34m\u001b[0m\u001b[0;34m\u001b[0m\u001b[0;34m\u001b[0m\u001b[0m\n",
      "\u001b[0;32mzmq/backend/cython/socket.pyx\u001b[0m in \u001b[0;36mzmq.backend.cython.socket.Socket.recv\u001b[0;34m()\u001b[0m\n",
      "\u001b[0;32mzmq/backend/cython/socket.pyx\u001b[0m in \u001b[0;36mzmq.backend.cython.socket.Socket.recv\u001b[0;34m()\u001b[0m\n",
      "\u001b[0;32mzmq/backend/cython/socket.pyx\u001b[0m in \u001b[0;36mzmq.backend.cython.socket._recv_copy\u001b[0;34m()\u001b[0m\n",
      "\u001b[0;32m/usr/local/lib/python3.6/dist-packages/zmq/backend/cython/checkrc.pxd\u001b[0m in \u001b[0;36mzmq.backend.cython.checkrc._check_rc\u001b[0;34m()\u001b[0m\n",
      "\u001b[0;31mKeyboardInterrupt\u001b[0m: ",
      "\nDuring handling of the above exception, another exception occurred:\n",
      "\u001b[0;31mKeyboardInterrupt\u001b[0m                         Traceback (most recent call last)",
      "\u001b[0;32m<ipython-input-5-bcbbbcc0111b>\u001b[0m in \u001b[0;36m<module>\u001b[0;34m()\u001b[0m\n\u001b[1;32m     18\u001b[0m   \u001b[0mprint\u001b[0m\u001b[0;34m(\u001b[0m\u001b[0mi\u001b[0m\u001b[0;34m,\u001b[0m \u001b[0mj\u001b[0m\u001b[0;34m)\u001b[0m\u001b[0;34m\u001b[0m\u001b[0;34m\u001b[0m\u001b[0m\n\u001b[1;32m     19\u001b[0m \u001b[0;32mwhile\u001b[0m \u001b[0;32mTrue\u001b[0m\u001b[0;34m:\u001b[0m\u001b[0;34m\u001b[0m\u001b[0;34m\u001b[0m\u001b[0m\n\u001b[0;32m---> 20\u001b[0;31m   \u001b[0mid\u001b[0m \u001b[0;34m=\u001b[0m \u001b[0mint\u001b[0m\u001b[0;34m(\u001b[0m\u001b[0minput\u001b[0m\u001b[0;34m(\u001b[0m\u001b[0;34m\"Enter your Employee id: \\n\"\u001b[0m\u001b[0;34m)\u001b[0m\u001b[0;34m)\u001b[0m\u001b[0;34m\u001b[0m\u001b[0;34m\u001b[0m\u001b[0m\n\u001b[0m\u001b[1;32m     21\u001b[0m   \u001b[0;32mif\u001b[0m \u001b[0mid\u001b[0m \u001b[0;32mnot\u001b[0m \u001b[0;32min\u001b[0m \u001b[0memployees\u001b[0m\u001b[0;34m.\u001b[0m\u001b[0mkeys\u001b[0m\u001b[0;34m(\u001b[0m\u001b[0;34m)\u001b[0m\u001b[0;34m:\u001b[0m\u001b[0;34m\u001b[0m\u001b[0;34m\u001b[0m\u001b[0m\n\u001b[1;32m     22\u001b[0m     \u001b[0mprint\u001b[0m\u001b[0;34m(\u001b[0m\u001b[0;34m'Employeee id is not valid'\u001b[0m\u001b[0;34m)\u001b[0m\u001b[0;34m\u001b[0m\u001b[0;34m\u001b[0m\u001b[0m\n",
      "\u001b[0;32m/usr/local/lib/python3.6/dist-packages/ipykernel/kernelbase.py\u001b[0m in \u001b[0;36mraw_input\u001b[0;34m(self, prompt)\u001b[0m\n\u001b[1;32m    702\u001b[0m             \u001b[0mself\u001b[0m\u001b[0;34m.\u001b[0m\u001b[0m_parent_ident\u001b[0m\u001b[0;34m,\u001b[0m\u001b[0;34m\u001b[0m\u001b[0;34m\u001b[0m\u001b[0m\n\u001b[1;32m    703\u001b[0m             \u001b[0mself\u001b[0m\u001b[0;34m.\u001b[0m\u001b[0m_parent_header\u001b[0m\u001b[0;34m,\u001b[0m\u001b[0;34m\u001b[0m\u001b[0;34m\u001b[0m\u001b[0m\n\u001b[0;32m--> 704\u001b[0;31m             \u001b[0mpassword\u001b[0m\u001b[0;34m=\u001b[0m\u001b[0;32mFalse\u001b[0m\u001b[0;34m,\u001b[0m\u001b[0;34m\u001b[0m\u001b[0;34m\u001b[0m\u001b[0m\n\u001b[0m\u001b[1;32m    705\u001b[0m         )\n\u001b[1;32m    706\u001b[0m \u001b[0;34m\u001b[0m\u001b[0m\n",
      "\u001b[0;32m/usr/local/lib/python3.6/dist-packages/ipykernel/kernelbase.py\u001b[0m in \u001b[0;36m_input_request\u001b[0;34m(self, prompt, ident, parent, password)\u001b[0m\n\u001b[1;32m    732\u001b[0m             \u001b[0;32mexcept\u001b[0m \u001b[0mKeyboardInterrupt\u001b[0m\u001b[0;34m:\u001b[0m\u001b[0;34m\u001b[0m\u001b[0;34m\u001b[0m\u001b[0m\n\u001b[1;32m    733\u001b[0m                 \u001b[0;31m# re-raise KeyboardInterrupt, to truncate traceback\u001b[0m\u001b[0;34m\u001b[0m\u001b[0;34m\u001b[0m\u001b[0;34m\u001b[0m\u001b[0m\n\u001b[0;32m--> 734\u001b[0;31m                 \u001b[0;32mraise\u001b[0m \u001b[0mKeyboardInterrupt\u001b[0m\u001b[0;34m\u001b[0m\u001b[0;34m\u001b[0m\u001b[0m\n\u001b[0m\u001b[1;32m    735\u001b[0m             \u001b[0;32melse\u001b[0m\u001b[0;34m:\u001b[0m\u001b[0;34m\u001b[0m\u001b[0;34m\u001b[0m\u001b[0m\n\u001b[1;32m    736\u001b[0m                 \u001b[0;32mbreak\u001b[0m\u001b[0;34m\u001b[0m\u001b[0;34m\u001b[0m\u001b[0m\n",
      "\u001b[0;31mKeyboardInterrupt\u001b[0m: "
     ]
    }
   ],
   "source": [
    "employees = dict({\n",
    "68319: [\"KAYLING\",  \"p1\", \"p2\"]    ,     \n",
    "66928: [\"BLAZE\" ,   \"p1\"]   ,\n",
    "67832: [\"CLARE\" ,   \"p1\"]   ,\n",
    "65646: [\"JONAS\" ,   \"p1\", \"p2\"]   ,\n",
    "67858: [\"SCARLET\" , \"p1\", \"p2\"]   ,\n",
    "69062: [\"FRANK\" ,   \"p2\"],\n",
    "63679: [\"SANDRINE\" ,\"p1\", \"p2\"],\n",
    "64989: [\"ADELYN\" ,  \"p1\", \"p2\"]   ,\n",
    "65271: [\"WADE\" ,    \"p2\"]   ,\n",
    "66564: [\"MADDEN\" ,  \"p1\", \"p2\"]    ,\n",
    "68454: [\"TUCKER\" ,  \"p2\"]   ,\n",
    "68736: [\"ADNRES\" ,  \"p1\", \"p2\"] ,\n",
    "69000: [\"JULIUS\" ,  \"p2\"] ,\n",
    "69324: [\"MARKER\",   \"p1\", \"p2\"]    ,     \n",
    "})\n",
    "for i, j in employees.items():\n",
    "  print(i, j)\n",
    "while True:\n",
    "  id = int(input(\"Enter your Employee id: \\n\"))\n",
    "  if id not in employees.keys():\n",
    "    print('Employeee id is not valid')\n",
    "  else:\n",
    "    pass"
   ]
  },
  {
   "cell_type": "markdown",
   "metadata": {
    "colab_type": "text",
    "id": "OXbJnh8LbmZB"
   },
   "source": [
    "## Functions"
   ]
  },
  {
   "cell_type": "code",
   "execution_count": null,
   "metadata": {
    "colab": {
     "base_uri": "https://localhost:8080/",
     "height": 51
    },
    "colab_type": "code",
    "id": "Gnyy4PHFjuJQ",
    "outputId": "642be61d-2969-4dff-f63b-c837d4e91605"
   },
   "outputs": [
    {
     "name": "stdout",
     "output_type": "stream",
     "text": [
      "15\n",
      "25\n"
     ]
    }
   ],
   "source": [
    "def my_function(x):\n",
    "  return 5 * x\n",
    "\n",
    "print(my_function(3))\n",
    "print(my_function(5))"
   ]
  },
  {
   "cell_type": "markdown",
   "metadata": {
    "colab_type": "text",
    "id": "cKUKbCJQkAr3"
   },
   "source": [
    "# Create a message app:\n",
    "Ask the user to enter a message.\n",
    "1. Total words should be less than or equals to 10.\n",
    "2. Message should not contain restricted words. make_a_list of restricted words"
   ]
  },
  {
   "cell_type": "code",
   "execution_count": null,
   "metadata": {
    "colab": {
     "base_uri": "https://localhost:8080/",
     "height": 34
    },
    "colab_type": "code",
    "id": "Enxlu0N3kuFU",
    "outputId": "4582e87e-d9c4-49d7-e591-a9e5deb024f1"
   },
   "outputs": [
    {
     "name": "stdout",
     "output_type": "stream",
     "text": [
      "message sent\n"
     ]
    }
   ],
   "source": [
    "def res_words(x):\n",
    "  words = [\"bad\", \"dog\"]\n",
    "  list1 = x.split()\n",
    "  if len(list1) >10:\n",
    "    print(\"you exceed the limit\")\n",
    "  else:\n",
    "    for i in words:\n",
    "      if i in list1:\n",
    "        print('mesage has some restricted word')\n",
    "        break\n",
    "    else:\n",
    "      print('message sent')\n",
    "\n",
    "res_words(\"hello everyone\")"
   ]
  },
  {
   "cell_type": "code",
   "execution_count": null,
   "metadata": {
    "colab": {
     "base_uri": "https://localhost:8080/",
     "height": 34
    },
    "colab_type": "code",
    "id": "bxa_lP1klSyF",
    "outputId": "2e0b7944-a04a-45c1-8b63-224c8a9722f3"
   },
   "outputs": [
    {
     "name": "stdout",
     "output_type": "stream",
     "text": [
      "mesage has some restricted word\n"
     ]
    }
   ],
   "source": [
    "res_words(\"hello bad everyone\")"
   ]
  },
  {
   "cell_type": "code",
   "execution_count": null,
   "metadata": {
    "colab": {
     "base_uri": "https://localhost:8080/",
     "height": 34
    },
    "colab_type": "code",
    "id": "-VCetiAilXMx",
    "outputId": "1fe75487-e3d0-422b-ab16-afe8ca9ba7fb"
   },
   "outputs": [
    {
     "name": "stdout",
     "output_type": "stream",
     "text": [
      "<built-in method split of str object at 0x7f9a9e536660>\n"
     ]
    }
   ],
   "source": [
    "x = \"hello bad everyone\"\n",
    "lis = x.split\n",
    "print(str(lis))"
   ]
  },
  {
   "cell_type": "code",
   "execution_count": null,
   "metadata": {
    "colab": {
     "base_uri": "https://localhost:8080/",
     "height": 34
    },
    "colab_type": "code",
    "id": "J4RxnuP-nd0i",
    "outputId": "2ecfc1b8-60b5-4782-efb9-deb9fbec1752"
   },
   "outputs": [
    {
     "data": {
      "text/plain": [
       "['hello', 'bad', 'everyone']"
      ]
     },
     "execution_count": 10,
     "metadata": {
      "tags": []
     },
     "output_type": "execute_result"
    }
   ],
   "source": [
    "x.split()"
   ]
  },
  {
   "cell_type": "code",
   "execution_count": null,
   "metadata": {
    "colab": {
     "base_uri": "https://localhost:8080/",
     "height": 51
    },
    "colab_type": "code",
    "id": "ZQzGVIdbpJb3",
    "outputId": "886597be-1f15-47bf-e3eb-c2956ff3a8e9"
   },
   "outputs": [
    {
     "name": "stdout",
     "output_type": "stream",
     "text": [
      "Enter an email idhjoj@hjghk\n",
      "not a valid id\n"
     ]
    }
   ],
   "source": [
    "# prashant@tcs.com\n",
    "# ifo@jupitervidya.com\n",
    "# pramod@jupitervidya.com\n",
    "\n",
    "\n",
    "id = input(\"Enter an email id\")\n",
    "\n",
    "ls = id.split(\"@\")\n",
    "if ls[1] in [\"abv.com\"]:\n",
    "  print(\"valid id\")\n",
    "else:\n",
    "  print(\"not a valid id\")\n",
    "\n"
   ]
  },
  {
   "cell_type": "code",
   "execution_count": null,
   "metadata": {
    "colab": {
     "base_uri": "https://localhost:8080/",
     "height": 248
    },
    "colab_type": "code",
    "id": "PuK2juUCw_Mn",
    "outputId": "0f5de368-1c7c-4649-bfd9-2c5481fe8b6c"
   },
   "outputs": [
    {
     "name": "stdout",
     "output_type": "stream",
     "text": [
      "Enter email id: hgjgjkhg4tfgh\n"
     ]
    },
    {
     "ename": "ValueError",
     "evalue": "ignored",
     "output_type": "error",
     "traceback": [
      "\u001b[0;31m---------------------------------------------------------------------------\u001b[0m",
      "\u001b[0;31mValueError\u001b[0m                                Traceback (most recent call last)",
      "\u001b[0;32m<ipython-input-12-32c688ea259e>\u001b[0m in \u001b[0;36m<module>\u001b[0;34m()\u001b[0m\n\u001b[1;32m      2\u001b[0m \u001b[0memail\u001b[0m\u001b[0;34m=\u001b[0m\u001b[0minput\u001b[0m\u001b[0;34m(\u001b[0m\u001b[0;34m'Enter email id: '\u001b[0m\u001b[0;34m)\u001b[0m\u001b[0;34m\u001b[0m\u001b[0;34m\u001b[0m\u001b[0m\n\u001b[1;32m      3\u001b[0m \u001b[0mc\u001b[0m\u001b[0;34m=\u001b[0m\u001b[0;36m0\u001b[0m\u001b[0;34m\u001b[0m\u001b[0;34m\u001b[0m\u001b[0m\n\u001b[0;32m----> 4\u001b[0;31m \u001b[0mc\u001b[0m\u001b[0;34m=\u001b[0m\u001b[0memail\u001b[0m\u001b[0;34m.\u001b[0m\u001b[0mindex\u001b[0m\u001b[0;34m(\u001b[0m\u001b[0;34m'@'\u001b[0m\u001b[0;34m)\u001b[0m\u001b[0;34m\u001b[0m\u001b[0;34m\u001b[0m\u001b[0m\n\u001b[0m\u001b[1;32m      5\u001b[0m \u001b[0my\u001b[0m\u001b[0;34m=\u001b[0m\u001b[0memail\u001b[0m\u001b[0;34m.\u001b[0m\u001b[0mindex\u001b[0m\u001b[0;34m(\u001b[0m\u001b[0;34m'.com'\u001b[0m\u001b[0;34m)\u001b[0m\u001b[0;34m\u001b[0m\u001b[0;34m\u001b[0m\u001b[0m\n\u001b[1;32m      6\u001b[0m \u001b[0mstr\u001b[0m\u001b[0;34m=\u001b[0m\u001b[0memail\u001b[0m\u001b[0;34m[\u001b[0m\u001b[0mc\u001b[0m\u001b[0;34m+\u001b[0m\u001b[0;36m1\u001b[0m\u001b[0;34m:\u001b[0m\u001b[0my\u001b[0m\u001b[0;34m]\u001b[0m\u001b[0;34m\u001b[0m\u001b[0;34m\u001b[0m\u001b[0m\n",
      "\u001b[0;31mValueError\u001b[0m: substring not found"
     ]
    }
   ],
   "source": [
    "company_domain=['tcs','google','microsoft','gmail']\n",
    "email=input('Enter email id: ')\n",
    "c=0\n",
    "c=email.index('@')\n",
    "y=email.index('.com')\n",
    "str=email[c+1:y]\n",
    "for q in company_domain:\n",
    "    if q==str:\n",
    "        print('valid email')\n",
    "        break\n",
    "else:\n",
    "    print('invalid email')\n"
   ]
  },
  {
   "cell_type": "code",
   "execution_count": null,
   "metadata": {
    "colab": {
     "base_uri": "https://localhost:8080/",
     "height": 51
    },
    "colab_type": "code",
    "id": "Zes-SV3vzF83",
    "outputId": "a9e7c78e-28dd-487b-ad7e-29437d221697"
   },
   "outputs": [
    {
     "name": "stdout",
     "output_type": "stream",
     "text": [
      "enter email id: ghfjh\n",
      "invalid\n"
     ]
    }
   ],
   "source": [
    "email= input('enter email id: ')\n",
    "x= email.endswith('@tcs.com')\n",
    "if x==True:\n",
    "    print('valid')\n",
    "else:\n",
    "    print('invalid')\n"
   ]
  },
  {
   "cell_type": "code",
   "execution_count": null,
   "metadata": {
    "colab": {
     "base_uri": "https://localhost:8080/",
     "height": 51
    },
    "colab_type": "code",
    "id": "H_8X7aiz0Hx_",
    "outputId": "7d1d2515-8be1-4b22-ca28-6deb4018a3e0"
   },
   "outputs": [
    {
     "name": "stdout",
     "output_type": "stream",
     "text": [
      "enter company email id: hbjhlk\n",
      "invalid\n"
     ]
    }
   ],
   "source": [
    "email=input('enter company email id: ')\n",
    "if email.endswith('@tcs.com'):\n",
    "    print('valid')\n",
    "else:\n",
    "    print('invalid')\n"
   ]
  },
  {
   "cell_type": "markdown",
   "metadata": {
    "colab_type": "text",
    "id": "t_U693Bt2YyC"
   },
   "source": [
    "## lambda funtion"
   ]
  },
  {
   "cell_type": "code",
   "execution_count": null,
   "metadata": {
    "colab": {
     "base_uri": "https://localhost:8080/",
     "height": 34
    },
    "colab_type": "code",
    "id": "mYfb9rsU0s1i",
    "outputId": "1f0ede77-1ebf-4107-d1d3-cacb969ff5df"
   },
   "outputs": [
    {
     "name": "stdout",
     "output_type": "stream",
     "text": [
      "44\n"
     ]
    }
   ],
   "source": [
    "add = lambda a, b: a+b\n",
    "print(add(22, 22))"
   ]
  },
  {
   "cell_type": "code",
   "execution_count": 1,
   "metadata": {
    "colab": {
     "base_uri": "https://localhost:8080/",
     "height": 34
    },
    "colab_type": "code",
    "id": "-MK9tGHF2Uyz",
    "outputId": "ff873a16-201a-4a16-bc2f-c7a615b86061"
   },
   "outputs": [
    {
     "name": "stdout",
     "output_type": "stream",
     "text": [
      "44\n"
     ]
    }
   ],
   "source": [
    "multiply = lambda a, b: a*b\n",
    "print(multiply(22, 2))"
   ]
  },
  {
   "cell_type": "markdown",
   "metadata": {},
   "source": [
    "multi3 = lambda a, b,"
   ]
  },
  {
   "cell_type": "markdown",
   "metadata": {
    "colab_type": "text",
    "id": "kTvBg9qpeT3j"
   },
   "source": [
    "## filter function"
   ]
  },
  {
   "cell_type": "code",
   "execution_count": null,
   "metadata": {
    "colab": {
     "base_uri": "https://localhost:8080/",
     "height": 442
    },
    "colab_type": "code",
    "id": "fn3MM0zZ2oSc",
    "outputId": "507b6f89-9bc8-41eb-c5e1-4b138e8b7bc0"
   },
   "outputs": [
    {
     "name": "stdout",
     "output_type": "stream",
     "text": [
      "Help on class filter in module builtins:\n",
      "\n",
      "class filter(object)\n",
      " |  filter(function or None, iterable) --> filter object\n",
      " |  \n",
      " |  Return an iterator yielding those items of iterable for which function(item)\n",
      " |  is true. If function is None, return the items that are true.\n",
      " |  \n",
      " |  Methods defined here:\n",
      " |  \n",
      " |  __getattribute__(self, name, /)\n",
      " |      Return getattr(self, name).\n",
      " |  \n",
      " |  __iter__(self, /)\n",
      " |      Implement iter(self).\n",
      " |  \n",
      " |  __new__(*args, **kwargs) from builtins.type\n",
      " |      Create and return a new object.  See help(type) for accurate signature.\n",
      " |  \n",
      " |  __next__(self, /)\n",
      " |      Implement next(self).\n",
      " |  \n",
      " |  __reduce__(...)\n",
      " |      Return state information for pickling.\n",
      "\n"
     ]
    }
   ],
   "source": [
    "help(filter)"
   ]
  },
  {
   "cell_type": "code",
   "execution_count": null,
   "metadata": {
    "colab": {
     "base_uri": "https://localhost:8080/",
     "height": 68
    },
    "colab_type": "code",
    "id": "A08wxB1C35IA",
    "outputId": "6f82ab9d-85e1-4ee6-d001-c8c8f1f0f0d2"
   },
   "outputs": [
    {
     "name": "stdout",
     "output_type": "stream",
     "text": [
      "Enter the lowest price100\n",
      "Enter the heighest price355\n",
      "[100, 128, 200]\n"
     ]
    }
   ],
   "source": [
    "lowest = int(input(\"Enter the lowest price\"))\n",
    "heighest = int(input(\"Enter the heighest price\"))\n",
    "product_price = [100, 358, 128, 48, 10000, 45000, 58000, 400, 200, 50]\n",
    "\n",
    "my_price = list(filter(lambda price:price>=lowest and price <= heighest, product_price))\n",
    "print(my_price)"
   ]
  },
  {
   "cell_type": "code",
   "execution_count": null,
   "metadata": {
    "colab": {},
    "colab_type": "code",
    "id": "k94zQeQp4uXs"
   },
   "outputs": [],
   "source": [
    "items = [\"mobile\", \"marker\"] "
   ]
  },
  {
   "cell_type": "code",
   "execution_count": null,
   "metadata": {
    "colab": {
     "base_uri": "https://localhost:8080/",
     "height": 51
    },
    "colab_type": "code",
    "id": "RPS2yX5nPgl2",
    "outputId": "dfd0cf9c-d8c2-4220-d748-31b17711a449"
   },
   "outputs": [
    {
     "name": "stdout",
     "output_type": "stream",
     "text": [
      "Enter name of product you want to Search :-> t\n",
      "No resluts\n"
     ]
    }
   ],
   "source": [
    "products = ['Football','Basketball','Laptop','Mouse','Keyboard','Ball']\n",
    "search = input(\"Enter name of product you want to Search :-> \")\n",
    "item=[]\n",
    "\n",
    "for i in products:\n",
    "    if i.startswith(search):\n",
    "        print(i)\n",
    "        itm.append(i)\n",
    "\n",
    "if len(item)==0:\n",
    "    print(\"No resluts\")\n"
   ]
  },
  {
   "cell_type": "code",
   "execution_count": null,
   "metadata": {
    "colab": {
     "base_uri": "https://localhost:8080/",
     "height": 299
    },
    "colab_type": "code",
    "id": "j0ZGVfodCFrJ",
    "outputId": "ea23c8ba-41c9-4c27-b063-7e07ff47fb59"
   },
   "outputs": [
    {
     "name": "stdout",
     "output_type": "stream",
     "text": [
      "\n",
      "Enter your search: b\n",
      "mobile books keyboard football xbox \n",
      "Enter 1 to search again and 0 to quit: kjhk\n"
     ]
    },
    {
     "ename": "ValueError",
     "evalue": "ignored",
     "output_type": "error",
     "traceback": [
      "\u001b[0;31m---------------------------------------------------------------------------\u001b[0m",
      "\u001b[0;31mValueError\u001b[0m                                Traceback (most recent call last)",
      "\u001b[0;32m<ipython-input-21-a6e51b1dc0f3>\u001b[0m in \u001b[0;36m<module>\u001b[0;34m()\u001b[0m\n\u001b[1;32m     15\u001b[0m \u001b[0;32mwhile\u001b[0m \u001b[0mrun\u001b[0m\u001b[0;34m:\u001b[0m\u001b[0;34m\u001b[0m\u001b[0;34m\u001b[0m\u001b[0m\n\u001b[1;32m     16\u001b[0m     \u001b[0msearch\u001b[0m\u001b[0;34m(\u001b[0m\u001b[0;34m)\u001b[0m\u001b[0;34m\u001b[0m\u001b[0;34m\u001b[0m\u001b[0m\n\u001b[0;32m---> 17\u001b[0;31m     \u001b[0minp\u001b[0m \u001b[0;34m=\u001b[0m \u001b[0mint\u001b[0m\u001b[0;34m(\u001b[0m\u001b[0minput\u001b[0m\u001b[0;34m(\u001b[0m\u001b[0;34m'\\nEnter 1 to search again and 0 to quit: '\u001b[0m\u001b[0;34m)\u001b[0m\u001b[0;34m)\u001b[0m\u001b[0;34m\u001b[0m\u001b[0;34m\u001b[0m\u001b[0m\n\u001b[0m\u001b[1;32m     18\u001b[0m     \u001b[0;32mif\u001b[0m \u001b[0minp\u001b[0m \u001b[0;34m==\u001b[0m \u001b[0;36m1\u001b[0m\u001b[0;34m:\u001b[0m\u001b[0;34m\u001b[0m\u001b[0;34m\u001b[0m\u001b[0m\n\u001b[1;32m     19\u001b[0m         \u001b[0;32mcontinue\u001b[0m\u001b[0;34m\u001b[0m\u001b[0;34m\u001b[0m\u001b[0m\n",
      "\u001b[0;31mValueError\u001b[0m: invalid literal for int() with base 10: 'kjhk'"
     ]
    }
   ],
   "source": [
    "product_list = ['mobile','pen','t_shirt','laptops','jacket','TV','books',\n",
    "                'speaker','mouse','keyboard','jeans','clock','charger',\n",
    "                'football','videogames','ps5','xbox','intel i3']\n",
    "\n",
    "def search():\n",
    "    need = input('\\nEnter your search: ')\n",
    "    if not need:\n",
    "        print('Input cannot be empty')\n",
    "        search()\n",
    "    for product in product_list:\n",
    "        val = product.count(need)\n",
    "        if val >= 1:\n",
    "            print(product,end=\" \")\n",
    "run = True\n",
    "while run:\n",
    "    search()\n",
    "    inp = int(input('\\nEnter 1 to search again and 0 to quit: '))\n",
    "    if inp == 1:\n",
    "        continue\n",
    "    elif inp == 0:\n",
    "        run = False\n",
    "    else:\n",
    "        print('Enter valid input')\n"
   ]
  },
  {
   "cell_type": "code",
   "execution_count": null,
   "metadata": {
    "colab": {
     "base_uri": "https://localhost:8080/",
     "height": 51
    },
    "colab_type": "code",
    "id": "j16lFYpzCict",
    "outputId": "538f0bb6-4f3a-48ab-dac7-cd10a6af97c7"
   },
   "outputs": [
    {
     "name": "stdout",
     "output_type": "stream",
     "text": [
      "Enter to search: hello\n",
      "[]\n"
     ]
    }
   ],
   "source": [
    "p_name = ['t-shirt', 'capri', 'toys', 'oneplus','footwear', 'watches', 'headsets','hand-tools', 'top', 'bottle','tooth-paste']\n",
    "item_search = input(\"Enter to search: \")\n",
    "print(list(filter(lambda x: x.lower().startswith(item_search),p_name)))\n"
   ]
  },
  {
   "cell_type": "code",
   "execution_count": null,
   "metadata": {
    "colab": {
     "base_uri": "https://localhost:8080/",
     "height": 51
    },
    "colab_type": "code",
    "id": "bR9XsdS0DJti",
    "outputId": "4d818fa4-b1ab-4443-9693-f860c8cb1e5f"
   },
   "outputs": [
    {
     "name": "stdout",
     "output_type": "stream",
     "text": [
      "Enter to search: clo\n",
      "['clock']\n"
     ]
    }
   ],
   "source": [
    "product_list = {'mobile','pen','t_shirt','laptops','jacket','TV','books',\n",
    "                'speaker','mouse','keyboard','jeans','clock','charger',\n",
    "                'football','videogames','ps5','xbox','intel i3','t-shirt', 'capri', 'toys', 'oneplus','footwear', 'watches', 'headsets','hand-tools', 'top', 'bottle','tooth-paste'}\n",
    "item = input(\"Enter to search: \")\n",
    "print(list(filter(lambda product: product.startswith(item),product_list)))\n"
   ]
  },
  {
   "cell_type": "code",
   "execution_count": null,
   "metadata": {
    "colab": {
     "base_uri": "https://localhost:8080/",
     "height": 442
    },
    "colab_type": "code",
    "id": "oVg4mf89EU6C",
    "outputId": "9def3303-02ef-4756-e6a4-d39d059c6bd0"
   },
   "outputs": [
    {
     "name": "stdout",
     "output_type": "stream",
     "text": [
      "Help on class map in module builtins:\n",
      "\n",
      "class map(object)\n",
      " |  map(func, *iterables) --> map object\n",
      " |  \n",
      " |  Make an iterator that computes the function using arguments from\n",
      " |  each of the iterables.  Stops when the shortest iterable is exhausted.\n",
      " |  \n",
      " |  Methods defined here:\n",
      " |  \n",
      " |  __getattribute__(self, name, /)\n",
      " |      Return getattr(self, name).\n",
      " |  \n",
      " |  __iter__(self, /)\n",
      " |      Implement iter(self).\n",
      " |  \n",
      " |  __new__(*args, **kwargs) from builtins.type\n",
      " |      Create and return a new object.  See help(type) for accurate signature.\n",
      " |  \n",
      " |  __next__(self, /)\n",
      " |      Implement next(self).\n",
      " |  \n",
      " |  __reduce__(...)\n",
      " |      Return state information for pickling.\n",
      "\n"
     ]
    }
   ],
   "source": [
    "help(map)"
   ]
  },
  {
   "cell_type": "code",
   "execution_count": null,
   "metadata": {
    "colab": {
     "base_uri": "https://localhost:8080/",
     "height": 34
    },
    "colab_type": "code",
    "id": "cMSsK18YGGsu",
    "outputId": "41a5670c-f650-4119-ee0e-a0e56e3ec832"
   },
   "outputs": [
    {
     "name": "stdout",
     "output_type": "stream",
     "text": [
      "[144, 16, 25, 100, 9]\n"
     ]
    }
   ],
   "source": [
    "num = [12, 4, 5, 10, 3]\n",
    "sqr = list(map(lambda n:n**2, num))\n",
    "print(sqr)"
   ]
  },
  {
   "cell_type": "code",
   "execution_count": null,
   "metadata": {
    "colab": {
     "base_uri": "https://localhost:8080/",
     "height": 34
    },
    "colab_type": "code",
    "id": "-KtB2CD9GXVR",
    "outputId": "f69e5b9a-e651-47c0-f101-13b4fb4c76b3"
   },
   "outputs": [
    {
     "name": "stdout",
     "output_type": "stream",
     "text": [
      "[1, 4, 9, 16, 25]\n"
     ]
    }
   ],
   "source": [
    "num = list(range(1, 11))\n",
    "sqr = list(map(lambda n:n**2, num[:5]))\n",
    "print(sqr)"
   ]
  },
  {
   "cell_type": "code",
   "execution_count": null,
   "metadata": {
    "colab": {
     "base_uri": "https://localhost:8080/",
     "height": 51
    },
    "colab_type": "code",
    "id": "tVSkCuQ3HNsd",
    "outputId": "b9837264-f5bf-47c6-c710-f854297b454e"
   },
   "outputs": [
    {
     "name": "stdout",
     "output_type": "stream",
     "text": [
      "Enter a full name: Prashant Singh\n",
      "['prashant'] ['singh']\n"
     ]
    }
   ],
   "source": [
    "\n",
    "# first_name last_name\n",
    "def captilize(first_name, last_name):\n",
    "  print(f\"{first_name.capitalize()} {last_name.capitalize()}\")\n",
    "\n",
    "full_name = input(\"Enter a full name: \")\n",
    "\n",
    "x = full_name.split(\" \")\n",
    "# print(x)\n",
    "captilize(str(x[:1]),str(x[1:2]))\n",
    "\n"
   ]
  },
  {
   "cell_type": "code",
   "execution_count": null,
   "metadata": {
    "colab": {
     "base_uri": "https://localhost:8080/",
     "height": 935
    },
    "colab_type": "code",
    "id": "aQCyj3h1Ir4-",
    "outputId": "00432a8c-3956-4e87-d9be-f8fce604e12c"
   },
   "outputs": [
    {
     "data": {
      "text/plain": [
       "['__doc__',\n",
       " '__loader__',\n",
       " '__name__',\n",
       " '__package__',\n",
       " '__spec__',\n",
       " 'acos',\n",
       " 'acosh',\n",
       " 'asin',\n",
       " 'asinh',\n",
       " 'atan',\n",
       " 'atan2',\n",
       " 'atanh',\n",
       " 'ceil',\n",
       " 'copysign',\n",
       " 'cos',\n",
       " 'cosh',\n",
       " 'degrees',\n",
       " 'e',\n",
       " 'erf',\n",
       " 'erfc',\n",
       " 'exp',\n",
       " 'expm1',\n",
       " 'fabs',\n",
       " 'factorial',\n",
       " 'floor',\n",
       " 'fmod',\n",
       " 'frexp',\n",
       " 'fsum',\n",
       " 'gamma',\n",
       " 'gcd',\n",
       " 'hypot',\n",
       " 'inf',\n",
       " 'isclose',\n",
       " 'isfinite',\n",
       " 'isinf',\n",
       " 'isnan',\n",
       " 'ldexp',\n",
       " 'lgamma',\n",
       " 'log',\n",
       " 'log10',\n",
       " 'log1p',\n",
       " 'log2',\n",
       " 'modf',\n",
       " 'nan',\n",
       " 'pi',\n",
       " 'pow',\n",
       " 'radians',\n",
       " 'sin',\n",
       " 'sinh',\n",
       " 'sqrt',\n",
       " 'tan',\n",
       " 'tanh',\n",
       " 'tau',\n",
       " 'trunc']"
      ]
     },
     "execution_count": 13,
     "metadata": {
      "tags": []
     },
     "output_type": "execute_result"
    }
   ],
   "source": [
    "import math\n",
    "dir(math)"
   ]
  },
  {
   "cell_type": "code",
   "execution_count": null,
   "metadata": {
    "colab": {
     "base_uri": "https://localhost:8080/",
     "height": 34
    },
    "colab_type": "code",
    "id": "5JKe8zilUGVr",
    "outputId": "90a8143a-97cd-48c7-ca4f-fe751eab19b0"
   },
   "outputs": [
    {
     "name": "stdout",
     "output_type": "stream",
     "text": [
      "6.283185307179586\n"
     ]
    }
   ],
   "source": [
    "print(math.pi*2)"
   ]
  },
  {
   "cell_type": "code",
   "execution_count": null,
   "metadata": {
    "colab": {
     "base_uri": "https://localhost:8080/",
     "height": 34
    },
    "colab_type": "code",
    "id": "mMAc7_C9ULSH",
    "outputId": "04b0ca26-ba27-43f5-bf70-0ee912242e8a"
   },
   "outputs": [
    {
     "data": {
      "text/plain": [
       "0.320040389379563"
      ]
     },
     "execution_count": 16,
     "metadata": {
      "tags": []
     },
     "output_type": "execute_result"
    }
   ],
   "source": [
    "math.tan(60)"
   ]
  },
  {
   "cell_type": "code",
   "execution_count": null,
   "metadata": {
    "colab": {
     "base_uri": "https://localhost:8080/",
     "height": 34
    },
    "colab_type": "code",
    "id": "-JkQeRfwUWhr",
    "outputId": "90f4bd4e-7bd9-409e-e373-aabfd71dbebc"
   },
   "outputs": [
    {
     "data": {
      "text/plain": [
       "-0.3048106211022167"
      ]
     },
     "execution_count": 17,
     "metadata": {
      "tags": []
     },
     "output_type": "execute_result"
    }
   ],
   "source": [
    "math.sin(60)"
   ]
  },
  {
   "cell_type": "code",
   "execution_count": null,
   "metadata": {
    "colab": {
     "base_uri": "https://localhost:8080/",
     "height": 34
    },
    "colab_type": "code",
    "id": "7hHfUfdvUZur",
    "outputId": "4eced380-898e-48a1-9ed9-76e3b6f8bf6d"
   },
   "outputs": [
    {
     "data": {
      "text/plain": [
       "17"
      ]
     },
     "execution_count": 48,
     "metadata": {
      "tags": []
     },
     "output_type": "execute_result"
    }
   ],
   "source": [
    "import random\n",
    "\n",
    "int(random.random()*100)"
   ]
  },
  {
   "cell_type": "code",
   "execution_count": null,
   "metadata": {
    "colab": {
     "base_uri": "https://localhost:8080/",
     "height": 34
    },
    "colab_type": "code",
    "id": "y3fEV7PmU5Yp",
    "outputId": "9f79d680-320b-4b45-87db-4cf75c74f854"
   },
   "outputs": [
    {
     "data": {
      "text/plain": [
       "1"
      ]
     },
     "execution_count": 26,
     "metadata": {
      "tags": []
     },
     "output_type": "execute_result"
    }
   ],
   "source": [
    "random.choice([1,2,3,4])"
   ]
  },
  {
   "cell_type": "code",
   "execution_count": null,
   "metadata": {
    "colab": {
     "base_uri": "https://localhost:8080/",
     "height": 34
    },
    "colab_type": "code",
    "id": "y-m751adU7fG",
    "outputId": "441d1a9c-2d14-4a1b-a0e8-e34b9d22c40a"
   },
   "outputs": [
    {
     "data": {
      "text/plain": [
       "[2, 4]"
      ]
     },
     "execution_count": 49,
     "metadata": {
      "tags": []
     },
     "output_type": "execute_result"
    }
   ],
   "source": [
    "random.choices([1,2,3,4],k=2)"
   ]
  },
  {
   "cell_type": "code",
   "execution_count": null,
   "metadata": {
    "colab": {
     "base_uri": "https://localhost:8080/",
     "height": 34
    },
    "colab_type": "code",
    "id": "EUWofThmWUX9",
    "outputId": "996d583d-8cd3-4a92-d24d-b3ff23ec2a76"
   },
   "outputs": [
    {
     "data": {
      "text/plain": [
       "81"
      ]
     },
     "execution_count": 54,
     "metadata": {
      "tags": []
     },
     "output_type": "execute_result"
    }
   ],
   "source": [
    "math.trunc(random.random()*100)"
   ]
  },
  {
   "cell_type": "code",
   "execution_count": null,
   "metadata": {
    "colab": {
     "base_uri": "https://localhost:8080/",
     "height": 34
    },
    "colab_type": "code",
    "id": "rl4Dh5WhWaFh",
    "outputId": "f1d8ae09-320f-4e5d-fce6-ad19f3e4d4d5"
   },
   "outputs": [
    {
     "data": {
      "text/plain": [
       "3.141592653589793"
      ]
     },
     "execution_count": 56,
     "metadata": {
      "tags": []
     },
     "output_type": "execute_result"
    }
   ],
   "source": [
    "math.pi"
   ]
  },
  {
   "cell_type": "code",
   "execution_count": null,
   "metadata": {
    "colab": {
     "base_uri": "https://localhost:8080/",
     "height": 51
    },
    "colab_type": "code",
    "id": "_7HsKdY5o34K",
    "outputId": "b9d6d501-a44a-46d6-ed36-24b2df4fa5fc"
   },
   "outputs": [
    {
     "name": "stdout",
     "output_type": "stream",
     "text": [
      "Enter to search: mobile\n",
      "<generator object <genexpr> at 0x7f4a55ffea98>\n"
     ]
    }
   ],
   "source": [
    "product_list = {'mobile','pen','t_shirt','laptops','jacket','TV','books',\n",
    "                'speaker','mouse','keyboard','jeans','clock','charger',\n",
    "                'football','videogames','ps5','xbox','intel i3','t-shirt', 'capri', 'toys', 'oneplus','footwear', 'watches', 'headsets','hand-tools', 'top', 'bottle','tooth-paste'}\n",
    "item = input(\"Enter to search: \")\n",
    "try:\n",
    "  if item not in product_list:\n",
    "    raise Exception(item)\n",
    "  else:\n",
    "    print()\n",
    "except Exception as err:\n",
    "  print('Please write valid input')\n"
   ]
  },
  {
   "cell_type": "code",
   "execution_count": null,
   "metadata": {
    "colab": {
     "base_uri": "https://localhost:8080/",
     "height": 51
    },
    "colab_type": "code",
    "id": "1-kyG3CSsAzl",
    "outputId": "2f2f9984-7d14-4a5f-814f-8b4154877471"
   },
   "outputs": [
    {
     "name": "stdout",
     "output_type": "stream",
     "text": [
      "Enter the product name:fdf\n",
      "'fdf' is not in list\n"
     ]
    }
   ],
   "source": [
    "products = ['mobile', 'laptop', 'table', 'car']\n",
    "\n",
    "product_name = input(\"Enter the product name:\")\n",
    "try:\n",
    "  print(products.index(product_name))\n",
    "except Exception as err:\n",
    "  print(err)"
   ]
  },
  {
   "cell_type": "code",
   "execution_count": null,
   "metadata": {
    "colab": {
     "base_uri": "https://localhost:8080/",
     "height": 54
    },
    "colab_type": "code",
    "id": "16FfblBBs9ak",
    "outputId": "b4baedf9-5fbe-4265-8dc0-71ee7f433626"
   },
   "outputs": [
    {
     "name": "stdout",
     "output_type": "stream",
     "text": [
      "['ArithmeticError', 'AssertionError', 'AttributeError', 'BaseException', 'BlockingIOError', 'BrokenPipeError', 'BufferError', 'BytesWarning', 'ChildProcessError', 'ConnectionAbortedError', 'ConnectionError', 'ConnectionRefusedError', 'ConnectionResetError', 'DeprecationWarning', 'EOFError', 'Ellipsis', 'EnvironmentError', 'Exception', 'False', 'FileExistsError', 'FileNotFoundError', 'FloatingPointError', 'FutureWarning', 'GeneratorExit', 'IOError', 'ImportError', 'ImportWarning', 'IndentationError', 'IndexError', 'InterruptedError', 'IsADirectoryError', 'KeyError', 'KeyboardInterrupt', 'LookupError', 'MemoryError', 'ModuleNotFoundError', 'NameError', 'None', 'NotADirectoryError', 'NotImplemented', 'NotImplementedError', 'OSError', 'OverflowError', 'PendingDeprecationWarning', 'PermissionError', 'ProcessLookupError', 'RecursionError', 'ReferenceError', 'ResourceWarning', 'RuntimeError', 'RuntimeWarning', 'StopAsyncIteration', 'StopIteration', 'SyntaxError', 'SyntaxWarning', 'SystemError', 'SystemExit', 'TabError', 'TimeoutError', 'True', 'TypeError', 'UnboundLocalError', 'UnicodeDecodeError', 'UnicodeEncodeError', 'UnicodeError', 'UnicodeTranslateError', 'UnicodeWarning', 'UserWarning', 'ValueError', 'Warning', 'ZeroDivisionError', '__IPYTHON__', '__build_class__', '__debug__', '__doc__', '__import__', '__loader__', '__name__', '__package__', '__spec__', 'abs', 'all', 'any', 'ascii', 'bin', 'bool', 'bytearray', 'bytes', 'callable', 'chr', 'classmethod', 'compile', 'complex', 'copyright', 'credits', 'delattr', 'dict', 'dir', 'display', 'divmod', 'dreload', 'enumerate', 'eval', 'exec', 'filter', 'float', 'format', 'frozenset', 'get_ipython', 'getattr', 'globals', 'hasattr', 'hash', 'help', 'hex', 'id', 'input', 'int', 'isinstance', 'issubclass', 'iter', 'len', 'license', 'list', 'locals', 'map', 'max', 'memoryview', 'min', 'next', 'object', 'oct', 'open', 'ord', 'pow', 'print', 'property', 'range', 'repr', 'reversed', 'round', 'set', 'setattr', 'slice', 'sorted', 'staticmethod', 'str', 'sum', 'super', 'tuple', 'type', 'vars', 'zip']\n"
     ]
    }
   ],
   "source": [
    "print(dir(__builtins__))"
   ]
  },
  {
   "cell_type": "markdown",
   "metadata": {
    "colab_type": "text",
    "id": "iMOXNlJxhQd8"
   },
   "source": [
    "# FileHandling"
   ]
  },
  {
   "cell_type": "code",
   "execution_count": null,
   "metadata": {
    "colab": {},
    "colab_type": "code",
    "id": "lYyHvXK8hf6B"
   },
   "outputs": [],
   "source": [
    "try:\n",
    "  myfile = open(\"drive/My Drive/abc.txt\", \"w\")\n",
    "  myfile.write(\"Hello hi Python.\")\n",
    "  myfile.close()\n",
    "except Exception as err:\n",
    "  print(err)"
   ]
  },
  {
   "cell_type": "code",
   "execution_count": null,
   "metadata": {
    "colab": {
     "base_uri": "https://localhost:8080/",
     "height": 34
    },
    "colab_type": "code",
    "id": "UvdOohXOi7KS",
    "outputId": "ec821dad-0247-49c2-d0ee-6141cf1ef009"
   },
   "outputs": [
    {
     "name": "stdout",
     "output_type": "stream",
     "text": [
      "Hello hi Python.\n"
     ]
    }
   ],
   "source": [
    "try:\n",
    "  myfile = open(r\"drive/My Drive/abc.txt\", \"r\")\n",
    "  print(myfile.read())\n",
    "  myfile.close()\n",
    "except Exception as err:\n",
    "  print(err)"
   ]
  },
  {
   "cell_type": "code",
   "execution_count": null,
   "metadata": {
    "colab": {
     "base_uri": "https://localhost:8080/",
     "height": 54
    },
    "colab_type": "code",
    "id": "AEx9mG9xj5AT",
    "outputId": "d5aeb983-42e0-4002-e53f-35f11a225b05"
   },
   "outputs": [
    {
     "name": "stdout",
     "output_type": "stream",
     "text": [
      "<_io.TextIOWrapper name='drive/My Drive/Data/houses.csv' mode='r' encoding='UTF-8'>\n"
     ]
    }
   ],
   "source": [
    "try:\n",
    "  myfile = open(\"drive/My Drive/Data/houses.csv\", \"r\")\n",
    "  print(myfile)\n",
    "  myfile.close()\n",
    "except Exception as err:\n",
    "  print(\"error:\",err)"
   ]
  },
  {
   "cell_type": "code",
   "execution_count": null,
   "metadata": {
    "colab": {},
    "colab_type": "code",
    "id": "WC3OPG3jm7gz"
   },
   "outputs": [],
   "source": [
    "#### appending a file"
   ]
  },
  {
   "cell_type": "code",
   "execution_count": null,
   "metadata": {
    "colab": {},
    "colab_type": "code",
    "id": "T29OeGodlL9L"
   },
   "outputs": [],
   "source": [
    "try:\n",
    "  myfile = open(r\"drive/My Drive/abc.txt\", \"a\")\n",
    "  myfile.write(\"This is the second line\")\n",
    "  myfile.close()\n",
    "except Exception as err:\n",
    "  print(err)"
   ]
  },
  {
   "cell_type": "code",
   "execution_count": null,
   "metadata": {
    "colab": {},
    "colab_type": "code",
    "id": "KfuupU0Vm5Q4"
   },
   "outputs": [],
   "source": []
  },
  {
   "cell_type": "code",
   "execution_count": null,
   "metadata": {
    "colab": {
     "base_uri": "https://localhost:8080/",
     "height": 102
    },
    "colab_type": "code",
    "id": "8puUXf5wmaMz",
    "outputId": "bff34727-5f82-454c-d0af-267109ce26ef"
   },
   "outputs": [
    {
     "name": "stdout",
     "output_type": "stream",
     "text": [
      "Hello hi Python.This is the second lineThis is the second line\n",
      "\n",
      "Hello\n",
      "How are you\n",
      "omg\n"
     ]
    }
   ],
   "source": [
    "try:\n",
    "  myfile = open(r\"drive/My Drive/abc.txt\")\n",
    "  # print(myfile.read())\n",
    "  # print(myfile.read(18))  # it takes only 18 characters\n",
    "  # print(myfile.readline())  #it print only first line\n",
    "  # print(myfile.readlines())\n",
    "  for line in myfile.readlines(): # This is the efficient way\n",
    "    print(line, end=\"\")\n",
    "  myfile.close()\n",
    "except Exception as err:\n",
    "  print(err)"
   ]
  },
  {
   "cell_type": "code",
   "execution_count": null,
   "metadata": {
    "colab": {
     "base_uri": "https://localhost:8080/",
     "height": 54
    },
    "colab_type": "code",
    "id": "EJhax3bgp9Nd",
    "outputId": "3274e69a-0740-43c7-878e-53e4c6352930"
   },
   "outputs": [
    {
     "name": "stdout",
     "output_type": "stream",
     "text": [
      "{\"nbformat\":4,\"nbformat_minor\":0,\"metadata\":{\"colab\":{\"name\":\"12th_DSML.ipynb\",\"provenance\":[],\"collapsed_sections\":[]},\"kernelspec\":{\"name\":\"python3\",\"display_name\":\"Python 3\"}},\"cells\":[{\"cell_type\":\"markdown\",\"metadata\":{\"id\":\"6djJJzTFZRY8\",\"colab_type\":\"text\"},\"source\":[\"# if elif else\"]},{\"cell_type\":\"code\",\"metadata\":{\"id\":\"ct_VaU9nZQpd\",\"colab_type\":\"code\",\"colab\":{\"base_uri\":\"https://localhost:8080/\",\"height\":51},\"executionInfo\":{\"status\":\"ok\",\"timestamp\":1598854562657,\"user_tz\":-330,\"elapsed\":24850,\"user\":{\"displayName\":\"Prashant Singh\",\"photoUrl\":\"\",\"userId\":\"04712602781244046847\"}},\"outputId\":\"22454578-f25b-40da-a8e1-23bb20a8b8cd\"},\"source\":[\"age = int(input('Enter your age: '))\\n\",\"\\n\",\"if age < 18:\\n\",\"  print('you can\\\\'t apply for driving license')\\n\",\"elif age > 40:\\n\",\"  print('medical certificate is necessary for applying driving license')\\n\",\"else:\\n\",\"  print('you can apply for driving license🙂🙂🙂')\"],\"execution_count\":null,\"outputs\":[{\"output_type\":\"stream\",\"text\":[\"Enter your age: 12\\n\",\"you can't apply for driving license\\n\"],\"name\":\"stdout\"}]},{\"cell_type\":\"markdown\",\"metadata\":{\"id\":\"6e5Poszof0Ot\",\"colab_type\":\"text\"},\"source\":[\"# while Loop Statements\"]},{\"cell_type\":\"code\",\"metadata\":{\"id\":\"bSai_cG2fKHi\",\"colab_type\":\"code\",\"colab\":{}},\"source\":[\"\"],\"execution_count\":null,\"outputs\":[]},{\"cell_type\":\"markdown\",\"metadata\":{\"id\":\"ENdJBGn7gYph\",\"colab_type\":\"text\"},\"source\":[\"# break Statements\"]},{\"cell_type\":\"markdown\",\"metadata\":{\"id\":\"WLzJCBtLgc7F\",\"colab_type\":\"text\"},\"source\":[\"# continue statements\"]},{\"cell_type\":\"markdown\",\"metadata\":{\"id\":\"3hVG8NCzgh-Z\",\"colab_type\":\"text\"},\"source\":[\"# for Loops and the range() Function\"]},{\"cell_type\":\"markdown\",\"metadata\":{\"id\":\"MXjKMYEGgo_i\",\"colab_type\":\"text\"},\"source\":[\"# for else statement\"]},{\"cell_type\":\"markdown\",\"metadata\":{\"id\":\"YH6AT8aIgwGa\",\"colab_type\":\"text\"},\"source\":[\"# Importing Modules\"]},{\"cell_type\":\"markdown\",\"metadata\":{\"id\":\"EBMuLq09hFwY\",\"colab_type\":\"text\"},\"source\":[\"# Ending a Program Early with sys.exit()\"]},{\"cell_type\":\"markdown\",\"metadata\":{\"id\":\"LEf-H49BhL6S\",\"colab_type\":\"text\"},\"source\":[\"# Map Function\"]},{\"cell_type\":\"code\",\"metadata\":{\"id\":\"ovxYlab_g-xp\",\"colab_type\":\"code\",\"colab\":{}},\"source\":[\"\"],\"execution_count\":null,\"outputs\":[]},{\"cell_type\":\"code\",\"metadata\":{\"id\":\"bXk13emDa9LM\",\"colab_type\":\"code\",\"colab\":{\"base_uri\":\"https://localhost:8080/\",\"height\":102},\"executionInfo\":{\"status\":\"ok\",\"timestamp\":1598854562670,\"user_tz\":-330,\"elapsed\":24759,\"user\":{\"displayName\":\"Prashant Singh\",\"photoUrl\":\"\",\"userId\":\"04712602781244046847\"}},\"outputId\":\"8e8e0620-9322-4fc5-86d1-5389ae1854c8\"},\"source\":[\"def myfunc(a, b):\\n\",\"  print(a+b)\\n\",\"  return a + b\\n\",\"\\n\",\"g = map(myfunc, ('apple', 'banana', 'cherry'), ('orange', 'lemon', 'pineapple'))\\n\",\"print(g)\\n\",\"g = list(g)\\n\",\"g \\n\"],\"execution_count\":null,\"outputs\":[{\"output_type\":\"stream\",\"text\":[\"<map object at 0x7f9a9ee5c588>\\n\",\"appleorange\\n\",\"bananalemon\\n\",\"cherrypineapple\\n\"],\"name\":\"stdout\"},{\"output_type\":\"execute_result\",\"data\":{\"text/plain\":[\"['appleorange', 'bananalemon', 'cherrypineapple']\"]},\"metadata\":{\"tags\":[]},\"execution_count\":2}]},{\"cell_type\":\"markdown\",\"metadata\":{\"id\":\"ryjL_QizX26v\",\"colab_type\":\"text\"},\"source\":[\"\\n\",\"# Dictonary\"]},{\"cell_type\":\"code\",\"metadata\":{\"id\":\"7L1Bp6U7X7qb\",\"colab_type\":\"code\",\"colab\":{}},\"source\":[\"students = dict({\\n\",\"    'Prashant': ['C', 'Python', 'Java', 'Kotlin', 'c++', 'Dart']\\n\",\"    \\n\",\"})\"],\"execution_count\":null,\"outputs\":[]},{\"cell_type\":\"code\",\"metadata\":{\"id\":\"HmBDy6aDZ1TB\",\"colab_type\":\"code\",\"colab\":{\"base_uri\":\"https://localhost:8080/\",\"height\":833},\"executionInfo\":{\"status\":\"error\",\"timestamp\":1598854711234,\"user_tz\":-330,\"elapsed\":109002,\"user\":{\"displayName\":\"Prashant Singh\",\"photoUrl\":\"\",\"userId\":\"04712602781244046847\"}},\"outputId\":\"2fc88aa0-ad61-458a-c3a5-77b7ecbfc776\"},\"source\":[\"employees = dict({\\n\",\"68319: [\\\"KAYLING\\\",  \\\"p1\\\", \\\"p2\\\"]    ,     \\n\",\"66928: [\\\"BLAZE\\\" ,   \\\"p1\\\"]   ,\\n\",\"67832: [\\\"CLARE\\\" ,   \\\"p1\\\"]   ,\\n\",\"65646: [\\\"JONAS\\\" ,   \\\"p1\\\", \\\"p2\\\"]   ,\\n\",\"67858: [\\\"SCARLET\\\" , \\\"p1\\\", \\\"p2\\\"]   ,\\n\",\"69062: [\\\"FRANK\\\" ,   \\\"p2\\\"],\\n\",\"63679: [\\\"SANDRINE\\\" ,\\\"p1\\\", \\\"p2\\\"],\\n\",\"64989: [\\\"ADELYN\\\" ,  \\\"p1\\\", \\\"p2\\\"]   ,\\n\",\"65271: [\\\"WADE\\\" ,    \\\"p2\\\"]   ,\\n\",\"66564: [\\\"MADDEN\\\" ,  \\\"p1\\\", \\\"p2\\\"]    ,\\n\",\"68454: [\\\"TUCKER\\\" ,  \\\"p2\\\"]   ,\\n\",\"68736: [\\\"ADNRES\\\" ,  \\\"p1\\\", \\\"p2\\\"] ,\\n\",\"69000: [\\\"JULIUS\\\" ,  \\\"p2\\\"] ,\\n\",\"69324: [\\\"MARKER\\\",   \\\"p1\\\", \\\"p2\\\"]    ,     \\n\",\"})\\n\",\"for i, j in employees.items():\\n\",\"  print(i, j)\\n\",\"while True:\\n\",\"  id = int(input(\\\"Enter your Employee id: \\\\n\\\"))\\n\",\"  if id not in employees.keys():\\n\",\"    print('Employeee id is not valid')\\n\",\"  else:\\n\",\"    pass\"],\"execution_count\":null,\"outputs\":[{\"output_type\":\"stream\",\"text\":[\"68319 ['KAYLING', 'p1', 'p2']\\n\",\"66928 ['BLAZE', 'p1']\\n\",\"67832 ['CLARE', 'p1']\\n\",\"65646 ['JONAS', 'p1', 'p2']\\n\",\"67858 ['SCARLET', 'p1', 'p2']\\n\",\"69062 ['FRANK', 'p2']\\n\",\"63679 ['SANDRINE', 'p1', 'p2']\\n\",\"64989 ['ADELYN', 'p1', 'p2']\\n\",\"65271 ['WADE', 'p2']\\n\",\"66564 ['MADDEN', 'p1', 'p2']\\n\",\"68454 ['TUCKER', 'p2']\\n\",\"68736 ['ADNRES', 'p1', 'p2']\\n\",\"69000 ['JULIUS', 'p2']\\n\",\"69324 ['MARKER', 'p1', 'p2']\\n\",\"Enter your Employee id: \\n\",\"69324\\n\"],\"name\":\"stdout\"},{\"output_type\":\"error\",\"ename\":\"KeyboardInterrupt\",\"evalue\":\"ignored\",\"traceback\":[\"\\u001b[0;31m---------------------------------------------------------------------------\\u001b[0m\",\"\\u001b[0;31mKeyboardInterrupt\\u001b[0m                         Traceback (most recent call last)\",\"\\u001b[0;32m/usr/local/lib/python3.6/dist-packages/ipykernel/kernelbase.py\\u001b[0m in \\u001b[0;36m_input_request\\u001b[0;34m(self, prompt, ident, parent, password)\\u001b[0m\\n\\u001b[1;32m    728\\u001b[0m             \\u001b[0;32mtry\\u001b[0m\\u001b[0;34m:\\u001b[0m\\u001b[0;34m\\u001b[0m\\u001b[0;34m\\u001b[0m\\u001b[0m\\n\\u001b[0;32m--> 729\\u001b[0;31m                 \\u001b[0mident\\u001b[0m\\u001b[0;34m,\\u001b[0m \\u001b[0mreply\\u001b[0m \\u001b[0;34m=\\u001b[0m \\u001b[0mself\\u001b[0m\\u001b[0;34m.\\u001b[0m\\u001b[0msession\\u001b[0m\\u001b[0;34m.\\u001b[0m\\u001b[0mrecv\\u001b[0m\\u001b[0;34m(\\u001b[0m\\u001b[0mself\\u001b[0m\\u001b[0;34m.\\u001b[0m\\u001b[0mstdin_socket\\u001b[0m\\u001b[0;34m,\\u001b[0m \\u001b[0;36m0\\u001b[0m\\u001b[0;34m)\\u001b[0m\\u001b[0;34m\\u001b[0m\\u001b[0;34m\\u001b[0m\\u001b[0m\\n\\u001b[0m\\u001b[1;32m    730\\u001b[0m             \\u001b[0;32mexcept\\u001b[0m \\u001b[0mException\\u001b[0m\\u001b[0;34m:\\u001b[0m\\u001b[0;34m\\u001b[0m\\u001b[0;34m\\u001b[0m\\u001b[0m\\n\",\"\\u001b[0;32m/usr/local/lib/python3.6/dist-packages/jupyter_client/session.py\\u001b[0m in \\u001b[0;36mrecv\\u001b[0;34m(self, socket, mode, content, copy)\\u001b[0m\\n\\u001b[1;32m    802\\u001b[0m         \\u001b[0;32mtry\\u001b[0m\\u001b[0;34m:\\u001b[0m\\u001b[0;34m\\u001b[0m\\u001b[0;34m\\u001b[0m\\u001b[0m\\n\\u001b[0;32m--> 803\\u001b[0;31m             \\u001b[0mmsg_list\\u001b[0m \\u001b[0;34m=\\u001b[0m \\u001b[0msocket\\u001b[0m\\u001b[0;34m.\\u001b[0m\\u001b[0mrecv_multipart\\u001b[0m\\u001b[0;34m(\\u001b[0m\\u001b[0mmode\\u001b[0m\\u001b[0;34m,\\u001b[0m \\u001b[0mcopy\\u001b[0m\\u001b[0;34m=\\u001b[0m\\u001b[0mcopy\\u001b[0m\\u001b[0;34m)\\u001b[0m\\u001b[0;34m\\u001b[0m\\u001b[0;34m\\u001b[0m\\u001b[0m\\n\\u001b[0m\\u001b[1;32m    804\\u001b[0m         \\u001b[0;32mexcept\\u001b[0m \\u001b[0mzmq\\u001b[0m\\u001b[0;34m.\\u001b[0m\\u001b[0mZMQError\\u001b[0m \\u001b[0;32mas\\u001b[0m \\u001b[0me\\u001b[0m\\u001b[0;34m:\\u001b[0m\\u001b[0;34m\\u001b[0m\\u001b[0;34m\\u001b[0m\\u001b[0m\\n\",\"\\u001b[0;32m/usr/local/lib/python3.6/dist-packages/zmq/sugar/socket.py\\u001b[0m in \\u001b[0;36mrecv_multipart\\u001b[0;34m(self, flags, copy, track)\\u001b[0m\\n\\u001b[1;32m    490\\u001b[0m         \\\"\\\"\\\"\\n\\u001b[0;32m--> 491\\u001b[0;31m         \\u001b[0mparts\\u001b[0m \\u001b[0;34m=\\u001b[0m \\u001b[0;34m[\\u001b[0m\\u001b[0mself\\u001b[0m\\u001b[0;34m.\\u001b[0m\\u001b[0mrecv\\u001b[0m\\u001b[0;34m(\\u001b[0m\\u001b[0mflags\\u001b[0m\\u001b[0;34m,\\u001b[0m \\u001b[0mcopy\\u001b[0m\\u001b[0;34m=\\u001b[0m\\u001b[0mcopy\\u001b[0m\\u001b[0;34m,\\u001b[0m \\u001b[0mtrack\\u001b[0m\\u001b[0;34m=\\u001b[0m\\u001b[0mtrack\\u001b[0m\\u001b[0;34m)\\u001b[0m\\u001b[0;34m]\\u001b[0m\\u001b[0;34m\\u001b[0m\\u001b[0;34m\\u001b[0m\\u001b[0m\\n\\u001b[0m\\u001b[1;32m    492\\u001b[0m         \\u001b[0;31m# have first part already, only loop while more to receive\\u001b[0m\\u001b[0;34m\\u001b[0m\\u001b[0;34m\\u001b[0m\\u001b[0;34m\\u001b[0m\\u001b[0m\\n\",\"\\u001b[0;32mzmq/backend/cython/socket.pyx\\u001b[0m in \\u001b[0;36mzmq.backend.cython.socket.Socket.recv\\u001b[0;34m()\\u001b[0m\\n\",\"\\u001b[0;32mzmq/backend/cython/socket.pyx\\u001b[0m in \\u001b[0;36mzmq.backend.cython.socket.Socket.recv\\u001b[0;34m()\\u001b[0m\\n\",\"\\u001b[0;32mzmq/backend/cython/socket.pyx\\u001b[0m in \\u001b[0;36mzmq.backend.cython.socket._recv_copy\\u001b[0;34m()\\u001b[0m\\n\",\"\\u001b[0;32m/usr/local/lib/python3.6/dist-packages/zmq/backend/cython/checkrc.pxd\\u001b[0m in \\u001b[0;36mzmq.backend.cython.checkrc._check_rc\\u001b[0;34m()\\u001b[0m\\n\",\"\\u001b[0;31mKeyboardInterrupt\\u001b[0m: \",\"\\nDuring handling of the above exception, another exception occurred:\\n\",\"\\u001b[0;31mKeyboardInterrupt\\u001b[0m                         Traceback (most recent call last)\",\"\\u001b[0;32m<ipython-input-5-bcbbbcc0111b>\\u001b[0m in \\u001b[0;36m<module>\\u001b[0;34m()\\u001b[0m\\n\\u001b[1;32m     18\\u001b[0m   \\u001b[0mprint\\u001b[0m\\u001b[0;34m(\\u001b[0m\\u001b[0mi\\u001b[0m\\u001b[0;34m,\\u001b[0m \\u001b[0mj\\u001b[0m\\u001b[0;34m)\\u001b[0m\\u001b[0;34m\\u001b[0m\\u001b[0;34m\\u001b[0m\\u001b[0m\\n\\u001b[1;32m     19\\u001b[0m \\u001b[0;32mwhile\\u001b[0m \\u001b[0;32mTrue\\u001b[0m\\u001b[0;34m:\\u001b[0m\\u001b[0;34m\\u001b[0m\\u001b[0;34m\\u001b[0m\\u001b[0m\\n\\u001b[0;32m---> 20\\u001b[0;31m   \\u001b[0mid\\u001b[0m \\u001b[0;34m=\\u001b[0m \\u001b[0mint\\u001b[0m\\u001b[0;34m(\\u001b[0m\\u001b[0minput\\u001b[0m\\u001b[0;34m(\\u001b[0m\\u001b[0;34m\\\"Enter your Employee id: \\\\n\\\"\\u001b[0m\\u001b[0;34m)\\u001b[0m\\u001b[0;34m)\\u001b[0m\\u001b[0;34m\\u001b[0m\\u001b[0;34m\\u001b[0m\\u001b[0m\\n\\u001b[0m\\u001b[1;32m     21\\u001b[0m   \\u001b[0;32mif\\u001b[0m \\u001b[0mid\\u001b[0m \\u001b[0;32mnot\\u001b[0m \\u001b[0;32min\\u001b[0m \\u001b[0memployees\\u001b[0m\\u001b[0;34m.\\u001b[0m\\u001b[0mkeys\\u001b[0m\\u001b[0;34m(\\u001b[0m\\u001b[0;34m)\\u001b[0m\\u001b[0;34m:\\u001b[0m\\u001b[0;34m\\u001b[0m\\u001b[0;34m\\u001b[0m\\u001b[0m\\n\\u001b[1;32m     22\\u001b[0m     \\u001b[0mprint\\u001b[0m\\u001b[0;34m(\\u001b[0m\\u001b[0;34m'Employeee id is not valid'\\u001b[0m\\u001b[0;34m)\\u001b[0m\\u001b[0;34m\\u001b[0m\\u001b[0;34m\\u001b[0m\\u001b[0m\\n\",\"\\u001b[0;32m/usr/local/lib/python3.6/dist-packages/ipykernel/kernelbase.py\\u001b[0m in \\u001b[0;36mraw_input\\u001b[0;34m(self, prompt)\\u001b[0m\\n\\u001b[1;32m    702\\u001b[0m             \\u001b[0mself\\u001b[0m\\u001b[0;34m.\\u001b[0m\\u001b[0m_parent_ident\\u001b[0m\\u001b[0;34m,\\u001b[0m\\u001b[0;34m\\u001b[0m\\u001b[0;34m\\u001b[0m\\u001b[0m\\n\\u001b[1;32m    703\\u001b[0m             \\u001b[0mself\\u001b[0m\\u001b[0;34m.\\u001b[0m\\u001b[0m_parent_header\\u001b[0m\\u001b[0;34m,\\u001b[0m\\u001b[0;34m\\u001b[0m\\u001b[0;34m\\u001b[0m\\u001b[0m\\n\\u001b[0;32m--> 704\\u001b[0;31m             \\u001b[0mpassword\\u001b[0m\\u001b[0;34m=\\u001b[0m\\u001b[0;32mFalse\\u001b[0m\\u001b[0;34m,\\u001b[0m\\u001b[0;34m\\u001b[0m\\u001b[0;34m\\u001b[0m\\u001b[0m\\n\\u001b[0m\\u001b[1;32m    705\\u001b[0m         )\\n\\u001b[1;32m    706\\u001b[0m \\u001b[0;34m\\u001b[0m\\u001b[0m\\n\",\"\\u001b[0;32m/usr/local/lib/python3.6/dist-packages/ipykernel/kernelbase.py\\u001b[0m in \\u001b[0;36m_input_request\\u001b[0;34m(self, prompt, ident, parent, password)\\u001b[0m\\n\\u001b[1;32m    732\\u001b[0m             \\u001b[0;32mexcept\\u001b[0m \\u001b[0mKeyboardInterrupt\\u001b[0m\\u001b[0;34m:\\u001b[0m\\u001b[0;34m\\u001b[0m\\u001b[0;34m\\u001b[0m\\u001b[0m\\n\\u001b[1;32m    733\\u001b[0m                 \\u001b[0;31m# re-raise KeyboardInterrupt, to truncate traceback\\u001b[0m\\u001b[0;34m\\u001b[0m\\u001b[0;34m\\u001b[0m\\u001b[0;34m\\u001b[0m\\u001b[0m\\n\\u001b[0;32m--> 734\\u001b[0;31m                 \\u001b[0;32mraise\\u001b[0m \\u001b[0mKeyboardInterrupt\\u001b[0m\\u001b[0;34m\\u001b[0m\\u001b[0;34m\\u001b[0m\\u001b[0m\\n\\u001b[0m\\u001b[1;32m    735\\u001b[0m             \\u001b[0;32melse\\u001b[0m\\u001b[0;34m:\\u001b[0m\\u001b[0;34m\\u001b[0m\\u001b[0;34m\\u001b[0m\\u001b[0m\\n\\u001b[1;32m    736\\u001b[0m                 \\u001b[0;32mbreak\\u001b[0m\\u001b[0;34m\\u001b[0m\\u001b[0;34m\\u001b[0m\\u001b[0m\\n\",\"\\u001b[0;31mKeyboardInterrupt\\u001b[0m: \"]}]},{\"cell_type\":\"markdown\",\"metadata\":{\"id\":\"OXbJnh8LbmZB\",\"colab_type\":\"text\"},\"source\":[\"## Functions\"]},{\"cell_type\":\"code\",\"metadata\":{\"id\":\"Gnyy4PHFjuJQ\",\"colab_type\":\"code\",\"colab\":{\"base_uri\":\"https://localhost:8080/\",\"height\":51},\"executionInfo\":{\"status\":\"ok\",\"timestamp\":1598854718859,\"user_tz\":-330,\"elapsed\":1549,\"user\":{\"displayName\":\"Prashant Singh\",\"photoUrl\":\"\",\"userId\":\"04712602781244046847\"}},\"outputId\":\"642be61d-2969-4dff-f63b-c837d4e91605\"},\"source\":[\"def my_function(x):\\n\",\"  return 5 * x\\n\",\"\\n\",\"print(my_function(3))\\n\",\"print(my_function(5))\"],\"execution_count\":null,\"outputs\":[{\"output_type\":\"stream\",\"text\":[\"15\\n\",\"25\\n\"],\"name\":\"stdout\"}]},{\"cell_type\":\"markdown\",\"metadata\":{\"id\":\"cKUKbCJQkAr3\",\"colab_type\":\"text\"},\"source\":[\"# Create a message app:\\n\",\"Ask the user to enter a message.\\n\",\"1. Total words should be less than or equals to 10.\\n\",\"2. Message should not contain restricted words. make_a_list of restricted words\"]},{\"cell_type\":\"code\",\"metadata\":{\"id\":\"Enxlu0N3kuFU\",\"colab_type\":\"code\",\"colab\":{\"base_uri\":\"https://localhost:8080/\",\"height\":34},\"executionInfo\":{\"status\":\"ok\",\"timestamp\":1598854719483,\"user_tz\":-330,\"elapsed\":2115,\"user\":{\"displayName\":\"Prashant Singh\",\"photoUrl\":\"\",\"userId\":\"04712602781244046847\"}},\"outputId\":\"4582e87e-d9c4-49d7-e591-a9e5deb024f1\"},\"source\":[\"def res_words(x):\\n\",\"  words = [\\\"bad\\\", \\\"dog\\\"]\\n\",\"  list1 = x.split()\\n\",\"  if len(list1) >10:\\n\",\"    print(\\\"you exceed the limit\\\")\\n\",\"  else:\\n\",\"    for i in words:\\n\",\"      if i in list1:\\n\",\"        print('mesage has some restricted word')\\n\",\"        break\\n\",\"    else:\\n\",\"      print('message sent')\\n\",\"\\n\",\"res_words(\\\"hello everyone\\\")\"],\"execution_count\":null,\"outputs\":[{\"output_type\":\"stream\",\"text\":[\"message sent\\n\"],\"name\":\"stdout\"}]},{\"cell_type\":\"code\",\"metadata\":{\"id\":\"bxa_lP1klSyF\",\"colab_type\":\"code\",\"colab\":{\"base_uri\":\"https://localhost:8080/\",\"height\":34},\"executionInfo\":{\"status\":\"ok\",\"timestamp\":1598854719484,\"user_tz\":-330,\"elapsed\":2065,\"user\":{\"displayName\":\"Prashant Singh\",\"photoUrl\":\"\",\"userId\":\"04712602781244046847\"}},\"outputId\":\"2e0b7944-a04a-45c1-8b63-224c8a9722f3\"},\"source\":[\"res_words(\\\"hello bad everyone\\\")\"],\"execution_count\":null,\"outputs\":[{\"output_type\":\"stream\",\"text\":[\"mesage has some restricted word\\n\"],\"name\":\"stdout\"}]},{\"cell_type\":\"code\",\"metadata\":{\"id\":\"-VCetiAilXMx\",\"colab_type\":\"code\",\"colab\":{\"base_uri\":\"https://localhost:8080/\",\"height\":34},\"executionInfo\":{\"status\":\"ok\",\"timestamp\":1598854719485,\"user_tz\":-330,\"elapsed\":2024,\"user\":{\"displayName\":\"Prashant Singh\",\"photoUrl\":\"\",\"userId\":\"04712602781244046847\"}},\"outputId\":\"1fe75487-e3d0-422b-ab16-afe8ca9ba7fb\"},\"source\":[\"x = \\\"hello bad everyone\\\"\\n\",\"lis = x.split\\n\",\"print(str(lis))\"],\"execution_count\":null,\"outputs\":[{\"output_type\":\"stream\",\"text\":[\"<built-in method split of str object at 0x7f9a9e536660>\\n\"],\"name\":\"stdout\"}]},{\"cell_type\":\"code\",\"metadata\":{\"id\":\"J4RxnuP-nd0i\",\"colab_type\":\"code\",\"colab\":{\"base_uri\":\"https://localhost:8080/\",\"height\":34},\"executionInfo\":{\"status\":\"ok\",\"timestamp\":1598854719487,\"user_tz\":-330,\"elapsed\":1993,\"user\":{\"displayName\":\"Prashant Singh\",\"photoUrl\":\"\",\"userId\":\"04712602781244046847\"}},\"outputId\":\"2ecfc1b8-60b5-4782-efb9-deb9fbec1752\"},\"source\":[\"x.split()\"],\"execution_count\":null,\"outputs\":[{\"output_type\":\"execute_result\",\"data\":{\"text/plain\":[\"['hello', 'bad', 'everyone']\"]},\"metadata\":{\"tags\":[]},\"execution_count\":10}]},{\"cell_type\":\"code\",\"metadata\":{\"id\":\"ZQzGVIdbpJb3\",\"colab_type\":\"code\",\"colab\":{\"base_uri\":\"https://localhost:8080/\",\"height\":51},\"executionInfo\":{\"status\":\"ok\",\"timestamp\":1598854731165,\"user_tz\":-330,\"elapsed\":13627,\"user\":{\"displayName\":\"Prashant Singh\",\"photoUrl\":\"\",\"userId\":\"04712602781244046847\"}},\"outputId\":\"886597be-1f15-47bf-e3eb-c2956ff3a8e9\"},\"source\":[\"# prashant@tcs.com\\n\",\"# ifo@jupitervidya.com\\n\",\"# pramod@jupitervidya.com\\n\",\"\\n\",\"\\n\",\"id = input(\\\"Enter an email id\\\")\\n\",\"\\n\",\"ls = id.split(\\\"@\\\")\\n\",\"if ls[1] in [\\\"abv.com\\\"]:\\n\",\"  print(\\\"valid id\\\")\\n\",\"else:\\n\",\"  print(\\\"not a valid id\\\")\\n\",\"\\n\"],\"execution_count\":null,\"outputs\":[{\"output_type\":\"stream\",\"text\":[\"Enter an email idhjoj@hjghk\\n\",\"not a valid id\\n\"],\"name\":\"stdout\"}]},{\"cell_type\":\"code\",\"metadata\":{\"id\":\"PuK2juUCw_Mn\",\"colab_type\":\"code\",\"colab\":{\"base_uri\":\"https://localhost:8080/\",\"height\":248},\"executionInfo\":{\"status\":\"error\",\"timestamp\":1598854737223,\"user_tz\":-330,\"elapsed\":19641,\"user\":{\"displayName\":\"Prashant Singh\",\"photoUrl\":\"\",\"userId\":\"04712602781244046847\"}},\"outputId\":\"0f5de368-1c7c-4649-bfd9-2c5481fe8b6c\"},\"source\":[\"company_domain=['tcs','google','microsoft','gmail']\\n\",\"email=input('Enter email id: ')\\n\",\"c=0\\n\",\"c=email.index('@')\\n\",\"y=email.index('.com')\\n\",\"str=email[c+1:y]\\n\",\"for q in company_domain:\\n\",\"    if q==str:\\n\",\"        print('valid email')\\n\",\"        break\\n\",\"else:\\n\",\"    print('invalid email')\\n\"],\"execution_count\":null,\"outputs\":[{\"output_type\":\"stream\",\"text\":[\"Enter email id: hgjgjkhg4tfgh\\n\"],\"name\":\"stdout\"},{\"output_type\":\"error\",\"ename\":\"ValueError\",\"evalue\":\"ignored\",\"traceback\":[\"\\u001b[0;31m---------------------------------------------------------------------------\\u001b[0m\",\"\\u001b[0;31mValueError\\u001b[0m                                Traceback (most recent call last)\",\"\\u001b[0;32m<ipython-input-12-32c688ea259e>\\u001b[0m in \\u001b[0;36m<module>\\u001b[0;34m()\\u001b[0m\\n\\u001b[1;32m      2\\u001b[0m \\u001b[0memail\\u001b[0m\\u001b[0;34m=\\u001b[0m\\u001b[0minput\\u001b[0m\\u001b[0;34m(\\u001b[0m\\u001b[0;34m'Enter email id: '\\u001b[0m\\u001b[0;34m)\\u001b[0m\\u001b[0;34m\\u001b[0m\\u001b[0;34m\\u001b[0m\\u001b[0m\\n\\u001b[1;32m      3\\u001b[0m \\u001b[0mc\\u001b[0m\\u001b[0;34m=\\u001b[0m\\u001b[0;36m0\\u001b[0m\\u001b[0;34m\\u001b[0m\\u001b[0;34m\\u001b[0m\\u001b[0m\\n\\u001b[0;32m----> 4\\u001b[0;31m \\u001b[0mc\\u001b[0m\\u001b[0;34m=\\u001b[0m\\u001b[0memail\\u001b[0m\\u001b[0;34m.\\u001b[0m\\u001b[0mindex\\u001b[0m\\u001b[0;34m(\\u001b[0m\\u001b[0;34m'@'\\u001b[0m\\u001b[0;34m)\\u001b[0m\\u001b[0;34m\\u001b[0m\\u001b[0;34m\\u001b[0m\\u001b[0m\\n\\u001b[0m\\u001b[1;32m      5\\u001b[0m \\u001b[0my\\u001b[0m\\u001b[0;34m=\\u001b[0m\\u001b[0memail\\u001b[0m\\u001b[0;34m.\\u001b[0m\\u001b[0mindex\\u001b[0m\\u001b[0;34m(\\u001b[0m\\u001b[0;34m'.com'\\u001b[0m\\u001b[0;34m)\\u001b[0m\\u001b[0;34m\\u001b[0m\\u001b[0;34m\\u001b[0m\\u001b[0m\\n\\u001b[1;32m      6\\u001b[0m \\u001b[0mstr\\u001b[0m\\u001b[0;34m=\\u001b[0m\\u001b[0memail\\u001b[0m\\u001b[0;34m[\\u001b[0m\\u001b[0mc\\u001b[0m\\u001b[0;34m+\\u001b[0m\\u001b[0;36m1\\u001b[0m\\u001b[0;34m:\\u001b[0m\\u001b[0my\\u001b[0m\\u001b[0;34m]\\u001b[0m\\u001b[0;34m\\u001b[0m\\u001b[0;34m\\u001b[0m\\u001b[0m\\n\",\"\\u001b[0;31mValueError\\u001b[0m: substring not found\"]}]},{\"cell_type\":\"code\",\"metadata\":{\"id\":\"Zes-SV3vzF83\",\"colab_type\":\"code\",\"colab\":{\"base_uri\":\"https://localhost:8080/\",\"height\":51},\"executionInfo\":{\"status\":\"ok\",\"timestamp\":1598854773730,\"user_tz\":-330,\"elapsed\":21971,\"user\":{\"displayName\":\"Prashant Singh\",\"photoUrl\":\"\",\"userId\":\"04712602781244046847\"}},\"outputId\":\"a9e7c78e-28dd-487b-ad7e-29437d221697\"},\"source\":[\"email= input('enter email id: ')\\n\",\"x= email.endswith('@tcs.com')\\n\",\"if x==True:\\n\",\"    print('valid')\\n\",\"else:\\n\",\"    print('invalid')\\n\"],\"execution_count\":null,\"outputs\":[{\"output_type\":\"stream\",\"text\":[\"enter email id: ghfjh\\n\",\"invalid\\n\"],\"name\":\"stdout\"}]},{\"cell_type\":\"code\",\"metadata\":{\"id\":\"H_8X7aiz0Hx_\",\"colab_type\":\"code\",\"colab\":{\"base_uri\":\"https://localhost:8080/\",\"height\":51},\"executionInfo\":{\"status\":\"ok\",\"timestamp\":1598854780987,\"user_tz\":-330,\"elapsed\":29145,\"user\":{\"displayName\":\"Prashant Singh\",\"photoUrl\":\"\",\"userId\":\"04712602781244046847\"}},\"outputId\":\"7d1d2515-8be1-4b22-ca28-6deb4018a3e0\"},\"source\":[\"email=input('enter company email id: ')\\n\",\"if email.endswith('@tcs.com'):\\n\",\"    print('valid')\\n\",\"else:\\n\",\"    print('invalid')\\n\"],\"execution_count\":null,\"outputs\":[{\"output_type\":\"stream\",\"text\":[\"enter company email id: hbjhlk\\n\",\"invalid\\n\"],\"name\":\"stdout\"}]},{\"cell_type\":\"markdown\",\"metadata\":{\"id\":\"t_U693Bt2YyC\",\"colab_type\":\"text\"},\"source\":[\"## lambda funtion\"]},{\"cell_type\":\"code\",\"metadata\":{\"id\":\"mYfb9rsU0s1i\",\"colab_type\":\"code\",\"colab\":{\"base_uri\":\"https://localhost:8080/\",\"height\":34},\"executionInfo\":{\"status\":\"ok\",\"timestamp\":1598854780991,\"user_tz\":-330,\"elapsed\":29035,\"user\":{\"displayName\":\"Prashant Singh\",\"photoUrl\":\"\",\"userId\":\"04712602781244046847\"}},\"outputId\":\"1f0ede77-1ebf-4107-d1d3-cacb969ff5df\"},\"source\":[\"add = lambda a, b: a+b\\n\",\"print(add(22, 22))\"],\"execution_count\":null,\"outputs\":[{\"output_type\":\"stream\",\"text\":[\"44\\n\"],\"name\":\"stdout\"}]},{\"cell_type\":\"code\",\"metadata\":{\"id\":\"-MK9tGHF2Uyz\",\"colab_type\":\"code\",\"colab\":{\"base_uri\":\"https://localhost:8080/\",\"height\":34},\"executionInfo\":{\"status\":\"ok\",\"timestamp\":1598854780993,\"user_tz\":-330,\"elapsed\":28981,\"user\":{\"displayName\":\"Prashant Singh\",\"photoUrl\":\"\",\"userId\":\"04712602781244046847\"}},\"outputId\":\"ff873a16-201a-4a16-bc2f-c7a615b86061\"},\"source\":[\"multiply = lambda a, b: a*b\\n\",\"print(multiply(22, 2))\"],\"execution_count\":null,\"outputs\":[{\"output_type\":\"stream\",\"text\":[\"44\\n\"],\"name\":\"stdout\"}]},{\"cell_type\":\"markdown\",\"metadata\":{\"id\":\"kTvBg9qpeT3j\",\"colab_type\":\"text\"},\"source\":[\"## filter function\"]},{\"cell_type\":\"code\",\"metadata\":{\"id\":\"fn3MM0zZ2oSc\",\"colab_type\":\"code\",\"colab\":{\"base_uri\":\"https://localhost:8080/\",\"height\":442},\"executionInfo\":{\"status\":\"ok\",\"timestamp\":1598854780994,\"user_tz\":-330,\"elapsed\":28892,\"user\":{\"displayName\":\"Prashant Singh\",\"photoUrl\":\"\",\"userId\":\"04712602781244046847\"}},\"outputId\":\"507b6f89-9bc8-41eb-c5e1-4b138e8b7bc0\"},\"source\":[\"help(filter)\"],\"execution_count\":null,\"outputs\":[{\"output_type\":\"stream\",\"text\":[\"Help on class filter in module builtins:\\n\",\"\\n\",\"class filter(object)\\n\",\" |  filter(function or None, iterable) --> filter object\\n\",\" |  \\n\",\" |  Return an iterator yielding those items of iterable for which function(item)\\n\",\" |  is true. If function is None, return the items that are true.\\n\",\" |  \\n\",\" |  Methods defined here:\\n\",\" |  \\n\",\" |  __getattribute__(self, name, /)\\n\",\" |      Return getattr(self, name).\\n\",\" |  \\n\",\" |  __iter__(self, /)\\n\",\" |      Implement iter(self).\\n\",\" |  \\n\",\" |  __new__(*args, **kwargs) from builtins.type\\n\",\" |      Create and return a new object.  See help(type) for accurate signature.\\n\",\" |  \\n\",\" |  __next__(self, /)\\n\",\" |      Implement next(self).\\n\",\" |  \\n\",\" |  __reduce__(...)\\n\",\" |      Return state information for pickling.\\n\",\"\\n\"],\"name\":\"stdout\"}]},{\"cell_type\":\"code\",\"metadata\":{\"id\":\"A08wxB1C35IA\",\"colab_type\":\"code\",\"colab\":{\"base_uri\":\"https://localhost:8080/\",\"height\":68},\"executionInfo\":{\"status\":\"ok\",\"timestamp\":1598854795501,\"user_tz\":-330,\"elapsed\":43330,\"user\":{\"displayName\":\"Prashant Singh\",\"photoUrl\":\"\",\"userId\":\"04712602781244046847\"}},\"outputId\":\"6f82ab9d-85e1-4ee6-d001-c8c8f1f0f0d2\"},\"source\":[\"lowest = int(input(\\\"Enter the lowest price\\\"))\\n\",\"heighest = int(input(\\\"Enter the heighest price\\\"))\\n\",\"product_price = [100, 358, 128, 48, 10000, 45000, 58000, 400, 200, 50]\\n\",\"\\n\",\"my_price = list(filter(lambda price:price>=lowest and price <= heighest, product_price))\\n\",\"print(my_price)\"],\"execution_count\":null,\"outputs\":[{\"output_type\":\"stream\",\"text\":[\"Enter the lowest price100\\n\",\"Enter the heighest price355\\n\",\"[100, 128, 200]\\n\"],\"name\":\"stdout\"}]},{\"cell_type\":\"code\",\"metadata\":{\"id\":\"k94zQeQp4uXs\",\"colab_type\":\"code\",\"colab\":{}},\"source\":[\"items = [\\\"mobile\\\", \\\"marker\\\"] \"],\"execution_count\":null,\"outputs\":[]},{\"cell_type\":\"code\",\"metadata\":{\"id\":\"RPS2yX5nPgl2\",\"colab_type\":\"code\",\"colab\":{\"base_uri\":\"https://localhost:8080/\",\"height\":51},\"executionInfo\":{\"status\":\"ok\",\"timestamp\":1598854801226,\"user_tz\":-330,\"elapsed\":48901,\"user\":{\"displayName\":\"Prashant Singh\",\"photoUrl\":\"\",\"userId\":\"04712602781244046847\"}},\"outputId\":\"dfd0cf9c-d8c2-4220-d748-31b17711a449\"},\"source\":[\"products = ['Football','Basketball','Laptop','Mouse','Keyboard','Ball']\\n\",\"search = input(\\\"Enter name of product you want to Search :-> \\\")\\n\",\"item=[]\\n\",\"\\n\",\"for i in products:\\n\",\"    if i.startswith(search):\\n\",\"        print(i)\\n\",\"        itm.append(i)\\n\",\"\\n\",\"if len(item)==0:\\n\",\"    print(\\\"No resluts\\\")\\n\"],\"execution_count\":null,\"outputs\":[{\"output_type\":\"stream\",\"text\":[\"Enter name of product you want to Search :-> t\\n\",\"No resluts\\n\"],\"name\":\"stdout\"}]},{\"cell_type\":\"code\",\"metadata\":{\"id\":\"j0ZGVfodCFrJ\",\"colab_type\":\"code\",\"colab\":{\"base_uri\":\"https://localhost:8080/\",\"height\":299},\"executionInfo\":{\"status\":\"error\",\"timestamp\":1598854810908,\"user_tz\":-330,\"elapsed\":58539,\"user\":{\"displayName\":\"Prashant Singh\",\"photoUrl\":\"\",\"userId\":\"04712602781244046847\"}},\"outputId\":\"ea23c8ba-41c9-4c27-b063-7e07ff47fb59\"},\"source\":[\"product_list = ['mobile','pen','t_shirt','laptops','jacket','TV','books',\\n\",\"                'speaker','mouse','keyboard','jeans','clock','charger',\\n\",\"                'football','videogames','ps5','xbox','intel i3']\\n\",\"\\n\",\"def search():\\n\",\"    need = input('\\\\nEnter your search: ')\\n\",\"    if not need:\\n\",\"        print('Input cannot be empty')\\n\",\"        search()\\n\",\"    for product in product_list:\\n\",\"        val = product.count(need)\\n\",\"        if val >= 1:\\n\",\"            print(product,end=\\\" \\\")\\n\",\"run = True\\n\",\"while run:\\n\",\"    search()\\n\",\"    inp = int(input('\\\\nEnter 1 to search again and 0 to quit: '))\\n\",\"    if inp == 1:\\n\",\"        continue\\n\",\"    elif inp == 0:\\n\",\"        run = False\\n\",\"    else:\\n\",\"        print('Enter valid input')\\n\"],\"execution_count\":null,\"outputs\":[{\"output_type\":\"stream\",\"text\":[\"\\n\",\"Enter your search: b\\n\",\"mobile books keyboard football xbox \\n\",\"Enter 1 to search again and 0 to quit: kjhk\\n\"],\"name\":\"stdout\"},{\"output_type\":\"error\",\"ename\":\"ValueError\",\"evalue\":\"ignored\",\"traceback\":[\"\\u001b[0;31m---------------------------------------------------------------------------\\u001b[0m\",\"\\u001b[0;31mValueError\\u001b[0m                                Traceback (most recent call last)\",\"\\u001b[0;32m<ipython-input-21-a6e51b1dc0f3>\\u001b[0m in \\u001b[0;36m<module>\\u001b[0;34m()\\u001b[0m\\n\\u001b[1;32m     15\\u001b[0m \\u001b[0;32mwhile\\u001b[0m \\u001b[0mrun\\u001b[0m\\u001b[0;34m:\\u001b[0m\\u001b[0;34m\\u001b[0m\\u001b[0;34m\\u001b[0m\\u001b[0m\\n\\u001b[1;32m     16\\u001b[0m     \\u001b[0msearch\\u001b[0m\\u001b[0;34m(\\u001b[0m\\u001b[0;34m)\\u001b[0m\\u001b[0;34m\\u001b[0m\\u001b[0;34m\\u001b[0m\\u001b[0m\\n\\u001b[0;32m---> 17\\u001b[0;31m     \\u001b[0minp\\u001b[0m \\u001b[0;34m=\\u001b[0m \\u001b[0mint\\u001b[0m\\u001b[0;34m(\\u001b[0m\\u001b[0minput\\u001b[0m\\u001b[0;34m(\\u001b[0m\\u001b[0;34m'\\\\nEnter 1 to search again and 0 to quit: '\\u001b[0m\\u001b[0;34m)\\u001b[0m\\u001b[0;34m)\\u001b[0m\\u001b[0;34m\\u001b[0m\\u001b[0;34m\\u001b[0m\\u001b[0m\\n\\u001b[0m\\u001b[1;32m     18\\u001b[0m     \\u001b[0;32mif\\u001b[0m \\u001b[0minp\\u001b[0m \\u001b[0;34m==\\u001b[0m \\u001b[0;36m1\\u001b[0m\\u001b[0;34m:\\u001b[0m\\u001b[0;34m\\u001b[0m\\u001b[0;34m\\u001b[0m\\u001b[0m\\n\\u001b[1;32m     19\\u001b[0m         \\u001b[0;32mcontinue\\u001b[0m\\u001b[0;34m\\u001b[0m\\u001b[0;34m\\u001b[0m\\u001b[0m\\n\",\"\\u001b[0;31mValueError\\u001b[0m: invalid literal for int() with base 10: 'kjhk'\"]}]},{\"cell_type\":\"code\",\"metadata\":{\"id\":\"j16lFYpzCict\",\"colab_type\":\"code\",\"colab\":{\"base_uri\":\"https://localhost:8080/\",\"height\":51},\"executionInfo\":{\"status\":\"ok\",\"timestamp\":1598856431769,\"user_tz\":-330,\"elapsed\":7839,\"user\":{\"displayName\":\"Prashant Singh\",\"photoUrl\":\"\",\"userId\":\"04712602781244046847\"}},\"outputId\":\"538f0bb6-4f3a-48ab-dac7-cd10a6af97c7\"},\"source\":[\"p_name = ['t-shirt', 'capri', 'toys', 'oneplus','footwear', 'watches', 'headsets','hand-tools', 'top', 'bottle','tooth-paste']\\n\",\"item_search = input(\\\"Enter to search: \\\")\\n\",\"print(list(filter(lambda x: x.lower().startswith(item_search),p_name)))\\n\"],\"execution_count\":null,\"outputs\":[{\"output_type\":\"stream\",\"text\":[\"Enter to search: hello\\n\",\"[]\\n\"],\"name\":\"stdout\"}]},{\"cell_type\":\"code\",\"metadata\":{\"id\":\"bR9XsdS0DJti\",\"colab_type\":\"code\",\"colab\":{\"base_uri\":\"https://localhost:8080/\",\"height\":51},\"executionInfo\":{\"status\":\"ok\",\"timestamp\":1598856448055,\"user_tz\":-330,\"elapsed\":5615,\"user\":{\"displayName\":\"Prashant Singh\",\"photoUrl\":\"\",\"userId\":\"04712602781244046847\"}},\"outputId\":\"4d818fa4-b1ab-4443-9693-f860c8cb1e5f\"},\"source\":[\"product_list = {'mobile','pen','t_shirt','laptops','jacket','TV','books',\\n\",\"                'speaker','mouse','keyboard','jeans','clock','charger',\\n\",\"                'football','videogames','ps5','xbox','intel i3','t-shirt', 'capri', 'toys', 'oneplus','footwear', 'watches', 'headsets','hand-tools', 'top', 'bottle','tooth-paste'}\\n\",\"item = input(\\\"Enter to search: \\\")\\n\",\"print(list(filter(lambda product: product.startswith(item),product_list)))\\n\"],\"execution_count\":null,\"outputs\":[{\"output_type\":\"stream\",\"text\":[\"Enter to search: clo\\n\",\"['clock']\\n\"],\"name\":\"stdout\"}]},{\"cell_type\":\"code\",\"metadata\":{\"id\":\"oVg4mf89EU6C\",\"colab_type\":\"code\",\"colab\":{\"base_uri\":\"https://localhost:8080/\",\"height\":442},\"executionInfo\":{\"status\":\"ok\",\"timestamp\":1598856454642,\"user_tz\":-330,\"elapsed\":1387,\"user\":{\"displayName\":\"Prashant Singh\",\"photoUrl\":\"\",\"userId\":\"04712602781244046847\"}},\"outputId\":\"9def3303-02ef-4756-e6a4-d39d059c6bd0\"},\"source\":[\"help(map)\"],\"execution_count\":null,\"outputs\":[{\"output_type\":\"stream\",\"text\":[\"Help on class map in module builtins:\\n\",\"\\n\",\"class map(object)\\n\",\" |  map(func, *iterables) --> map object\\n\",\" |  \\n\",\" |  Make an iterator that computes the function using arguments from\\n\",\" |  each of the iterables.  Stops when the shortest iterable is exhausted.\\n\",\" |  \\n\",\" |  Methods defined here:\\n\",\" |  \\n\",\" |  __getattribute__(self, name, /)\\n\",\" |      Return getattr(self, name).\\n\",\" |  \\n\",\" |  __iter__(self, /)\\n\",\" |      Implement iter(self).\\n\",\" |  \\n\",\" |  __new__(*args, **kwargs) from builtins.type\\n\",\" |      Create and return a new object.  See help(type) for accurate signature.\\n\",\" |  \\n\",\" |  __next__(self, /)\\n\",\" |      Implement next(self).\\n\",\" |  \\n\",\" |  __reduce__(...)\\n\",\" |      Return state information for pickling.\\n\",\"\\n\"],\"name\":\"stdout\"}]},{\"cell_type\":\"code\",\"metadata\":{\"id\":\"cMSsK18YGGsu\",\"colab_type\":\"code\",\"colab\":{\"base_uri\":\"https://localhost:8080/\",\"height\":34},\"executionInfo\":{\"status\":\"ok\",\"timestamp\":1598856455742,\"user_tz\":-330,\"elapsed\":1243,\"user\":{\"displayName\":\"Prashant Singh\",\"photoUrl\":\"\",\"userId\":\"04712602781244046847\"}},\"outputId\":\"41a5670c-f650-4119-ee0e-a0e56e3ec832\"},\"source\":[\"num = [12, 4, 5, 10, 3]\\n\",\"sqr = list(map(lambda n:n**2, num))\\n\",\"print(sqr)\"],\"execution_count\":null,\"outputs\":[{\"output_type\":\"stream\",\"text\":[\"[144, 16, 25, 100, 9]\\n\"],\"name\":\"stdout\"}]},{\"cell_type\":\"code\",\"metadata\":{\"id\":\"-KtB2CD9GXVR\",\"colab_type\":\"code\",\"colab\":{\"base_uri\":\"https://localhost:8080/\",\"height\":34},\"executionInfo\":{\"status\":\"ok\",\"timestamp\":1598856457169,\"user_tz\":-330,\"elapsed\":1544,\"user\":{\"displayName\":\"Prashant Singh\",\"photoUrl\":\"\",\"userId\":\"04712602781244046847\"}},\"outputId\":\"f69e5b9a-e651-47c0-f101-13b4fb4c76b3\"},\"source\":[\"num = list(range(1, 11))\\n\",\"sqr = list(map(lambda n:n**2, num[:5]))\\n\",\"print(sqr)\"],\"execution_count\":null,\"outputs\":[{\"output_type\":\"stream\",\"text\":[\"[1, 4, 9, 16, 25]\\n\"],\"name\":\"stdout\"}]},{\"cell_type\":\"code\",\"metadata\":{\"id\":\"tVSkCuQ3HNsd\",\"colab_type\":\"code\",\"colab\":{\"base_uri\":\"https://localhost:8080/\",\"height\":51},\"executionInfo\":{\"status\":\"ok\",\"timestamp\":1598857031311,\"user_tz\":-330,\"elapsed\":8039,\"user\":{\"displayName\":\"Prashant Singh\",\"photoUrl\":\"\",\"userId\":\"04712602781244046847\"}},\"outputId\":\"b9837264-f5bf-47c6-c710-f854297b454e\"},\"source\":[\"\\n\",\"# first_name last_name\\n\",\"def captilize(first_name, last_name):\\n\",\"  print(f\\\"{first_name.capitalize()} {last_name.capitalize()}\\\")\\n\",\"\\n\",\"full_name = input(\\\"Enter a full name: \\\")\\n\",\"\\n\",\"x = full_name.split(\\\" \\\")\\n\",\"# print(x)\\n\",\"captilize(str(x[:1]),str(x[1:2]))\\n\",\"\\n\"],\"execution_count\":null,\"outputs\":[{\"output_type\":\"stream\",\"text\":[\"Enter a full name: Prashant Singh\\n\",\"['prashant'] ['singh']\\n\"],\"name\":\"stdout\"}]},{\"cell_type\":\"code\",\"metadata\":{\"id\":\"aQCyj3h1Ir4-\",\"colab_type\":\"code\",\"colab\":{\"base_uri\":\"https://localhost:8080/\",\"height\":935},\"executionInfo\":{\"status\":\"ok\",\"timestamp\":1598857179657,\"user_tz\":-330,\"elapsed\":2003,\"user\":{\"displayName\":\"Prashant Singh\",\"photoUrl\":\"\",\"userId\":\"04712602781244046847\"}},\"outputId\":\"00432a8c-3956-4e87-d9be-f8fce604e12c\"},\"source\":[\"import math\\n\",\"dir(math)\"],\"execution_count\":null,\"outputs\":[{\"output_type\":\"execute_result\",\"data\":{\"text/plain\":[\"['__doc__',\\n\",\" '__loader__',\\n\",\" '__name__',\\n\",\" '__package__',\\n\",\" '__spec__',\\n\",\" 'acos',\\n\",\" 'acosh',\\n\",\" 'asin',\\n\",\" 'asinh',\\n\",\" 'atan',\\n\",\" 'atan2',\\n\",\" 'atanh',\\n\",\" 'ceil',\\n\",\" 'copysign',\\n\",\" 'cos',\\n\",\" 'cosh',\\n\",\" 'degrees',\\n\",\" 'e',\\n\",\" 'erf',\\n\",\" 'erfc',\\n\",\" 'exp',\\n\",\" 'expm1',\\n\",\" 'fabs',\\n\",\" 'factorial',\\n\",\" 'floor',\\n\",\" 'fmod',\\n\",\" 'frexp',\\n\",\" 'fsum',\\n\",\" 'gamma',\\n\",\" 'gcd',\\n\",\" 'hypot',\\n\",\" 'inf',\\n\",\" 'isclose',\\n\",\" 'isfinite',\\n\",\" 'isinf',\\n\",\" 'isnan',\\n\",\" 'ldexp',\\n\",\" 'lgamma',\\n\",\" 'log',\\n\",\" 'log10',\\n\",\" 'log1p',\\n\",\" 'log2',\\n\",\" 'modf',\\n\",\" 'nan',\\n\",\" 'pi',\\n\",\" 'pow',\\n\",\" 'radians',\\n\",\" 'sin',\\n\",\" 'sinh',\\n\",\" 'sqrt',\\n\",\" 'tan',\\n\",\" 'tanh',\\n\",\" 'tau',\\n\",\" 'trunc']\"]},\"metadata\":{\"tags\":[]},\"execution_count\":13}]},{\"cell_type\":\"code\",\"metadata\":{\"id\":\"5JKe8zilUGVr\",\"colab_type\":\"code\",\"colab\":{\"base_uri\":\"https://localhost:8080/\",\"height\":34},\"executionInfo\":{\"status\":\"ok\",\"timestamp\":1598857219590,\"user_tz\":-330,\"elapsed\":1368,\"user\":{\"displayName\":\"Prashant Singh\",\"photoUrl\":\"\",\"userId\":\"04712602781244046847\"}},\"outputId\":\"90a8143a-97cd-48c7-ca4f-fe751eab19b0\"},\"source\":[\"print(math.pi*2)\"],\"execution_count\":null,\"outputs\":[{\"output_type\":\"stream\",\"text\":[\"6.283185307179586\\n\"],\"name\":\"stdout\"}]},{\"cell_type\":\"code\",\"metadata\":{\"id\":\"mMAc7_C9ULSH\",\"colab_type\":\"code\",\"colab\":{\"base_uri\":\"https://localhost:8080/\",\"height\":34},\"executionInfo\":{\"status\":\"ok\",\"timestamp\":1598857274347,\"user_tz\":-330,\"elapsed\":30534,\"user\":{\"displayName\":\"Prashant Singh\",\"photoUrl\":\"\",\"userId\":\"04712602781244046847\"}},\"outputId\":\"04b0ca26-ba27-43f5-bf70-0ee912242e8a\"},\"source\":[\"math.tan(60)\"],\"execution_count\":null,\"outputs\":[{\"output_type\":\"execute_result\",\"data\":{\"text/plain\":[\"0.320040389379563\"]},\"metadata\":{\"tags\":[]},\"execution_count\":16}]},{\"cell_type\":\"code\",\"metadata\":{\"id\":\"-JkQeRfwUWhr\",\"colab_type\":\"code\",\"colab\":{\"base_uri\":\"https://localhost:8080/\",\"height\":34},\"executionInfo\":{\"status\":\"ok\",\"timestamp\":1598857276690,\"user_tz\":-330,\"elapsed\":2213,\"user\":{\"displayName\":\"Prashant Singh\",\"photoUrl\":\"\",\"userId\":\"04712602781244046847\"}},\"outputId\":\"90f4bd4e-7bd9-409e-e373-aabfd71dbebc\"},\"source\":[\"math.sin(60)\"],\"execution_count\":null,\"outputs\":[{\"output_type\":\"execute_result\",\"data\":{\"text/plain\":[\"-0.3048106211022167\"]},\"metadata\":{\"tags\":[]},\"execution_count\":17}]},{\"cell_type\":\"code\",\"metadata\":{\"id\":\"7hHfUfdvUZur\",\"colab_type\":\"code\",\"colab\":{\"base_uri\":\"https://localhost:8080/\",\"height\":34},\"executionInfo\":{\"status\":\"ok\",\"timestamp\":1598857722446,\"user_tz\":-330,\"elapsed\":1881,\"user\":{\"displayName\":\"Prashant Singh\",\"photoUrl\":\"\",\"userId\":\"04712602781244046847\"}},\"outputId\":\"4eced380-898e-48a1-9ed9-76e3b6f8bf6d\"},\"source\":[\"import random\\n\",\"\\n\",\"int(random.random()*100)\"],\"execution_count\":null,\"outputs\":[{\"output_type\":\"execute_result\",\"data\":{\"text/plain\":[\"17\"]},\"metadata\":{\"tags\":[]},\"execution_count\":48}]},{\"cell_type\":\"code\",\"metadata\":{\"id\":\"y3fEV7PmU5Yp\",\"colab_type\":\"code\",\"colab\":{\"base_uri\":\"https://localhost:8080/\",\"height\":34},\"executionInfo\":{\"status\":\"ok\",\"timestamp\":1598857470137,\"user_tz\":-330,\"elapsed\":1426,\"user\":{\"displayName\":\"Prashant Singh\",\"photoUrl\":\"\",\"userId\":\"04712602781244046847\"}},\"outputId\":\"9f79d680-320b-4b45-87db-4cf75c74f854\"},\"source\":[\"random.choice([1,2,3,4])\"],\"execution_count\":null,\"outputs\":[{\"output_type\":\"execute_result\",\"data\":{\"text/plain\":[\"1\"]},\"metadata\":{\"tags\":[]},\"execution_count\":26}]},{\"cell_type\":\"code\",\"metadata\":{\"id\":\"y-m751adU7fG\",\"colab_type\":\"code\",\"colab\":{\"base_uri\":\"https://localhost:8080/\",\"height\":34},\"executionInfo\":{\"status\":\"ok\",\"timestamp\":1598857760789,\"user_tz\":-330,\"elapsed\":1705,\"user\":{\"displayName\":\"Prashant Singh\",\"photoUrl\":\"\",\"userId\":\"04712602781244046847\"}},\"outputId\":\"441d1a9c-2d14-4a1b-a0e8-e34b9d22c40a\"},\"source\":[\"random.choices([1,2,3,4],k=2)\"],\"execution_count\":null,\"outputs\":[{\"output_type\":\"execute_result\",\"data\":{\"text/plain\":[\"[2, 4]\"]},\"metadata\":{\"tags\":[]},\"execution_count\":49}]},{\"cell_type\":\"code\",\"metadata\":{\"id\":\"EUWofThmWUX9\",\"colab_type\":\"code\",\"colab\":{\"base_uri\":\"https://localhost:8080/\",\"height\":34},\"executionInfo\":{\"status\":\"ok\",\"timestamp\":1598857895306,\"user_tz\":-330,\"elapsed\":1156,\"user\":{\"displayName\":\"Prashant Singh\",\"photoUrl\":\"\",\"userId\":\"04712602781244046847\"}},\"outputId\":\"996d583d-8cd3-4a92-d24d-b3ff23ec2a76\"},\"source\":[\"math.trunc(random.random()*100)\"],\"execution_count\":null,\"outputs\":[{\"output_type\":\"execute_result\",\"data\":{\"text/plain\":[\"81\"]},\"metadata\":{\"tags\":[]},\"execution_count\":54}]},{\"cell_type\":\"code\",\"metadata\":{\"id\":\"rl4Dh5WhWaFh\",\"colab_type\":\"code\",\"colab\":{\"base_uri\":\"https://localhost:8080/\",\"height\":34},\"executionInfo\":{\"status\":\"ok\",\"timestamp\":1598858093555,\"user_tz\":-330,\"elapsed\":3468,\"user\":{\"displayName\":\"Prashant Singh\",\"photoUrl\":\"\",\"userId\":\"04712602781244046847\"}},\"outputId\":\"f1d8ae09-320f-4e5d-fce6-ad19f3e4d4d5\"},\"source\":[\"math.pi\"],\"execution_count\":null,\"outputs\":[{\"output_type\":\"execute_result\",\"data\":{\"text/plain\":[\"3.141592653589793\"]},\"metadata\":{\"tags\":[]},\"execution_count\":56}]},{\"cell_type\":\"code\",\"metadata\":{\"id\":\"_7HsKdY5o34K\",\"colab_type\":\"code\",\"colab\":{\"base_uri\":\"https://localhost:8080/\",\"height\":51},\"executionInfo\":{\"status\":\"ok\",\"timestamp\":1598963954925,\"user_tz\":-330,\"elapsed\":23143,\"user\":{\"displayName\":\"Prashant Singh\",\"photoUrl\":\"\",\"userId\":\"04712602781244046847\"}},\"outputId\":\"b9d6d501-a44a-46d6-ed36-24b2df4fa5fc\"},\"source\":[\"product_list = {'mobile','pen','t_shirt','laptops','jacket','TV','books',\\n\",\"                'speaker','mouse','keyboard','jeans','clock','charger',\\n\",\"                'football','videogames','ps5','xbox','intel i3','t-shirt', 'capri', 'toys', 'oneplus','footwear', 'watches', 'headsets','hand-tools', 'top', 'bottle','tooth-paste'}\\n\",\"item = input(\\\"Enter to search: \\\")\\n\",\"try:\\n\",\"  if item not in product_list:\\n\",\"    raise Exception(item)\\n\",\"  else:\\n\",\"    print()\\n\",\"except Exception as err:\\n\",\"  print('Please write valid input')\\n\"],\"execution_count\":null,\"outputs\":[{\"output_type\":\"stream\",\"text\":[\"Enter to search: mobile\\n\",\"<generator object <genexpr> at 0x7f4a55ffea98>\\n\"],\"name\":\"stdout\"}]},{\"cell_type\":\"code\",\"metadata\":{\"id\":\"1-kyG3CSsAzl\",\"colab_type\":\"code\",\"colab\":{\"base_uri\":\"https://localhost:8080/\",\"height\":51},\"executionInfo\":{\"status\":\"ok\",\"timestamp\":1598964217869,\"user_tz\":-330,\"elapsed\":17855,\"user\":{\"displayName\":\"Prashant Singh\",\"photoUrl\":\"\",\"userId\":\"04712602781244046847\"}},\"outputId\":\"2f2f9984-7d14-4a5f-814f-8b4154877471\"},\"source\":[\"products = ['mobile', 'laptop', 'table', 'car']\\n\",\"\\n\",\"product_name = input(\\\"Enter the product name:\\\")\\n\",\"try:\\n\",\"  print(products.index(product_name))\\n\",\"except Exception as err:\\n\",\"  print(err)\"],\"execution_count\":null,\"outputs\":[{\"output_type\":\"stream\",\"text\":[\"Enter the product name:fdf\\n\",\"'fdf' is not in list\\n\"],\"name\":\"stdout\"}]},{\"cell_type\":\"code\",\"metadata\":{\"id\":\"16FfblBBs9ak\",\"colab_type\":\"code\",\"colab\":{\"base_uri\":\"https://localhost:8080/\",\"height\":54},\"executionInfo\":{\"status\":\"ok\",\"timestamp\":1599045195755,\"user_tz\":-330,\"elapsed\":2524,\"user\":{\"displayName\":\"Prashant Singh\",\"photoUrl\":\"\",\"userId\":\"04712602781244046847\"}},\"outputId\":\"b4baedf9-5fbe-4265-8dc0-71ee7f433626\"},\"source\":[\"print(dir(__builtins__))\"],\"execution_count\":1,\"outputs\":[{\"output_type\":\"stream\",\"text\":[\"['ArithmeticError', 'AssertionError', 'AttributeError', 'BaseException', 'BlockingIOError', 'BrokenPipeError', 'BufferError', 'BytesWarning', 'ChildProcessError', 'ConnectionAbortedError', 'ConnectionError', 'ConnectionRefusedError', 'ConnectionResetError', 'DeprecationWarning', 'EOFError', 'Ellipsis', 'EnvironmentError', 'Exception', 'False', 'FileExistsError', 'FileNotFoundError', 'FloatingPointError', 'FutureWarning', 'GeneratorExit', 'IOError', 'ImportError', 'ImportWarning', 'IndentationError', 'IndexError', 'InterruptedError', 'IsADirectoryError', 'KeyError', 'KeyboardInterrupt', 'LookupError', 'MemoryError', 'ModuleNotFoundError', 'NameError', 'None', 'NotADirectoryError', 'NotImplemented', 'NotImplementedError', 'OSError', 'OverflowError', 'PendingDeprecationWarning', 'PermissionError', 'ProcessLookupError', 'RecursionError', 'ReferenceError', 'ResourceWarning', 'RuntimeError', 'RuntimeWarning', 'StopAsyncIteration', 'StopIteration', 'SyntaxError', 'SyntaxWarning', 'SystemError', 'SystemExit', 'TabError', 'TimeoutError', 'True', 'TypeError', 'UnboundLocalError', 'UnicodeDecodeError', 'UnicodeEncodeError', 'UnicodeError', 'UnicodeTranslateError', 'UnicodeWarning', 'UserWarning', 'ValueError', 'Warning', 'ZeroDivisionError', '__IPYTHON__', '__build_class__', '__debug__', '__doc__', '__import__', '__loader__', '__name__', '__package__', '__spec__', 'abs', 'all', 'any', 'ascii', 'bin', 'bool', 'bytearray', 'bytes', 'callable', 'chr', 'classmethod', 'compile', 'complex', 'copyright', 'credits', 'delattr', 'dict', 'dir', 'display', 'divmod', 'dreload', 'enumerate', 'eval', 'exec', 'filter', 'float', 'format', 'frozenset', 'get_ipython', 'getattr', 'globals', 'hasattr', 'hash', 'help', 'hex', 'id', 'input', 'int', 'isinstance', 'issubclass', 'iter', 'len', 'license', 'list', 'locals', 'map', 'max', 'memoryview', 'min', 'next', 'object', 'oct', 'open', 'ord', 'pow', 'print', 'property', 'range', 'repr', 'reversed', 'round', 'set', 'setattr', 'slice', 'sorted', 'staticmethod', 'str', 'sum', 'super', 'tuple', 'type', 'vars', 'zip']\\n\"],\"name\":\"stdout\"}]},{\"cell_type\":\"markdown\",\"metadata\":{\"id\":\"iMOXNlJxhQd8\",\"colab_type\":\"text\"},\"source\":[\"# FileHandling\"]},{\"cell_type\":\"code\",\"metadata\":{\"id\":\"lYyHvXK8hf6B\",\"colab_type\":\"code\",\"colab\":{},\"executionInfo\":{\"status\":\"ok\",\"timestamp\":1599045615006,\"user_tz\":-330,\"elapsed\":1523,\"user\":{\"displayName\":\"Prashant Singh\",\"photoUrl\":\"\",\"userId\":\"04712602781244046847\"}}},\"source\":[\"try:\\n\",\"  myfile = open(\\\"drive/My Drive/abc.txt\\\", \\\"w\\\")\\n\",\"  myfile.write(\\\"Hello hi Python.\\\")\\n\",\"  myfile.close()\\n\",\"except Exception as err:\\n\",\"  print(err)\"],\"execution_count\":8,\"outputs\":[]},{\"cell_type\":\"code\",\"metadata\":{\"id\":\"UvdOohXOi7KS\",\"colab_type\":\"code\",\"colab\":{\"base_uri\":\"https://localhost:8080/\",\"height\":34},\"executionInfo\":{\"status\":\"ok\",\"timestamp\":1599046055761,\"user_tz\":-330,\"elapsed\":1490,\"user\":{\"displayName\":\"Prashant Singh\",\"photoUrl\":\"\",\"userId\":\"04712602781244046847\"}},\"outputId\":\"ec821dad-0247-49c2-d0ee-6141cf1ef009\"},\"source\":[\"try:\\n\",\"  myfile = open(r\\\"drive/My Drive/abc.txt\\\", \\\"r\\\")\\n\",\"  print(myfile.read())\\n\",\"  myfile.close()\\n\",\"except Exception as err:\\n\",\"  print(err)\"],\"execution_count\":11,\"outputs\":[{\"output_type\":\"stream\",\"text\":[\"Hello hi Python.\\n\"],\"name\":\"stdout\"}]},{\"cell_type\":\"code\",\"metadata\":{\"id\":\"AEx9mG9xj5AT\",\"colab_type\":\"code\",\"colab\":{\"base_uri\":\"https://localhost:8080/\",\"height\":54},\"executionInfo\":{\"status\":\"ok\",\"timestamp\":1599046279553,\"user_tz\":-330,\"elapsed\":1341,\"user\":{\"displayName\":\"Prashant Singh\",\"photoUrl\":\"\",\"userId\":\"04712602781244046847\"}},\"outputId\":\"d5aeb983-42e0-4002-e53f-35f11a225b05\"},\"source\":[\"try:\\n\",\"  myfile = open(\\\"drive/My Drive/Data/houses.csv\\\", \\\"r\\\")\\n\",\"  print(myfile)\\n\",\"  myfile.close()\\n\",\"except Exception as err:\\n\",\"  print(\\\"error:\\\",err)\"],\"execution_count\":15,\"outputs\":[{\"output_type\":\"stream\",\"text\":[\"<_io.TextIOWrapper name='drive/My Drive/Data/houses.csv' mode='r' encoding='UTF-8'>\\n\"],\"name\":\"stdout\"}]},{\"cell_type\":\"code\",\"metadata\":{\"id\":\"WC3OPG3jm7gz\",\"colab_type\":\"code\",\"colab\":{},\"executionInfo\":{\"status\":\"ok\",\"timestamp\":1599046676711,\"user_tz\":-330,\"elapsed\":1761,\"user\":{\"displayName\":\"Prashant Singh\",\"photoUrl\":\"\",\"userId\":\"04712602781244046847\"}}},\"source\":[\"#### appending a file\"],\"execution_count\":17,\"outputs\":[]},{\"cell_type\":\"code\",\"metadata\":{\"id\":\"T29OeGodlL9L\",\"colab_type\":\"code\",\"colab\":{},\"executionInfo\":{\"status\":\"ok\",\"timestamp\":1599046676713,\"user_tz\":-330,\"elapsed\":1649,\"user\":{\"displayName\":\"Prashant Singh\",\"photoUrl\":\"\",\"userId\":\"04712602781244046847\"}}},\"source\":[\"try:\\n\",\"  myfile = open(r\\\"drive/My Drive/abc.txt\\\", \\\"a\\\")\\n\",\"  myfile.write(\\\"This is the second line\\\")\\n\",\"  myfile.close()\\n\",\"except Exception as err:\\n\",\"  print(err)\"],\"execution_count\":18,\"outputs\":[]},{\"cell_type\":\"code\",\"metadata\":{\"id\":\"KfuupU0Vm5Q4\",\"colab_type\":\"code\",\"colab\":{}},\"source\":[\"\"],\"execution_count\":null,\"outputs\":[]},{\"cell_type\":\"code\",\"metadata\":{\"id\":\"8puUXf5wmaMz\",\"colab_type\":\"code\",\"colab\":{\"base_uri\":\"https://localhost:8080/\",\"height\":102},\"executionInfo\":{\"status\":\"ok\",\"timestamp\":1599047730813,\"user_tz\":-330,\"elapsed\":1355,\"user\":{\"displayName\":\"Prashant Singh\",\"photoUrl\":\"\",\"userId\":\"04712602781244046847\"}},\"outputId\":\"bff34727-5f82-454c-d0af-267109ce26ef\"},\"source\":[\"try:\\n\",\"  myfile = open(r\\\"drive/My Drive/abc.txt\\\")\\n\",\"  # print(myfile.read())\\n\",\"  # print(myfile.read(18))  # it takes only 18 characters\\n\",\"  # print(myfile.readline())  #it print only first line\\n\",\"  # print(myfile.readlines())\\n\",\"  for line in myfile.readlines(): # This is the efficient way\\n\",\"    print(line, end=\\\"\\\")\\n\",\"  myfile.close()\\n\",\"except Exception as err:\\n\",\"  print(err)\"],\"execution_count\":27,\"outputs\":[{\"output_type\":\"stream\",\"text\":[\"Hello hi Python.This is the second lineThis is the second line\\n\",\"\\n\",\"Hello\\n\",\"How are you\\n\",\"omg\\n\"],\"name\":\"stdout\"}]},{\"cell_type\":\"code\",\"metadata\":{\"id\":\"EJhax3bgp9Nd\",\"colab_type\":\"code\",\"colab\":{\"base_uri\":\"https://localhost:8080/\",\"height\":54},\"executionInfo\":{\"status\":\"ok\",\"timestamp\":1599048122946,\"user_tz\":-330,\"elapsed\":2010,\"user\":{\"displayName\":\"Prashant Singh\",\"photoUrl\":\"\",\"userId\":\"04712602781244046847\"}},\"outputId\":\"83545152-f3ce-4568-a680-39da077fffd5\"},\"source\":[\"#### wap to read your own code\\n\",\"try:\\n\",\"  myfile = open('/content/drive/My Drive/Colab Notebooks/DSML_colabs/Day 1/12th_DSML.ipynb')\\n\",\"  for line in myfile.readlines():\\n\",\"    print(line, end=\\\"\\\")\\n\",\"  myfile.close()\\n\",\"except Exception as err:\\n\",\"  print(err)\"],\"execution_count\":29,\"outputs\":[{\"output_type\":\"stream\",\"text\":[\"{\\\"nbformat\\\":4,\\\"nbformat_minor\\\":0,\\\"metadata\\\":{\\\"colab\\\":{\\\"name\\\":\\\"12th_DSML.ipynb\\\",\\\"provenance\\\":[],\\\"collapsed_sections\\\":[]},\\\"kernelspec\\\":{\\\"name\\\":\\\"python3\\\",\\\"display_name\\\":\\\"Python 3\\\"}},\\\"cells\\\":[{\\\"cell_type\\\":\\\"markdown\\\",\\\"metadata\\\":{\\\"id\\\":\\\"6djJJzTFZRY8\\\",\\\"colab_type\\\":\\\"text\\\"},\\\"source\\\":[\\\"# if elif else\\\"]},{\\\"cell_type\\\":\\\"code\\\",\\\"metadata\\\":{\\\"id\\\":\\\"ct_VaU9nZQpd\\\",\\\"colab_type\\\":\\\"code\\\",\\\"colab\\\":{\\\"base_uri\\\":\\\"https://localhost:8080/\\\",\\\"height\\\":51},\\\"executionInfo\\\":{\\\"status\\\":\\\"ok\\\",\\\"timestamp\\\":1598854562657,\\\"user_tz\\\":-330,\\\"elapsed\\\":24850,\\\"user\\\":{\\\"displayName\\\":\\\"Prashant Singh\\\",\\\"photoUrl\\\":\\\"\\\",\\\"userId\\\":\\\"04712602781244046847\\\"}},\\\"outputId\\\":\\\"22454578-f25b-40da-a8e1-23bb20a8b8cd\\\"},\\\"source\\\":[\\\"age = int(input('Enter your age: '))\\\\n\\\",\\\"\\\\n\\\",\\\"if age < 18:\\\\n\\\",\\\"  print('you can\\\\\\\\'t apply for driving license')\\\\n\\\",\\\"elif age > 40:\\\\n\\\",\\\"  print('medical certificate is necessary for applying driving license')\\\\n\\\",\\\"else:\\\\n\\\",\\\"  print('you can apply for driving license🙂🙂🙂')\\\"],\\\"execution_count\\\":null,\\\"outputs\\\":[{\\\"output_type\\\":\\\"stream\\\",\\\"text\\\":[\\\"Enter your age: 12\\\\n\\\",\\\"you can't apply for driving license\\\\n\\\"],\\\"name\\\":\\\"stdout\\\"}]},{\\\"cell_type\\\":\\\"markdown\\\",\\\"metadata\\\":{\\\"id\\\":\\\"6e5Poszof0Ot\\\",\\\"colab_type\\\":\\\"text\\\"},\\\"source\\\":[\\\"# while Loop Statements\\\"]},{\\\"cell_type\\\":\\\"code\\\",\\\"metadata\\\":{\\\"id\\\":\\\"bSai_cG2fKHi\\\",\\\"colab_type\\\":\\\"code\\\",\\\"colab\\\":{}},\\\"source\\\":[\\\"\\\"],\\\"execution_count\\\":null,\\\"outputs\\\":[]},{\\\"cell_type\\\":\\\"markdown\\\",\\\"metadata\\\":{\\\"id\\\":\\\"ENdJBGn7gYph\\\",\\\"colab_type\\\":\\\"text\\\"},\\\"source\\\":[\\\"# break Statements\\\"]},{\\\"cell_type\\\":\\\"markdown\\\",\\\"metadata\\\":{\\\"id\\\":\\\"WLzJCBtLgc7F\\\",\\\"colab_type\\\":\\\"text\\\"},\\\"source\\\":[\\\"# continue statements\\\"]},{\\\"cell_type\\\":\\\"markdown\\\",\\\"metadata\\\":{\\\"id\\\":\\\"3hVG8NCzgh-Z\\\",\\\"colab_type\\\":\\\"text\\\"},\\\"source\\\":[\\\"# for Loops and the range() Function\\\"]},{\\\"cell_type\\\":\\\"markdown\\\",\\\"metadata\\\":{\\\"id\\\":\\\"MXjKMYEGgo_i\\\",\\\"colab_type\\\":\\\"text\\\"},\\\"source\\\":[\\\"# for else statement\\\"]},{\\\"cell_type\\\":\\\"markdown\\\",\\\"metadata\\\":{\\\"id\\\":\\\"YH6AT8aIgwGa\\\",\\\"colab_type\\\":\\\"text\\\"},\\\"source\\\":[\\\"# Importing Modules\\\"]},{\\\"cell_type\\\":\\\"markdown\\\",\\\"metadata\\\":{\\\"id\\\":\\\"EBMuLq09hFwY\\\",\\\"colab_type\\\":\\\"text\\\"},\\\"source\\\":[\\\"# Ending a Program Early with sys.exit()\\\"]},{\\\"cell_type\\\":\\\"markdown\\\",\\\"metadata\\\":{\\\"id\\\":\\\"LEf-H49BhL6S\\\",\\\"colab_type\\\":\\\"text\\\"},\\\"source\\\":[\\\"# Map Function\\\"]},{\\\"cell_type\\\":\\\"code\\\",\\\"metadata\\\":{\\\"id\\\":\\\"ovxYlab_g-xp\\\",\\\"colab_type\\\":\\\"code\\\",\\\"colab\\\":{}},\\\"source\\\":[\\\"\\\"],\\\"execution_count\\\":null,\\\"outputs\\\":[]},{\\\"cell_type\\\":\\\"code\\\",\\\"metadata\\\":{\\\"id\\\":\\\"bXk13emDa9LM\\\",\\\"colab_type\\\":\\\"code\\\",\\\"colab\\\":{\\\"base_uri\\\":\\\"https://localhost:8080/\\\",\\\"height\\\":102},\\\"executionInfo\\\":{\\\"status\\\":\\\"ok\\\",\\\"timestamp\\\":1598854562670,\\\"user_tz\\\":-330,\\\"elapsed\\\":24759,\\\"user\\\":{\\\"displayName\\\":\\\"Prashant Singh\\\",\\\"photoUrl\\\":\\\"\\\",\\\"userId\\\":\\\"04712602781244046847\\\"}},\\\"outputId\\\":\\\"8e8e0620-9322-4fc5-86d1-5389ae1854c8\\\"},\\\"source\\\":[\\\"def myfunc(a, b):\\\\n\\\",\\\"  print(a+b)\\\\n\\\",\\\"  return a + b\\\\n\\\",\\\"\\\\n\\\",\\\"g = map(myfunc, ('apple', 'banana', 'cherry'), ('orange', 'lemon', 'pineapple'))\\\\n\\\",\\\"print(g)\\\\n\\\",\\\"g = list(g)\\\\n\\\",\\\"g \\\\n\\\"],\\\"execution_count\\\":null,\\\"outputs\\\":[{\\\"output_type\\\":\\\"stream\\\",\\\"text\\\":[\\\"<map object at 0x7f9a9ee5c588>\\\\n\\\",\\\"appleorange\\\\n\\\",\\\"bananalemon\\\\n\\\",\\\"cherrypineapple\\\\n\\\"],\\\"name\\\":\\\"stdout\\\"},{\\\"output_type\\\":\\\"execute_result\\\",\\\"data\\\":{\\\"text/plain\\\":[\\\"['appleorange', 'bananalemon', 'cherrypineapple']\\\"]},\\\"metadata\\\":{\\\"tags\\\":[]},\\\"execution_count\\\":2}]},{\\\"cell_type\\\":\\\"markdown\\\",\\\"metadata\\\":{\\\"id\\\":\\\"ryjL_QizX26v\\\",\\\"colab_type\\\":\\\"text\\\"},\\\"source\\\":[\\\"\\\\n\\\",\\\"# Dictonary\\\"]},{\\\"cell_type\\\":\\\"code\\\",\\\"metadata\\\":{\\\"id\\\":\\\"7L1Bp6U7X7qb\\\",\\\"colab_type\\\":\\\"code\\\",\\\"colab\\\":{}},\\\"source\\\":[\\\"students = dict({\\\\n\\\",\\\"    'Prashant': ['C', 'Python', 'Java', 'Kotlin', 'c++', 'Dart']\\\\n\\\",\\\"    \\\\n\\\",\\\"})\\\"],\\\"execution_count\\\":null,\\\"outputs\\\":[]},{\\\"cell_type\\\":\\\"code\\\",\\\"metadata\\\":{\\\"id\\\":\\\"HmBDy6aDZ1TB\\\",\\\"colab_type\\\":\\\"code\\\",\\\"colab\\\":{\\\"base_uri\\\":\\\"https://localhost:8080/\\\",\\\"height\\\":833},\\\"executionInfo\\\":{\\\"status\\\":\\\"error\\\",\\\"timestamp\\\":1598854711234,\\\"user_tz\\\":-330,\\\"elapsed\\\":109002,\\\"user\\\":{\\\"displayName\\\":\\\"Prashant Singh\\\",\\\"photoUrl\\\":\\\"\\\",\\\"userId\\\":\\\"04712602781244046847\\\"}},\\\"outputId\\\":\\\"2fc88aa0-ad61-458a-c3a5-77b7ecbfc776\\\"},\\\"source\\\":[\\\"employees = dict({\\\\n\\\",\\\"68319: [\\\\\\\"KAYLING\\\\\\\",  \\\\\\\"p1\\\\\\\", \\\\\\\"p2\\\\\\\"]    ,     \\\\n\\\",\\\"66928: [\\\\\\\"BLAZE\\\\\\\" ,   \\\\\\\"p1\\\\\\\"]   ,\\\\n\\\",\\\"67832: [\\\\\\\"CLARE\\\\\\\" ,   \\\\\\\"p1\\\\\\\"]   ,\\\\n\\\",\\\"65646: [\\\\\\\"JONAS\\\\\\\" ,   \\\\\\\"p1\\\\\\\", \\\\\\\"p2\\\\\\\"]   ,\\\\n\\\",\\\"67858: [\\\\\\\"SCARLET\\\\\\\" , \\\\\\\"p1\\\\\\\", \\\\\\\"p2\\\\\\\"]   ,\\\\n\\\",\\\"69062: [\\\\\\\"FRANK\\\\\\\" ,   \\\\\\\"p2\\\\\\\"],\\\\n\\\",\\\"63679: [\\\\\\\"SANDRINE\\\\\\\" ,\\\\\\\"p1\\\\\\\", \\\\\\\"p2\\\\\\\"],\\\\n\\\",\\\"64989: [\\\\\\\"ADELYN\\\\\\\" ,  \\\\\\\"p1\\\\\\\", \\\\\\\"p2\\\\\\\"]   ,\\\\n\\\",\\\"65271: [\\\\\\\"WADE\\\\\\\" ,    \\\\\\\"p2\\\\\\\"]   ,\\\\n\\\",\\\"66564: [\\\\\\\"MADDEN\\\\\\\" ,  \\\\\\\"p1\\\\\\\", \\\\\\\"p2\\\\\\\"]    ,\\\\n\\\",\\\"68454: [\\\\\\\"TUCKER\\\\\\\" ,  \\\\\\\"p2\\\\\\\"]   ,\\\\n\\\",\\\"68736: [\\\\\\\"ADNRES\\\\\\\" ,  \\\\\\\"p1\\\\\\\", \\\\\\\"p2\\\\\\\"] ,\\\\n\\\",\\\"69000: [\\\\\\\"JULIUS\\\\\\\" ,  \\\\\\\"p2\\\\\\\"] ,\\\\n\\\",\\\"69324: [\\\\\\\"MARKER\\\\\\\",   \\\\\\\"p1\\\\\\\", \\\\\\\"p2\\\\\\\"]    ,     \\\\n\\\",\\\"})\\\\n\\\",\\\"for i, j in employees.items():\\\\n\\\",\\\"  print(i, j)\\\\n\\\",\\\"while True:\\\\n\\\",\\\"  id = int(input(\\\\\\\"Enter your Employee id: \\\\\\\\n\\\\\\\"))\\\\n\\\",\\\"  if id not in employees.keys():\\\\n\\\",\\\"    print('Employeee id is not valid')\\\\n\\\",\\\"  else:\\\\n\\\",\\\"    pass\\\"],\\\"execution_count\\\":null,\\\"outputs\\\":[{\\\"output_type\\\":\\\"stream\\\",\\\"text\\\":[\\\"68319 ['KAYLING', 'p1', 'p2']\\\\n\\\",\\\"66928 ['BLAZE', 'p1']\\\\n\\\",\\\"67832 ['CLARE', 'p1']\\\\n\\\",\\\"65646 ['JONAS', 'p1', 'p2']\\\\n\\\",\\\"67858 ['SCARLET', 'p1', 'p2']\\\\n\\\",\\\"69062 ['FRANK', 'p2']\\\\n\\\",\\\"63679 ['SANDRINE', 'p1', 'p2']\\\\n\\\",\\\"64989 ['ADELYN', 'p1', 'p2']\\\\n\\\",\\\"65271 ['WADE', 'p2']\\\\n\\\",\\\"66564 ['MADDEN', 'p1', 'p2']\\\\n\\\",\\\"68454 ['TUCKER', 'p2']\\\\n\\\",\\\"68736 ['ADNRES', 'p1', 'p2']\\\\n\\\",\\\"69000 ['JULIUS', 'p2']\\\\n\\\",\\\"69324 ['MARKER', 'p1', 'p2']\\\\n\\\",\\\"Enter your Employee id: \\\\n\\\",\\\"69324\\\\n\\\"],\\\"name\\\":\\\"stdout\\\"},{\\\"output_type\\\":\\\"error\\\",\\\"ename\\\":\\\"KeyboardInterrupt\\\",\\\"evalue\\\":\\\"ignored\\\",\\\"traceback\\\":[\\\"\\\\u001b[0;31m---------------------------------------------------------------------------\\\\u001b[0m\\\",\\\"\\\\u001b[0;31mKeyboardInterrupt\\\\u001b[0m                         Traceback (most recent call last)\\\",\\\"\\\\u001b[0;32m/usr/local/lib/python3.6/dist-packages/ipykernel/kernelbase.py\\\\u001b[0m in \\\\u001b[0;36m_input_request\\\\u001b[0;34m(self, prompt, ident, parent, password)\\\\u001b[0m\\\\n\\\\u001b[1;32m    728\\\\u001b[0m             \\\\u001b[0;32mtry\\\\u001b[0m\\\\u001b[0;34m:\\\\u001b[0m\\\\u001b[0;34m\\\\u001b[0m\\\\u001b[0;34m\\\\u001b[0m\\\\u001b[0m\\\\n\\\\u001b[0;32m--> 729\\\\u001b[0;31m                 \\\\u001b[0mident\\\\u001b[0m\\\\u001b[0;34m,\\\\u001b[0m \\\\u001b[0mreply\\\\u001b[0m \\\\u001b[0;34m=\\\\u001b[0m \\\\u001b[0mself\\\\u001b[0m\\\\u001b[0;34m.\\\\u001b[0m\\\\u001b[0msession\\\\u001b[0m\\\\u001b[0;34m.\\\\u001b[0m\\\\u001b[0mrecv\\\\u001b[0m\\\\u001b[0;34m(\\\\u001b[0m\\\\u001b[0mself\\\\u001b[0m\\\\u001b[0;34m.\\\\u001b[0m\\\\u001b[0mstdin_socket\\\\u001b[0m\\\\u001b[0;34m,\\\\u001b[0m \\\\u001b[0;36m0\\\\u001b[0m\\\\u001b[0;34m)\\\\u001b[0m\\\\u001b[0;34m\\\\u001b[0m\\\\u001b[0;34m\\\\u001b[0m\\\\u001b[0m\\\\n\\\\u001b[0m\\\\u001b[1;32m    730\\\\u001b[0m             \\\\u001b[0;32mexcept\\\\u001b[0m \\\\u001b[0mException\\\\u001b[0m\\\\u001b[0;34m:\\\\u001b[0m\\\\u001b[0;34m\\\\u001b[0m\\\\u001b[0;34m\\\\u001b[0m\\\\u001b[0m\\\\n\\\",\\\"\\\\u001b[0;32m/usr/local/lib/python3.6/dist-packages/jupyter_client/session.py\\\\u001b[0m in \\\\u001b[0;36mrecv\\\\u001b[0;34m(self, socket, mode, content, copy)\\\\u001b[0m\\\\n\\\\u001b[1;32m    802\\\\u001b[0m         \\\\u001b[0;32mtry\\\\u001b[0m\\\\u001b[0;34m:\\\\u001b[0m\\\\u001b[0;34m\\\\u001b[0m\\\\u001b[0;34m\\\\u001b[0m\\\\u001b[0m\\\\n\\\\u001b[0;32m--> 803\\\\u001b[0;31m             \\\\u001b[0mmsg_list\\\\u001b[0m \\\\u001b[0;34m=\\\\u001b[0m \\\\u001b[0msocket\\\\u001b[0m\\\\u001b[0;34m.\\\\u001b[0m\\\\u001b[0mrecv_multipart\\\\u001b[0m\\\\u001b[0;34m(\\\\u001b[0m\\\\u001b[0mmode\\\\u001b[0m\\\\u001b[0;34m,\\\\u001b[0m \\\\u001b[0mcopy\\\\u001b[0m\\\\u001b[0;34m=\\\\u001b[0m\\\\u001b[0mcopy\\\\u001b[0m\\\\u001b[0;34m)\\\\u001b[0m\\\\u001b[0;34m\\\\u001b[0m\\\\u001b[0;34m\\\\u001b[0m\\\\u001b[0m\\\\n\\\\u001b[0m\\\\u001b[1;32m    804\\\\u001b[0m         \\\\u001b[0;32mexcept\\\\u001b[0m \\\\u001b[0mzmq\\\\u001b[0m\\\\u001b[0;34m.\\\\u001b[0m\\\\u001b[0mZMQError\\\\u001b[0m \\\\u001b[0;32mas\\\\u001b[0m \\\\u001b[0me\\\\u001b[0m\\\\u001b[0;34m:\\\\u001b[0m\\\\u001b[0;34m\\\\u001b[0m\\\\u001b[0;34m\\\\u001b[0m\\\\u001b[0m\\\\n\\\",\\\"\\\\u001b[0;32m/usr/local/lib/python3.6/dist-packages/zmq/sugar/socket.py\\\\u001b[0m in \\\\u001b[0;36mrecv_multipart\\\\u001b[0;34m(self, flags, copy, track)\\\\u001b[0m\\\\n\\\\u001b[1;32m    490\\\\u001b[0m         \\\\\\\"\\\\\\\"\\\\\\\"\\\\n\\\\u001b[0;32m--> 491\\\\u001b[0;31m         \\\\u001b[0mparts\\\\u001b[0m \\\\u001b[0;34m=\\\\u001b[0m \\\\u001b[0;34m[\\\\u001b[0m\\\\u001b[0mself\\\\u001b[0m\\\\u001b[0;34m.\\\\u001b[0m\\\\u001b[0mrecv\\\\u001b[0m\\\\u001b[0;34m(\\\\u001b[0m\\\\u001b[0mflags\\\\u001b[0m\\\\u001b[0;34m,\\\\u001b[0m \\\\u001b[0mcopy\\\\u001b[0m\\\\u001b[0;34m=\\\\u001b[0m\\\\u001b[0mcopy\\\\u001b[0m\\\\u001b[0;34m,\\\\u001b[0m \\\\u001b[0mtrack\\\\u001b[0m\\\\u001b[0;34m=\\\\u001b[0m\\\\u001b[0mtrack\\\\u001b[0m\\\\u001b[0;34m)\\\\u001b[0m\\\\u001b[0;34m]\\\\u001b[0m\\\\u001b[0;34m\\\\u001b[0m\\\\u001b[0;34m\\\\u001b[0m\\\\u001b[0m\\\\n\\\\u001b[0m\\\\u001b[1;32m    492\\\\u001b[0m         \\\\u001b[0;31m# have first part already, only loop while more to receive\\\\u001b[0m\\\\u001b[0;34m\\\\u001b[0m\\\\u001b[0;34m\\\\u001b[0m\\\\u001b[0;34m\\\\u001b[0m\\\\u001b[0m\\\\n\\\",\\\"\\\\u001b[0;32mzmq/backend/cython/socket.pyx\\\\u001b[0m in \\\\u001b[0;36mzmq.backend.cython.socket.Socket.recv\\\\u001b[0;34m()\\\\u001b[0m\\\\n\\\",\\\"\\\\u001b[0;32mzmq/backend/cython/socket.pyx\\\\u001b[0m in \\\\u001b[0;36mzmq.backend.cython.socket.Socket.recv\\\\u001b[0;34m()\\\\u001b[0m\\\\n\\\",\\\"\\\\u001b[0;32mzmq/backend/cython/socket.pyx\\\\u001b[0m in \\\\u001b[0;36mzmq.backend.cython.socket._recv_copy\\\\u001b[0;34m()\\\\u001b[0m\\\\n\\\",\\\"\\\\u001b[0;32m/usr/local/lib/python3.6/dist-packages/zmq/backend/cython/checkrc.pxd\\\\u001b[0m in \\\\u001b[0;36mzmq.backend.cython.checkrc._check_rc\\\\u001b[0;34m()\\\\u001b[0m\\\\n\\\",\\\"\\\\u001b[0;31mKeyboardInterrupt\\\\u001b[0m: \\\",\\\"\\\\nDuring handling of the above exception, another exception occurred:\\\\n\\\",\\\"\\\\u001b[0;31mKeyboardInterrupt\\\\u001b[0m                         Traceback (most recent call last)\\\",\\\"\\\\u001b[0;32m<ipython-input-5-bcbbbcc0111b>\\\\u001b[0m in \\\\u001b[0;36m<module>\\\\u001b[0;34m()\\\\u001b[0m\\\\n\\\\u001b[1;32m     18\\\\u001b[0m   \\\\u001b[0mprint\\\\u001b[0m\\\\u001b[0;34m(\\\\u001b[0m\\\\u001b[0mi\\\\u001b[0m\\\\u001b[0;34m,\\\\u001b[0m \\\\u001b[0mj\\\\u001b[0m\\\\u001b[0;34m)\\\\u001b[0m\\\\u001b[0;34m\\\\u001b[0m\\\\u001b[0;34m\\\\u001b[0m\\\\u001b[0m\\\\n\\\\u001b[1;32m     19\\\\u001b[0m \\\\u001b[0;32mwhile\\\\u001b[0m \\\\u001b[0;32mTrue\\\\u001b[0m\\\\u001b[0;34m:\\\\u001b[0m\\\\u001b[0;34m\\\\u001b[0m\\\\u001b[0;34m\\\\u001b[0m\\\\u001b[0m\\\\n\\\\u001b[0;32m---> 20\\\\u001b[0;31m   \\\\u001b[0mid\\\\u001b[0m \\\\u001b[0;34m=\\\\u001b[0m \\\\u001b[0mint\\\\u001b[0m\\\\u001b[0;34m(\\\\u001b[0m\\\\u001b[0minput\\\\u001b[0m\\\\u001b[0;34m(\\\\u001b[0m\\\\u001b[0;34m\\\\\\\"Enter your Employee id: \\\\\\\\n\\\\\\\"\\\\u001b[0m\\\\u001b[0;34m)\\\\u001b[0m\\\\u001b[0;34m)\\\\u001b[0m\\\\u001b[0;34m\\\\u001b[0m\\\\u001b[0;34m\\\\u001b[0m\\\\u001b[0m\\\\n\\\\u001b[0m\\\\u001b[1;32m     21\\\\u001b[0m   \\\\u001b[0;32mif\\\\u001b[0m \\\\u001b[0mid\\\\u001b[0m \\\\u001b[0;32mnot\\\\u001b[0m \\\\u001b[0;32min\\\\u001b[0m \\\\u001b[0memployees\\\\u001b[0m\\\\u001b[0;34m.\\\\u001b[0m\\\\u001b[0mkeys\\\\u001b[0m\\\\u001b[0;34m(\\\\u001b[0m\\\\u001b[0;34m)\\\\u001b[0m\\\\u001b[0;34m:\\\\u001b[0m\\\\u001b[0;34m\\\\u001b[0m\\\\u001b[0;34m\\\\u001b[0m\\\\u001b[0m\\\\n\\\\u001b[1;32m     22\\\\u001b[0m     \\\\u001b[0mprint\\\\u001b[0m\\\\u001b[0;34m(\\\\u001b[0m\\\\u001b[0;34m'Employeee id is not valid'\\\\u001b[0m\\\\u001b[0;34m)\\\\u001b[0m\\\\u001b[0;34m\\\\u001b[0m\\\\u001b[0;34m\\\\u001b[0m\\\\u001b[0m\\\\n\\\",\\\"\\\\u001b[0;32m/usr/local/lib/python3.6/dist-packages/ipykernel/kernelbase.py\\\\u001b[0m in \\\\u001b[0;36mraw_input\\\\u001b[0;34m(self, prompt)\\\\u001b[0m\\\\n\\\\u001b[1;32m    702\\\\u001b[0m             \\\\u001b[0mself\\\\u001b[0m\\\\u001b[0;34m.\\\\u001b[0m\\\\u001b[0m_parent_ident\\\\u001b[0m\\\\u001b[0;34m,\\\\u001b[0m\\\\u001b[0;34m\\\\u001b[0m\\\\u001b[0;34m\\\\u001b[0m\\\\u001b[0m\\\\n\\\\u001b[1;32m    703\\\\u001b[0m             \\\\u001b[0mself\\\\u001b[0m\\\\u001b[0;34m.\\\\u001b[0m\\\\u001b[0m_parent_header\\\\u001b[0m\\\\u001b[0;34m,\\\\u001b[0m\\\\u001b[0;34m\\\\u001b[0m\\\\u001b[0;34m\\\\u001b[0m\\\\u001b[0m\\\\n\\\\u001b[0;32m--> 704\\\\u001b[0;31m             \\\\u001b[0mpassword\\\\u001b[0m\\\\u001b[0;34m=\\\\u001b[0m\\\\u001b[0;32mFalse\\\\u001b[0m\\\\u001b[0;34m,\\\\u001b[0m\\\\u001b[0;34m\\\\u001b[0m\\\\u001b[0;34m\\\\u001b[0m\\\\u001b[0m\\\\n\\\\u001b[0m\\\\u001b[1;32m    705\\\\u001b[0m         )\\\\n\\\\u001b[1;32m    706\\\\u001b[0m \\\\u001b[0;34m\\\\u001b[0m\\\\u001b[0m\\\\n\\\",\\\"\\\\u001b[0;32m/usr/local/lib/python3.6/dist-packages/ipykernel/kernelbase.py\\\\u001b[0m in \\\\u001b[0;36m_input_request\\\\u001b[0;34m(self, prompt, ident, parent, password)\\\\u001b[0m\\\\n\\\\u001b[1;32m    732\\\\u001b[0m             \\\\u001b[0;32mexcept\\\\u001b[0m \\\\u001b[0mKeyboardInterrupt\\\\u001b[0m\\\\u001b[0;34m:\\\\u001b[0m\\\\u001b[0;34m\\\\u001b[0m\\\\u001b[0;34m\\\\u001b[0m\\\\u001b[0m\\\\n\\\\u001b[1;32m    733\\\\u001b[0m                 \\\\u001b[0;31m# re-raise KeyboardInterrupt, to truncate traceback\\\\u001b[0m\\\\u001b[0;34m\\\\u001b[0m\\\\u001b[0;34m\\\\u001b[0m\\\\u001b[0;34m\\\\u001b[0m\\\\u001b[0m\\\\n\\\\u001b[0;32m--> 734\\\\u001b[0;31m                 \\\\u001b[0;32mraise\\\\u001b[0m \\\\u001b[0mKeyboardInterrupt\\\\u001b[0m\\\\u001b[0;34m\\\\u001b[0m\\\\u001b[0;34m\\\\u001b[0m\\\\u001b[0m\\\\n\\\\u001b[0m\\\\u001b[1;32m    735\\\\u001b[0m             \\\\u001b[0;32melse\\\\u001b[0m\\\\u001b[0;34m:\\\\u001b[0m\\\\u001b[0;34m\\\\u001b[0m\\\\u001b[0;34m\\\\u001b[0m\\\\u001b[0m\\\\n\\\\u001b[1;32m    736\\\\u001b[0m                 \\\\u001b[0;32mbreak\\\\u001b[0m\\\\u001b[0;34m\\\\u001b[0m\\\\u001b[0;34m\\\\u001b[0m\\\\u001b[0m\\\\n\\\",\\\"\\\\u001b[0;31mKeyboardInterrupt\\\\u001b[0m: \\\"]}]},{\\\"cell_type\\\":\\\"markdown\\\",\\\"metadata\\\":{\\\"id\\\":\\\"OXbJnh8LbmZB\\\",\\\"colab_type\\\":\\\"text\\\"},\\\"source\\\":[\\\"## Functions\\\"]},{\\\"cell_type\\\":\\\"code\\\",\\\"metadata\\\":{\\\"id\\\":\\\"Gnyy4PHFjuJQ\\\",\\\"colab_type\\\":\\\"code\\\",\\\"colab\\\":{\\\"base_uri\\\":\\\"https://localhost:8080/\\\",\\\"height\\\":51},\\\"executionInfo\\\":{\\\"status\\\":\\\"ok\\\",\\\"timestamp\\\":1598854718859,\\\"user_tz\\\":-330,\\\"elapsed\\\":1549,\\\"user\\\":{\\\"displayName\\\":\\\"Prashant Singh\\\",\\\"photoUrl\\\":\\\"\\\",\\\"userId\\\":\\\"04712602781244046847\\\"}},\\\"outputId\\\":\\\"642be61d-2969-4dff-f63b-c837d4e91605\\\"},\\\"source\\\":[\\\"def my_function(x):\\\\n\\\",\\\"  return 5 * x\\\\n\\\",\\\"\\\\n\\\",\\\"print(my_function(3))\\\\n\\\",\\\"print(my_function(5))\\\"],\\\"execution_count\\\":null,\\\"outputs\\\":[{\\\"output_type\\\":\\\"stream\\\",\\\"text\\\":[\\\"15\\\\n\\\",\\\"25\\\\n\\\"],\\\"name\\\":\\\"stdout\\\"}]},{\\\"cell_type\\\":\\\"markdown\\\",\\\"metadata\\\":{\\\"id\\\":\\\"cKUKbCJQkAr3\\\",\\\"colab_type\\\":\\\"text\\\"},\\\"source\\\":[\\\"# Create a message app:\\\\n\\\",\\\"Ask the user to enter a message.\\\\n\\\",\\\"1. Total words should be less than or equals to 10.\\\\n\\\",\\\"2. Message should not contain restricted words. make_a_list of restricted words\\\"]},{\\\"cell_type\\\":\\\"code\\\",\\\"metadata\\\":{\\\"id\\\":\\\"Enxlu0N3kuFU\\\",\\\"colab_type\\\":\\\"code\\\",\\\"colab\\\":{\\\"base_uri\\\":\\\"https://localhost:8080/\\\",\\\"height\\\":34},\\\"executionInfo\\\":{\\\"status\\\":\\\"ok\\\",\\\"timestamp\\\":1598854719483,\\\"user_tz\\\":-330,\\\"elapsed\\\":2115,\\\"user\\\":{\\\"displayName\\\":\\\"Prashant Singh\\\",\\\"photoUrl\\\":\\\"\\\",\\\"userId\\\":\\\"04712602781244046847\\\"}},\\\"outputId\\\":\\\"4582e87e-d9c4-49d7-e591-a9e5deb024f1\\\"},\\\"source\\\":[\\\"def res_words(x):\\\\n\\\",\\\"  words = [\\\\\\\"bad\\\\\\\", \\\\\\\"dog\\\\\\\"]\\\\n\\\",\\\"  list1 = x.split()\\\\n\\\",\\\"  if len(list1) >10:\\\\n\\\",\\\"    print(\\\\\\\"you exceed the limit\\\\\\\")\\\\n\\\",\\\"  else:\\\\n\\\",\\\"    for i in words:\\\\n\\\",\\\"      if i in list1:\\\\n\\\",\\\"        print('mesage has some restricted word')\\\\n\\\",\\\"        break\\\\n\\\",\\\"    else:\\\\n\\\",\\\"      print('message sent')\\\\n\\\",\\\"\\\\n\\\",\\\"res_words(\\\\\\\"hello everyone\\\\\\\")\\\"],\\\"execution_count\\\":null,\\\"outputs\\\":[{\\\"output_type\\\":\\\"stream\\\",\\\"text\\\":[\\\"message sent\\\\n\\\"],\\\"name\\\":\\\"stdout\\\"}]},{\\\"cell_type\\\":\\\"code\\\",\\\"metadata\\\":{\\\"id\\\":\\\"bxa_lP1klSyF\\\",\\\"colab_type\\\":\\\"code\\\",\\\"colab\\\":{\\\"base_uri\\\":\\\"https://localhost:8080/\\\",\\\"height\\\":34},\\\"executionInfo\\\":{\\\"status\\\":\\\"ok\\\",\\\"timestamp\\\":1598854719484,\\\"user_tz\\\":-330,\\\"elapsed\\\":2065,\\\"user\\\":{\\\"displayName\\\":\\\"Prashant Singh\\\",\\\"photoUrl\\\":\\\"\\\",\\\"userId\\\":\\\"04712602781244046847\\\"}},\\\"outputId\\\":\\\"2e0b7944-a04a-45c1-8b63-224c8a9722f3\\\"},\\\"source\\\":[\\\"res_words(\\\\\\\"hello bad everyone\\\\\\\")\\\"],\\\"execution_count\\\":null,\\\"outputs\\\":[{\\\"output_type\\\":\\\"stream\\\",\\\"text\\\":[\\\"mesage has some restricted word\\\\n\\\"],\\\"name\\\":\\\"stdout\\\"}]},{\\\"cell_type\\\":\\\"code\\\",\\\"metadata\\\":{\\\"id\\\":\\\"-VCetiAilXMx\\\",\\\"colab_type\\\":\\\"code\\\",\\\"colab\\\":{\\\"base_uri\\\":\\\"https://localhost:8080/\\\",\\\"height\\\":34},\\\"executionInfo\\\":{\\\"status\\\":\\\"ok\\\",\\\"timestamp\\\":1598854719485,\\\"user_tz\\\":-330,\\\"elapsed\\\":2024,\\\"user\\\":{\\\"displayName\\\":\\\"Prashant Singh\\\",\\\"photoUrl\\\":\\\"\\\",\\\"userId\\\":\\\"04712602781244046847\\\"}},\\\"outputId\\\":\\\"1fe75487-e3d0-422b-ab16-afe8ca9ba7fb\\\"},\\\"source\\\":[\\\"x = \\\\\\\"hello bad everyone\\\\\\\"\\\\n\\\",\\\"lis = x.split\\\\n\\\",\\\"print(str(lis))\\\"],\\\"execution_count\\\":null,\\\"outputs\\\":[{\\\"output_type\\\":\\\"stream\\\",\\\"text\\\":[\\\"<built-in method split of str object at 0x7f9a9e536660>\\\\n\\\"],\\\"name\\\":\\\"stdout\\\"}]},{\\\"cell_type\\\":\\\"code\\\",\\\"metadata\\\":{\\\"id\\\":\\\"J4RxnuP-nd0i\\\",\\\"colab_type\\\":\\\"code\\\",\\\"colab\\\":{\\\"base_uri\\\":\\\"https://localhost:8080/\\\",\\\"height\\\":34},\\\"executionInfo\\\":{\\\"status\\\":\\\"ok\\\",\\\"timestamp\\\":1598854719487,\\\"user_tz\\\":-330,\\\"elapsed\\\":1993,\\\"user\\\":{\\\"displayName\\\":\\\"Prashant Singh\\\",\\\"photoUrl\\\":\\\"\\\",\\\"userId\\\":\\\"04712602781244046847\\\"}},\\\"outputId\\\":\\\"2ecfc1b8-60b5-4782-efb9-deb9fbec1752\\\"},\\\"source\\\":[\\\"x.split()\\\"],\\\"execution_count\\\":null,\\\"outputs\\\":[{\\\"output_type\\\":\\\"execute_result\\\",\\\"data\\\":{\\\"text/plain\\\":[\\\"['hello', 'bad', 'everyone']\\\"]},\\\"metadata\\\":{\\\"tags\\\":[]},\\\"execution_count\\\":10}]},{\\\"cell_type\\\":\\\"code\\\",\\\"metadata\\\":{\\\"id\\\":\\\"ZQzGVIdbpJb3\\\",\\\"colab_type\\\":\\\"code\\\",\\\"colab\\\":{\\\"base_uri\\\":\\\"https://localhost:8080/\\\",\\\"height\\\":51},\\\"executionInfo\\\":{\\\"status\\\":\\\"ok\\\",\\\"timestamp\\\":1598854731165,\\\"user_tz\\\":-330,\\\"elapsed\\\":13627,\\\"user\\\":{\\\"displayName\\\":\\\"Prashant Singh\\\",\\\"photoUrl\\\":\\\"\\\",\\\"userId\\\":\\\"04712602781244046847\\\"}},\\\"outputId\\\":\\\"886597be-1f15-47bf-e3eb-c2956ff3a8e9\\\"},\\\"source\\\":[\\\"# prashant@tcs.com\\\\n\\\",\\\"# ifo@jupitervidya.com\\\\n\\\",\\\"# pramod@jupitervidya.com\\\\n\\\",\\\"\\\\n\\\",\\\"\\\\n\\\",\\\"id = input(\\\\\\\"Enter an email id\\\\\\\")\\\\n\\\",\\\"\\\\n\\\",\\\"ls = id.split(\\\\\\\"@\\\\\\\")\\\\n\\\",\\\"if ls[1] in [\\\\\\\"abv.com\\\\\\\"]:\\\\n\\\",\\\"  print(\\\\\\\"valid id\\\\\\\")\\\\n\\\",\\\"else:\\\\n\\\",\\\"  print(\\\\\\\"not a valid id\\\\\\\")\\\\n\\\",\\\"\\\\n\\\"],\\\"execution_count\\\":null,\\\"outputs\\\":[{\\\"output_type\\\":\\\"stream\\\",\\\"text\\\":[\\\"Enter an email idhjoj@hjghk\\\\n\\\",\\\"not a valid id\\\\n\\\"],\\\"name\\\":\\\"stdout\\\"}]},{\\\"cell_type\\\":\\\"code\\\",\\\"metadata\\\":{\\\"id\\\":\\\"PuK2juUCw_Mn\\\",\\\"colab_type\\\":\\\"code\\\",\\\"colab\\\":{\\\"base_uri\\\":\\\"https://localhost:8080/\\\",\\\"height\\\":248},\\\"executionInfo\\\":{\\\"status\\\":\\\"error\\\",\\\"timestamp\\\":1598854737223,\\\"user_tz\\\":-330,\\\"elapsed\\\":19641,\\\"user\\\":{\\\"displayName\\\":\\\"Prashant Singh\\\",\\\"photoUrl\\\":\\\"\\\",\\\"userId\\\":\\\"04712602781244046847\\\"}},\\\"outputId\\\":\\\"0f5de368-1c7c-4649-bfd9-2c5481fe8b6c\\\"},\\\"source\\\":[\\\"company_domain=['tcs','google','microsoft','gmail']\\\\n\\\",\\\"email=input('Enter email id: ')\\\\n\\\",\\\"c=0\\\\n\\\",\\\"c=email.index('@')\\\\n\\\",\\\"y=email.index('.com')\\\\n\\\",\\\"str=email[c+1:y]\\\\n\\\",\\\"for q in company_domain:\\\\n\\\",\\\"    if q==str:\\\\n\\\",\\\"        print('valid email')\\\\n\\\",\\\"        break\\\\n\\\",\\\"else:\\\\n\\\",\\\"    print('invalid email')\\\\n\\\"],\\\"execution_count\\\":null,\\\"outputs\\\":[{\\\"output_type\\\":\\\"stream\\\",\\\"text\\\":[\\\"Enter email id: hgjgjkhg4tfgh\\\\n\\\"],\\\"name\\\":\\\"stdout\\\"},{\\\"output_type\\\":\\\"error\\\",\\\"ename\\\":\\\"ValueError\\\",\\\"evalue\\\":\\\"ignored\\\",\\\"traceback\\\":[\\\"\\\\u001b[0;31m---------------------------------------------------------------------------\\\\u001b[0m\\\",\\\"\\\\u001b[0;31mValueError\\\\u001b[0m                                Traceback (most recent call last)\\\",\\\"\\\\u001b[0;32m<ipython-input-12-32c688ea259e>\\\\u001b[0m in \\\\u001b[0;36m<module>\\\\u001b[0;34m()\\\\u001b[0m\\\\n\\\\u001b[1;32m      2\\\\u001b[0m \\\\u001b[0memail\\\\u001b[0m\\\\u001b[0;34m=\\\\u001b[0m\\\\u001b[0minput\\\\u001b[0m\\\\u001b[0;34m(\\\\u001b[0m\\\\u001b[0;34m'Enter email id: '\\\\u001b[0m\\\\u001b[0;34m)\\\\u001b[0m\\\\u001b[0;34m\\\\u001b[0m\\\\u001b[0;34m\\\\u001b[0m\\\\u001b[0m\\\\n\\\\u001b[1;32m      3\\\\u001b[0m \\\\u001b[0mc\\\\u001b[0m\\\\u001b[0;34m=\\\\u001b[0m\\\\u001b[0;36m0\\\\u001b[0m\\\\u001b[0;34m\\\\u001b[0m\\\\u001b[0;34m\\\\u001b[0m\\\\u001b[0m\\\\n\\\\u001b[0;32m----> 4\\\\u001b[0;31m \\\\u001b[0mc\\\\u001b[0m\\\\u001b[0;34m=\\\\u001b[0m\\\\u001b[0memail\\\\u001b[0m\\\\u001b[0;34m.\\\\u001b[0m\\\\u001b[0mindex\\\\u001b[0m\\\\u001b[0;34m(\\\\u001b[0m\\\\u001b[0;34m'@'\\\\u001b[0m\\\\u001b[0;34m)\\\\u001b[0m\\\\u001b[0;34m\\\\u001b[0m\\\\u001b[0;34m\\\\u001b[0m\\\\u001b[0m\\\\n\\\\u001b[0m\\\\u001b[1;32m      5\\\\u001b[0m \\\\u001b[0my\\\\u001b[0m\\\\u001b[0;34m=\\\\u001b[0m\\\\u001b[0memail\\\\u001b[0m\\\\u001b[0;34m.\\\\u001b[0m\\\\u001b[0mindex\\\\u001b[0m\\\\u001b[0;34m(\\\\u001b[0m\\\\u001b[0;34m'.com'\\\\u001b[0m\\\\u001b[0;34m)\\\\u001b[0m\\\\u001b[0;34m\\\\u001b[0m\\\\u001b[0;34m\\\\u001b[0m\\\\u001b[0m\\\\n\\\\u001b[1;32m      6\\\\u001b[0m \\\\u001b[0mstr\\\\u001b[0m\\\\u001b[0;34m=\\\\u001b[0m\\\\u001b[0memail\\\\u001b[0m\\\\u001b[0;34m[\\\\u001b[0m\\\\u001b[0mc\\\\u001b[0m\\\\u001b[0;34m+\\\\u001b[0m\\\\u001b[0;36m1\\\\u001b[0m\\\\u001b[0;34m:\\\\u001b[0m\\\\u001b[0my\\\\u001b[0m\\\\u001b[0;34m]\\\\u001b[0m\\\\u001b[0;34m\\\\u001b[0m\\\\u001b[0;34m\\\\u001b[0m\\\\u001b[0m\\\\n\\\",\\\"\\\\u001b[0;31mValueError\\\\u001b[0m: substring not found\\\"]}]},{\\\"cell_type\\\":\\\"code\\\",\\\"metadata\\\":{\\\"id\\\":\\\"Zes-SV3vzF83\\\",\\\"colab_type\\\":\\\"code\\\",\\\"colab\\\":{\\\"base_uri\\\":\\\"https://localhost:8080/\\\",\\\"height\\\":51},\\\"executionInfo\\\":{\\\"status\\\":\\\"ok\\\",\\\"timestamp\\\":1598854773730,\\\"user_tz\\\":-330,\\\"elapsed\\\":21971,\\\"user\\\":{\\\"displayName\\\":\\\"Prashant Singh\\\",\\\"photoUrl\\\":\\\"\\\",\\\"userId\\\":\\\"04712602781244046847\\\"}},\\\"outputId\\\":\\\"a9e7c78e-28dd-487b-ad7e-29437d221697\\\"},\\\"source\\\":[\\\"email= input('enter email id: ')\\\\n\\\",\\\"x= email.endswith('@tcs.com')\\\\n\\\",\\\"if x==True:\\\\n\\\",\\\"    print('valid')\\\\n\\\",\\\"else:\\\\n\\\",\\\"    print('invalid')\\\\n\\\"],\\\"execution_count\\\":null,\\\"outputs\\\":[{\\\"output_type\\\":\\\"stream\\\",\\\"text\\\":[\\\"enter email id: ghfjh\\\\n\\\",\\\"invalid\\\\n\\\"],\\\"name\\\":\\\"stdout\\\"}]},{\\\"cell_type\\\":\\\"code\\\",\\\"metadata\\\":{\\\"id\\\":\\\"H_8X7aiz0Hx_\\\",\\\"colab_type\\\":\\\"code\\\",\\\"colab\\\":{\\\"base_uri\\\":\\\"https://localhost:8080/\\\",\\\"height\\\":51},\\\"executionInfo\\\":{\\\"status\\\":\\\"ok\\\",\\\"timestamp\\\":1598854780987,\\\"user_tz\\\":-330,\\\"elapsed\\\":29145,\\\"user\\\":{\\\"displayName\\\":\\\"Prashant Singh\\\",\\\"photoUrl\\\":\\\"\\\",\\\"userId\\\":\\\"04712602781244046847\\\"}},\\\"outputId\\\":\\\"7d1d2515-8be1-4b22-ca28-6deb4018a3e0\\\"},\\\"source\\\":[\\\"email=input('enter company email id: ')\\\\n\\\",\\\"if email.endswith('@tcs.com'):\\\\n\\\",\\\"    print('valid')\\\\n\\\",\\\"else:\\\\n\\\",\\\"    print('invalid')\\\\n\\\"],\\\"execution_count\\\":null,\\\"outputs\\\":[{\\\"output_type\\\":\\\"stream\\\",\\\"text\\\":[\\\"enter company email id: hbjhlk\\\\n\\\",\\\"invalid\\\\n\\\"],\\\"name\\\":\\\"stdout\\\"}]},{\\\"cell_type\\\":\\\"markdown\\\",\\\"metadata\\\":{\\\"id\\\":\\\"t_U693Bt2YyC\\\",\\\"colab_type\\\":\\\"text\\\"},\\\"source\\\":[\\\"## lambda funtion\\\"]},{\\\"cell_type\\\":\\\"code\\\",\\\"metadata\\\":{\\\"id\\\":\\\"mYfb9rsU0s1i\\\",\\\"colab_type\\\":\\\"code\\\",\\\"colab\\\":{\\\"base_uri\\\":\\\"https://localhost:8080/\\\",\\\"height\\\":34},\\\"executionInfo\\\":{\\\"status\\\":\\\"ok\\\",\\\"timestamp\\\":1598854780991,\\\"user_tz\\\":-330,\\\"elapsed\\\":29035,\\\"user\\\":{\\\"displayName\\\":\\\"Prashant Singh\\\",\\\"photoUrl\\\":\\\"\\\",\\\"userId\\\":\\\"04712602781244046847\\\"}},\\\"outputId\\\":\\\"1f0ede77-1ebf-4107-d1d3-cacb969ff5df\\\"},\\\"source\\\":[\\\"add = lambda a, b: a+b\\\\n\\\",\\\"print(add(22, 22))\\\"],\\\"execution_count\\\":null,\\\"outputs\\\":[{\\\"output_type\\\":\\\"stream\\\",\\\"text\\\":[\\\"44\\\\n\\\"],\\\"name\\\":\\\"stdout\\\"}]},{\\\"cell_type\\\":\\\"code\\\",\\\"metadata\\\":{\\\"id\\\":\\\"-MK9tGHF2Uyz\\\",\\\"colab_type\\\":\\\"code\\\",\\\"colab\\\":{\\\"base_uri\\\":\\\"https://localhost:8080/\\\",\\\"height\\\":34},\\\"executionInfo\\\":{\\\"status\\\":\\\"ok\\\",\\\"timestamp\\\":1598854780993,\\\"user_tz\\\":-330,\\\"elapsed\\\":28981,\\\"user\\\":{\\\"displayName\\\":\\\"Prashant Singh\\\",\\\"photoUrl\\\":\\\"\\\",\\\"userId\\\":\\\"04712602781244046847\\\"}},\\\"outputId\\\":\\\"ff873a16-201a-4a16-bc2f-c7a615b86061\\\"},\\\"source\\\":[\\\"multiply = lambda a, b: a*b\\\\n\\\",\\\"print(multiply(22, 2))\\\"],\\\"execution_count\\\":null,\\\"outputs\\\":[{\\\"output_type\\\":\\\"stream\\\",\\\"text\\\":[\\\"44\\\\n\\\"],\\\"name\\\":\\\"stdout\\\"}]},{\\\"cell_type\\\":\\\"markdown\\\",\\\"metadata\\\":{\\\"id\\\":\\\"kTvBg9qpeT3j\\\",\\\"colab_type\\\":\\\"text\\\"},\\\"source\\\":[\\\"## filter function\\\"]},{\\\"cell_type\\\":\\\"code\\\",\\\"metadata\\\":{\\\"id\\\":\\\"fn3MM0zZ2oSc\\\",\\\"colab_type\\\":\\\"code\\\",\\\"colab\\\":{\\\"base_uri\\\":\\\"https://localhost:8080/\\\",\\\"height\\\":442},\\\"executionInfo\\\":{\\\"status\\\":\\\"ok\\\",\\\"timestamp\\\":1598854780994,\\\"user_tz\\\":-330,\\\"elapsed\\\":28892,\\\"user\\\":{\\\"displayName\\\":\\\"Prashant Singh\\\",\\\"photoUrl\\\":\\\"\\\",\\\"userId\\\":\\\"04712602781244046847\\\"}},\\\"outputId\\\":\\\"507b6f89-9bc8-41eb-c5e1-4b138e8b7bc0\\\"},\\\"source\\\":[\\\"help(filter)\\\"],\\\"execution_count\\\":null,\\\"outputs\\\":[{\\\"output_type\\\":\\\"stream\\\",\\\"text\\\":[\\\"Help on class filter in module builtins:\\\\n\\\",\\\"\\\\n\\\",\\\"class filter(object)\\\\n\\\",\\\" |  filter(function or None, iterable) --> filter object\\\\n\\\",\\\" |  \\\\n\\\",\\\" |  Return an iterator yielding those items of iterable for which function(item)\\\\n\\\",\\\" |  is true. If function is None, return the items that are true.\\\\n\\\",\\\" |  \\\\n\\\",\\\" |  Methods defined here:\\\\n\\\",\\\" |  \\\\n\\\",\\\" |  __getattribute__(self, name, /)\\\\n\\\",\\\" |      Return getattr(self, name).\\\\n\\\",\\\" |  \\\\n\\\",\\\" |  __iter__(self, /)\\\\n\\\",\\\" |      Implement iter(self).\\\\n\\\",\\\" |  \\\\n\\\",\\\" |  __new__(*args, **kwargs) from builtins.type\\\\n\\\",\\\" |      Create and return a new object.  See help(type) for accurate signature.\\\\n\\\",\\\" |  \\\\n\\\",\\\" |  __next__(self, /)\\\\n\\\",\\\" |      Implement next(self).\\\\n\\\",\\\" |  \\\\n\\\",\\\" |  __reduce__(...)\\\\n\\\",\\\" |      Return state information for pickling.\\\\n\\\",\\\"\\\\n\\\"],\\\"name\\\":\\\"stdout\\\"}]},{\\\"cell_type\\\":\\\"code\\\",\\\"metadata\\\":{\\\"id\\\":\\\"A08wxB1C35IA\\\",\\\"colab_type\\\":\\\"code\\\",\\\"colab\\\":{\\\"base_uri\\\":\\\"https://localhost:8080/\\\",\\\"height\\\":68},\\\"executionInfo\\\":{\\\"status\\\":\\\"ok\\\",\\\"timestamp\\\":1598854795501,\\\"user_tz\\\":-330,\\\"elapsed\\\":43330,\\\"user\\\":{\\\"displayName\\\":\\\"Prashant Singh\\\",\\\"photoUrl\\\":\\\"\\\",\\\"userId\\\":\\\"04712602781244046847\\\"}},\\\"outputId\\\":\\\"6f82ab9d-85e1-4ee6-d001-c8c8f1f0f0d2\\\"},\\\"source\\\":[\\\"lowest = int(input(\\\\\\\"Enter the lowest price\\\\\\\"))\\\\n\\\",\\\"heighest = int(input(\\\\\\\"Enter the heighest price\\\\\\\"))\\\\n\\\",\\\"product_price = [100, 358, 128, 48, 10000, 45000, 58000, 400, 200, 50]\\\\n\\\",\\\"\\\\n\\\",\\\"my_price = list(filter(lambda price:price>=lowest and price <= heighest, product_price))\\\\n\\\",\\\"print(my_price)\\\"],\\\"execution_count\\\":null,\\\"outputs\\\":[{\\\"output_type\\\":\\\"stream\\\",\\\"text\\\":[\\\"Enter the lowest price100\\\\n\\\",\\\"Enter the heighest price355\\\\n\\\",\\\"[100, 128, 200]\\\\n\\\"],\\\"name\\\":\\\"stdout\\\"}]},{\\\"cell_type\\\":\\\"code\\\",\\\"metadata\\\":{\\\"id\\\":\\\"k94zQeQp4uXs\\\",\\\"colab_type\\\":\\\"code\\\",\\\"colab\\\":{}},\\\"source\\\":[\\\"items = [\\\\\\\"mobile\\\\\\\", \\\\\\\"marker\\\\\\\"] \\\"],\\\"execution_count\\\":null,\\\"outputs\\\":[]},{\\\"cell_type\\\":\\\"code\\\",\\\"metadata\\\":{\\\"id\\\":\\\"RPS2yX5nPgl2\\\",\\\"colab_type\\\":\\\"code\\\",\\\"colab\\\":{\\\"base_uri\\\":\\\"https://localhost:8080/\\\",\\\"height\\\":51},\\\"executionInfo\\\":{\\\"status\\\":\\\"ok\\\",\\\"timestamp\\\":1598854801226,\\\"user_tz\\\":-330,\\\"elapsed\\\":48901,\\\"user\\\":{\\\"displayName\\\":\\\"Prashant Singh\\\",\\\"photoUrl\\\":\\\"\\\",\\\"userId\\\":\\\"04712602781244046847\\\"}},\\\"outputId\\\":\\\"dfd0cf9c-d8c2-4220-d748-31b17711a449\\\"},\\\"source\\\":[\\\"products = ['Football','Basketball','Laptop','Mouse','Keyboard','Ball']\\\\n\\\",\\\"search = input(\\\\\\\"Enter name of product you want to Search :-> \\\\\\\")\\\\n\\\",\\\"item=[]\\\\n\\\",\\\"\\\\n\\\",\\\"for i in products:\\\\n\\\",\\\"    if i.startswith(search):\\\\n\\\",\\\"        print(i)\\\\n\\\",\\\"        itm.append(i)\\\\n\\\",\\\"\\\\n\\\",\\\"if len(item)==0:\\\\n\\\",\\\"    print(\\\\\\\"No resluts\\\\\\\")\\\\n\\\"],\\\"execution_count\\\":null,\\\"outputs\\\":[{\\\"output_type\\\":\\\"stream\\\",\\\"text\\\":[\\\"Enter name of product you want to Search :-> t\\\\n\\\",\\\"No resluts\\\\n\\\"],\\\"name\\\":\\\"stdout\\\"}]},{\\\"cell_type\\\":\\\"code\\\",\\\"metadata\\\":{\\\"id\\\":\\\"j0ZGVfodCFrJ\\\",\\\"colab_type\\\":\\\"code\\\",\\\"colab\\\":{\\\"base_uri\\\":\\\"https://localhost:8080/\\\",\\\"height\\\":299},\\\"executionInfo\\\":{\\\"status\\\":\\\"error\\\",\\\"timestamp\\\":1598854810908,\\\"user_tz\\\":-330,\\\"elapsed\\\":58539,\\\"user\\\":{\\\"displayName\\\":\\\"Prashant Singh\\\",\\\"photoUrl\\\":\\\"\\\",\\\"userId\\\":\\\"04712602781244046847\\\"}},\\\"outputId\\\":\\\"ea23c8ba-41c9-4c27-b063-7e07ff47fb59\\\"},\\\"source\\\":[\\\"product_list = ['mobile','pen','t_shirt','laptops','jacket','TV','books',\\\\n\\\",\\\"                'speaker','mouse','keyboard','jeans','clock','charger',\\\\n\\\",\\\"                'football','videogames','ps5','xbox','intel i3']\\\\n\\\",\\\"\\\\n\\\",\\\"def search():\\\\n\\\",\\\"    need = input('\\\\\\\\nEnter your search: ')\\\\n\\\",\\\"    if not need:\\\\n\\\",\\\"        print('Input cannot be empty')\\\\n\\\",\\\"        search()\\\\n\\\",\\\"    for product in product_list:\\\\n\\\",\\\"        val = product.count(need)\\\\n\\\",\\\"        if val >= 1:\\\\n\\\",\\\"            print(product,end=\\\\\\\" \\\\\\\")\\\\n\\\",\\\"run = True\\\\n\\\",\\\"while run:\\\\n\\\",\\\"    search()\\\\n\\\",\\\"    inp = int(input('\\\\\\\\nEnter 1 to search again and 0 to quit: '))\\\\n\\\",\\\"    if inp == 1:\\\\n\\\",\\\"        continue\\\\n\\\",\\\"    elif inp == 0:\\\\n\\\",\\\"        run = False\\\\n\\\",\\\"    else:\\\\n\\\",\\\"        print('Enter valid input')\\\\n\\\"],\\\"execution_count\\\":null,\\\"outputs\\\":[{\\\"output_type\\\":\\\"stream\\\",\\\"text\\\":[\\\"\\\\n\\\",\\\"Enter your search: b\\\\n\\\",\\\"mobile books keyboard football xbox \\\\n\\\",\\\"Enter 1 to search again and 0 to quit: kjhk\\\\n\\\"],\\\"name\\\":\\\"stdout\\\"},{\\\"output_type\\\":\\\"error\\\",\\\"ename\\\":\\\"ValueError\\\",\\\"evalue\\\":\\\"ignored\\\",\\\"traceback\\\":[\\\"\\\\u001b[0;31m---------------------------------------------------------------------------\\\\u001b[0m\\\",\\\"\\\\u001b[0;31mValueError\\\\u001b[0m                                Traceback (most recent call last)\\\",\\\"\\\\u001b[0;32m<ipython-input-21-a6e51b1dc0f3>\\\\u001b[0m in \\\\u001b[0;36m<module>\\\\u001b[0;34m()\\\\u001b[0m\\\\n\\\\u001b[1;32m     15\\\\u001b[0m \\\\u001b[0;32mwhile\\\\u001b[0m \\\\u001b[0mrun\\\\u001b[0m\\\\u001b[0;34m:\\\\u001b[0m\\\\u001b[0;34m\\\\u001b[0m\\\\u001b[0;34m\\\\u001b[0m\\\\u001b[0m\\\\n\\\\u001b[1;32m     16\\\\u001b[0m     \\\\u001b[0msearch\\\\u001b[0m\\\\u001b[0;34m(\\\\u001b[0m\\\\u001b[0;34m)\\\\u001b[0m\\\\u001b[0;34m\\\\u001b[0m\\\\u001b[0;34m\\\\u001b[0m\\\\u001b[0m\\\\n\\\\u001b[0;32m---> 17\\\\u001b[0;31m     \\\\u001b[0minp\\\\u001b[0m \\\\u001b[0;34m=\\\\u001b[0m \\\\u001b[0mint\\\\u001b[0m\\\\u001b[0;34m(\\\\u001b[0m\\\\u001b[0minput\\\\u001b[0m\\\\u001b[0;34m(\\\\u001b[0m\\\\u001b[0;34m'\\\\\\\\nEnter 1 to search again and 0 to quit: '\\\\u001b[0m\\\\u001b[0;34m)\\\\u001b[0m\\\\u001b[0;34m)\\\\u001b[0m\\\\u001b[0;34m\\\\u001b[0m\\\\u001b[0;34m\\\\u001b[0m\\\\u001b[0m\\\\n\\\\u001b[0m\\\\u001b[1;32m     18\\\\u001b[0m     \\\\u001b[0;32mif\\\\u001b[0m \\\\u001b[0minp\\\\u001b[0m \\\\u001b[0;34m==\\\\u001b[0m \\\\u001b[0;36m1\\\\u001b[0m\\\\u001b[0;34m:\\\\u001b[0m\\\\u001b[0;34m\\\\u001b[0m\\\\u001b[0;34m\\\\u001b[0m\\\\u001b[0m\\\\n\\\\u001b[1;32m     19\\\\u001b[0m         \\\\u001b[0;32mcontinue\\\\u001b[0m\\\\u001b[0;34m\\\\u001b[0m\\\\u001b[0;34m\\\\u001b[0m\\\\u001b[0m\\\\n\\\",\\\"\\\\u001b[0;31mValueError\\\\u001b[0m: invalid literal for int() with base 10: 'kjhk'\\\"]}]},{\\\"cell_type\\\":\\\"code\\\",\\\"metadata\\\":{\\\"id\\\":\\\"j16lFYpzCict\\\",\\\"colab_type\\\":\\\"code\\\",\\\"colab\\\":{\\\"base_uri\\\":\\\"https://localhost:8080/\\\",\\\"height\\\":51},\\\"executionInfo\\\":{\\\"status\\\":\\\"ok\\\",\\\"timestamp\\\":1598856431769,\\\"user_tz\\\":-330,\\\"elapsed\\\":7839,\\\"user\\\":{\\\"displayName\\\":\\\"Prashant Singh\\\",\\\"photoUrl\\\":\\\"\\\",\\\"userId\\\":\\\"04712602781244046847\\\"}},\\\"outputId\\\":\\\"538f0bb6-4f3a-48ab-dac7-cd10a6af97c7\\\"},\\\"source\\\":[\\\"p_name = ['t-shirt', 'capri', 'toys', 'oneplus','footwear', 'watches', 'headsets','hand-tools', 'top', 'bottle','tooth-paste']\\\\n\\\",\\\"item_search = input(\\\\\\\"Enter to search: \\\\\\\")\\\\n\\\",\\\"print(list(filter(lambda x: x.lower().startswith(item_search),p_name)))\\\\n\\\"],\\\"execution_count\\\":null,\\\"outputs\\\":[{\\\"output_type\\\":\\\"stream\\\",\\\"text\\\":[\\\"Enter to search: hello\\\\n\\\",\\\"[]\\\\n\\\"],\\\"name\\\":\\\"stdout\\\"}]},{\\\"cell_type\\\":\\\"code\\\",\\\"metadata\\\":{\\\"id\\\":\\\"bR9XsdS0DJti\\\",\\\"colab_type\\\":\\\"code\\\",\\\"colab\\\":{\\\"base_uri\\\":\\\"https://localhost:8080/\\\",\\\"height\\\":51},\\\"executionInfo\\\":{\\\"status\\\":\\\"ok\\\",\\\"timestamp\\\":1598856448055,\\\"user_tz\\\":-330,\\\"elapsed\\\":5615,\\\"user\\\":{\\\"displayName\\\":\\\"Prashant Singh\\\",\\\"photoUrl\\\":\\\"\\\",\\\"userId\\\":\\\"04712602781244046847\\\"}},\\\"outputId\\\":\\\"4d818fa4-b1ab-4443-9693-f860c8cb1e5f\\\"},\\\"source\\\":[\\\"product_list = {'mobile','pen','t_shirt','laptops','jacket','TV','books',\\\\n\\\",\\\"                'speaker','mouse','keyboard','jeans','clock','charger',\\\\n\\\",\\\"                'football','videogames','ps5','xbox','intel i3','t-shirt', 'capri', 'toys', 'oneplus','footwear', 'watches', 'headsets','hand-tools', 'top', 'bottle','tooth-paste'}\\\\n\\\",\\\"item = input(\\\\\\\"Enter to search: \\\\\\\")\\\\n\\\",\\\"print(list(filter(lambda product: product.startswith(item),product_list)))\\\\n\\\"],\\\"execution_count\\\":null,\\\"outputs\\\":[{\\\"output_type\\\":\\\"stream\\\",\\\"text\\\":[\\\"Enter to search: clo\\\\n\\\",\\\"['clock']\\\\n\\\"],\\\"name\\\":\\\"stdout\\\"}]},{\\\"cell_type\\\":\\\"code\\\",\\\"metadata\\\":{\\\"id\\\":\\\"oVg4mf89EU6C\\\",\\\"colab_type\\\":\\\"code\\\",\\\"colab\\\":{\\\"base_uri\\\":\\\"https://localhost:8080/\\\",\\\"height\\\":442},\\\"executionInfo\\\":{\\\"status\\\":\\\"ok\\\",\\\"timestamp\\\":1598856454642,\\\"user_tz\\\":-330,\\\"elapsed\\\":1387,\\\"user\\\":{\\\"displayName\\\":\\\"Prashant Singh\\\",\\\"photoUrl\\\":\\\"\\\",\\\"userId\\\":\\\"04712602781244046847\\\"}},\\\"outputId\\\":\\\"9def3303-02ef-4756-e6a4-d39d059c6bd0\\\"},\\\"source\\\":[\\\"help(map)\\\"],\\\"execution_count\\\":null,\\\"outputs\\\":[{\\\"output_type\\\":\\\"stream\\\",\\\"text\\\":[\\\"Help on class map in module builtins:\\\\n\\\",\\\"\\\\n\\\",\\\"class map(object)\\\\n\\\",\\\" |  map(func, *iterables) --> map object\\\\n\\\",\\\" |  \\\\n\\\",\\\" |  Make an iterator that computes the function using arguments from\\\\n\\\",\\\" |  each of the iterables.  Stops when the shortest iterable is exhausted.\\\\n\\\",\\\" |  \\\\n\\\",\\\" |  Methods defined here:\\\\n\\\",\\\" |  \\\\n\\\",\\\" |  __getattribute__(self, name, /)\\\\n\\\",\\\" |      Return getattr(self, name).\\\\n\\\",\\\" |  \\\\n\\\",\\\" |  __iter__(self, /)\\\\n\\\",\\\" |      Implement iter(self).\\\\n\\\",\\\" |  \\\\n\\\",\\\" |  __new__(*args, **kwargs) from builtins.type\\\\n\\\",\\\" |      Create and return a new object.  See help(type) for accurate signature.\\\\n\\\",\\\" |  \\\\n\\\",\\\" |  __next__(self, /)\\\\n\\\",\\\" |      Implement next(self).\\\\n\\\",\\\" |  \\\\n\\\",\\\" |  __reduce__(...)\\\\n\\\",\\\" |      Return state information for pickling.\\\\n\\\",\\\"\\\\n\\\"],\\\"name\\\":\\\"stdout\\\"}]},{\\\"cell_type\\\":\\\"code\\\",\\\"metadata\\\":{\\\"id\\\":\\\"cMSsK18YGGsu\\\",\\\"colab_type\\\":\\\"code\\\",\\\"colab\\\":{\\\"base_uri\\\":\\\"https://localhost:8080/\\\",\\\"height\\\":34},\\\"executionInfo\\\":{\\\"status\\\":\\\"ok\\\",\\\"timestamp\\\":1598856455742,\\\"user_tz\\\":-330,\\\"elapsed\\\":1243,\\\"user\\\":{\\\"displayName\\\":\\\"Prashant Singh\\\",\\\"photoUrl\\\":\\\"\\\",\\\"userId\\\":\\\"04712602781244046847\\\"}},\\\"outputId\\\":\\\"41a5670c-f650-4119-ee0e-a0e56e3ec832\\\"},\\\"source\\\":[\\\"num = [12, 4, 5, 10, 3]\\\\n\\\",\\\"sqr = list(map(lambda n:n**2, num))\\\\n\\\",\\\"print(sqr)\\\"],\\\"execution_count\\\":null,\\\"outputs\\\":[{\\\"output_type\\\":\\\"stream\\\",\\\"text\\\":[\\\"[144, 16, 25, 100, 9]\\\\n\\\"],\\\"name\\\":\\\"stdout\\\"}]},{\\\"cell_type\\\":\\\"code\\\",\\\"metadata\\\":{\\\"id\\\":\\\"-KtB2CD9GXVR\\\",\\\"colab_type\\\":\\\"code\\\",\\\"colab\\\":{\\\"base_uri\\\":\\\"https://localhost:8080/\\\",\\\"height\\\":34},\\\"executionInfo\\\":{\\\"status\\\":\\\"ok\\\",\\\"timestamp\\\":1598856457169,\\\"user_tz\\\":-330,\\\"elapsed\\\":1544,\\\"user\\\":{\\\"displayName\\\":\\\"Prashant Singh\\\",\\\"photoUrl\\\":\\\"\\\",\\\"userId\\\":\\\"04712602781244046847\\\"}},\\\"outputId\\\":\\\"f69e5b9a-e651-47c0-f101-13b4fb4c76b3\\\"},\\\"source\\\":[\\\"num = list(range(1, 11))\\\\n\\\",\\\"sqr = list(map(lambda n:n**2, num[:5]))\\\\n\\\",\\\"print(sqr)\\\"],\\\"execution_count\\\":null,\\\"outputs\\\":[{\\\"output_type\\\":\\\"stream\\\",\\\"text\\\":[\\\"[1, 4, 9, 16, 25]\\\\n\\\"],\\\"name\\\":\\\"stdout\\\"}]},{\\\"cell_type\\\":\\\"code\\\",\\\"metadata\\\":{\\\"id\\\":\\\"tVSkCuQ3HNsd\\\",\\\"colab_type\\\":\\\"code\\\",\\\"colab\\\":{\\\"base_uri\\\":\\\"https://localhost:8080/\\\",\\\"height\\\":51},\\\"executionInfo\\\":{\\\"status\\\":\\\"ok\\\",\\\"timestamp\\\":1598857031311,\\\"user_tz\\\":-330,\\\"elapsed\\\":8039,\\\"user\\\":{\\\"displayName\\\":\\\"Prashant Singh\\\",\\\"photoUrl\\\":\\\"\\\",\\\"userId\\\":\\\"04712602781244046847\\\"}},\\\"outputId\\\":\\\"b9837264-f5bf-47c6-c710-f854297b454e\\\"},\\\"source\\\":[\\\"\\\\n\\\",\\\"# first_name last_name\\\\n\\\",\\\"def captilize(first_name, last_name):\\\\n\\\",\\\"  print(f\\\\\\\"{first_name.capitalize()} {last_name.capitalize()}\\\\\\\")\\\\n\\\",\\\"\\\\n\\\",\\\"full_name = input(\\\\\\\"Enter a full name: \\\\\\\")\\\\n\\\",\\\"\\\\n\\\",\\\"x = full_name.split(\\\\\\\" \\\\\\\")\\\\n\\\",\\\"# print(x)\\\\n\\\",\\\"captilize(str(x[:1]),str(x[1:2]))\\\\n\\\",\\\"\\\\n\\\"],\\\"execution_count\\\":null,\\\"outputs\\\":[{\\\"output_type\\\":\\\"stream\\\",\\\"text\\\":[\\\"Enter a full name: Prashant Singh\\\\n\\\",\\\"['prashant'] ['singh']\\\\n\\\"],\\\"name\\\":\\\"stdout\\\"}]},{\\\"cell_type\\\":\\\"code\\\",\\\"metadata\\\":{\\\"id\\\":\\\"aQCyj3h1Ir4-\\\",\\\"colab_type\\\":\\\"code\\\",\\\"colab\\\":{\\\"base_uri\\\":\\\"https://localhost:8080/\\\",\\\"height\\\":935},\\\"executionInfo\\\":{\\\"status\\\":\\\"ok\\\",\\\"timestamp\\\":1598857179657,\\\"user_tz\\\":-330,\\\"elapsed\\\":2003,\\\"user\\\":{\\\"displayName\\\":\\\"Prashant Singh\\\",\\\"photoUrl\\\":\\\"\\\",\\\"userId\\\":\\\"04712602781244046847\\\"}},\\\"outputId\\\":\\\"00432a8c-3956-4e87-d9be-f8fce604e12c\\\"},\\\"source\\\":[\\\"import math\\\\n\\\",\\\"dir(math)\\\"],\\\"execution_count\\\":null,\\\"outputs\\\":[{\\\"output_type\\\":\\\"execute_result\\\",\\\"data\\\":{\\\"text/plain\\\":[\\\"['__doc__',\\\\n\\\",\\\" '__loader__',\\\\n\\\",\\\" '__name__',\\\\n\\\",\\\" '__package__',\\\\n\\\",\\\" '__spec__',\\\\n\\\",\\\" 'acos',\\\\n\\\",\\\" 'acosh',\\\\n\\\",\\\" 'asin',\\\\n\\\",\\\" 'asinh',\\\\n\\\",\\\" 'atan',\\\\n\\\",\\\" 'atan2',\\\\n\\\",\\\" 'atanh',\\\\n\\\",\\\" 'ceil',\\\\n\\\",\\\" 'copysign',\\\\n\\\",\\\" 'cos',\\\\n\\\",\\\" 'cosh',\\\\n\\\",\\\" 'degrees',\\\\n\\\",\\\" 'e',\\\\n\\\",\\\" 'erf',\\\\n\\\",\\\" 'erfc',\\\\n\\\",\\\" 'exp',\\\\n\\\",\\\" 'expm1',\\\\n\\\",\\\" 'fabs',\\\\n\\\",\\\" 'factorial',\\\\n\\\",\\\" 'floor',\\\\n\\\",\\\" 'fmod',\\\\n\\\",\\\" 'frexp',\\\\n\\\",\\\" 'fsum',\\\\n\\\",\\\" 'gamma',\\\\n\\\",\\\" 'gcd',\\\\n\\\",\\\" 'hypot',\\\\n\\\",\\\" 'inf',\\\\n\\\",\\\" 'isclose',\\\\n\\\",\\\" 'isfinite',\\\\n\\\",\\\" 'isinf',\\\\n\\\",\\\" 'isnan',\\\\n\\\",\\\" 'ldexp',\\\\n\\\",\\\" 'lgamma',\\\\n\\\",\\\" 'log',\\\\n\\\",\\\" 'log10',\\\\n\\\",\\\" 'log1p',\\\\n\\\",\\\" 'log2',\\\\n\\\",\\\" 'modf',\\\\n\\\",\\\" 'nan',\\\\n\\\",\\\" 'pi',\\\\n\\\",\\\" 'pow',\\\\n\\\",\\\" 'radians',\\\\n\\\",\\\" 'sin',\\\\n\\\",\\\" 'sinh',\\\\n\\\",\\\" 'sqrt',\\\\n\\\",\\\" 'tan',\\\\n\\\",\\\" 'tanh',\\\\n\\\",\\\" 'tau',\\\\n\\\",\\\" 'trunc']\\\"]},\\\"metadata\\\":{\\\"tags\\\":[]},\\\"execution_count\\\":13}]},{\\\"cell_type\\\":\\\"code\\\",\\\"metadata\\\":{\\\"id\\\":\\\"5JKe8zilUGVr\\\",\\\"colab_type\\\":\\\"code\\\",\\\"colab\\\":{\\\"base_uri\\\":\\\"https://localhost:8080/\\\",\\\"height\\\":34},\\\"executionInfo\\\":{\\\"status\\\":\\\"ok\\\",\\\"timestamp\\\":1598857219590,\\\"user_tz\\\":-330,\\\"elapsed\\\":1368,\\\"user\\\":{\\\"displayName\\\":\\\"Prashant Singh\\\",\\\"photoUrl\\\":\\\"\\\",\\\"userId\\\":\\\"04712602781244046847\\\"}},\\\"outputId\\\":\\\"90a8143a-97cd-48c7-ca4f-fe751eab19b0\\\"},\\\"source\\\":[\\\"print(math.pi*2)\\\"],\\\"execution_count\\\":null,\\\"outputs\\\":[{\\\"output_type\\\":\\\"stream\\\",\\\"text\\\":[\\\"6.283185307179586\\\\n\\\"],\\\"name\\\":\\\"stdout\\\"}]},{\\\"cell_type\\\":\\\"code\\\",\\\"metadata\\\":{\\\"id\\\":\\\"mMAc7_C9ULSH\\\",\\\"colab_type\\\":\\\"code\\\",\\\"colab\\\":{\\\"base_uri\\\":\\\"https://localhost:8080/\\\",\\\"height\\\":34},\\\"executionInfo\\\":{\\\"status\\\":\\\"ok\\\",\\\"timestamp\\\":1598857274347,\\\"user_tz\\\":-330,\\\"elapsed\\\":30534,\\\"user\\\":{\\\"displayName\\\":\\\"Prashant Singh\\\",\\\"photoUrl\\\":\\\"\\\",\\\"userId\\\":\\\"04712602781244046847\\\"}},\\\"outputId\\\":\\\"04b0ca26-ba27-43f5-bf70-0ee912242e8a\\\"},\\\"source\\\":[\\\"math.tan(60)\\\"],\\\"execution_count\\\":null,\\\"outputs\\\":[{\\\"output_type\\\":\\\"execute_result\\\",\\\"data\\\":{\\\"text/plain\\\":[\\\"0.320040389379563\\\"]},\\\"metadata\\\":{\\\"tags\\\":[]},\\\"execution_count\\\":16}]},{\\\"cell_type\\\":\\\"code\\\",\\\"metadata\\\":{\\\"id\\\":\\\"-JkQeRfwUWhr\\\",\\\"colab_type\\\":\\\"code\\\",\\\"colab\\\":{\\\"base_uri\\\":\\\"https://localhost:8080/\\\",\\\"height\\\":34},\\\"executionInfo\\\":{\\\"status\\\":\\\"ok\\\",\\\"timestamp\\\":1598857276690,\\\"user_tz\\\":-330,\\\"elapsed\\\":2213,\\\"user\\\":{\\\"displayName\\\":\\\"Prashant Singh\\\",\\\"photoUrl\\\":\\\"\\\",\\\"userId\\\":\\\"04712602781244046847\\\"}},\\\"outputId\\\":\\\"90f4bd4e-7bd9-409e-e373-aabfd71dbebc\\\"},\\\"source\\\":[\\\"math.sin(60)\\\"],\\\"execution_count\\\":null,\\\"outputs\\\":[{\\\"output_type\\\":\\\"execute_result\\\",\\\"data\\\":{\\\"text/plain\\\":[\\\"-0.3048106211022167\\\"]},\\\"metadata\\\":{\\\"tags\\\":[]},\\\"execution_count\\\":17}]},{\\\"cell_type\\\":\\\"code\\\",\\\"metadata\\\":{\\\"id\\\":\\\"7hHfUfdvUZur\\\",\\\"colab_type\\\":\\\"code\\\",\\\"colab\\\":{\\\"base_uri\\\":\\\"https://localhost:8080/\\\",\\\"height\\\":34},\\\"executionInfo\\\":{\\\"status\\\":\\\"ok\\\",\\\"timestamp\\\":1598857722446,\\\"user_tz\\\":-330,\\\"elapsed\\\":1881,\\\"user\\\":{\\\"displayName\\\":\\\"Prashant Singh\\\",\\\"photoUrl\\\":\\\"\\\",\\\"userId\\\":\\\"04712602781244046847\\\"}},\\\"outputId\\\":\\\"4eced380-898e-48a1-9ed9-76e3b6f8bf6d\\\"},\\\"source\\\":[\\\"import random\\\\n\\\",\\\"\\\\n\\\",\\\"int(random.random()*100)\\\"],\\\"execution_count\\\":null,\\\"outputs\\\":[{\\\"output_type\\\":\\\"execute_result\\\",\\\"data\\\":{\\\"text/plain\\\":[\\\"17\\\"]},\\\"metadata\\\":{\\\"tags\\\":[]},\\\"execution_count\\\":48}]},{\\\"cell_type\\\":\\\"code\\\",\\\"metadata\\\":{\\\"id\\\":\\\"y3fEV7PmU5Yp\\\",\\\"colab_type\\\":\\\"code\\\",\\\"colab\\\":{\\\"base_uri\\\":\\\"https://localhost:8080/\\\",\\\"height\\\":34},\\\"executionInfo\\\":{\\\"status\\\":\\\"ok\\\",\\\"timestamp\\\":1598857470137,\\\"user_tz\\\":-330,\\\"elapsed\\\":1426,\\\"user\\\":{\\\"displayName\\\":\\\"Prashant Singh\\\",\\\"photoUrl\\\":\\\"\\\",\\\"userId\\\":\\\"04712602781244046847\\\"}},\\\"outputId\\\":\\\"9f79d680-320b-4b45-87db-4cf75c74f854\\\"},\\\"source\\\":[\\\"random.choice([1,2,3,4])\\\"],\\\"execution_count\\\":null,\\\"outputs\\\":[{\\\"output_type\\\":\\\"execute_result\\\",\\\"data\\\":{\\\"text/plain\\\":[\\\"1\\\"]},\\\"metadata\\\":{\\\"tags\\\":[]},\\\"execution_count\\\":26}]},{\\\"cell_type\\\":\\\"code\\\",\\\"metadata\\\":{\\\"id\\\":\\\"y-m751adU7fG\\\",\\\"colab_type\\\":\\\"code\\\",\\\"colab\\\":{\\\"base_uri\\\":\\\"https://localhost:8080/\\\",\\\"height\\\":34},\\\"executionInfo\\\":{\\\"status\\\":\\\"ok\\\",\\\"timestamp\\\":1598857760789,\\\"user_tz\\\":-330,\\\"elapsed\\\":1705,\\\"user\\\":{\\\"displayName\\\":\\\"Prashant Singh\\\",\\\"photoUrl\\\":\\\"\\\",\\\"userId\\\":\\\"04712602781244046847\\\"}},\\\"outputId\\\":\\\"441d1a9c-2d14-4a1b-a0e8-e34b9d22c40a\\\"},\\\"source\\\":[\\\"random.choices([1,2,3,4],k=2)\\\"],\\\"execution_count\\\":null,\\\"outputs\\\":[{\\\"output_type\\\":\\\"execute_result\\\",\\\"data\\\":{\\\"text/plain\\\":[\\\"[2, 4]\\\"]},\\\"metadata\\\":{\\\"tags\\\":[]},\\\"execution_count\\\":49}]},{\\\"cell_type\\\":\\\"code\\\",\\\"metadata\\\":{\\\"id\\\":\\\"EUWofThmWUX9\\\",\\\"colab_type\\\":\\\"code\\\",\\\"colab\\\":{\\\"base_uri\\\":\\\"https://localhost:8080/\\\",\\\"height\\\":34},\\\"executionInfo\\\":{\\\"status\\\":\\\"ok\\\",\\\"timestamp\\\":1598857895306,\\\"user_tz\\\":-330,\\\"elapsed\\\":1156,\\\"user\\\":{\\\"displayName\\\":\\\"Prashant Singh\\\",\\\"photoUrl\\\":\\\"\\\",\\\"userId\\\":\\\"04712602781244046847\\\"}},\\\"outputId\\\":\\\"996d583d-8cd3-4a92-d24d-b3ff23ec2a76\\\"},\\\"source\\\":[\\\"math.trunc(random.random()*100)\\\"],\\\"execution_count\\\":null,\\\"outputs\\\":[{\\\"output_type\\\":\\\"execute_result\\\",\\\"data\\\":{\\\"text/plain\\\":[\\\"81\\\"]},\\\"metadata\\\":{\\\"tags\\\":[]},\\\"execution_count\\\":54}]},{\\\"cell_type\\\":\\\"code\\\",\\\"metadata\\\":{\\\"id\\\":\\\"rl4Dh5WhWaFh\\\",\\\"colab_type\\\":\\\"code\\\",\\\"colab\\\":{\\\"base_uri\\\":\\\"https://localhost:8080/\\\",\\\"height\\\":34},\\\"executionInfo\\\":{\\\"status\\\":\\\"ok\\\",\\\"timestamp\\\":1598858093555,\\\"user_tz\\\":-330,\\\"elapsed\\\":3468,\\\"user\\\":{\\\"displayName\\\":\\\"Prashant Singh\\\",\\\"photoUrl\\\":\\\"\\\",\\\"userId\\\":\\\"04712602781244046847\\\"}},\\\"outputId\\\":\\\"f1d8ae09-320f-4e5d-fce6-ad19f3e4d4d5\\\"},\\\"source\\\":[\\\"math.pi\\\"],\\\"execution_count\\\":null,\\\"outputs\\\":[{\\\"output_type\\\":\\\"execute_result\\\",\\\"data\\\":{\\\"text/plain\\\":[\\\"3.141592653589793\\\"]},\\\"metadata\\\":{\\\"tags\\\":[]},\\\"execution_count\\\":56}]},{\\\"cell_type\\\":\\\"code\\\",\\\"metadata\\\":{\\\"id\\\":\\\"_7HsKdY5o34K\\\",\\\"colab_type\\\":\\\"code\\\",\\\"colab\\\":{\\\"base_uri\\\":\\\"https://localhost:8080/\\\",\\\"height\\\":51},\\\"executionInfo\\\":{\\\"status\\\":\\\"ok\\\",\\\"timestamp\\\":1598963954925,\\\"user_tz\\\":-330,\\\"elapsed\\\":23143,\\\"user\\\":{\\\"displayName\\\":\\\"Prashant Singh\\\",\\\"photoUrl\\\":\\\"\\\",\\\"userId\\\":\\\"04712602781244046847\\\"}},\\\"outputId\\\":\\\"b9d6d501-a44a-46d6-ed36-24b2df4fa5fc\\\"},\\\"source\\\":[\\\"product_list = {'mobile','pen','t_shirt','laptops','jacket','TV','books',\\\\n\\\",\\\"                'speaker','mouse','keyboard','jeans','clock','charger',\\\\n\\\",\\\"                'football','videogames','ps5','xbox','intel i3','t-shirt', 'capri', 'toys', 'oneplus','footwear', 'watches', 'headsets','hand-tools', 'top', 'bottle','tooth-paste'}\\\\n\\\",\\\"item = input(\\\\\\\"Enter to search: \\\\\\\")\\\\n\\\",\\\"try:\\\\n\\\",\\\"  if item not in product_list:\\\\n\\\",\\\"    raise Exception(item)\\\\n\\\",\\\"  else:\\\\n\\\",\\\"    print()\\\\n\\\",\\\"except Exception as err:\\\\n\\\",\\\"  print('Please write valid input')\\\\n\\\"],\\\"execution_count\\\":null,\\\"outputs\\\":[{\\\"output_type\\\":\\\"stream\\\",\\\"text\\\":[\\\"Enter to search: mobile\\\\n\\\",\\\"<generator object <genexpr> at 0x7f4a55ffea98>\\\\n\\\"],\\\"name\\\":\\\"stdout\\\"}]},{\\\"cell_type\\\":\\\"code\\\",\\\"metadata\\\":{\\\"id\\\":\\\"1-kyG3CSsAzl\\\",\\\"colab_type\\\":\\\"code\\\",\\\"colab\\\":{\\\"base_uri\\\":\\\"https://localhost:8080/\\\",\\\"height\\\":51},\\\"executionInfo\\\":{\\\"status\\\":\\\"ok\\\",\\\"timestamp\\\":1598964217869,\\\"user_tz\\\":-330,\\\"elapsed\\\":17855,\\\"user\\\":{\\\"displayName\\\":\\\"Prashant Singh\\\",\\\"photoUrl\\\":\\\"\\\",\\\"userId\\\":\\\"04712602781244046847\\\"}},\\\"outputId\\\":\\\"2f2f9984-7d14-4a5f-814f-8b4154877471\\\"},\\\"source\\\":[\\\"products = ['mobile', 'laptop', 'table', 'car']\\\\n\\\",\\\"\\\\n\\\",\\\"product_name = input(\\\\\\\"Enter the product name:\\\\\\\")\\\\n\\\",\\\"try:\\\\n\\\",\\\"  print(products.index(product_name))\\\\n\\\",\\\"except Exception as err:\\\\n\\\",\\\"  print(err)\\\"],\\\"execution_count\\\":null,\\\"outputs\\\":[{\\\"output_type\\\":\\\"stream\\\",\\\"text\\\":[\\\"Enter the product name:fdf\\\\n\\\",\\\"'fdf' is not in list\\\\n\\\"],\\\"name\\\":\\\"stdout\\\"}]},{\\\"cell_type\\\":\\\"code\\\",\\\"metadata\\\":{\\\"id\\\":\\\"16FfblBBs9ak\\\",\\\"colab_type\\\":\\\"code\\\",\\\"colab\\\":{\\\"base_uri\\\":\\\"https://localhost:8080/\\\",\\\"height\\\":54},\\\"executionInfo\\\":{\\\"status\\\":\\\"ok\\\",\\\"timestamp\\\":1599045195755,\\\"user_tz\\\":-330,\\\"elapsed\\\":2524,\\\"user\\\":{\\\"displayName\\\":\\\"Prashant Singh\\\",\\\"photoUrl\\\":\\\"\\\",\\\"userId\\\":\\\"04712602781244046847\\\"}},\\\"outputId\\\":\\\"b4baedf9-5fbe-4265-8dc0-71ee7f433626\\\"},\\\"source\\\":[\\\"print(dir(__builtins__))\\\"],\\\"execution_count\\\":1,\\\"outputs\\\":[{\\\"output_type\\\":\\\"stream\\\",\\\"text\\\":[\\\"['ArithmeticError', 'AssertionError', 'AttributeError', 'BaseException', 'BlockingIOError', 'BrokenPipeError', 'BufferError', 'BytesWarning', 'ChildProcessError', 'ConnectionAbortedError', 'ConnectionError', 'ConnectionRefusedError', 'ConnectionResetError', 'DeprecationWarning', 'EOFError', 'Ellipsis', 'EnvironmentError', 'Exception', 'False', 'FileExistsError', 'FileNotFoundError', 'FloatingPointError', 'FutureWarning', 'GeneratorExit', 'IOError', 'ImportError', 'ImportWarning', 'IndentationError', 'IndexError', 'InterruptedError', 'IsADirectoryError', 'KeyError', 'KeyboardInterrupt', 'LookupError', 'MemoryError', 'ModuleNotFoundError', 'NameError', 'None', 'NotADirectoryError', 'NotImplemented', 'NotImplementedError', 'OSError', 'OverflowError', 'PendingDeprecationWarning', 'PermissionError', 'ProcessLookupError', 'RecursionError', 'ReferenceError', 'ResourceWarning', 'RuntimeError', 'RuntimeWarning', 'StopAsyncIteration', 'StopIteration', 'SyntaxError', 'SyntaxWarning', 'SystemError', 'SystemExit', 'TabError', 'TimeoutError', 'True', 'TypeError', 'UnboundLocalError', 'UnicodeDecodeError', 'UnicodeEncodeError', 'UnicodeError', 'UnicodeTranslateError', 'UnicodeWarning', 'UserWarning', 'ValueError', 'Warning', 'ZeroDivisionError', '__IPYTHON__', '__build_class__', '__debug__', '__doc__', '__import__', '__loader__', '__name__', '__package__', '__spec__', 'abs', 'all', 'any', 'ascii', 'bin', 'bool', 'bytearray', 'bytes', 'callable', 'chr', 'classmethod', 'compile', 'complex', 'copyright', 'credits', 'delattr', 'dict', 'dir', 'display', 'divmod', 'dreload', 'enumerate', 'eval', 'exec', 'filter', 'float', 'format', 'frozenset', 'get_ipython', 'getattr', 'globals', 'hasattr', 'hash', 'help', 'hex', 'id', 'input', 'int', 'isinstance', 'issubclass', 'iter', 'len', 'license', 'list', 'locals', 'map', 'max', 'memoryview', 'min', 'next', 'object', 'oct', 'open', 'ord', 'pow', 'print', 'property', 'range', 'repr', 'reversed', 'round', 'set', 'setattr', 'slice', 'sorted', 'staticmethod', 'str', 'sum', 'super', 'tuple', 'type', 'vars', 'zip']\\\\n\\\"],\\\"name\\\":\\\"stdout\\\"}]},{\\\"cell_type\\\":\\\"markdown\\\",\\\"metadata\\\":{\\\"id\\\":\\\"iMOXNlJxhQd8\\\",\\\"colab_type\\\":\\\"text\\\"},\\\"source\\\":[\\\"# FileHandling\\\"]},{\\\"cell_type\\\":\\\"code\\\",\\\"metadata\\\":{\\\"id\\\":\\\"lYyHvXK8hf6B\\\",\\\"colab_type\\\":\\\"code\\\",\\\"colab\\\":{},\\\"executionInfo\\\":{\\\"status\\\":\\\"ok\\\",\\\"timestamp\\\":1599045615006,\\\"user_tz\\\":-330,\\\"elapsed\\\":1523,\\\"user\\\":{\\\"displayName\\\":\\\"Prashant Singh\\\",\\\"photoUrl\\\":\\\"\\\",\\\"userId\\\":\\\"04712602781244046847\\\"}}},\\\"source\\\":[\\\"try:\\\\n\\\",\\\"  myfile = open(\\\\\\\"drive/My Drive/abc.txt\\\\\\\", \\\\\\\"w\\\\\\\")\\\\n\\\",\\\"  myfile.write(\\\\\\\"Hello hi Python.\\\\\\\")\\\\n\\\",\\\"  myfile.close()\\\\n\\\",\\\"except Exception as err:\\\\n\\\",\\\"  print(err)\\\"],\\\"execution_count\\\":8,\\\"outputs\\\":[]},{\\\"cell_type\\\":\\\"code\\\",\\\"metadata\\\":{\\\"id\\\":\\\"UvdOohXOi7KS\\\",\\\"colab_type\\\":\\\"code\\\",\\\"colab\\\":{\\\"base_uri\\\":\\\"https://localhost:8080/\\\",\\\"height\\\":34},\\\"executionInfo\\\":{\\\"status\\\":\\\"ok\\\",\\\"timestamp\\\":1599046055761,\\\"user_tz\\\":-330,\\\"elapsed\\\":1490,\\\"user\\\":{\\\"displayName\\\":\\\"Prashant Singh\\\",\\\"photoUrl\\\":\\\"\\\",\\\"userId\\\":\\\"04712602781244046847\\\"}},\\\"outputId\\\":\\\"ec821dad-0247-49c2-d0ee-6141cf1ef009\\\"},\\\"source\\\":[\\\"try:\\\\n\\\",\\\"  myfile = open(r\\\\\\\"drive/My Drive/abc.txt\\\\\\\", \\\\\\\"r\\\\\\\")\\\\n\\\",\\\"  print(myfile.read())\\\\n\\\",\\\"  myfile.close()\\\\n\\\",\\\"except Exception as err:\\\\n\\\",\\\"  print(err)\\\"],\\\"execution_count\\\":11,\\\"outputs\\\":[{\\\"output_type\\\":\\\"stream\\\",\\\"text\\\":[\\\"Hello hi Python.\\\\n\\\"],\\\"name\\\":\\\"stdout\\\"}]},{\\\"cell_type\\\":\\\"code\\\",\\\"metadata\\\":{\\\"id\\\":\\\"AEx9mG9xj5AT\\\",\\\"colab_type\\\":\\\"code\\\",\\\"colab\\\":{\\\"base_uri\\\":\\\"https://localhost:8080/\\\",\\\"height\\\":54},\\\"executionInfo\\\":{\\\"status\\\":\\\"ok\\\",\\\"timestamp\\\":1599046279553,\\\"user_tz\\\":-330,\\\"elapsed\\\":1341,\\\"user\\\":{\\\"displayName\\\":\\\"Prashant Singh\\\",\\\"photoUrl\\\":\\\"\\\",\\\"userId\\\":\\\"04712602781244046847\\\"}},\\\"outputId\\\":\\\"d5aeb983-42e0-4002-e53f-35f11a225b05\\\"},\\\"source\\\":[\\\"try:\\\\n\\\",\\\"  myfile = open(\\\\\\\"drive/My Drive/Data/houses.csv\\\\\\\", \\\\\\\"r\\\\\\\")\\\\n\\\",\\\"  print(myfile)\\\\n\\\",\\\"  myfile.close()\\\\n\\\",\\\"except Exception as err:\\\\n\\\",\\\"  print(\\\\\\\"error:\\\\\\\",err)\\\"],\\\"execution_count\\\":15,\\\"outputs\\\":[{\\\"output_type\\\":\\\"stream\\\",\\\"text\\\":[\\\"<_io.TextIOWrapper name='drive/My Drive/Data/houses.csv' mode='r' encoding='UTF-8'>\\\\n\\\"],\\\"name\\\":\\\"stdout\\\"}]},{\\\"cell_type\\\":\\\"code\\\",\\\"metadata\\\":{\\\"id\\\":\\\"WC3OPG3jm7gz\\\",\\\"colab_type\\\":\\\"code\\\",\\\"colab\\\":{},\\\"executionInfo\\\":{\\\"status\\\":\\\"ok\\\",\\\"timestamp\\\":1599046676711,\\\"user_tz\\\":-330,\\\"elapsed\\\":1761,\\\"user\\\":{\\\"displayName\\\":\\\"Prashant Singh\\\",\\\"photoUrl\\\":\\\"\\\",\\\"userId\\\":\\\"04712602781244046847\\\"}}},\\\"source\\\":[\\\"#### appending a file\\\"],\\\"execution_count\\\":17,\\\"outputs\\\":[]},{\\\"cell_type\\\":\\\"code\\\",\\\"metadata\\\":{\\\"id\\\":\\\"T29OeGodlL9L\\\",\\\"colab_type\\\":\\\"code\\\",\\\"colab\\\":{},\\\"executionInfo\\\":{\\\"status\\\":\\\"ok\\\",\\\"timestamp\\\":1599046676713,\\\"user_tz\\\":-330,\\\"elapsed\\\":1649,\\\"user\\\":{\\\"displayName\\\":\\\"Prashant Singh\\\",\\\"photoUrl\\\":\\\"\\\",\\\"userId\\\":\\\"04712602781244046847\\\"}}},\\\"source\\\":[\\\"try:\\\\n\\\",\\\"  myfile = open(r\\\\\\\"drive/My Drive/abc.txt\\\\\\\", \\\\\\\"a\\\\\\\")\\\\n\\\",\\\"  myfile.write(\\\\\\\"This is the second line\\\\\\\")\\\\n\\\",\\\"  myfile.close()\\\\n\\\",\\\"except Exception as err:\\\\n\\\",\\\"  print(err)\\\"],\\\"execution_count\\\":18,\\\"outputs\\\":[]},{\\\"cell_type\\\":\\\"code\\\",\\\"metadata\\\":{\\\"id\\\":\\\"KfuupU0Vm5Q4\\\",\\\"colab_type\\\":\\\"code\\\",\\\"colab\\\":{}},\\\"source\\\":[\\\"\\\"],\\\"execution_count\\\":null,\\\"outputs\\\":[]},{\\\"cell_type\\\":\\\"code\\\",\\\"metadata\\\":{\\\"id\\\":\\\"8puUXf5wmaMz\\\",\\\"colab_type\\\":\\\"code\\\",\\\"colab\\\":{\\\"base_uri\\\":\\\"https://localhost:8080/\\\",\\\"height\\\":102},\\\"executionInfo\\\":{\\\"status\\\":\\\"ok\\\",\\\"timestamp\\\":1599047730813,\\\"user_tz\\\":-330,\\\"elapsed\\\":1355,\\\"user\\\":{\\\"displayName\\\":\\\"Prashant Singh\\\",\\\"photoUrl\\\":\\\"\\\",\\\"userId\\\":\\\"04712602781244046847\\\"}},\\\"outputId\\\":\\\"bff34727-5f82-454c-d0af-267109ce26ef\\\"},\\\"source\\\":[\\\"try:\\\\n\\\",\\\"  myfile = open(r\\\\\\\"drive/My Drive/abc.txt\\\\\\\")\\\\n\\\",\\\"  # print(myfile.read())\\\\n\\\",\\\"  # print(myfile.read(18))  # it takes only 18 characters\\\\n\\\",\\\"  # print(myfile.readline())  #it print only first line\\\\n\\\",\\\"  # print(myfile.readlines())\\\\n\\\",\\\"  for line in myfile.readlines(): # This is the efficient way\\\\n\\\",\\\"    print(line, end=\\\\\\\"\\\\\\\")\\\\n\\\",\\\"  myfile.close()\\\\n\\\",\\\"except Exception as err:\\\\n\\\",\\\"  print(err)\\\"],\\\"execution_count\\\":27,\\\"outputs\\\":[{\\\"output_type\\\":\\\"stream\\\",\\\"text\\\":[\\\"Hello hi Python.This is the second lineThis is the second line\\\\n\\\",\\\"\\\\n\\\",\\\"Hello\\\\n\\\",\\\"How are you\\\\n\\\",\\\"omg\\\\n\\\"],\\\"name\\\":\\\"stdout\\\"}]},{\\\"cell_type\\\":\\\"code\\\",\\\"metadata\\\":{\\\"id\\\":\\\"EJhax3bgp9Nd\\\",\\\"colab_type\\\":\\\"code\\\",\\\"colab\\\":{\\\"base_uri\\\":\\\"https://localhost:8080/\\\",\\\"height\\\":54},\\\"executionInfo\\\":{\\\"status\\\":\\\"ok\\\",\\\"timestamp\\\":1599047990948,\\\"user_tz\\\":-330,\\\"elapsed\\\":1893,\\\"user\\\":{\\\"displayName\\\":\\\"Prashant Singh\\\",\\\"photoUrl\\\":\\\"\\\",\\\"userId\\\":\\\"04712602781244046847\\\"}},\\\"outputId\\\":\\\"7b2f6c7c-4c16-4264-ca18-ceb8fbb4b75b\\\"},\\\"source\\\":[\\\"#### wap to read your own code\\\\n\\\",\\\"try:\\\\n\\\",\\\"  myfile = open('/content/drive/My Drive/Colab Notebooks/DSML_colabs/Day 1/12th_DSML.ipynb')\\\\n\\\",\\\"  for line in myfile.readlines():\\\\n\\\",\\\"    print(line, end=\\\\\\\"\\\\\\\")\\\\n\\\",\\\"  myfile.close()\\\\n\\\",\\\"except Exception as err:\\\\n\\\",\\\"  print(err)\\\"],\\\"execution_count\\\":28,\\\"outputs\\\":[{\\\"output_type\\\":\\\"stream\\\",\\\"text\\\":[\\\"{\\\\\\\"nbformat\\\\\\\":4,\\\\\\\"nbformat_minor\\\\\\\":0,\\\\\\\"metadata\\\\\\\":{\\\\\\\"colab\\\\\\\":{\\\\\\\"name\\\\\\\":\\\\\\\"12th_DSML.ipynb\\\\\\\",\\\\\\\"provenance\\\\\\\":[],\\\\\\\"collapsed_sections\\\\\\\":[]},\\\\\\\"kernelspec\\\\\\\":{\\\\\\\"name\\\\\\\":\\\\\\\"python3\\\\\\\",\\\\\\\"display_name\\\\\\\":\\\\\\\"Python 3\\\\\\\"}},\\\\\\\"cells\\\\\\\":[{\\\\\\\"cell_type\\\\\\\":\\\\\\\"markdown\\\\\\\",\\\\\\\"metadata\\\\\\\":{\\\\\\\"id\\\\\\\":\\\\\\\"6djJJzTFZRY8\\\\\\\",\\\\\\\"colab_type\\\\\\\":\\\\\\\"text\\\\\\\"},\\\\\\\"source\\\\\\\":[\\\\\\\"# if elif else\\\\\\\"]},{\\\\\\\"cell_type\\\\\\\":\\\\\\\"code\\\\\\\",\\\\\\\"metadata\\\\\\\":{\\\\\\\"id\\\\\\\":\\\\\\\"ct_VaU9nZQpd\\\\\\\",\\\\\\\"colab_type\\\\\\\":\\\\\\\"code\\\\\\\",\\\\\\\"colab\\\\\\\":{\\\\\\\"base_uri\\\\\\\":\\\\\\\"https://localhost:8080/\\\\\\\",\\\\\\\"height\\\\\\\":51},\\\\\\\"executionInfo\\\\\\\":{\\\\\\\"status\\\\\\\":\\\\\\\"ok\\\\\\\",\\\\\\\"timestamp\\\\\\\":1598854562657,\\\\\\\"user_tz\\\\\\\":-330,\\\\\\\"elapsed\\\\\\\":24850,\\\\\\\"user\\\\\\\":{\\\\\\\"displayName\\\\\\\":\\\\\\\"Prashant Singh\\\\\\\",\\\\\\\"photoUrl\\\\\\\":\\\\\\\"\\\\\\\",\\\\\\\"userId\\\\\\\":\\\\\\\"04712602781244046847\\\\\\\"}},\\\\\\\"outputId\\\\\\\":\\\\\\\"22454578-f25b-40da-a8e1-23bb20a8b8cd\\\\\\\"},\\\\\\\"source\\\\\\\":[\\\\\\\"age = int(input('Enter your age: '))\\\\\\\\n\\\\\\\",\\\\\\\"\\\\\\\\n\\\\\\\",\\\\\\\"if age < 18:\\\\\\\\n\\\\\\\",\\\\\\\"  print('you can\\\\\\\\\\\\\\\\'t apply for driving license')\\\\\\\\n\\\\\\\",\\\\\\\"elif age > 40:\\\\\\\\n\\\\\\\",\\\\\\\"  print('medical certificate is necessary for applying driving license')\\\\\\\\n\\\\\\\",\\\\\\\"else:\\\\\\\\n\\\\\\\",\\\\\\\"  print('you can apply for driving license🙂🙂🙂')\\\\\\\"],\\\\\\\"execution_count\\\\\\\":null,\\\\\\\"outputs\\\\\\\":[{\\\\\\\"output_type\\\\\\\":\\\\\\\"stream\\\\\\\",\\\\\\\"text\\\\\\\":[\\\\\\\"Enter your age: 12\\\\\\\\n\\\\\\\",\\\\\\\"you can't apply for driving license\\\\\\\\n\\\\\\\"],\\\\\\\"name\\\\\\\":\\\\\\\"stdout\\\\\\\"}]},{\\\\\\\"cell_type\\\\\\\":\\\\\\\"markdown\\\\\\\",\\\\\\\"metadata\\\\\\\":{\\\\\\\"id\\\\\\\":\\\\\\\"6e5Poszof0Ot\\\\\\\",\\\\\\\"colab_type\\\\\\\":\\\\\\\"text\\\\\\\"},\\\\\\\"source\\\\\\\":[\\\\\\\"# while Loop Statements\\\\\\\"]},{\\\\\\\"cell_type\\\\\\\":\\\\\\\"code\\\\\\\",\\\\\\\"metadata\\\\\\\":{\\\\\\\"id\\\\\\\":\\\\\\\"bSai_cG2fKHi\\\\\\\",\\\\\\\"colab_type\\\\\\\":\\\\\\\"code\\\\\\\",\\\\\\\"colab\\\\\\\":{}},\\\\\\\"source\\\\\\\":[\\\\\\\"\\\\\\\"],\\\\\\\"execution_count\\\\\\\":null,\\\\\\\"outputs\\\\\\\":[]},{\\\\\\\"cell_type\\\\\\\":\\\\\\\"markdown\\\\\\\",\\\\\\\"metadata\\\\\\\":{\\\\\\\"id\\\\\\\":\\\\\\\"ENdJBGn7gYph\\\\\\\",\\\\\\\"colab_type\\\\\\\":\\\\\\\"text\\\\\\\"},\\\\\\\"source\\\\\\\":[\\\\\\\"# break Statements\\\\\\\"]},{\\\\\\\"cell_type\\\\\\\":\\\\\\\"markdown\\\\\\\",\\\\\\\"metadata\\\\\\\":{\\\\\\\"id\\\\\\\":\\\\\\\"WLzJCBtLgc7F\\\\\\\",\\\\\\\"colab_type\\\\\\\":\\\\\\\"text\\\\\\\"},\\\\\\\"source\\\\\\\":[\\\\\\\"# continue statements\\\\\\\"]},{\\\\\\\"cell_type\\\\\\\":\\\\\\\"markdown\\\\\\\",\\\\\\\"metadata\\\\\\\":{\\\\\\\"id\\\\\\\":\\\\\\\"3hVG8NCzgh-Z\\\\\\\",\\\\\\\"colab_type\\\\\\\":\\\\\\\"text\\\\\\\"},\\\\\\\"source\\\\\\\":[\\\\\\\"# for Loops and the range() Function\\\\\\\"]},{\\\\\\\"cell_type\\\\\\\":\\\\\\\"markdown\\\\\\\",\\\\\\\"metadata\\\\\\\":{\\\\\\\"id\\\\\\\":\\\\\\\"MXjKMYEGgo_i\\\\\\\",\\\\\\\"colab_type\\\\\\\":\\\\\\\"text\\\\\\\"},\\\\\\\"source\\\\\\\":[\\\\\\\"# for else statement\\\\\\\"]},{\\\\\\\"cell_type\\\\\\\":\\\\\\\"markdown\\\\\\\",\\\\\\\"metadata\\\\\\\":{\\\\\\\"id\\\\\\\":\\\\\\\"YH6AT8aIgwGa\\\\\\\",\\\\\\\"colab_type\\\\\\\":\\\\\\\"text\\\\\\\"},\\\\\\\"source\\\\\\\":[\\\\\\\"# Importing Modules\\\\\\\"]},{\\\\\\\"cell_type\\\\\\\":\\\\\\\"markdown\\\\\\\",\\\\\\\"metadata\\\\\\\":{\\\\\\\"id\\\\\\\":\\\\\\\"EBMuLq09hFwY\\\\\\\",\\\\\\\"colab_type\\\\\\\":\\\\\\\"text\\\\\\\"},\\\\\\\"source\\\\\\\":[\\\\\\\"# Ending a Program Early with sys.exit()\\\\\\\"]},{\\\\\\\"cell_type\\\\\\\":\\\\\\\"markdown\\\\\\\",\\\\\\\"metadata\\\\\\\":{\\\\\\\"id\\\\\\\":\\\\\\\"LEf-H49BhL6S\\\\\\\",\\\\\\\"colab_type\\\\\\\":\\\\\\\"text\\\\\\\"},\\\\\\\"source\\\\\\\":[\\\\\\\"# Map Function\\\\\\\"]},{\\\\\\\"cell_type\\\\\\\":\\\\\\\"code\\\\\\\",\\\\\\\"metadata\\\\\\\":{\\\\\\\"id\\\\\\\":\\\\\\\"ovxYlab_g-xp\\\\\\\",\\\\\\\"colab_type\\\\\\\":\\\\\\\"code\\\\\\\",\\\\\\\"colab\\\\\\\":{}},\\\\\\\"source\\\\\\\":[\\\\\\\"\\\\\\\"],\\\\\\\"execution_count\\\\\\\":null,\\\\\\\"outputs\\\\\\\":[]},{\\\\\\\"cell_type\\\\\\\":\\\\\\\"code\\\\\\\",\\\\\\\"metadata\\\\\\\":{\\\\\\\"id\\\\\\\":\\\\\\\"bXk13emDa9LM\\\\\\\",\\\\\\\"colab_type\\\\\\\":\\\\\\\"code\\\\\\\",\\\\\\\"colab\\\\\\\":{\\\\\\\"base_uri\\\\\\\":\\\\\\\"https://localhost:8080/\\\\\\\",\\\\\\\"height\\\\\\\":102},\\\\\\\"executionInfo\\\\\\\":{\\\\\\\"status\\\\\\\":\\\\\\\"ok\\\\\\\",\\\\\\\"timestamp\\\\\\\":1598854562670,\\\\\\\"user_tz\\\\\\\":-330,\\\\\\\"elapsed\\\\\\\":24759,\\\\\\\"user\\\\\\\":{\\\\\\\"displayName\\\\\\\":\\\\\\\"Prashant Singh\\\\\\\",\\\\\\\"photoUrl\\\\\\\":\\\\\\\"\\\\\\\",\\\\\\\"userId\\\\\\\":\\\\\\\"04712602781244046847\\\\\\\"}},\\\\\\\"outputId\\\\\\\":\\\\\\\"8e8e0620-9322-4fc5-86d1-5389ae1854c8\\\\\\\"},\\\\\\\"source\\\\\\\":[\\\\\\\"def myfunc(a, b):\\\\\\\\n\\\\\\\",\\\\\\\"  print(a+b)\\\\\\\\n\\\\\\\",\\\\\\\"  return a + b\\\\\\\\n\\\\\\\",\\\\\\\"\\\\\\\\n\\\\\\\",\\\\\\\"g = map(myfunc, ('apple', 'banana', 'cherry'), ('orange', 'lemon', 'pineapple'))\\\\\\\\n\\\\\\\",\\\\\\\"print(g)\\\\\\\\n\\\\\\\",\\\\\\\"g = list(g)\\\\\\\\n\\\\\\\",\\\\\\\"g \\\\\\\\n\\\\\\\"],\\\\\\\"execution_count\\\\\\\":null,\\\\\\\"outputs\\\\\\\":[{\\\\\\\"output_type\\\\\\\":\\\\\\\"stream\\\\\\\",\\\\\\\"text\\\\\\\":[\\\\\\\"<map object at 0x7f9a9ee5c588>\\\\\\\\n\\\\\\\",\\\\\\\"appleorange\\\\\\\\n\\\\\\\",\\\\\\\"bananalemon\\\\\\\\n\\\\\\\",\\\\\\\"cherrypineapple\\\\\\\\n\\\\\\\"],\\\\\\\"name\\\\\\\":\\\\\\\"stdout\\\\\\\"},{\\\\\\\"output_type\\\\\\\":\\\\\\\"execute_result\\\\\\\",\\\\\\\"data\\\\\\\":{\\\\\\\"text/plain\\\\\\\":[\\\\\\\"['appleorange', 'bananalemon', 'cherrypineapple']\\\\\\\"]},\\\\\\\"metadata\\\\\\\":{\\\\\\\"tags\\\\\\\":[]},\\\\\\\"execution_count\\\\\\\":2}]},{\\\\\\\"cell_type\\\\\\\":\\\\\\\"markdown\\\\\\\",\\\\\\\"metadata\\\\\\\":{\\\\\\\"id\\\\\\\":\\\\\\\"ryjL_QizX26v\\\\\\\",\\\\\\\"colab_type\\\\\\\":\\\\\\\"text\\\\\\\"},\\\\\\\"source\\\\\\\":[\\\\\\\"\\\\\\\\n\\\\\\\",\\\\\\\"# Dictonary\\\\\\\"]},{\\\\\\\"cell_type\\\\\\\":\\\\\\\"code\\\\\\\",\\\\\\\"metadata\\\\\\\":{\\\\\\\"id\\\\\\\":\\\\\\\"7L1Bp6U7X7qb\\\\\\\",\\\\\\\"colab_type\\\\\\\":\\\\\\\"code\\\\\\\",\\\\\\\"colab\\\\\\\":{}},\\\\\\\"source\\\\\\\":[\\\\\\\"students = dict({\\\\\\\\n\\\\\\\",\\\\\\\"    'Prashant': ['C', 'Python', 'Java', 'Kotlin', 'c++', 'Dart']\\\\\\\\n\\\\\\\",\\\\\\\"    \\\\\\\\n\\\\\\\",\\\\\\\"})\\\\\\\"],\\\\\\\"execution_count\\\\\\\":null,\\\\\\\"outputs\\\\\\\":[]},{\\\\\\\"cell_type\\\\\\\":\\\\\\\"code\\\\\\\",\\\\\\\"metadata\\\\\\\":{\\\\\\\"id\\\\\\\":\\\\\\\"HmBDy6aDZ1TB\\\\\\\",\\\\\\\"colab_type\\\\\\\":\\\\\\\"code\\\\\\\",\\\\\\\"colab\\\\\\\":{\\\\\\\"base_uri\\\\\\\":\\\\\\\"https://localhost:8080/\\\\\\\",\\\\\\\"height\\\\\\\":833},\\\\\\\"executionInfo\\\\\\\":{\\\\\\\"status\\\\\\\":\\\\\\\"error\\\\\\\",\\\\\\\"timestamp\\\\\\\":1598854711234,\\\\\\\"user_tz\\\\\\\":-330,\\\\\\\"elapsed\\\\\\\":109002,\\\\\\\"user\\\\\\\":{\\\\\\\"displayName\\\\\\\":\\\\\\\"Prashant Singh\\\\\\\",\\\\\\\"photoUrl\\\\\\\":\\\\\\\"\\\\\\\",\\\\\\\"userId\\\\\\\":\\\\\\\"04712602781244046847\\\\\\\"}},\\\\\\\"outputId\\\\\\\":\\\\\\\"2fc88aa0-ad61-458a-c3a5-77b7ecbfc776\\\\\\\"},\\\\\\\"source\\\\\\\":[\\\\\\\"employees = dict({\\\\\\\\n\\\\\\\",\\\\\\\"68319: [\\\\\\\\\\\\\\\"KAYLING\\\\\\\\\\\\\\\",  \\\\\\\\\\\\\\\"p1\\\\\\\\\\\\\\\", \\\\\\\\\\\\\\\"p2\\\\\\\\\\\\\\\"]    ,     \\\\\\\\n\\\\\\\",\\\\\\\"66928: [\\\\\\\\\\\\\\\"BLAZE\\\\\\\\\\\\\\\" ,   \\\\\\\\\\\\\\\"p1\\\\\\\\\\\\\\\"]   ,\\\\\\\\n\\\\\\\",\\\\\\\"67832: [\\\\\\\\\\\\\\\"CLARE\\\\\\\\\\\\\\\" ,   \\\\\\\\\\\\\\\"p1\\\\\\\\\\\\\\\"]   ,\\\\\\\\n\\\\\\\",\\\\\\\"65646: [\\\\\\\\\\\\\\\"JONAS\\\\\\\\\\\\\\\" ,   \\\\\\\\\\\\\\\"p1\\\\\\\\\\\\\\\", \\\\\\\\\\\\\\\"p2\\\\\\\\\\\\\\\"]   ,\\\\\\\\n\\\\\\\",\\\\\\\"67858: [\\\\\\\\\\\\\\\"SCARLET\\\\\\\\\\\\\\\" , \\\\\\\\\\\\\\\"p1\\\\\\\\\\\\\\\", \\\\\\\\\\\\\\\"p2\\\\\\\\\\\\\\\"]   ,\\\\\\\\n\\\\\\\",\\\\\\\"69062: [\\\\\\\\\\\\\\\"FRANK\\\\\\\\\\\\\\\" ,   \\\\\\\\\\\\\\\"p2\\\\\\\\\\\\\\\"],\\\\\\\\n\\\\\\\",\\\\\\\"63679: [\\\\\\\\\\\\\\\"SANDRINE\\\\\\\\\\\\\\\" ,\\\\\\\\\\\\\\\"p1\\\\\\\\\\\\\\\", \\\\\\\\\\\\\\\"p2\\\\\\\\\\\\\\\"],\\\\\\\\n\\\\\\\",\\\\\\\"64989: [\\\\\\\\\\\\\\\"ADELYN\\\\\\\\\\\\\\\" ,  \\\\\\\\\\\\\\\"p1\\\\\\\\\\\\\\\", \\\\\\\\\\\\\\\"p2\\\\\\\\\\\\\\\"]   ,\\\\\\\\n\\\\\\\",\\\\\\\"65271: [\\\\\\\\\\\\\\\"WADE\\\\\\\\\\\\\\\" ,    \\\\\\\\\\\\\\\"p2\\\\\\\\\\\\\\\"]   ,\\\\\\\\n\\\\\\\",\\\\\\\"66564: [\\\\\\\\\\\\\\\"MADDEN\\\\\\\\\\\\\\\" ,  \\\\\\\\\\\\\\\"p1\\\\\\\\\\\\\\\", \\\\\\\\\\\\\\\"p2\\\\\\\\\\\\\\\"]    ,\\\\\\\\n\\\\\\\",\\\\\\\"68454: [\\\\\\\\\\\\\\\"TUCKER\\\\\\\\\\\\\\\" ,  \\\\\\\\\\\\\\\"p2\\\\\\\\\\\\\\\"]   ,\\\\\\\\n\\\\\\\",\\\\\\\"68736: [\\\\\\\\\\\\\\\"ADNRES\\\\\\\\\\\\\\\" ,  \\\\\\\\\\\\\\\"p1\\\\\\\\\\\\\\\", \\\\\\\\\\\\\\\"p2\\\\\\\\\\\\\\\"] ,\\\\\\\\n\\\\\\\",\\\\\\\"69000: [\\\\\\\\\\\\\\\"JULIUS\\\\\\\\\\\\\\\" ,  \\\\\\\\\\\\\\\"p2\\\\\\\\\\\\\\\"] ,\\\\\\\\n\\\\\\\",\\\\\\\"69324: [\\\\\\\\\\\\\\\"MARKER\\\\\\\\\\\\\\\",   \\\\\\\\\\\\\\\"p1\\\\\\\\\\\\\\\", \\\\\\\\\\\\\\\"p2\\\\\\\\\\\\\\\"]    ,     \\\\\\\\n\\\\\\\",\\\\\\\"})\\\\\\\\n\\\\\\\",\\\\\\\"for i, j in employees.items():\\\\\\\\n\\\\\\\",\\\\\\\"  print(i, j)\\\\\\\\n\\\\\\\",\\\\\\\"while True:\\\\\\\\n\\\\\\\",\\\\\\\"  id = int(input(\\\\\\\\\\\\\\\"Enter your Employee id: \\\\\\\\\\\\\\\\n\\\\\\\\\\\\\\\"))\\\\\\\\n\\\\\\\",\\\\\\\"  if id not in employees.keys():\\\\\\\\n\\\\\\\",\\\\\\\"    print('Employeee id is not valid')\\\\\\\\n\\\\\\\",\\\\\\\"  else:\\\\\\\\n\\\\\\\",\\\\\\\"    pass\\\\\\\"],\\\\\\\"execution_count\\\\\\\":null,\\\\\\\"outputs\\\\\\\":[{\\\\\\\"output_type\\\\\\\":\\\\\\\"stream\\\\\\\",\\\\\\\"text\\\\\\\":[\\\\\\\"68319 ['KAYLING', 'p1', 'p2']\\\\\\\\n\\\\\\\",\\\\\\\"66928 ['BLAZE', 'p1']\\\\\\\\n\\\\\\\",\\\\\\\"67832 ['CLARE', 'p1']\\\\\\\\n\\\\\\\",\\\\\\\"65646 ['JONAS', 'p1', 'p2']\\\\\\\\n\\\\\\\",\\\\\\\"67858 ['SCARLET', 'p1', 'p2']\\\\\\\\n\\\\\\\",\\\\\\\"69062 ['FRANK', 'p2']\\\\\\\\n\\\\\\\",\\\\\\\"63679 ['SANDRINE', 'p1', 'p2']\\\\\\\\n\\\\\\\",\\\\\\\"64989 ['ADELYN', 'p1', 'p2']\\\\\\\\n\\\\\\\",\\\\\\\"65271 ['WADE', 'p2']\\\\\\\\n\\\\\\\",\\\\\\\"66564 ['MADDEN', 'p1', 'p2']\\\\\\\\n\\\\\\\",\\\\\\\"68454 ['TUCKER', 'p2']\\\\\\\\n\\\\\\\",\\\\\\\"68736 ['ADNRES', 'p1', 'p2']\\\\\\\\n\\\\\\\",\\\\\\\"69000 ['JULIUS', 'p2']\\\\\\\\n\\\\\\\",\\\\\\\"69324 ['MARKER', 'p1', 'p2']\\\\\\\\n\\\\\\\",\\\\\\\"Enter your Employee id: \\\\\\\\n\\\\\\\",\\\\\\\"69324\\\\\\\\n\\\\\\\"],\\\\\\\"name\\\\\\\":\\\\\\\"stdout\\\\\\\"},{\\\\\\\"output_type\\\\\\\":\\\\\\\"error\\\\\\\",\\\\\\\"ename\\\\\\\":\\\\\\\"KeyboardInterrupt\\\\\\\",\\\\\\\"evalue\\\\\\\":\\\\\\\"ignored\\\\\\\",\\\\\\\"traceback\\\\\\\":[\\\\\\\"\\\\\\\\u001b[0;31m---------------------------------------------------------------------------\\\\\\\\u001b[0m\\\\\\\",\\\\\\\"\\\\\\\\u001b[0;31mKeyboardInterrupt\\\\\\\\u001b[0m                         Traceback (most recent call last)\\\\\\\",\\\\\\\"\\\\\\\\u001b[0;32m/usr/local/lib/python3.6/dist-packages/ipykernel/kernelbase.py\\\\\\\\u001b[0m in \\\\\\\\u001b[0;36m_input_request\\\\\\\\u001b[0;34m(self, prompt, ident, parent, password)\\\\\\\\u001b[0m\\\\\\\\n\\\\\\\\u001b[1;32m    728\\\\\\\\u001b[0m             \\\\\\\\u001b[0;32mtry\\\\\\\\u001b[0m\\\\\\\\u001b[0;34m:\\\\\\\\u001b[0m\\\\\\\\u001b[0;34m\\\\\\\\u001b[0m\\\\\\\\u001b[0;34m\\\\\\\\u001b[0m\\\\\\\\u001b[0m\\\\\\\\n\\\\\\\\u001b[0;32m--> 729\\\\\\\\u001b[0;31m                 \\\\\\\\u001b[0mident\\\\\\\\u001b[0m\\\\\\\\u001b[0;34m,\\\\\\\\u001b[0m \\\\\\\\u001b[0mreply\\\\\\\\u001b[0m \\\\\\\\u001b[0;34m=\\\\\\\\u001b[0m \\\\\\\\u001b[0mself\\\\\\\\u001b[0m\\\\\\\\u001b[0;34m.\\\\\\\\u001b[0m\\\\\\\\u001b[0msession\\\\\\\\u001b[0m\\\\\\\\u001b[0;34m.\\\\\\\\u001b[0m\\\\\\\\u001b[0mrecv\\\\\\\\u001b[0m\\\\\\\\u001b[0;34m(\\\\\\\\u001b[0m\\\\\\\\u001b[0mself\\\\\\\\u001b[0m\\\\\\\\u001b[0;34m.\\\\\\\\u001b[0m\\\\\\\\u001b[0mstdin_socket\\\\\\\\u001b[0m\\\\\\\\u001b[0;34m,\\\\\\\\u001b[0m \\\\\\\\u001b[0;36m0\\\\\\\\u001b[0m\\\\\\\\u001b[0;34m)\\\\\\\\u001b[0m\\\\\\\\u001b[0;34m\\\\\\\\u001b[0m\\\\\\\\u001b[0;34m\\\\\\\\u001b[0m\\\\\\\\u001b[0m\\\\\\\\n\\\\\\\\u001b[0m\\\\\\\\u001b[1;32m    730\\\\\\\\u001b[0m             \\\\\\\\u001b[0;32mexcept\\\\\\\\u001b[0m \\\\\\\\u001b[0mException\\\\\\\\u001b[0m\\\\\\\\u001b[0;34m:\\\\\\\\u001b[0m\\\\\\\\u001b[0;34m\\\\\\\\u001b[0m\\\\\\\\u001b[0;34m\\\\\\\\u001b[0m\\\\\\\\u001b[0m\\\\\\\\n\\\\\\\",\\\\\\\"\\\\\\\\u001b[0;32m/usr/local/lib/python3.6/dist-packages/jupyter_client/session.py\\\\\\\\u001b[0m in \\\\\\\\u001b[0;36mrecv\\\\\\\\u001b[0;34m(self, socket, mode, content, copy)\\\\\\\\u001b[0m\\\\\\\\n\\\\\\\\u001b[1;32m    802\\\\\\\\u001b[0m         \\\\\\\\u001b[0;32mtry\\\\\\\\u001b[0m\\\\\\\\u001b[0;34m:\\\\\\\\u001b[0m\\\\\\\\u001b[0;34m\\\\\\\\u001b[0m\\\\\\\\u001b[0;34m\\\\\\\\u001b[0m\\\\\\\\u001b[0m\\\\\\\\n\\\\\\\\u001b[0;32m--> 803\\\\\\\\u001b[0;31m             \\\\\\\\u001b[0mmsg_list\\\\\\\\u001b[0m \\\\\\\\u001b[0;34m=\\\\\\\\u001b[0m \\\\\\\\u001b[0msocket\\\\\\\\u001b[0m\\\\\\\\u001b[0;34m.\\\\\\\\u001b[0m\\\\\\\\u001b[0mrecv_multipart\\\\\\\\u001b[0m\\\\\\\\u001b[0;34m(\\\\\\\\u001b[0m\\\\\\\\u001b[0mmode\\\\\\\\u001b[0m\\\\\\\\u001b[0;34m,\\\\\\\\u001b[0m \\\\\\\\u001b[0mcopy\\\\\\\\u001b[0m\\\\\\\\u001b[0;34m=\\\\\\\\u001b[0m\\\\\\\\u001b[0mcopy\\\\\\\\u001b[0m\\\\\\\\u001b[0;34m)\\\\\\\\u001b[0m\\\\\\\\u001b[0;34m\\\\\\\\u001b[0m\\\\\\\\u001b[0;34m\\\\\\\\u001b[0m\\\\\\\\u001b[0m\\\\\\\\n\\\\\\\\u001b[0m\\\\\\\\u001b[1;32m    804\\\\\\\\u001b[0m         \\\\\\\\u001b[0;32mexcept\\\\\\\\u001b[0m \\\\\\\\u001b[0mzmq\\\\\\\\u001b[0m\\\\\\\\u001b[0;34m.\\\\\\\\u001b[0m\\\\\\\\u001b[0mZMQError\\\\\\\\u001b[0m \\\\\\\\u001b[0;32mas\\\\\\\\u001b[0m \\\\\\\\u001b[0me\\\\\\\\u001b[0m\\\\\\\\u001b[0;34m:\\\\\\\\u001b[0m\\\\\\\\u001b[0;34m\\\\\\\\u001b[0m\\\\\\\\u001b[0;34m\\\\\\\\u001b[0m\\\\\\\\u001b[0m\\\\\\\\n\\\\\\\",\\\\\\\"\\\\\\\\u001b[0;32m/usr/local/lib/python3.6/dist-packages/zmq/sugar/socket.py\\\\\\\\u001b[0m in \\\\\\\\u001b[0;36mrecv_multipart\\\\\\\\u001b[0;34m(self, flags, copy, track)\\\\\\\\u001b[0m\\\\\\\\n\\\\\\\\u001b[1;32m    490\\\\\\\\u001b[0m         \\\\\\\\\\\\\\\"\\\\\\\\\\\\\\\"\\\\\\\\\\\\\\\"\\\\\\\\n\\\\\\\\u001b[0;32m--> 491\\\\\\\\u001b[0;31m         \\\\\\\\u001b[0mparts\\\\\\\\u001b[0m \\\\\\\\u001b[0;34m=\\\\\\\\u001b[0m \\\\\\\\u001b[0;34m[\\\\\\\\u001b[0m\\\\\\\\u001b[0mself\\\\\\\\u001b[0m\\\\\\\\u001b[0;34m.\\\\\\\\u001b[0m\\\\\\\\u001b[0mrecv\\\\\\\\u001b[0m\\\\\\\\u001b[0;34m(\\\\\\\\u001b[0m\\\\\\\\u001b[0mflags\\\\\\\\u001b[0m\\\\\\\\u001b[0;34m,\\\\\\\\u001b[0m \\\\\\\\u001b[0mcopy\\\\\\\\u001b[0m\\\\\\\\u001b[0;34m=\\\\\\\\u001b[0m\\\\\\\\u001b[0mcopy\\\\\\\\u001b[0m\\\\\\\\u001b[0;34m,\\\\\\\\u001b[0m \\\\\\\\u001b[0mtrack\\\\\\\\u001b[0m\\\\\\\\u001b[0;34m=\\\\\\\\u001b[0m\\\\\\\\u001b[0mtrack\\\\\\\\u001b[0m\\\\\\\\u001b[0;34m)\\\\\\\\u001b[0m\\\\\\\\u001b[0;34m]\\\\\\\\u001b[0m\\\\\\\\u001b[0;34m\\\\\\\\u001b[0m\\\\\\\\u001b[0;34m\\\\\\\\u001b[0m\\\\\\\\u001b[0m\\\\\\\\n\\\\\\\\u001b[0m\\\\\\\\u001b[1;32m    492\\\\\\\\u001b[0m         \\\\\\\\u001b[0;31m# have first part already, only loop while more to receive\\\\\\\\u001b[0m\\\\\\\\u001b[0;34m\\\\\\\\u001b[0m\\\\\\\\u001b[0;34m\\\\\\\\u001b[0m\\\\\\\\u001b[0;34m\\\\\\\\u001b[0m\\\\\\\\u001b[0m\\\\\\\\n\\\\\\\",\\\\\\\"\\\\\\\\u001b[0;32mzmq/backend/cython/socket.pyx\\\\\\\\u001b[0m in \\\\\\\\u001b[0;36mzmq.backend.cython.socket.Socket.recv\\\\\\\\u001b[0;34m()\\\\\\\\u001b[0m\\\\\\\\n\\\\\\\",\\\\\\\"\\\\\\\\u001b[0;32mzmq/backend/cython/socket.pyx\\\\\\\\u001b[0m in \\\\\\\\u001b[0;36mzmq.backend.cython.socket.Socket.recv\\\\\\\\u001b[0;34m()\\\\\\\\u001b[0m\\\\\\\\n\\\\\\\",\\\\\\\"\\\\\\\\u001b[0;32mzmq/backend/cython/socket.pyx\\\\\\\\u001b[0m in \\\\\\\\u001b[0;36mzmq.backend.cython.socket._recv_copy\\\\\\\\u001b[0;34m()\\\\\\\\u001b[0m\\\\\\\\n\\\\\\\",\\\\\\\"\\\\\\\\u001b[0;32m/usr/local/lib/python3.6/dist-packages/zmq/backend/cython/checkrc.pxd\\\\\\\\u001b[0m in \\\\\\\\u001b[0;36mzmq.backend.cython.checkrc._check_rc\\\\\\\\u001b[0;34m()\\\\\\\\u001b[0m\\\\\\\\n\\\\\\\",\\\\\\\"\\\\\\\\u001b[0;31mKeyboardInterrupt\\\\\\\\u001b[0m: \\\\\\\",\\\\\\\"\\\\\\\\nDuring handling of the above exception, another exception occurred:\\\\\\\\n\\\\\\\",\\\\\\\"\\\\\\\\u001b[0;31mKeyboardInterrupt\\\\\\\\u001b[0m                         Traceback (most recent call last)\\\\\\\",\\\\\\\"\\\\\\\\u001b[0;32m<ipython-input-5-bcbbbcc0111b>\\\\\\\\u001b[0m in \\\\\\\\u001b[0;36m<module>\\\\\\\\u001b[0;34m()\\\\\\\\u001b[0m\\\\\\\\n\\\\\\\\u001b[1;32m     18\\\\\\\\u001b[0m   \\\\\\\\u001b[0mprint\\\\\\\\u001b[0m\\\\\\\\u001b[0;34m(\\\\\\\\u001b[0m\\\\\\\\u001b[0mi\\\\\\\\u001b[0m\\\\\\\\u001b[0;34m,\\\\\\\\u001b[0m \\\\\\\\u001b[0mj\\\\\\\\u001b[0m\\\\\\\\u001b[0;34m)\\\\\\\\u001b[0m\\\\\\\\u001b[0;34m\\\\\\\\u001b[0m\\\\\\\\u001b[0;34m\\\\\\\\u001b[0m\\\\\\\\u001b[0m\\\\\\\\n\\\\\\\\u001b[1;32m     19\\\\\\\\u001b[0m \\\\\\\\u001b[0;32mwhile\\\\\\\\u001b[0m \\\\\\\\u001b[0;32mTrue\\\\\\\\u001b[0m\\\\\\\\u001b[0;34m:\\\\\\\\u001b[0m\\\\\\\\u001b[0;34m\\\\\\\\u001b[0m\\\\\\\\u001b[0;34m\\\\\\\\u001b[0m\\\\\\\\u001b[0m\\\\\\\\n\\\\\\\\u001b[0;32m---> 20\\\\\\\\u001b[0;31m   \\\\\\\\u001b[0mid\\\\\\\\u001b[0m \\\\\\\\u001b[0;34m=\\\\\\\\u001b[0m \\\\\\\\u001b[0mint\\\\\\\\u001b[0m\\\\\\\\u001b[0;34m(\\\\\\\\u001b[0m\\\\\\\\u001b[0minput\\\\\\\\u001b[0m\\\\\\\\u001b[0;34m(\\\\\\\\u001b[0m\\\\\\\\u001b[0;34m\\\\\\\\\\\\\\\"Enter your Employee id: \\\\\\\\\\\\\\\\n\\\\\\\\\\\\\\\"\\\\\\\\u001b[0m\\\\\\\\u001b[0;34m)\\\\\\\\u001b[0m\\\\\\\\u001b[0;34m)\\\\\\\\u001b[0m\\\\\\\\u001b[0;34m\\\\\\\\u001b[0m\\\\\\\\u001b[0;34m\\\\\\\\u001b[0m\\\\\\\\u001b[0m\\\\\\\\n\\\\\\\\u001b[0m\\\\\\\\u001b[1;32m     21\\\\\\\\u001b[0m   \\\\\\\\u001b[0;32mif\\\\\\\\u001b[0m \\\\\\\\u001b[0mid\\\\\\\\u001b[0m \\\\\\\\u001b[0;32mnot\\\\\\\\u001b[0m \\\\\\\\u001b[0;32min\\\\\\\\u001b[0m \\\\\\\\u001b[0memployees\\\\\\\\u001b[0m\\\\\\\\u001b[0;34m.\\\\\\\\u001b[0m\\\\\\\\u001b[0mkeys\\\\\\\\u001b[0m\\\\\\\\u001b[0;34m(\\\\\\\\u001b[0m\\\\\\\\u001b[0;34m)\\\\\\\\u001b[0m\\\\\\\\u001b[0;34m:\\\\\\\\u001b[0m\\\\\\\\u001b[0;34m\\\\\\\\u001b[0m\\\\\\\\u001b[0;34m\\\\\\\\u001b[0m\\\\\\\\u001b[0m\\\\\\\\n\\\\\\\\u001b[1;32m     22\\\\\\\\u001b[0m     \\\\\\\\u001b[0mprint\\\\\\\\u001b[0m\\\\\\\\u001b[0;34m(\\\\\\\\u001b[0m\\\\\\\\u001b[0;34m'Employeee id is not valid'\\\\\\\\u001b[0m\\\\\\\\u001b[0;34m)\\\\\\\\u001b[0m\\\\\\\\u001b[0;34m\\\\\\\\u001b[0m\\\\\\\\u001b[0;34m\\\\\\\\u001b[0m\\\\\\\\u001b[0m\\\\\\\\n\\\\\\\",\\\\\\\"\\\\\\\\u001b[0;32m/usr/local/lib/python3.6/dist-packages/ipykernel/kernelbase.py\\\\\\\\u001b[0m in \\\\\\\\u001b[0;36mraw_input\\\\\\\\u001b[0;34m(self, prompt)\\\\\\\\u001b[0m\\\\\\\\n\\\\\\\\u001b[1;32m    702\\\\\\\\u001b[0m             \\\\\\\\u001b[0mself\\\\\\\\u001b[0m\\\\\\\\u001b[0;34m.\\\\\\\\u001b[0m\\\\\\\\u001b[0m_parent_ident\\\\\\\\u001b[0m\\\\\\\\u001b[0;34m,\\\\\\\\u001b[0m\\\\\\\\u001b[0;34m\\\\\\\\u001b[0m\\\\\\\\u001b[0;34m\\\\\\\\u001b[0m\\\\\\\\u001b[0m\\\\\\\\n\\\\\\\\u001b[1;32m    703\\\\\\\\u001b[0m             \\\\\\\\u001b[0mself\\\\\\\\u001b[0m\\\\\\\\u001b[0;34m.\\\\\\\\u001b[0m\\\\\\\\u001b[0m_parent_header\\\\\\\\u001b[0m\\\\\\\\u001b[0;34m,\\\\\\\\u001b[0m\\\\\\\\u001b[0;34m\\\\\\\\u001b[0m\\\\\\\\u001b[0;34m\\\\\\\\u001b[0m\\\\\\\\u001b[0m\\\\\\\\n\\\\\\\\u001b[0;32m--> 704\\\\\\\\u001b[0;31m             \\\\\\\\u001b[0mpassword\\\\\\\\u001b[0m\\\\\\\\u001b[0;34m=\\\\\\\\u001b[0m\\\\\\\\u001b[0;32mFalse\\\\\\\\u001b[0m\\\\\\\\u001b[0;34m,\\\\\\\\u001b[0m\\\\\\\\u001b[0;34m\\\\\\\\u001b[0m\\\\\\\\u001b[0;34m\\\\\\\\u001b[0m\\\\\\\\u001b[0m\\\\\\\\n\\\\\\\\u001b[0m\\\\\\\\u001b[1;32m    705\\\\\\\\u001b[0m         )\\\\\\\\n\\\\\\\\u001b[1;32m    706\\\\\\\\u001b[0m \\\\\\\\u001b[0;34m\\\\\\\\u001b[0m\\\\\\\\u001b[0m\\\\\\\\n\\\\\\\",\\\\\\\"\\\\\\\\u001b[0;32m/usr/local/lib/python3.6/dist-packages/ipykernel/kernelbase.py\\\\\\\\u001b[0m in \\\\\\\\u001b[0;36m_input_request\\\\\\\\u001b[0;34m(self, prompt, ident, parent, password)\\\\\\\\u001b[0m\\\\\\\\n\\\\\\\\u001b[1;32m    732\\\\\\\\u001b[0m             \\\\\\\\u001b[0;32mexcept\\\\\\\\u001b[0m \\\\\\\\u001b[0mKeyboardInterrupt\\\\\\\\u001b[0m\\\\\\\\u001b[0;34m:\\\\\\\\u001b[0m\\\\\\\\u001b[0;34m\\\\\\\\u001b[0m\\\\\\\\u001b[0;34m\\\\\\\\u001b[0m\\\\\\\\u001b[0m\\\\\\\\n\\\\\\\\u001b[1;32m    733\\\\\\\\u001b[0m                 \\\\\\\\u001b[0;31m# re-raise KeyboardInterrupt, to truncate traceback\\\\\\\\u001b[0m\\\\\\\\u001b[0;34m\\\\\\\\u001b[0m\\\\\\\\u001b[0;34m\\\\\\\\u001b[0m\\\\\\\\u001b[0;34m\\\\\\\\u001b[0m\\\\\\\\u001b[0m\\\\\\\\n\\\\\\\\u001b[0;32m--> 734\\\\\\\\u001b[0;31m                 \\\\\\\\u001b[0;32mraise\\\\\\\\u001b[0m \\\\\\\\u001b[0mKeyboardInterrupt\\\\\\\\u001b[0m\\\\\\\\u001b[0;34m\\\\\\\\u001b[0m\\\\\\\\u001b[0;34m\\\\\\\\u001b[0m\\\\\\\\u001b[0m\\\\\\\\n\\\\\\\\u001b[0m\\\\\\\\u001b[1;32m    735\\\\\\\\u001b[0m             \\\\\\\\u001b[0;32melse\\\\\\\\u001b[0m\\\\\\\\u001b[0;34m:\\\\\\\\u001b[0m\\\\\\\\u001b[0;34m\\\\\\\\u001b[0m\\\\\\\\u001b[0;34m\\\\\\\\u001b[0m\\\\\\\\u001b[0m\\\\\\\\n\\\\\\\\u001b[1;32m    736\\\\\\\\u001b[0m                 \\\\\\\\u001b[0;32mbreak\\\\\\\\u001b[0m\\\\\\\\u001b[0;34m\\\\\\\\u001b[0m\\\\\\\\u001b[0;34m\\\\\\\\u001b[0m\\\\\\\\u001b[0m\\\\\\\\n\\\\\\\",\\\\\\\"\\\\\\\\u001b[0;31mKeyboardInterrupt\\\\\\\\u001b[0m: \\\\\\\"]}]},{\\\\\\\"cell_type\\\\\\\":\\\\\\\"markdown\\\\\\\",\\\\\\\"metadata\\\\\\\":{\\\\\\\"id\\\\\\\":\\\\\\\"OXbJnh8LbmZB\\\\\\\",\\\\\\\"colab_type\\\\\\\":\\\\\\\"text\\\\\\\"},\\\\\\\"source\\\\\\\":[\\\\\\\"## Functions\\\\\\\"]},{\\\\\\\"cell_type\\\\\\\":\\\\\\\"code\\\\\\\",\\\\\\\"metadata\\\\\\\":{\\\\\\\"id\\\\\\\":\\\\\\\"Gnyy4PHFjuJQ\\\\\\\",\\\\\\\"colab_type\\\\\\\":\\\\\\\"code\\\\\\\",\\\\\\\"colab\\\\\\\":{\\\\\\\"base_uri\\\\\\\":\\\\\\\"https://localhost:8080/\\\\\\\",\\\\\\\"height\\\\\\\":51},\\\\\\\"executionInfo\\\\\\\":{\\\\\\\"status\\\\\\\":\\\\\\\"ok\\\\\\\",\\\\\\\"timestamp\\\\\\\":1598854718859,\\\\\\\"user_tz\\\\\\\":-330,\\\\\\\"elapsed\\\\\\\":1549,\\\\\\\"user\\\\\\\":{\\\\\\\"displayName\\\\\\\":\\\\\\\"Prashant Singh\\\\\\\",\\\\\\\"photoUrl\\\\\\\":\\\\\\\"\\\\\\\",\\\\\\\"userId\\\\\\\":\\\\\\\"04712602781244046847\\\\\\\"}},\\\\\\\"outputId\\\\\\\":\\\\\\\"642be61d-2969-4dff-f63b-c837d4e91605\\\\\\\"},\\\\\\\"source\\\\\\\":[\\\\\\\"def my_function(x):\\\\\\\\n\\\\\\\",\\\\\\\"  return 5 * x\\\\\\\\n\\\\\\\",\\\\\\\"\\\\\\\\n\\\\\\\",\\\\\\\"print(my_function(3))\\\\\\\\n\\\\\\\",\\\\\\\"print(my_function(5))\\\\\\\"],\\\\\\\"execution_count\\\\\\\":null,\\\\\\\"outputs\\\\\\\":[{\\\\\\\"output_type\\\\\\\":\\\\\\\"stream\\\\\\\",\\\\\\\"text\\\\\\\":[\\\\\\\"15\\\\\\\\n\\\\\\\",\\\\\\\"25\\\\\\\\n\\\\\\\"],\\\\\\\"name\\\\\\\":\\\\\\\"stdout\\\\\\\"}]},{\\\\\\\"cell_type\\\\\\\":\\\\\\\"markdown\\\\\\\",\\\\\\\"metadata\\\\\\\":{\\\\\\\"id\\\\\\\":\\\\\\\"cKUKbCJQkAr3\\\\\\\",\\\\\\\"colab_type\\\\\\\":\\\\\\\"text\\\\\\\"},\\\\\\\"source\\\\\\\":[\\\\\\\"# Create a message app:\\\\\\\\n\\\\\\\",\\\\\\\"Ask the user to enter a message.\\\\\\\\n\\\\\\\",\\\\\\\"1. Total words should be less than or equals to 10.\\\\\\\\n\\\\\\\",\\\\\\\"2. Message should not contain restricted words. make_a_list of restricted words\\\\\\\"]},{\\\\\\\"cell_type\\\\\\\":\\\\\\\"code\\\\\\\",\\\\\\\"metadata\\\\\\\":{\\\\\\\"id\\\\\\\":\\\\\\\"Enxlu0N3kuFU\\\\\\\",\\\\\\\"colab_type\\\\\\\":\\\\\\\"code\\\\\\\",\\\\\\\"colab\\\\\\\":{\\\\\\\"base_uri\\\\\\\":\\\\\\\"https://localhost:8080/\\\\\\\",\\\\\\\"height\\\\\\\":34},\\\\\\\"executionInfo\\\\\\\":{\\\\\\\"status\\\\\\\":\\\\\\\"ok\\\\\\\",\\\\\\\"timestamp\\\\\\\":1598854719483,\\\\\\\"user_tz\\\\\\\":-330,\\\\\\\"elapsed\\\\\\\":2115,\\\\\\\"user\\\\\\\":{\\\\\\\"displayName\\\\\\\":\\\\\\\"Prashant Singh\\\\\\\",\\\\\\\"photoUrl\\\\\\\":\\\\\\\"\\\\\\\",\\\\\\\"userId\\\\\\\":\\\\\\\"04712602781244046847\\\\\\\"}},\\\\\\\"outputId\\\\\\\":\\\\\\\"4582e87e-d9c4-49d7-e591-a9e5deb024f1\\\\\\\"},\\\\\\\"source\\\\\\\":[\\\\\\\"def res_words(x):\\\\\\\\n\\\\\\\",\\\\\\\"  words = [\\\\\\\\\\\\\\\"bad\\\\\\\\\\\\\\\", \\\\\\\\\\\\\\\"dog\\\\\\\\\\\\\\\"]\\\\\\\\n\\\\\\\",\\\\\\\"  list1 = x.split()\\\\\\\\n\\\\\\\",\\\\\\\"  if len(list1) >10:\\\\\\\\n\\\\\\\",\\\\\\\"    print(\\\\\\\\\\\\\\\"you exceed the limit\\\\\\\\\\\\\\\")\\\\\\\\n\\\\\\\",\\\\\\\"  else:\\\\\\\\n\\\\\\\",\\\\\\\"    for i in words:\\\\\\\\n\\\\\\\",\\\\\\\"      if i in list1:\\\\\\\\n\\\\\\\",\\\\\\\"        print('mesage has some restricted word')\\\\\\\\n\\\\\\\",\\\\\\\"        break\\\\\\\\n\\\\\\\",\\\\\\\"    else:\\\\\\\\n\\\\\\\",\\\\\\\"      print('message sent')\\\\\\\\n\\\\\\\",\\\\\\\"\\\\\\\\n\\\\\\\",\\\\\\\"res_words(\\\\\\\\\\\\\\\"hello everyone\\\\\\\\\\\\\\\")\\\\\\\"],\\\\\\\"execution_count\\\\\\\":null,\\\\\\\"outputs\\\\\\\":[{\\\\\\\"output_type\\\\\\\":\\\\\\\"stream\\\\\\\",\\\\\\\"text\\\\\\\":[\\\\\\\"message sent\\\\\\\\n\\\\\\\"],\\\\\\\"name\\\\\\\":\\\\\\\"stdout\\\\\\\"}]},{\\\\\\\"cell_type\\\\\\\":\\\\\\\"code\\\\\\\",\\\\\\\"metadata\\\\\\\":{\\\\\\\"id\\\\\\\":\\\\\\\"bxa_lP1klSyF\\\\\\\",\\\\\\\"colab_type\\\\\\\":\\\\\\\"code\\\\\\\",\\\\\\\"colab\\\\\\\":{\\\\\\\"base_uri\\\\\\\":\\\\\\\"https://localhost:8080/\\\\\\\",\\\\\\\"height\\\\\\\":34},\\\\\\\"executionInfo\\\\\\\":{\\\\\\\"status\\\\\\\":\\\\\\\"ok\\\\\\\",\\\\\\\"timestamp\\\\\\\":1598854719484,\\\\\\\"user_tz\\\\\\\":-330,\\\\\\\"elapsed\\\\\\\":2065,\\\\\\\"user\\\\\\\":{\\\\\\\"displayName\\\\\\\":\\\\\\\"Prashant Singh\\\\\\\",\\\\\\\"photoUrl\\\\\\\":\\\\\\\"\\\\\\\",\\\\\\\"userId\\\\\\\":\\\\\\\"04712602781244046847\\\\\\\"}},\\\\\\\"outputId\\\\\\\":\\\\\\\"2e0b7944-a04a-45c1-8b63-224c8a9722f3\\\\\\\"},\\\\\\\"source\\\\\\\":[\\\\\\\"res_words(\\\\\\\\\\\\\\\"hello bad everyone\\\\\\\\\\\\\\\")\\\\\\\"],\\\\\\\"execution_count\\\\\\\":null,\\\\\\\"outputs\\\\\\\":[{\\\\\\\"output_type\\\\\\\":\\\\\\\"stream\\\\\\\",\\\\\\\"text\\\\\\\":[\\\\\\\"mesage has some restricted word\\\\\\\\n\\\\\\\"],\\\\\\\"name\\\\\\\":\\\\\\\"stdout\\\\\\\"}]},{\\\\\\\"cell_type\\\\\\\":\\\\\\\"code\\\\\\\",\\\\\\\"metadata\\\\\\\":{\\\\\\\"id\\\\\\\":\\\\\\\"-VCetiAilXMx\\\\\\\",\\\\\\\"colab_type\\\\\\\":\\\\\\\"code\\\\\\\",\\\\\\\"colab\\\\\\\":{\\\\\\\"base_uri\\\\\\\":\\\\\\\"https://localhost:8080/\\\\\\\",\\\\\\\"height\\\\\\\":34},\\\\\\\"executionInfo\\\\\\\":{\\\\\\\"status\\\\\\\":\\\\\\\"ok\\\\\\\",\\\\\\\"timestamp\\\\\\\":1598854719485,\\\\\\\"user_tz\\\\\\\":-330,\\\\\\\"elapsed\\\\\\\":2024,\\\\\\\"user\\\\\\\":{\\\\\\\"displayName\\\\\\\":\\\\\\\"Prashant Singh\\\\\\\",\\\\\\\"photoUrl\\\\\\\":\\\\\\\"\\\\\\\",\\\\\\\"userId\\\\\\\":\\\\\\\"04712602781244046847\\\\\\\"}},\\\\\\\"outputId\\\\\\\":\\\\\\\"1fe75487-e3d0-422b-ab16-afe8ca9ba7fb\\\\\\\"},\\\\\\\"source\\\\\\\":[\\\\\\\"x = \\\\\\\\\\\\\\\"hello bad everyone\\\\\\\\\\\\\\\"\\\\\\\\n\\\\\\\",\\\\\\\"lis = x.split\\\\\\\\n\\\\\\\",\\\\\\\"print(str(lis))\\\\\\\"],\\\\\\\"execution_count\\\\\\\":null,\\\\\\\"outputs\\\\\\\":[{\\\\\\\"output_type\\\\\\\":\\\\\\\"stream\\\\\\\",\\\\\\\"text\\\\\\\":[\\\\\\\"<built-in method split of str object at 0x7f9a9e536660>\\\\\\\\n\\\\\\\"],\\\\\\\"name\\\\\\\":\\\\\\\"stdout\\\\\\\"}]},{\\\\\\\"cell_type\\\\\\\":\\\\\\\"code\\\\\\\",\\\\\\\"metadata\\\\\\\":{\\\\\\\"id\\\\\\\":\\\\\\\"J4RxnuP-nd0i\\\\\\\",\\\\\\\"colab_type\\\\\\\":\\\\\\\"code\\\\\\\",\\\\\\\"colab\\\\\\\":{\\\\\\\"base_uri\\\\\\\":\\\\\\\"https://localhost:8080/\\\\\\\",\\\\\\\"height\\\\\\\":34},\\\\\\\"executionInfo\\\\\\\":{\\\\\\\"status\\\\\\\":\\\\\\\"ok\\\\\\\",\\\\\\\"timestamp\\\\\\\":1598854719487,\\\\\\\"user_tz\\\\\\\":-330,\\\\\\\"elapsed\\\\\\\":1993,\\\\\\\"user\\\\\\\":{\\\\\\\"displayName\\\\\\\":\\\\\\\"Prashant Singh\\\\\\\",\\\\\\\"photoUrl\\\\\\\":\\\\\\\"\\\\\\\",\\\\\\\"userId\\\\\\\":\\\\\\\"04712602781244046847\\\\\\\"}},\\\\\\\"outputId\\\\\\\":\\\\\\\"2ecfc1b8-60b5-4782-efb9-deb9fbec1752\\\\\\\"},\\\\\\\"source\\\\\\\":[\\\\\\\"x.split()\\\\\\\"],\\\\\\\"execution_count\\\\\\\":null,\\\\\\\"outputs\\\\\\\":[{\\\\\\\"output_type\\\\\\\":\\\\\\\"execute_result\\\\\\\",\\\\\\\"data\\\\\\\":{\\\\\\\"text/plain\\\\\\\":[\\\\\\\"['hello', 'bad', 'everyone']\\\\\\\"]},\\\\\\\"metadata\\\\\\\":{\\\\\\\"tags\\\\\\\":[]},\\\\\\\"execution_count\\\\\\\":10}]},{\\\\\\\"cell_type\\\\\\\":\\\\\\\"code\\\\\\\",\\\\\\\"metadata\\\\\\\":{\\\\\\\"id\\\\\\\":\\\\\\\"ZQzGVIdbpJb3\\\\\\\",\\\\\\\"colab_type\\\\\\\":\\\\\\\"code\\\\\\\",\\\\\\\"colab\\\\\\\":{\\\\\\\"base_uri\\\\\\\":\\\\\\\"https://localhost:8080/\\\\\\\",\\\\\\\"height\\\\\\\":51},\\\\\\\"executionInfo\\\\\\\":{\\\\\\\"status\\\\\\\":\\\\\\\"ok\\\\\\\",\\\\\\\"timestamp\\\\\\\":1598854731165,\\\\\\\"user_tz\\\\\\\":-330,\\\\\\\"elapsed\\\\\\\":13627,\\\\\\\"user\\\\\\\":{\\\\\\\"displayName\\\\\\\":\\\\\\\"Prashant Singh\\\\\\\",\\\\\\\"photoUrl\\\\\\\":\\\\\\\"\\\\\\\",\\\\\\\"userId\\\\\\\":\\\\\\\"04712602781244046847\\\\\\\"}},\\\\\\\"outputId\\\\\\\":\\\\\\\"886597be-1f15-47bf-e3eb-c2956ff3a8e9\\\\\\\"},\\\\\\\"source\\\\\\\":[\\\\\\\"# prashant@tcs.com\\\\\\\\n\\\\\\\",\\\\\\\"# ifo@jupitervidya.com\\\\\\\\n\\\\\\\",\\\\\\\"# pramod@jupitervidya.com\\\\\\\\n\\\\\\\",\\\\\\\"\\\\\\\\n\\\\\\\",\\\\\\\"\\\\\\\\n\\\\\\\",\\\\\\\"id = input(\\\\\\\\\\\\\\\"Enter an email id\\\\\\\\\\\\\\\")\\\\\\\\n\\\\\\\",\\\\\\\"\\\\\\\\n\\\\\\\",\\\\\\\"ls = id.split(\\\\\\\\\\\\\\\"@\\\\\\\\\\\\\\\")\\\\\\\\n\\\\\\\",\\\\\\\"if ls[1] in [\\\\\\\\\\\\\\\"abv.com\\\\\\\\\\\\\\\"]:\\\\\\\\n\\\\\\\",\\\\\\\"  print(\\\\\\\\\\\\\\\"valid id\\\\\\\\\\\\\\\")\\\\\\\\n\\\\\\\",\\\\\\\"else:\\\\\\\\n\\\\\\\",\\\\\\\"  print(\\\\\\\\\\\\\\\"not a valid id\\\\\\\\\\\\\\\")\\\\\\\\n\\\\\\\",\\\\\\\"\\\\\\\\n\\\\\\\"],\\\\\\\"execution_count\\\\\\\":null,\\\\\\\"outputs\\\\\\\":[{\\\\\\\"output_type\\\\\\\":\\\\\\\"stream\\\\\\\",\\\\\\\"text\\\\\\\":[\\\\\\\"Enter an email idhjoj@hjghk\\\\\\\\n\\\\\\\",\\\\\\\"not a valid id\\\\\\\\n\\\\\\\"],\\\\\\\"name\\\\\\\":\\\\\\\"stdout\\\\\\\"}]},{\\\\\\\"cell_type\\\\\\\":\\\\\\\"code\\\\\\\",\\\\\\\"metadata\\\\\\\":{\\\\\\\"id\\\\\\\":\\\\\\\"PuK2juUCw_Mn\\\\\\\",\\\\\\\"colab_type\\\\\\\":\\\\\\\"code\\\\\\\",\\\\\\\"colab\\\\\\\":{\\\\\\\"base_uri\\\\\\\":\\\\\\\"https://localhost:8080/\\\\\\\",\\\\\\\"height\\\\\\\":248},\\\\\\\"executionInfo\\\\\\\":{\\\\\\\"status\\\\\\\":\\\\\\\"error\\\\\\\",\\\\\\\"timestamp\\\\\\\":1598854737223,\\\\\\\"user_tz\\\\\\\":-330,\\\\\\\"elapsed\\\\\\\":19641,\\\\\\\"user\\\\\\\":{\\\\\\\"displayName\\\\\\\":\\\\\\\"Prashant Singh\\\\\\\",\\\\\\\"photoUrl\\\\\\\":\\\\\\\"\\\\\\\",\\\\\\\"userId\\\\\\\":\\\\\\\"04712602781244046847\\\\\\\"}},\\\\\\\"outputId\\\\\\\":\\\\\\\"0f5de368-1c7c-4649-bfd9-2c5481fe8b6c\\\\\\\"},\\\\\\\"source\\\\\\\":[\\\\\\\"company_domain=['tcs','google','microsoft','gmail']\\\\\\\\n\\\\\\\",\\\\\\\"email=input('Enter email id: ')\\\\\\\\n\\\\\\\",\\\\\\\"c=0\\\\\\\\n\\\\\\\",\\\\\\\"c=email.index('@')\\\\\\\\n\\\\\\\",\\\\\\\"y=email.index('.com')\\\\\\\\n\\\\\\\",\\\\\\\"str=email[c+1:y]\\\\\\\\n\\\\\\\",\\\\\\\"for q in company_domain:\\\\\\\\n\\\\\\\",\\\\\\\"    if q==str:\\\\\\\\n\\\\\\\",\\\\\\\"        print('valid email')\\\\\\\\n\\\\\\\",\\\\\\\"        break\\\\\\\\n\\\\\\\",\\\\\\\"else:\\\\\\\\n\\\\\\\",\\\\\\\"    print('invalid email')\\\\\\\\n\\\\\\\"],\\\\\\\"execution_count\\\\\\\":null,\\\\\\\"outputs\\\\\\\":[{\\\\\\\"output_type\\\\\\\":\\\\\\\"stream\\\\\\\",\\\\\\\"text\\\\\\\":[\\\\\\\"Enter email id: hgjgjkhg4tfgh\\\\\\\\n\\\\\\\"],\\\\\\\"name\\\\\\\":\\\\\\\"stdout\\\\\\\"},{\\\\\\\"output_type\\\\\\\":\\\\\\\"error\\\\\\\",\\\\\\\"ename\\\\\\\":\\\\\\\"ValueError\\\\\\\",\\\\\\\"evalue\\\\\\\":\\\\\\\"ignored\\\\\\\",\\\\\\\"traceback\\\\\\\":[\\\\\\\"\\\\\\\\u001b[0;31m---------------------------------------------------------------------------\\\\\\\\u001b[0m\\\\\\\",\\\\\\\"\\\\\\\\u001b[0;31mValueError\\\\\\\\u001b[0m                                Traceback (most recent call last)\\\\\\\",\\\\\\\"\\\\\\\\u001b[0;32m<ipython-input-12-32c688ea259e>\\\\\\\\u001b[0m in \\\\\\\\u001b[0;36m<module>\\\\\\\\u001b[0;34m()\\\\\\\\u001b[0m\\\\\\\\n\\\\\\\\u001b[1;32m      2\\\\\\\\u001b[0m \\\\\\\\u001b[0memail\\\\\\\\u001b[0m\\\\\\\\u001b[0;34m=\\\\\\\\u001b[0m\\\\\\\\u001b[0minput\\\\\\\\u001b[0m\\\\\\\\u001b[0;34m(\\\\\\\\u001b[0m\\\\\\\\u001b[0;34m'Enter email id: '\\\\\\\\u001b[0m\\\\\\\\u001b[0;34m)\\\\\\\\u001b[0m\\\\\\\\u001b[0;34m\\\\\\\\u001b[0m\\\\\\\\u001b[0;34m\\\\\\\\u001b[0m\\\\\\\\u001b[0m\\\\\\\\n\\\\\\\\u001b[1;32m      3\\\\\\\\u001b[0m \\\\\\\\u001b[0mc\\\\\\\\u001b[0m\\\\\\\\u001b[0;34m=\\\\\\\\u001b[0m\\\\\\\\u001b[0;36m0\\\\\\\\u001b[0m\\\\\\\\u001b[0;34m\\\\\\\\u001b[0m\\\\\\\\u001b[0;34m\\\\\\\\u001b[0m\\\\\\\\u001b[0m\\\\\\\\n\\\\\\\\u001b[0;32m----> 4\\\\\\\\u001b[0;31m \\\\\\\\u001b[0mc\\\\\\\\u001b[0m\\\\\\\\u001b[0;34m=\\\\\\\\u001b[0m\\\\\\\\u001b[0memail\\\\\\\\u001b[0m\\\\\\\\u001b[0;34m.\\\\\\\\u001b[0m\\\\\\\\u001b[0mindex\\\\\\\\u001b[0m\\\\\\\\u001b[0;34m(\\\\\\\\u001b[0m\\\\\\\\u001b[0;34m'@'\\\\\\\\u001b[0m\\\\\\\\u001b[0;34m)\\\\\\\\u001b[0m\\\\\\\\u001b[0;34m\\\\\\\\u001b[0m\\\\\\\\u001b[0;34m\\\\\\\\u001b[0m\\\\\\\\u001b[0m\\\\\\\\n\\\\\\\\u001b[0m\\\\\\\\u001b[1;32m      5\\\\\\\\u001b[0m \\\\\\\\u001b[0my\\\\\\\\u001b[0m\\\\\\\\u001b[0;34m=\\\\\\\\u001b[0m\\\\\\\\u001b[0memail\\\\\\\\u001b[0m\\\\\\\\u001b[0;34m.\\\\\\\\u001b[0m\\\\\\\\u001b[0mindex\\\\\\\\u001b[0m\\\\\\\\u001b[0;34m(\\\\\\\\u001b[0m\\\\\\\\u001b[0;34m'.com'\\\\\\\\u001b[0m\\\\\\\\u001b[0;34m)\\\\\\\\u001b[0m\\\\\\\\u001b[0;34m\\\\\\\\u001b[0m\\\\\\\\u001b[0;34m\\\\\\\\u001b[0m\\\\\\\\u001b[0m\\\\\\\\n\\\\\\\\u001b[1;32m      6\\\\\\\\u001b[0m \\\\\\\\u001b[0mstr\\\\\\\\u001b[0m\\\\\\\\u001b[0;34m=\\\\\\\\u001b[0m\\\\\\\\u001b[0memail\\\\\\\\u001b[0m\\\\\\\\u001b[0;34m[\\\\\\\\u001b[0m\\\\\\\\u001b[0mc\\\\\\\\u001b[0m\\\\\\\\u001b[0;34m+\\\\\\\\u001b[0m\\\\\\\\u001b[0;36m1\\\\\\\\u001b[0m\\\\\\\\u001b[0;34m:\\\\\\\\u001b[0m\\\\\\\\u001b[0my\\\\\\\\u001b[0m\\\\\\\\u001b[0;34m]\\\\\\\\u001b[0m\\\\\\\\u001b[0;34m\\\\\\\\u001b[0m\\\\\\\\u001b[0;34m\\\\\\\\u001b[0m\\\\\\\\u001b[0m\\\\\\\\n\\\\\\\",\\\\\\\"\\\\\\\\u001b[0;31mValueError\\\\\\\\u001b[0m: substring not found\\\\\\\"]}]},{\\\\\\\"cell_type\\\\\\\":\\\\\\\"code\\\\\\\",\\\\\\\"metadata\\\\\\\":{\\\\\\\"id\\\\\\\":\\\\\\\"Zes-SV3vzF83\\\\\\\",\\\\\\\"colab_type\\\\\\\":\\\\\\\"code\\\\\\\",\\\\\\\"colab\\\\\\\":{\\\\\\\"base_uri\\\\\\\":\\\\\\\"https://localhost:8080/\\\\\\\",\\\\\\\"height\\\\\\\":51},\\\\\\\"executionInfo\\\\\\\":{\\\\\\\"status\\\\\\\":\\\\\\\"ok\\\\\\\",\\\\\\\"timestamp\\\\\\\":1598854773730,\\\\\\\"user_tz\\\\\\\":-330,\\\\\\\"elapsed\\\\\\\":21971,\\\\\\\"user\\\\\\\":{\\\\\\\"displayName\\\\\\\":\\\\\\\"Prashant Singh\\\\\\\",\\\\\\\"photoUrl\\\\\\\":\\\\\\\"\\\\\\\",\\\\\\\"userId\\\\\\\":\\\\\\\"04712602781244046847\\\\\\\"}},\\\\\\\"outputId\\\\\\\":\\\\\\\"a9e7c78e-28dd-487b-ad7e-29437d221697\\\\\\\"},\\\\\\\"source\\\\\\\":[\\\\\\\"email= input('enter email id: ')\\\\\\\\n\\\\\\\",\\\\\\\"x= email.endswith('@tcs.com')\\\\\\\\n\\\\\\\",\\\\\\\"if x==True:\\\\\\\\n\\\\\\\",\\\\\\\"    print('valid')\\\\\\\\n\\\\\\\",\\\\\\\"else:\\\\\\\\n\\\\\\\",\\\\\\\"    print('invalid')\\\\\\\\n\\\\\\\"],\\\\\\\"execution_count\\\\\\\":null,\\\\\\\"outputs\\\\\\\":[{\\\\\\\"output_type\\\\\\\":\\\\\\\"stream\\\\\\\",\\\\\\\"text\\\\\\\":[\\\\\\\"enter email id: ghfjh\\\\\\\\n\\\\\\\",\\\\\\\"invalid\\\\\\\\n\\\\\\\"],\\\\\\\"name\\\\\\\":\\\\\\\"stdout\\\\\\\"}]},{\\\\\\\"cell_type\\\\\\\":\\\\\\\"code\\\\\\\",\\\\\\\"metadata\\\\\\\":{\\\\\\\"id\\\\\\\":\\\\\\\"H_8X7aiz0Hx_\\\\\\\",\\\\\\\"colab_type\\\\\\\":\\\\\\\"code\\\\\\\",\\\\\\\"colab\\\\\\\":{\\\\\\\"base_uri\\\\\\\":\\\\\\\"https://localhost:8080/\\\\\\\",\\\\\\\"height\\\\\\\":51},\\\\\\\"executionInfo\\\\\\\":{\\\\\\\"status\\\\\\\":\\\\\\\"ok\\\\\\\",\\\\\\\"timestamp\\\\\\\":1598854780987,\\\\\\\"user_tz\\\\\\\":-330,\\\\\\\"elapsed\\\\\\\":29145,\\\\\\\"user\\\\\\\":{\\\\\\\"displayName\\\\\\\":\\\\\\\"Prashant Singh\\\\\\\",\\\\\\\"photoUrl\\\\\\\":\\\\\\\"\\\\\\\",\\\\\\\"userId\\\\\\\":\\\\\\\"04712602781244046847\\\\\\\"}},\\\\\\\"outputId\\\\\\\":\\\\\\\"7d1d2515-8be1-4b22-ca28-6deb4018a3e0\\\\\\\"},\\\\\\\"source\\\\\\\":[\\\\\\\"email=input('enter company email id: ')\\\\\\\\n\\\\\\\",\\\\\\\"if email.endswith('@tcs.com'):\\\\\\\\n\\\\\\\",\\\\\\\"    print('valid')\\\\\\\\n\\\\\\\",\\\\\\\"else:\\\\\\\\n\\\\\\\",\\\\\\\"    print('invalid')\\\\\\\\n\\\\\\\"],\\\\\\\"execution_count\\\\\\\":null,\\\\\\\"outputs\\\\\\\":[{\\\\\\\"output_type\\\\\\\":\\\\\\\"stream\\\\\\\",\\\\\\\"text\\\\\\\":[\\\\\\\"enter company email id: hbjhlk\\\\\\\\n\\\\\\\",\\\\\\\"invalid\\\\\\\\n\\\\\\\"],\\\\\\\"name\\\\\\\":\\\\\\\"stdout\\\\\\\"}]},{\\\\\\\"cell_type\\\\\\\":\\\\\\\"markdown\\\\\\\",\\\\\\\"metadata\\\\\\\":{\\\\\\\"id\\\\\\\":\\\\\\\"t_U693Bt2YyC\\\\\\\",\\\\\\\"colab_type\\\\\\\":\\\\\\\"text\\\\\\\"},\\\\\\\"source\\\\\\\":[\\\\\\\"## lambda funtion\\\\\\\"]},{\\\\\\\"cell_type\\\\\\\":\\\\\\\"code\\\\\\\",\\\\\\\"metadata\\\\\\\":{\\\\\\\"id\\\\\\\":\\\\\\\"mYfb9rsU0s1i\\\\\\\",\\\\\\\"colab_type\\\\\\\":\\\\\\\"code\\\\\\\",\\\\\\\"colab\\\\\\\":{\\\\\\\"base_uri\\\\\\\":\\\\\\\"https://localhost:8080/\\\\\\\",\\\\\\\"height\\\\\\\":34},\\\\\\\"executionInfo\\\\\\\":{\\\\\\\"status\\\\\\\":\\\\\\\"ok\\\\\\\",\\\\\\\"timestamp\\\\\\\":1598854780991,\\\\\\\"user_tz\\\\\\\":-330,\\\\\\\"elapsed\\\\\\\":29035,\\\\\\\"user\\\\\\\":{\\\\\\\"displayName\\\\\\\":\\\\\\\"Prashant Singh\\\\\\\",\\\\\\\"photoUrl\\\\\\\":\\\\\\\"\\\\\\\",\\\\\\\"userId\\\\\\\":\\\\\\\"04712602781244046847\\\\\\\"}},\\\\\\\"outputId\\\\\\\":\\\\\\\"1f0ede77-1ebf-4107-d1d3-cacb969ff5df\\\\\\\"},\\\\\\\"source\\\\\\\":[\\\\\\\"add = lambda a, b: a+b\\\\\\\\n\\\\\\\",\\\\\\\"print(add(22, 22))\\\\\\\"],\\\\\\\"execution_count\\\\\\\":null,\\\\\\\"outputs\\\\\\\":[{\\\\\\\"output_type\\\\\\\":\\\\\\\"stream\\\\\\\",\\\\\\\"text\\\\\\\":[\\\\\\\"44\\\\\\\\n\\\\\\\"],\\\\\\\"name\\\\\\\":\\\\\\\"stdout\\\\\\\"}]},{\\\\\\\"cell_type\\\\\\\":\\\\\\\"code\\\\\\\",\\\\\\\"metadata\\\\\\\":{\\\\\\\"id\\\\\\\":\\\\\\\"-MK9tGHF2Uyz\\\\\\\",\\\\\\\"colab_type\\\\\\\":\\\\\\\"code\\\\\\\",\\\\\\\"colab\\\\\\\":{\\\\\\\"base_uri\\\\\\\":\\\\\\\"https://localhost:8080/\\\\\\\",\\\\\\\"height\\\\\\\":34},\\\\\\\"executionInfo\\\\\\\":{\\\\\\\"status\\\\\\\":\\\\\\\"ok\\\\\\\",\\\\\\\"timestamp\\\\\\\":1598854780993,\\\\\\\"user_tz\\\\\\\":-330,\\\\\\\"elapsed\\\\\\\":28981,\\\\\\\"user\\\\\\\":{\\\\\\\"displayName\\\\\\\":\\\\\\\"Prashant Singh\\\\\\\",\\\\\\\"photoUrl\\\\\\\":\\\\\\\"\\\\\\\",\\\\\\\"userId\\\\\\\":\\\\\\\"04712602781244046847\\\\\\\"}},\\\\\\\"outputId\\\\\\\":\\\\\\\"ff873a16-201a-4a16-bc2f-c7a615b86061\\\\\\\"},\\\\\\\"source\\\\\\\":[\\\\\\\"multiply = lambda a, b: a*b\\\\\\\\n\\\\\\\",\\\\\\\"print(multiply(22, 2))\\\\\\\"],\\\\\\\"execution_count\\\\\\\":null,\\\\\\\"outputs\\\\\\\":[{\\\\\\\"output_type\\\\\\\":\\\\\\\"stream\\\\\\\",\\\\\\\"text\\\\\\\":[\\\\\\\"44\\\\\\\\n\\\\\\\"],\\\\\\\"name\\\\\\\":\\\\\\\"stdout\\\\\\\"}]},{\\\\\\\"cell_type\\\\\\\":\\\\\\\"markdown\\\\\\\",\\\\\\\"metadata\\\\\\\":{\\\\\\\"id\\\\\\\":\\\\\\\"kTvBg9qpeT3j\\\\\\\",\\\\\\\"colab_type\\\\\\\":\\\\\\\"text\\\\\\\"},\\\\\\\"source\\\\\\\":[\\\\\\\"## filter function\\\\\\\"]},{\\\\\\\"cell_type\\\\\\\":\\\\\\\"code\\\\\\\",\\\\\\\"metadata\\\\\\\":{\\\\\\\"id\\\\\\\":\\\\\\\"fn3MM0zZ2oSc\\\\\\\",\\\\\\\"colab_type\\\\\\\":\\\\\\\"code\\\\\\\",\\\\\\\"colab\\\\\\\":{\\\\\\\"base_uri\\\\\\\":\\\\\\\"https://localhost:8080/\\\\\\\",\\\\\\\"height\\\\\\\":442},\\\\\\\"executionInfo\\\\\\\":{\\\\\\\"status\\\\\\\":\\\\\\\"ok\\\\\\\",\\\\\\\"timestamp\\\\\\\":1598854780994,\\\\\\\"user_tz\\\\\\\":-330,\\\\\\\"elapsed\\\\\\\":28892,\\\\\\\"user\\\\\\\":{\\\\\\\"displayName\\\\\\\":\\\\\\\"Prashant Singh\\\\\\\",\\\\\\\"photoUrl\\\\\\\":\\\\\\\"\\\\\\\",\\\\\\\"userId\\\\\\\":\\\\\\\"04712602781244046847\\\\\\\"}},\\\\\\\"outputId\\\\\\\":\\\\\\\"507b6f89-9bc8-41eb-c5e1-4b138e8b7bc0\\\\\\\"},\\\\\\\"source\\\\\\\":[\\\\\\\"help(filter)\\\\\\\"],\\\\\\\"execution_count\\\\\\\":null,\\\\\\\"outputs\\\\\\\":[{\\\\\\\"output_type\\\\\\\":\\\\\\\"stream\\\\\\\",\\\\\\\"text\\\\\\\":[\\\\\\\"Help on class filter in module builtins:\\\\\\\\n\\\\\\\",\\\\\\\"\\\\\\\\n\\\\\\\",\\\\\\\"class filter(object)\\\\\\\\n\\\\\\\",\\\\\\\" |  filter(function or None, iterable) --> filter object\\\\\\\\n\\\\\\\",\\\\\\\" |  \\\\\\\\n\\\\\\\",\\\\\\\" |  Return an iterator yielding those items of iterable for which function(item)\\\\\\\\n\\\\\\\",\\\\\\\" |  is true. If function is None, return the items that are true.\\\\\\\\n\\\\\\\",\\\\\\\" |  \\\\\\\\n\\\\\\\",\\\\\\\" |  Methods defined here:\\\\\\\\n\\\\\\\",\\\\\\\" |  \\\\\\\\n\\\\\\\",\\\\\\\" |  __getattribute__(self, name, /)\\\\\\\\n\\\\\\\",\\\\\\\" |      Return getattr(self, name).\\\\\\\\n\\\\\\\",\\\\\\\" |  \\\\\\\\n\\\\\\\",\\\\\\\" |  __iter__(self, /)\\\\\\\\n\\\\\\\",\\\\\\\" |      Implement iter(self).\\\\\\\\n\\\\\\\",\\\\\\\" |  \\\\\\\\n\\\\\\\",\\\\\\\" |  __new__(*args, **kwargs) from builtins.type\\\\\\\\n\\\\\\\",\\\\\\\" |      Create and return a new object.  See help(type) for accurate signature.\\\\\\\\n\\\\\\\",\\\\\\\" |  \\\\\\\\n\\\\\\\",\\\\\\\" |  __next__(self, /)\\\\\\\\n\\\\\\\",\\\\\\\" |      Implement next(self).\\\\\\\\n\\\\\\\",\\\\\\\" |  \\\\\\\\n\\\\\\\",\\\\\\\" |  __reduce__(...)\\\\\\\\n\\\\\\\",\\\\\\\" |      Return state information for pickling.\\\\\\\\n\\\\\\\",\\\\\\\"\\\\\\\\n\\\\\\\"],\\\\\\\"name\\\\\\\":\\\\\\\"stdout\\\\\\\"}]},{\\\\\\\"cell_type\\\\\\\":\\\\\\\"code\\\\\\\",\\\\\\\"metadata\\\\\\\":{\\\\\\\"id\\\\\\\":\\\\\\\"A08wxB1C35IA\\\\\\\",\\\\\\\"colab_type\\\\\\\":\\\\\\\"code\\\\\\\",\\\\\\\"colab\\\\\\\":{\\\\\\\"base_uri\\\\\\\":\\\\\\\"https://localhost:8080/\\\\\\\",\\\\\\\"height\\\\\\\":68},\\\\\\\"executionInfo\\\\\\\":{\\\\\\\"status\\\\\\\":\\\\\\\"ok\\\\\\\",\\\\\\\"timestamp\\\\\\\":1598854795501,\\\\\\\"user_tz\\\\\\\":-330,\\\\\\\"elapsed\\\\\\\":43330,\\\\\\\"user\\\\\\\":{\\\\\\\"displayName\\\\\\\":\\\\\\\"Prashant Singh\\\\\\\",\\\\\\\"photoUrl\\\\\\\":\\\\\\\"\\\\\\\",\\\\\\\"userId\\\\\\\":\\\\\\\"04712602781244046847\\\\\\\"}},\\\\\\\"outputId\\\\\\\":\\\\\\\"6f82ab9d-85e1-4ee6-d001-c8c8f1f0f0d2\\\\\\\"},\\\\\\\"source\\\\\\\":[\\\\\\\"lowest = int(input(\\\\\\\\\\\\\\\"Enter the lowest price\\\\\\\\\\\\\\\"))\\\\\\\\n\\\\\\\",\\\\\\\"heighest = int(input(\\\\\\\\\\\\\\\"Enter the heighest price\\\\\\\\\\\\\\\"))\\\\\\\\n\\\\\\\",\\\\\\\"product_price = [100, 358, 128, 48, 10000, 45000, 58000, 400, 200, 50]\\\\\\\\n\\\\\\\",\\\\\\\"\\\\\\\\n\\\\\\\",\\\\\\\"my_price = list(filter(lambda price:price>=lowest and price <= heighest, product_price))\\\\\\\\n\\\\\\\",\\\\\\\"print(my_price)\\\\\\\"],\\\\\\\"execution_count\\\\\\\":null,\\\\\\\"outputs\\\\\\\":[{\\\\\\\"output_type\\\\\\\":\\\\\\\"stream\\\\\\\",\\\\\\\"text\\\\\\\":[\\\\\\\"Enter the lowest price100\\\\\\\\n\\\\\\\",\\\\\\\"Enter the heighest price355\\\\\\\\n\\\\\\\",\\\\\\\"[100, 128, 200]\\\\\\\\n\\\\\\\"],\\\\\\\"name\\\\\\\":\\\\\\\"stdout\\\\\\\"}]},{\\\\\\\"cell_type\\\\\\\":\\\\\\\"code\\\\\\\",\\\\\\\"metadata\\\\\\\":{\\\\\\\"id\\\\\\\":\\\\\\\"k94zQeQp4uXs\\\\\\\",\\\\\\\"colab_type\\\\\\\":\\\\\\\"code\\\\\\\",\\\\\\\"colab\\\\\\\":{}},\\\\\\\"source\\\\\\\":[\\\\\\\"items = [\\\\\\\\\\\\\\\"mobile\\\\\\\\\\\\\\\", \\\\\\\\\\\\\\\"marker\\\\\\\\\\\\\\\"] \\\\\\\"],\\\\\\\"execution_count\\\\\\\":null,\\\\\\\"outputs\\\\\\\":[]},{\\\\\\\"cell_type\\\\\\\":\\\\\\\"code\\\\\\\",\\\\\\\"metadata\\\\\\\":{\\\\\\\"id\\\\\\\":\\\\\\\"RPS2yX5nPgl2\\\\\\\",\\\\\\\"colab_type\\\\\\\":\\\\\\\"code\\\\\\\",\\\\\\\"colab\\\\\\\":{\\\\\\\"base_uri\\\\\\\":\\\\\\\"https://localhost:8080/\\\\\\\",\\\\\\\"height\\\\\\\":51},\\\\\\\"executionInfo\\\\\\\":{\\\\\\\"status\\\\\\\":\\\\\\\"ok\\\\\\\",\\\\\\\"timestamp\\\\\\\":1598854801226,\\\\\\\"user_tz\\\\\\\":-330,\\\\\\\"elapsed\\\\\\\":48901,\\\\\\\"user\\\\\\\":{\\\\\\\"displayName\\\\\\\":\\\\\\\"Prashant Singh\\\\\\\",\\\\\\\"photoUrl\\\\\\\":\\\\\\\"\\\\\\\",\\\\\\\"userId\\\\\\\":\\\\\\\"04712602781244046847\\\\\\\"}},\\\\\\\"outputId\\\\\\\":\\\\\\\"dfd0cf9c-d8c2-4220-d748-31b17711a449\\\\\\\"},\\\\\\\"source\\\\\\\":[\\\\\\\"products = ['Football','Basketball','Laptop','Mouse','Keyboard','Ball']\\\\\\\\n\\\\\\\",\\\\\\\"search = input(\\\\\\\\\\\\\\\"Enter name of product you want to Search :-> \\\\\\\\\\\\\\\")\\\\\\\\n\\\\\\\",\\\\\\\"item=[]\\\\\\\\n\\\\\\\",\\\\\\\"\\\\\\\\n\\\\\\\",\\\\\\\"for i in products:\\\\\\\\n\\\\\\\",\\\\\\\"    if i.startswith(search):\\\\\\\\n\\\\\\\",\\\\\\\"        print(i)\\\\\\\\n\\\\\\\",\\\\\\\"        itm.append(i)\\\\\\\\n\\\\\\\",\\\\\\\"\\\\\\\\n\\\\\\\",\\\\\\\"if len(item)==0:\\\\\\\\n\\\\\\\",\\\\\\\"    print(\\\\\\\\\\\\\\\"No resluts\\\\\\\\\\\\\\\")\\\\\\\\n\\\\\\\"],\\\\\\\"execution_count\\\\\\\":null,\\\\\\\"outputs\\\\\\\":[{\\\\\\\"output_type\\\\\\\":\\\\\\\"stream\\\\\\\",\\\\\\\"text\\\\\\\":[\\\\\\\"Enter name of product you want to Search :-> t\\\\\\\\n\\\\\\\",\\\\\\\"No resluts\\\\\\\\n\\\\\\\"],\\\\\\\"name\\\\\\\":\\\\\\\"stdout\\\\\\\"}]},{\\\\\\\"cell_type\\\\\\\":\\\\\\\"code\\\\\\\",\\\\\\\"metadata\\\\\\\":{\\\\\\\"id\\\\\\\":\\\\\\\"j0ZGVfodCFrJ\\\\\\\",\\\\\\\"colab_type\\\\\\\":\\\\\\\"code\\\\\\\",\\\\\\\"colab\\\\\\\":{\\\\\\\"base_uri\\\\\\\":\\\\\\\"https://localhost:8080/\\\\\\\",\\\\\\\"height\\\\\\\":299},\\\\\\\"executionInfo\\\\\\\":{\\\\\\\"status\\\\\\\":\\\\\\\"error\\\\\\\",\\\\\\\"timestamp\\\\\\\":1598854810908,\\\\\\\"user_tz\\\\\\\":-330,\\\\\\\"elapsed\\\\\\\":58539,\\\\\\\"user\\\\\\\":{\\\\\\\"displayName\\\\\\\":\\\\\\\"Prashant Singh\\\\\\\",\\\\\\\"photoUrl\\\\\\\":\\\\\\\"\\\\\\\",\\\\\\\"userId\\\\\\\":\\\\\\\"04712602781244046847\\\\\\\"}},\\\\\\\"outputId\\\\\\\":\\\\\\\"ea23c8ba-41c9-4c27-b063-7e07ff47fb59\\\\\\\"},\\\\\\\"source\\\\\\\":[\\\\\\\"product_list = ['mobile','pen','t_shirt','laptops','jacket','TV','books',\\\\\\\\n\\\\\\\",\\\\\\\"                'speaker','mouse','keyboard','jeans','clock','charger',\\\\\\\\n\\\\\\\",\\\\\\\"                'football','videogames','ps5','xbox','intel i3']\\\\\\\\n\\\\\\\",\\\\\\\"\\\\\\\\n\\\\\\\",\\\\\\\"def search():\\\\\\\\n\\\\\\\",\\\\\\\"    need = input('\\\\\\\\\\\\\\\\nEnter your search: ')\\\\\\\\n\\\\\\\",\\\\\\\"    if not need:\\\\\\\\n\\\\\\\",\\\\\\\"        print('Input cannot be empty')\\\\\\\\n\\\\\\\",\\\\\\\"        search()\\\\\\\\n\\\\\\\",\\\\\\\"    for product in product_list:\\\\\\\\n\\\\\\\",\\\\\\\"        val = product.count(need)\\\\\\\\n\\\\\\\",\\\\\\\"        if val >= 1:\\\\\\\\n\\\\\\\",\\\\\\\"            print(product,end=\\\\\\\\\\\\\\\" \\\\\\\\\\\\\\\")\\\\\\\\n\\\\\\\",\\\\\\\"run = True\\\\\\\\n\\\\\\\",\\\\\\\"while run:\\\\\\\\n\\\\\\\",\\\\\\\"    search()\\\\\\\\n\\\\\\\",\\\\\\\"    inp = int(input('\\\\\\\\\\\\\\\\nEnter 1 to search again and 0 to quit: '))\\\\\\\\n\\\\\\\",\\\\\\\"    if inp == 1:\\\\\\\\n\\\\\\\",\\\\\\\"        continue\\\\\\\\n\\\\\\\",\\\\\\\"    elif inp == 0:\\\\\\\\n\\\\\\\",\\\\\\\"        run = False\\\\\\\\n\\\\\\\",\\\\\\\"    else:\\\\\\\\n\\\\\\\",\\\\\\\"        print('Enter valid input')\\\\\\\\n\\\\\\\"],\\\\\\\"execution_count\\\\\\\":null,\\\\\\\"outputs\\\\\\\":[{\\\\\\\"output_type\\\\\\\":\\\\\\\"stream\\\\\\\",\\\\\\\"text\\\\\\\":[\\\\\\\"\\\\\\\\n\\\\\\\",\\\\\\\"Enter your search: b\\\\\\\\n\\\\\\\",\\\\\\\"mobile books keyboard football xbox \\\\\\\\n\\\\\\\",\\\\\\\"Enter 1 to search again and 0 to quit: kjhk\\\\\\\\n\\\\\\\"],\\\\\\\"name\\\\\\\":\\\\\\\"stdout\\\\\\\"},{\\\\\\\"output_type\\\\\\\":\\\\\\\"error\\\\\\\",\\\\\\\"ename\\\\\\\":\\\\\\\"ValueError\\\\\\\",\\\\\\\"evalue\\\\\\\":\\\\\\\"ignored\\\\\\\",\\\\\\\"traceback\\\\\\\":[\\\\\\\"\\\\\\\\u001b[0;31m---------------------------------------------------------------------------\\\\\\\\u001b[0m\\\\\\\",\\\\\\\"\\\\\\\\u001b[0;31mValueError\\\\\\\\u001b[0m                                Traceback (most recent call last)\\\\\\\",\\\\\\\"\\\\\\\\u001b[0;32m<ipython-input-21-a6e51b1dc0f3>\\\\\\\\u001b[0m in \\\\\\\\u001b[0;36m<module>\\\\\\\\u001b[0;34m()\\\\\\\\u001b[0m\\\\\\\\n\\\\\\\\u001b[1;32m     15\\\\\\\\u001b[0m \\\\\\\\u001b[0;32mwhile\\\\\\\\u001b[0m \\\\\\\\u001b[0mrun\\\\\\\\u001b[0m\\\\\\\\u001b[0;34m:\\\\\\\\u001b[0m\\\\\\\\u001b[0;34m\\\\\\\\u001b[0m\\\\\\\\u001b[0;34m\\\\\\\\u001b[0m\\\\\\\\u001b[0m\\\\\\\\n\\\\\\\\u001b[1;32m     16\\\\\\\\u001b[0m     \\\\\\\\u001b[0msearch\\\\\\\\u001b[0m\\\\\\\\u001b[0;34m(\\\\\\\\u001b[0m\\\\\\\\u001b[0;34m)\\\\\\\\u001b[0m\\\\\\\\u001b[0;34m\\\\\\\\u001b[0m\\\\\\\\u001b[0;34m\\\\\\\\u001b[0m\\\\\\\\u001b[0m\\\\\\\\n\\\\\\\\u001b[0;32m---> 17\\\\\\\\u001b[0;31m     \\\\\\\\u001b[0minp\\\\\\\\u001b[0m \\\\\\\\u001b[0;34m=\\\\\\\\u001b[0m \\\\\\\\u001b[0mint\\\\\\\\u001b[0m\\\\\\\\u001b[0;34m(\\\\\\\\u001b[0m\\\\\\\\u001b[0minput\\\\\\\\u001b[0m\\\\\\\\u001b[0;34m(\\\\\\\\u001b[0m\\\\\\\\u001b[0;34m'\\\\\\\\\\\\\\\\nEnter 1 to search again and 0 to quit: '\\\\\\\\u001b[0m\\\\\\\\u001b[0;34m)\\\\\\\\u001b[0m\\\\\\\\u001b[0;34m)\\\\\\\\u001b[0m\\\\\\\\u001b[0;34m\\\\\\\\u001b[0m\\\\\\\\u001b[0;34m\\\\\\\\u001b[0m\\\\\\\\u001b[0m\\\\\\\\n\\\\\\\\u001b[0m\\\\\\\\u001b[1;32m     18\\\\\\\\u001b[0m     \\\\\\\\u001b[0;32mif\\\\\\\\u001b[0m \\\\\\\\u001b[0minp\\\\\\\\u001b[0m \\\\\\\\u001b[0;34m==\\\\\\\\u001b[0m \\\\\\\\u001b[0;36m1\\\\\\\\u001b[0m\\\\\\\\u001b[0;34m:\\\\\\\\u001b[0m\\\\\\\\u001b[0;34m\\\\\\\\u001b[0m\\\\\\\\u001b[0;34m\\\\\\\\u001b[0m\\\\\\\\u001b[0m\\\\\\\\n\\\\\\\\u001b[1;32m     19\\\\\\\\u001b[0m         \\\\\\\\u001b[0;32mcontinue\\\\\\\\u001b[0m\\\\\\\\u001b[0;34m\\\\\\\\u001b[0m\\\\\\\\u001b[0;34m\\\\\\\\u001b[0m\\\\\\\\u001b[0m\\\\\\\\n\\\\\\\",\\\\\\\"\\\\\\\\u001b[0;31mValueError\\\\\\\\u001b[0m: invalid literal for int() with base 10: 'kjhk'\\\\\\\"]}]},{\\\\\\\"cell_type\\\\\\\":\\\\\\\"code\\\\\\\",\\\\\\\"metadata\\\\\\\":{\\\\\\\"id\\\\\\\":\\\\\\\"j16lFYpzCict\\\\\\\",\\\\\\\"colab_type\\\\\\\":\\\\\\\"code\\\\\\\",\\\\\\\"colab\\\\\\\":{\\\\\\\"base_uri\\\\\\\":\\\\\\\"https://localhost:8080/\\\\\\\",\\\\\\\"height\\\\\\\":51},\\\\\\\"executionInfo\\\\\\\":{\\\\\\\"status\\\\\\\":\\\\\\\"ok\\\\\\\",\\\\\\\"timestamp\\\\\\\":1598856431769,\\\\\\\"user_tz\\\\\\\":-330,\\\\\\\"elapsed\\\\\\\":7839,\\\\\\\"user\\\\\\\":{\\\\\\\"displayName\\\\\\\":\\\\\\\"Prashant Singh\\\\\\\",\\\\\\\"photoUrl\\\\\\\":\\\\\\\"\\\\\\\",\\\\\\\"userId\\\\\\\":\\\\\\\"04712602781244046847\\\\\\\"}},\\\\\\\"outputId\\\\\\\":\\\\\\\"538f0bb6-4f3a-48ab-dac7-cd10a6af97c7\\\\\\\"},\\\\\\\"source\\\\\\\":[\\\\\\\"p_name = ['t-shirt', 'capri', 'toys', 'oneplus','footwear', 'watches', 'headsets','hand-tools', 'top', 'bottle','tooth-paste']\\\\\\\\n\\\\\\\",\\\\\\\"item_search = input(\\\\\\\\\\\\\\\"Enter to search: \\\\\\\\\\\\\\\")\\\\\\\\n\\\\\\\",\\\\\\\"print(list(filter(lambda x: x.lower().startswith(item_search),p_name)))\\\\\\\\n\\\\\\\"],\\\\\\\"execution_count\\\\\\\":null,\\\\\\\"outputs\\\\\\\":[{\\\\\\\"output_type\\\\\\\":\\\\\\\"stream\\\\\\\",\\\\\\\"text\\\\\\\":[\\\\\\\"Enter to search: hello\\\\\\\\n\\\\\\\",\\\\\\\"[]\\\\\\\\n\\\\\\\"],\\\\\\\"name\\\\\\\":\\\\\\\"stdout\\\\\\\"}]},{\\\\\\\"cell_type\\\\\\\":\\\\\\\"code\\\\\\\",\\\\\\\"metadata\\\\\\\":{\\\\\\\"id\\\\\\\":\\\\\\\"bR9XsdS0DJti\\\\\\\",\\\\\\\"colab_type\\\\\\\":\\\\\\\"code\\\\\\\",\\\\\\\"colab\\\\\\\":{\\\\\\\"base_uri\\\\\\\":\\\\\\\"https://localhost:8080/\\\\\\\",\\\\\\\"height\\\\\\\":51},\\\\\\\"executionInfo\\\\\\\":{\\\\\\\"status\\\\\\\":\\\\\\\"ok\\\\\\\",\\\\\\\"timestamp\\\\\\\":1598856448055,\\\\\\\"user_tz\\\\\\\":-330,\\\\\\\"elapsed\\\\\\\":5615,\\\\\\\"user\\\\\\\":{\\\\\\\"displayName\\\\\\\":\\\\\\\"Prashant Singh\\\\\\\",\\\\\\\"photoUrl\\\\\\\":\\\\\\\"\\\\\\\",\\\\\\\"userId\\\\\\\":\\\\\\\"04712602781244046847\\\\\\\"}},\\\\\\\"outputId\\\\\\\":\\\\\\\"4d818fa4-b1ab-4443-9693-f860c8cb1e5f\\\\\\\"},\\\\\\\"source\\\\\\\":[\\\\\\\"product_list = {'mobile','pen','t_shirt','laptops','jacket','TV','books',\\\\\\\\n\\\\\\\",\\\\\\\"                'speaker','mouse','keyboard','jeans','clock','charger',\\\\\\\\n\\\\\\\",\\\\\\\"                'football','videogames','ps5','xbox','intel i3','t-shirt', 'capri', 'toys', 'oneplus','footwear', 'watches', 'headsets','hand-tools', 'top', 'bottle','tooth-paste'}\\\\\\\\n\\\\\\\",\\\\\\\"item = input(\\\\\\\\\\\\\\\"Enter to search: \\\\\\\\\\\\\\\")\\\\\\\\n\\\\\\\",\\\\\\\"print(list(filter(lambda product: product.startswith(item),product_list)))\\\\\\\\n\\\\\\\"],\\\\\\\"execution_count\\\\\\\":null,\\\\\\\"outputs\\\\\\\":[{\\\\\\\"output_type\\\\\\\":\\\\\\\"stream\\\\\\\",\\\\\\\"text\\\\\\\":[\\\\\\\"Enter to search: clo\\\\\\\\n\\\\\\\",\\\\\\\"['clock']\\\\\\\\n\\\\\\\"],\\\\\\\"name\\\\\\\":\\\\\\\"stdout\\\\\\\"}]},{\\\\\\\"cell_type\\\\\\\":\\\\\\\"code\\\\\\\",\\\\\\\"metadata\\\\\\\":{\\\\\\\"id\\\\\\\":\\\\\\\"oVg4mf89EU6C\\\\\\\",\\\\\\\"colab_type\\\\\\\":\\\\\\\"code\\\\\\\",\\\\\\\"colab\\\\\\\":{\\\\\\\"base_uri\\\\\\\":\\\\\\\"https://localhost:8080/\\\\\\\",\\\\\\\"height\\\\\\\":442},\\\\\\\"executionInfo\\\\\\\":{\\\\\\\"status\\\\\\\":\\\\\\\"ok\\\\\\\",\\\\\\\"timestamp\\\\\\\":1598856454642,\\\\\\\"user_tz\\\\\\\":-330,\\\\\\\"elapsed\\\\\\\":1387,\\\\\\\"user\\\\\\\":{\\\\\\\"displayName\\\\\\\":\\\\\\\"Prashant Singh\\\\\\\",\\\\\\\"photoUrl\\\\\\\":\\\\\\\"\\\\\\\",\\\\\\\"userId\\\\\\\":\\\\\\\"04712602781244046847\\\\\\\"}},\\\\\\\"outputId\\\\\\\":\\\\\\\"9def3303-02ef-4756-e6a4-d39d059c6bd0\\\\\\\"},\\\\\\\"source\\\\\\\":[\\\\\\\"help(map)\\\\\\\"],\\\\\\\"execution_count\\\\\\\":null,\\\\\\\"outputs\\\\\\\":[{\\\\\\\"output_type\\\\\\\":\\\\\\\"stream\\\\\\\",\\\\\\\"text\\\\\\\":[\\\\\\\"Help on class map in module builtins:\\\\\\\\n\\\\\\\",\\\\\\\"\\\\\\\\n\\\\\\\",\\\\\\\"class map(object)\\\\\\\\n\\\\\\\",\\\\\\\" |  map(func, *iterables) --> map object\\\\\\\\n\\\\\\\",\\\\\\\" |  \\\\\\\\n\\\\\\\",\\\\\\\" |  Make an iterator that computes the function using arguments from\\\\\\\\n\\\\\\\",\\\\\\\" |  each of the iterables.  Stops when the shortest iterable is exhausted.\\\\\\\\n\\\\\\\",\\\\\\\" |  \\\\\\\\n\\\\\\\",\\\\\\\" |  Methods defined here:\\\\\\\\n\\\\\\\",\\\\\\\" |  \\\\\\\\n\\\\\\\",\\\\\\\" |  __getattribute__(self, name, /)\\\\\\\\n\\\\\\\",\\\\\\\" |      Return getattr(self, name).\\\\\\\\n\\\\\\\",\\\\\\\" |  \\\\\\\\n\\\\\\\",\\\\\\\" |  __iter__(self, /)\\\\\\\\n\\\\\\\",\\\\\\\" |      Implement iter(self).\\\\\\\\n\\\\\\\",\\\\\\\" |  \\\\\\\\n\\\\\\\",\\\\\\\" |  __new__(*args, **kwargs) from builtins.type\\\\\\\\n\\\\\\\",\\\\\\\" |      Create and return a new object.  See help(type) for accurate signature.\\\\\\\\n\\\\\\\",\\\\\\\" |  \\\\\\\\n\\\\\\\",\\\\\\\" |  __next__(self, /)\\\\\\\\n\\\\\\\",\\\\\\\" |      Implement next(self).\\\\\\\\n\\\\\\\",\\\\\\\" |  \\\\\\\\n\\\\\\\",\\\\\\\" |  __reduce__(...)\\\\\\\\n\\\\\\\",\\\\\\\" |      Return state information for pickling.\\\\\\\\n\\\\\\\",\\\\\\\"\\\\\\\\n\\\\\\\"],\\\\\\\"name\\\\\\\":\\\\\\\"stdout\\\\\\\"}]},{\\\\\\\"cell_type\\\\\\\":\\\\\\\"code\\\\\\\",\\\\\\\"metadata\\\\\\\":{\\\\\\\"id\\\\\\\":\\\\\\\"cMSsK18YGGsu\\\\\\\",\\\\\\\"colab_type\\\\\\\":\\\\\\\"code\\\\\\\",\\\\\\\"colab\\\\\\\":{\\\\\\\"base_uri\\\\\\\":\\\\\\\"https://localhost:8080/\\\\\\\",\\\\\\\"height\\\\\\\":34},\\\\\\\"executionInfo\\\\\\\":{\\\\\\\"status\\\\\\\":\\\\\\\"ok\\\\\\\",\\\\\\\"timestamp\\\\\\\":1598856455742,\\\\\\\"user_tz\\\\\\\":-330,\\\\\\\"elapsed\\\\\\\":1243,\\\\\\\"user\\\\\\\":{\\\\\\\"displayName\\\\\\\":\\\\\\\"Prashant Singh\\\\\\\",\\\\\\\"photoUrl\\\\\\\":\\\\\\\"\\\\\\\",\\\\\\\"userId\\\\\\\":\\\\\\\"04712602781244046847\\\\\\\"}},\\\\\\\"outputId\\\\\\\":\\\\\\\"41a5670c-f650-4119-ee0e-a0e56e3ec832\\\\\\\"},\\\\\\\"source\\\\\\\":[\\\\\\\"num = [12, 4, 5, 10, 3]\\\\\\\\n\\\\\\\",\\\\\\\"sqr = list(map(lambda n:n**2, num))\\\\\\\\n\\\\\\\",\\\\\\\"print(sqr)\\\\\\\"],\\\\\\\"execution_count\\\\\\\":null,\\\\\\\"outputs\\\\\\\":[{\\\\\\\"output_type\\\\\\\":\\\\\\\"stream\\\\\\\",\\\\\\\"text\\\\\\\":[\\\\\\\"[144, 16, 25, 100, 9]\\\\\\\\n\\\\\\\"],\\\\\\\"name\\\\\\\":\\\\\\\"stdout\\\\\\\"}]},{\\\\\\\"cell_type\\\\\\\":\\\\\\\"code\\\\\\\",\\\\\\\"metadata\\\\\\\":{\\\\\\\"id\\\\\\\":\\\\\\\"-KtB2CD9GXVR\\\\\\\",\\\\\\\"colab_type\\\\\\\":\\\\\\\"code\\\\\\\",\\\\\\\"colab\\\\\\\":{\\\\\\\"base_uri\\\\\\\":\\\\\\\"https://localhost:8080/\\\\\\\",\\\\\\\"height\\\\\\\":34},\\\\\\\"executionInfo\\\\\\\":{\\\\\\\"status\\\\\\\":\\\\\\\"ok\\\\\\\",\\\\\\\"timestamp\\\\\\\":1598856457169,\\\\\\\"user_tz\\\\\\\":-330,\\\\\\\"elapsed\\\\\\\":1544,\\\\\\\"user\\\\\\\":{\\\\\\\"displayName\\\\\\\":\\\\\\\"Prashant Singh\\\\\\\",\\\\\\\"photoUrl\\\\\\\":\\\\\\\"\\\\\\\",\\\\\\\"userId\\\\\\\":\\\\\\\"04712602781244046847\\\\\\\"}},\\\\\\\"outputId\\\\\\\":\\\\\\\"f69e5b9a-e651-47c0-f101-13b4fb4c76b3\\\\\\\"},\\\\\\\"source\\\\\\\":[\\\\\\\"num = list(range(1, 11))\\\\\\\\n\\\\\\\",\\\\\\\"sqr = list(map(lambda n:n**2, num[:5]))\\\\\\\\n\\\\\\\",\\\\\\\"print(sqr)\\\\\\\"],\\\\\\\"execution_count\\\\\\\":null,\\\\\\\"outputs\\\\\\\":[{\\\\\\\"output_type\\\\\\\":\\\\\\\"stream\\\\\\\",\\\\\\\"text\\\\\\\":[\\\\\\\"[1, 4, 9, 16, 25]\\\\\\\\n\\\\\\\"],\\\\\\\"name\\\\\\\":\\\\\\\"stdout\\\\\\\"}]},{\\\\\\\"cell_type\\\\\\\":\\\\\\\"code\\\\\\\",\\\\\\\"metadata\\\\\\\":{\\\\\\\"id\\\\\\\":\\\\\\\"tVSkCuQ3HNsd\\\\\\\",\\\\\\\"colab_type\\\\\\\":\\\\\\\"code\\\\\\\",\\\\\\\"colab\\\\\\\":{\\\\\\\"base_uri\\\\\\\":\\\\\\\"https://localhost:8080/\\\\\\\",\\\\\\\"height\\\\\\\":51},\\\\\\\"executionInfo\\\\\\\":{\\\\\\\"status\\\\\\\":\\\\\\\"ok\\\\\\\",\\\\\\\"timestamp\\\\\\\":1598857031311,\\\\\\\"user_tz\\\\\\\":-330,\\\\\\\"elapsed\\\\\\\":8039,\\\\\\\"user\\\\\\\":{\\\\\\\"displayName\\\\\\\":\\\\\\\"Prashant Singh\\\\\\\",\\\\\\\"photoUrl\\\\\\\":\\\\\\\"\\\\\\\",\\\\\\\"userId\\\\\\\":\\\\\\\"04712602781244046847\\\\\\\"}},\\\\\\\"outputId\\\\\\\":\\\\\\\"b9837264-f5bf-47c6-c710-f854297b454e\\\\\\\"},\\\\\\\"source\\\\\\\":[\\\\\\\"\\\\\\\\n\\\\\\\",\\\\\\\"# first_name last_name\\\\\\\\n\\\\\\\",\\\\\\\"def captilize(first_name, last_name):\\\\\\\\n\\\\\\\",\\\\\\\"  print(f\\\\\\\\\\\\\\\"{first_name.capitalize()} {last_name.capitalize()}\\\\\\\\\\\\\\\")\\\\\\\\n\\\\\\\",\\\\\\\"\\\\\\\\n\\\\\\\",\\\\\\\"full_name = input(\\\\\\\\\\\\\\\"Enter a full name: \\\\\\\\\\\\\\\")\\\\\\\\n\\\\\\\",\\\\\\\"\\\\\\\\n\\\\\\\",\\\\\\\"x = full_name.split(\\\\\\\\\\\\\\\" \\\\\\\\\\\\\\\")\\\\\\\\n\\\\\\\",\\\\\\\"# print(x)\\\\\\\\n\\\\\\\",\\\\\\\"captilize(str(x[:1]),str(x[1:2]))\\\\\\\\n\\\\\\\",\\\\\\\"\\\\\\\\n\\\\\\\"],\\\\\\\"execution_count\\\\\\\":null,\\\\\\\"outputs\\\\\\\":[{\\\\\\\"output_type\\\\\\\":\\\\\\\"stream\\\\\\\",\\\\\\\"text\\\\\\\":[\\\\\\\"Enter a full name: Prashant Singh\\\\\\\\n\\\\\\\",\\\\\\\"['prashant'] ['singh']\\\\\\\\n\\\\\\\"],\\\\\\\"name\\\\\\\":\\\\\\\"stdout\\\\\\\"}]},{\\\\\\\"cell_type\\\\\\\":\\\\\\\"code\\\\\\\",\\\\\\\"metadata\\\\\\\":{\\\\\\\"id\\\\\\\":\\\\\\\"aQCyj3h1Ir4-\\\\\\\",\\\\\\\"colab_type\\\\\\\":\\\\\\\"code\\\\\\\",\\\\\\\"colab\\\\\\\":{\\\\\\\"base_uri\\\\\\\":\\\\\\\"https://localhost:8080/\\\\\\\",\\\\\\\"height\\\\\\\":935},\\\\\\\"executionInfo\\\\\\\":{\\\\\\\"status\\\\\\\":\\\\\\\"ok\\\\\\\",\\\\\\\"timestamp\\\\\\\":1598857179657,\\\\\\\"user_tz\\\\\\\":-330,\\\\\\\"elapsed\\\\\\\":2003,\\\\\\\"user\\\\\\\":{\\\\\\\"displayName\\\\\\\":\\\\\\\"Prashant Singh\\\\\\\",\\\\\\\"photoUrl\\\\\\\":\\\\\\\"\\\\\\\",\\\\\\\"userId\\\\\\\":\\\\\\\"04712602781244046847\\\\\\\"}},\\\\\\\"outputId\\\\\\\":\\\\\\\"00432a8c-3956-4e87-d9be-f8fce604e12c\\\\\\\"},\\\\\\\"source\\\\\\\":[\\\\\\\"import math\\\\\\\\n\\\\\\\",\\\\\\\"dir(math)\\\\\\\"],\\\\\\\"execution_count\\\\\\\":null,\\\\\\\"outputs\\\\\\\":[{\\\\\\\"output_type\\\\\\\":\\\\\\\"execute_result\\\\\\\",\\\\\\\"data\\\\\\\":{\\\\\\\"text/plain\\\\\\\":[\\\\\\\"['__doc__',\\\\\\\\n\\\\\\\",\\\\\\\" '__loader__',\\\\\\\\n\\\\\\\",\\\\\\\" '__name__',\\\\\\\\n\\\\\\\",\\\\\\\" '__package__',\\\\\\\\n\\\\\\\",\\\\\\\" '__spec__',\\\\\\\\n\\\\\\\",\\\\\\\" 'acos',\\\\\\\\n\\\\\\\",\\\\\\\" 'acosh',\\\\\\\\n\\\\\\\",\\\\\\\" 'asin',\\\\\\\\n\\\\\\\",\\\\\\\" 'asinh',\\\\\\\\n\\\\\\\",\\\\\\\" 'atan',\\\\\\\\n\\\\\\\",\\\\\\\" 'atan2',\\\\\\\\n\\\\\\\",\\\\\\\" 'atanh',\\\\\\\\n\\\\\\\",\\\\\\\" 'ceil',\\\\\\\\n\\\\\\\",\\\\\\\" 'copysign',\\\\\\\\n\\\\\\\",\\\\\\\" 'cos',\\\\\\\\n\\\\\\\",\\\\\\\" 'cosh',\\\\\\\\n\\\\\\\",\\\\\\\" 'degrees',\\\\\\\\n\\\\\\\",\\\\\\\" 'e',\\\\\\\\n\\\\\\\",\\\\\\\" 'erf',\\\\\\\\n\\\\\\\",\\\\\\\" 'erfc',\\\\\\\\n\\\\\\\",\\\\\\\" 'exp',\\\\\\\\n\\\\\\\",\\\\\\\" 'expm1',\\\\\\\\n\\\\\\\",\\\\\\\" 'fabs',\\\\\\\\n\\\\\\\",\\\\\\\" 'factorial',\\\\\\\\n\\\\\\\",\\\\\\\" 'floor',\\\\\\\\n\\\\\\\",\\\\\\\" 'fmod',\\\\\\\\n\\\\\\\",\\\\\\\" 'frexp',\\\\\\\\n\\\\\\\",\\\\\\\" 'fsum',\\\\\\\\n\\\\\\\",\\\\\\\" 'gamma',\\\\\\\\n\\\\\\\",\\\\\\\" 'gcd',\\\\\\\\n\\\\\\\",\\\\\\\" 'hypot',\\\\\\\\n\\\\\\\",\\\\\\\" 'inf',\\\\\\\\n\\\\\\\",\\\\\\\" 'isclose',\\\\\\\\n\\\\\\\",\\\\\\\" 'isfinite',\\\\\\\\n\\\\\\\",\\\\\\\" 'isinf',\\\\\\\\n\\\\\\\",\\\\\\\" 'isnan',\\\\\\\\n\\\\\\\",\\\\\\\" 'ldexp',\\\\\\\\n\\\\\\\",\\\\\\\" 'lgamma',\\\\\\\\n\\\\\\\",\\\\\\\" 'log',\\\\\\\\n\\\\\\\",\\\\\\\" 'log10',\\\\\\\\n\\\\\\\",\\\\\\\" 'log1p',\\\\\\\\n\\\\\\\",\\\\\\\" 'log2',\\\\\\\\n\\\\\\\",\\\\\\\" 'modf',\\\\\\\\n\\\\\\\",\\\\\\\" 'nan',\\\\\\\\n\\\\\\\",\\\\\\\" 'pi',\\\\\\\\n\\\\\\\",\\\\\\\" 'pow',\\\\\\\\n\\\\\\\",\\\\\\\" 'radians',\\\\\\\\n\\\\\\\",\\\\\\\" 'sin',\\\\\\\\n\\\\\\\",\\\\\\\" 'sinh',\\\\\\\\n\\\\\\\",\\\\\\\" 'sqrt',\\\\\\\\n\\\\\\\",\\\\\\\" 'tan',\\\\\\\\n\\\\\\\",\\\\\\\" 'tanh',\\\\\\\\n\\\\\\\",\\\\\\\" 'tau',\\\\\\\\n\\\\\\\",\\\\\\\" 'trunc']\\\\\\\"]},\\\\\\\"metadata\\\\\\\":{\\\\\\\"tags\\\\\\\":[]},\\\\\\\"execution_count\\\\\\\":13}]},{\\\\\\\"cell_type\\\\\\\":\\\\\\\"code\\\\\\\",\\\\\\\"metadata\\\\\\\":{\\\\\\\"id\\\\\\\":\\\\\\\"5JKe8zilUGVr\\\\\\\",\\\\\\\"colab_type\\\\\\\":\\\\\\\"code\\\\\\\",\\\\\\\"colab\\\\\\\":{\\\\\\\"base_uri\\\\\\\":\\\\\\\"https://localhost:8080/\\\\\\\",\\\\\\\"height\\\\\\\":34},\\\\\\\"executionInfo\\\\\\\":{\\\\\\\"status\\\\\\\":\\\\\\\"ok\\\\\\\",\\\\\\\"timestamp\\\\\\\":1598857219590,\\\\\\\"user_tz\\\\\\\":-330,\\\\\\\"elapsed\\\\\\\":1368,\\\\\\\"user\\\\\\\":{\\\\\\\"displayName\\\\\\\":\\\\\\\"Prashant Singh\\\\\\\",\\\\\\\"photoUrl\\\\\\\":\\\\\\\"\\\\\\\",\\\\\\\"userId\\\\\\\":\\\\\\\"04712602781244046847\\\\\\\"}},\\\\\\\"outputId\\\\\\\":\\\\\\\"90a8143a-97cd-48c7-ca4f-fe751eab19b0\\\\\\\"},\\\\\\\"source\\\\\\\":[\\\\\\\"print(math.pi*2)\\\\\\\"],\\\\\\\"execution_count\\\\\\\":null,\\\\\\\"outputs\\\\\\\":[{\\\\\\\"output_type\\\\\\\":\\\\\\\"stream\\\\\\\",\\\\\\\"text\\\\\\\":[\\\\\\\"6.283185307179586\\\\\\\\n\\\\\\\"],\\\\\\\"name\\\\\\\":\\\\\\\"stdout\\\\\\\"}]},{\\\\\\\"cell_type\\\\\\\":\\\\\\\"code\\\\\\\",\\\\\\\"metadata\\\\\\\":{\\\\\\\"id\\\\\\\":\\\\\\\"mMAc7_C9ULSH\\\\\\\",\\\\\\\"colab_type\\\\\\\":\\\\\\\"code\\\\\\\",\\\\\\\"colab\\\\\\\":{\\\\\\\"base_uri\\\\\\\":\\\\\\\"https://localhost:8080/\\\\\\\",\\\\\\\"height\\\\\\\":34},\\\\\\\"executionInfo\\\\\\\":{\\\\\\\"status\\\\\\\":\\\\\\\"ok\\\\\\\",\\\\\\\"timestamp\\\\\\\":1598857274347,\\\\\\\"user_tz\\\\\\\":-330,\\\\\\\"elapsed\\\\\\\":30534,\\\\\\\"user\\\\\\\":{\\\\\\\"displayName\\\\\\\":\\\\\\\"Prashant Singh\\\\\\\",\\\\\\\"photoUrl\\\\\\\":\\\\\\\"\\\\\\\",\\\\\\\"userId\\\\\\\":\\\\\\\"04712602781244046847\\\\\\\"}},\\\\\\\"outputId\\\\\\\":\\\\\\\"04b0ca26-ba27-43f5-bf70-0ee912242e8a\\\\\\\"},\\\\\\\"source\\\\\\\":[\\\\\\\"math.tan(60)\\\\\\\"],\\\\\\\"execution_count\\\\\\\":null,\\\\\\\"outputs\\\\\\\":[{\\\\\\\"output_type\\\\\\\":\\\\\\\"execute_result\\\\\\\",\\\\\\\"data\\\\\\\":{\\\\\\\"text/plain\\\\\\\":[\\\\\\\"0.320040389379563\\\\\\\"]},\\\\\\\"metadata\\\\\\\":{\\\\\\\"tags\\\\\\\":[]},\\\\\\\"execution_count\\\\\\\":16}]},{\\\\\\\"cell_type\\\\\\\":\\\\\\\"code\\\\\\\",\\\\\\\"metadata\\\\\\\":{\\\\\\\"id\\\\\\\":\\\\\\\"-JkQeRfwUWhr\\\\\\\",\\\\\\\"colab_type\\\\\\\":\\\\\\\"code\\\\\\\",\\\\\\\"colab\\\\\\\":{\\\\\\\"base_uri\\\\\\\":\\\\\\\"https://localhost:8080/\\\\\\\",\\\\\\\"height\\\\\\\":34},\\\\\\\"executionInfo\\\\\\\":{\\\\\\\"status\\\\\\\":\\\\\\\"ok\\\\\\\",\\\\\\\"timestamp\\\\\\\":1598857276690,\\\\\\\"user_tz\\\\\\\":-330,\\\\\\\"elapsed\\\\\\\":2213,\\\\\\\"user\\\\\\\":{\\\\\\\"displayName\\\\\\\":\\\\\\\"Prashant Singh\\\\\\\",\\\\\\\"photoUrl\\\\\\\":\\\\\\\"\\\\\\\",\\\\\\\"userId\\\\\\\":\\\\\\\"04712602781244046847\\\\\\\"}},\\\\\\\"outputId\\\\\\\":\\\\\\\"90f4bd4e-7bd9-409e-e373-aabfd71dbebc\\\\\\\"},\\\\\\\"source\\\\\\\":[\\\\\\\"math.sin(60)\\\\\\\"],\\\\\\\"execution_count\\\\\\\":null,\\\\\\\"outputs\\\\\\\":[{\\\\\\\"output_type\\\\\\\":\\\\\\\"execute_result\\\\\\\",\\\\\\\"data\\\\\\\":{\\\\\\\"text/plain\\\\\\\":[\\\\\\\"-0.3048106211022167\\\\\\\"]},\\\\\\\"metadata\\\\\\\":{\\\\\\\"tags\\\\\\\":[]},\\\\\\\"execution_count\\\\\\\":17}]},{\\\\\\\"cell_type\\\\\\\":\\\\\\\"code\\\\\\\",\\\\\\\"metadata\\\\\\\":{\\\\\\\"id\\\\\\\":\\\\\\\"7hHfUfdvUZur\\\\\\\",\\\\\\\"colab_type\\\\\\\":\\\\\\\"code\\\\\\\",\\\\\\\"colab\\\\\\\":{\\\\\\\"base_uri\\\\\\\":\\\\\\\"https://localhost:8080/\\\\\\\",\\\\\\\"height\\\\\\\":34},\\\\\\\"executionInfo\\\\\\\":{\\\\\\\"status\\\\\\\":\\\\\\\"ok\\\\\\\",\\\\\\\"timestamp\\\\\\\":1598857722446,\\\\\\\"user_tz\\\\\\\":-330,\\\\\\\"elapsed\\\\\\\":1881,\\\\\\\"user\\\\\\\":{\\\\\\\"displayName\\\\\\\":\\\\\\\"Prashant Singh\\\\\\\",\\\\\\\"photoUrl\\\\\\\":\\\\\\\"\\\\\\\",\\\\\\\"userId\\\\\\\":\\\\\\\"04712602781244046847\\\\\\\"}},\\\\\\\"outputId\\\\\\\":\\\\\\\"4eced380-898e-48a1-9ed9-76e3b6f8bf6d\\\\\\\"},\\\\\\\"source\\\\\\\":[\\\\\\\"import random\\\\\\\\n\\\\\\\",\\\\\\\"\\\\\\\\n\\\\\\\",\\\\\\\"int(random.random()*100)\\\\\\\"],\\\\\\\"execution_count\\\\\\\":null,\\\\\\\"outputs\\\\\\\":[{\\\\\\\"output_type\\\\\\\":\\\\\\\"execute_result\\\\\\\",\\\\\\\"data\\\\\\\":{\\\\\\\"text/plain\\\\\\\":[\\\\\\\"17\\\\\\\"]},\\\\\\\"metadata\\\\\\\":{\\\\\\\"tags\\\\\\\":[]},\\\\\\\"execution_count\\\\\\\":48}]},{\\\\\\\"cell_type\\\\\\\":\\\\\\\"code\\\\\\\",\\\\\\\"metadata\\\\\\\":{\\\\\\\"id\\\\\\\":\\\\\\\"y3fEV7PmU5Yp\\\\\\\",\\\\\\\"colab_type\\\\\\\":\\\\\\\"code\\\\\\\",\\\\\\\"colab\\\\\\\":{\\\\\\\"base_uri\\\\\\\":\\\\\\\"https://localhost:8080/\\\\\\\",\\\\\\\"height\\\\\\\":34},\\\\\\\"executionInfo\\\\\\\":{\\\\\\\"status\\\\\\\":\\\\\\\"ok\\\\\\\",\\\\\\\"timestamp\\\\\\\":1598857470137,\\\\\\\"user_tz\\\\\\\":-330,\\\\\\\"elapsed\\\\\\\":1426,\\\\\\\"user\\\\\\\":{\\\\\\\"displayName\\\\\\\":\\\\\\\"Prashant Singh\\\\\\\",\\\\\\\"photoUrl\\\\\\\":\\\\\\\"\\\\\\\",\\\\\\\"userId\\\\\\\":\\\\\\\"04712602781244046847\\\\\\\"}},\\\\\\\"outputId\\\\\\\":\\\\\\\"9f79d680-320b-4b45-87db-4cf75c74f854\\\\\\\"},\\\\\\\"source\\\\\\\":[\\\\\\\"random.choice([1,2,3,4])\\\\\\\"],\\\\\\\"execution_count\\\\\\\":null,\\\\\\\"outputs\\\\\\\":[{\\\\\\\"output_type\\\\\\\":\\\\\\\"execute_result\\\\\\\",\\\\\\\"data\\\\\\\":{\\\\\\\"text/plain\\\\\\\":[\\\\\\\"1\\\\\\\"]},\\\\\\\"metadata\\\\\\\":{\\\\\\\"tags\\\\\\\":[]},\\\\\\\"execution_count\\\\\\\":26}]},{\\\\\\\"cell_type\\\\\\\":\\\\\\\"code\\\\\\\",\\\\\\\"metadata\\\\\\\":{\\\\\\\"id\\\\\\\":\\\\\\\"y-m751adU7fG\\\\\\\",\\\\\\\"colab_type\\\\\\\":\\\\\\\"code\\\\\\\",\\\\\\\"colab\\\\\\\":{\\\\\\\"base_uri\\\\\\\":\\\\\\\"https://localhost:8080/\\\\\\\",\\\\\\\"height\\\\\\\":34},\\\\\\\"executionInfo\\\\\\\":{\\\\\\\"status\\\\\\\":\\\\\\\"ok\\\\\\\",\\\\\\\"timestamp\\\\\\\":1598857760789,\\\\\\\"user_tz\\\\\\\":-330,\\\\\\\"elapsed\\\\\\\":1705,\\\\\\\"user\\\\\\\":{\\\\\\\"displayName\\\\\\\":\\\\\\\"Prashant Singh\\\\\\\",\\\\\\\"photoUrl\\\\\\\":\\\\\\\"\\\\\\\",\\\\\\\"userId\\\\\\\":\\\\\\\"04712602781244046847\\\\\\\"}},\\\\\\\"outputId\\\\\\\":\\\\\\\"441d1a9c-2d14-4a1b-a0e8-e34b9d22c40a\\\\\\\"},\\\\\\\"source\\\\\\\":[\\\\\\\"random.choices([1,2,3,4],k=2)\\\\\\\"],\\\\\\\"execution_count\\\\\\\":null,\\\\\\\"outputs\\\\\\\":[{\\\\\\\"output_type\\\\\\\":\\\\\\\"execute_result\\\\\\\",\\\\\\\"data\\\\\\\":{\\\\\\\"text/plain\\\\\\\":[\\\\\\\"[2, 4]\\\\\\\"]},\\\\\\\"metadata\\\\\\\":{\\\\\\\"tags\\\\\\\":[]},\\\\\\\"execution_count\\\\\\\":49}]},{\\\\\\\"cell_type\\\\\\\":\\\\\\\"code\\\\\\\",\\\\\\\"metadata\\\\\\\":{\\\\\\\"id\\\\\\\":\\\\\\\"EUWofThmWUX9\\\\\\\",\\\\\\\"colab_type\\\\\\\":\\\\\\\"code\\\\\\\",\\\\\\\"colab\\\\\\\":{\\\\\\\"base_uri\\\\\\\":\\\\\\\"https://localhost:8080/\\\\\\\",\\\\\\\"height\\\\\\\":34},\\\\\\\"executionInfo\\\\\\\":{\\\\\\\"status\\\\\\\":\\\\\\\"ok\\\\\\\",\\\\\\\"timestamp\\\\\\\":1598857895306,\\\\\\\"user_tz\\\\\\\":-330,\\\\\\\"elapsed\\\\\\\":1156,\\\\\\\"user\\\\\\\":{\\\\\\\"displayName\\\\\\\":\\\\\\\"Prashant Singh\\\\\\\",\\\\\\\"photoUrl\\\\\\\":\\\\\\\"\\\\\\\",\\\\\\\"userId\\\\\\\":\\\\\\\"04712602781244046847\\\\\\\"}},\\\\\\\"outputId\\\\\\\":\\\\\\\"996d583d-8cd3-4a92-d24d-b3ff23ec2a76\\\\\\\"},\\\\\\\"source\\\\\\\":[\\\\\\\"math.trunc(random.random()*100)\\\\\\\"],\\\\\\\"execution_count\\\\\\\":null,\\\\\\\"outputs\\\\\\\":[{\\\\\\\"output_type\\\\\\\":\\\\\\\"execute_result\\\\\\\",\\\\\\\"data\\\\\\\":{\\\\\\\"text/plain\\\\\\\":[\\\\\\\"81\\\\\\\"]},\\\\\\\"metadata\\\\\\\":{\\\\\\\"tags\\\\\\\":[]},\\\\\\\"execution_count\\\\\\\":54}]},{\\\\\\\"cell_type\\\\\\\":\\\\\\\"code\\\\\\\",\\\\\\\"metadata\\\\\\\":{\\\\\\\"id\\\\\\\":\\\\\\\"rl4Dh5WhWaFh\\\\\\\",\\\\\\\"colab_type\\\\\\\":\\\\\\\"code\\\\\\\",\\\\\\\"colab\\\\\\\":{\\\\\\\"base_uri\\\\\\\":\\\\\\\"https://localhost:8080/\\\\\\\",\\\\\\\"height\\\\\\\":34},\\\\\\\"executionInfo\\\\\\\":{\\\\\\\"status\\\\\\\":\\\\\\\"ok\\\\\\\",\\\\\\\"timestamp\\\\\\\":1598858093555,\\\\\\\"user_tz\\\\\\\":-330,\\\\\\\"elapsed\\\\\\\":3468,\\\\\\\"user\\\\\\\":{\\\\\\\"displayName\\\\\\\":\\\\\\\"Prashant Singh\\\\\\\",\\\\\\\"photoUrl\\\\\\\":\\\\\\\"\\\\\\\",\\\\\\\"userId\\\\\\\":\\\\\\\"04712602781244046847\\\\\\\"}},\\\\\\\"outputId\\\\\\\":\\\\\\\"f1d8ae09-320f-4e5d-fce6-ad19f3e4d4d5\\\\\\\"},\\\\\\\"source\\\\\\\":[\\\\\\\"math.pi\\\\\\\"],\\\\\\\"execution_count\\\\\\\":null,\\\\\\\"outputs\\\\\\\":[{\\\\\\\"output_type\\\\\\\":\\\\\\\"execute_result\\\\\\\",\\\\\\\"data\\\\\\\":{\\\\\\\"text/plain\\\\\\\":[\\\\\\\"3.141592653589793\\\\\\\"]},\\\\\\\"metadata\\\\\\\":{\\\\\\\"tags\\\\\\\":[]},\\\\\\\"execution_count\\\\\\\":56}]},{\\\\\\\"cell_type\\\\\\\":\\\\\\\"code\\\\\\\",\\\\\\\"metadata\\\\\\\":{\\\\\\\"id\\\\\\\":\\\\\\\"_7HsKdY5o34K\\\\\\\",\\\\\\\"colab_type\\\\\\\":\\\\\\\"code\\\\\\\",\\\\\\\"colab\\\\\\\":{\\\\\\\"base_uri\\\\\\\":\\\\\\\"https://localhost:8080/\\\\\\\",\\\\\\\"height\\\\\\\":51},\\\\\\\"executionInfo\\\\\\\":{\\\\\\\"status\\\\\\\":\\\\\\\"ok\\\\\\\",\\\\\\\"timestamp\\\\\\\":1598963954925,\\\\\\\"user_tz\\\\\\\":-330,\\\\\\\"elapsed\\\\\\\":23143,\\\\\\\"user\\\\\\\":{\\\\\\\"displayName\\\\\\\":\\\\\\\"Prashant Singh\\\\\\\",\\\\\\\"photoUrl\\\\\\\":\\\\\\\"\\\\\\\",\\\\\\\"userId\\\\\\\":\\\\\\\"04712602781244046847\\\\\\\"}},\\\\\\\"outputId\\\\\\\":\\\\\\\"b9d6d501-a44a-46d6-ed36-24b2df4fa5fc\\\\\\\"},\\\\\\\"source\\\\\\\":[\\\\\\\"product_list = {'mobile','pen','t_shirt','laptops','jacket','TV','books',\\\\\\\\n\\\\\\\",\\\\\\\"                'speaker','mouse','keyboard','jeans','clock','charger',\\\\\\\\n\\\\\\\",\\\\\\\"                'football','videogames','ps5','xbox','intel i3','t-shirt', 'capri', 'toys', 'oneplus','footwear', 'watches', 'headsets','hand-tools', 'top', 'bottle','tooth-paste'}\\\\\\\\n\\\\\\\",\\\\\\\"item = input(\\\\\\\\\\\\\\\"Enter to search: \\\\\\\\\\\\\\\")\\\\\\\\n\\\\\\\",\\\\\\\"try:\\\\\\\\n\\\\\\\",\\\\\\\"  if item not in product_list:\\\\\\\\n\\\\\\\",\\\\\\\"    raise Exception(item)\\\\\\\\n\\\\\\\",\\\\\\\"  else:\\\\\\\\n\\\\\\\",\\\\\\\"    print()\\\\\\\\n\\\\\\\",\\\\\\\"except Exception as err:\\\\\\\\n\\\\\\\",\\\\\\\"  print('Please write valid input')\\\\\\\\n\\\\\\\"],\\\\\\\"execution_count\\\\\\\":null,\\\\\\\"outputs\\\\\\\":[{\\\\\\\"output_type\\\\\\\":\\\\\\\"stream\\\\\\\",\\\\\\\"text\\\\\\\":[\\\\\\\"Enter to search: mobile\\\\\\\\n\\\\\\\",\\\\\\\"<generator object <genexpr> at 0x7f4a55ffea98>\\\\\\\\n\\\\\\\"],\\\\\\\"name\\\\\\\":\\\\\\\"stdout\\\\\\\"}]},{\\\\\\\"cell_type\\\\\\\":\\\\\\\"code\\\\\\\",\\\\\\\"metadata\\\\\\\":{\\\\\\\"id\\\\\\\":\\\\\\\"1-kyG3CSsAzl\\\\\\\",\\\\\\\"colab_type\\\\\\\":\\\\\\\"code\\\\\\\",\\\\\\\"colab\\\\\\\":{\\\\\\\"base_uri\\\\\\\":\\\\\\\"https://localhost:8080/\\\\\\\",\\\\\\\"height\\\\\\\":51},\\\\\\\"executionInfo\\\\\\\":{\\\\\\\"status\\\\\\\":\\\\\\\"ok\\\\\\\",\\\\\\\"timestamp\\\\\\\":1598964217869,\\\\\\\"user_tz\\\\\\\":-330,\\\\\\\"elapsed\\\\\\\":17855,\\\\\\\"user\\\\\\\":{\\\\\\\"displayName\\\\\\\":\\\\\\\"Prashant Singh\\\\\\\",\\\\\\\"photoUrl\\\\\\\":\\\\\\\"\\\\\\\",\\\\\\\"userId\\\\\\\":\\\\\\\"04712602781244046847\\\\\\\"}},\\\\\\\"outputId\\\\\\\":\\\\\\\"2f2f9984-7d14-4a5f-814f-8b4154877471\\\\\\\"},\\\\\\\"source\\\\\\\":[\\\\\\\"products = ['mobile', 'laptop', 'table', 'car']\\\\\\\\n\\\\\\\",\\\\\\\"\\\\\\\\n\\\\\\\",\\\\\\\"product_name = input(\\\\\\\\\\\\\\\"Enter the product name:\\\\\\\\\\\\\\\")\\\\\\\\n\\\\\\\",\\\\\\\"try:\\\\\\\\n\\\\\\\",\\\\\\\"  print(products.index(product_name))\\\\\\\\n\\\\\\\",\\\\\\\"except Exception as err:\\\\\\\\n\\\\\\\",\\\\\\\"  print(err)\\\\\\\"],\\\\\\\"execution_count\\\\\\\":null,\\\\\\\"outputs\\\\\\\":[{\\\\\\\"output_type\\\\\\\":\\\\\\\"stream\\\\\\\",\\\\\\\"text\\\\\\\":[\\\\\\\"Enter the product name:fdf\\\\\\\\n\\\\\\\",\\\\\\\"'fdf' is not in list\\\\\\\\n\\\\\\\"],\\\\\\\"name\\\\\\\":\\\\\\\"stdout\\\\\\\"}]},{\\\\\\\"cell_type\\\\\\\":\\\\\\\"code\\\\\\\",\\\\\\\"metadata\\\\\\\":{\\\\\\\"id\\\\\\\":\\\\\\\"16FfblBBs9ak\\\\\\\",\\\\\\\"colab_type\\\\\\\":\\\\\\\"code\\\\\\\",\\\\\\\"colab\\\\\\\":{\\\\\\\"base_uri\\\\\\\":\\\\\\\"https://localhost:8080/\\\\\\\",\\\\\\\"height\\\\\\\":54},\\\\\\\"executionInfo\\\\\\\":{\\\\\\\"status\\\\\\\":\\\\\\\"ok\\\\\\\",\\\\\\\"timestamp\\\\\\\":1599045195755,\\\\\\\"user_tz\\\\\\\":-330,\\\\\\\"elapsed\\\\\\\":2524,\\\\\\\"user\\\\\\\":{\\\\\\\"displayName\\\\\\\":\\\\\\\"Prashant Singh\\\\\\\",\\\\\\\"photoUrl\\\\\\\":\\\\\\\"\\\\\\\",\\\\\\\"userId\\\\\\\":\\\\\\\"04712602781244046847\\\\\\\"}},\\\\\\\"outputId\\\\\\\":\\\\\\\"b4baedf9-5fbe-4265-8dc0-71ee7f433626\\\\\\\"},\\\\\\\"source\\\\\\\":[\\\\\\\"print(dir(__builtins__))\\\\\\\"],\\\\\\\"execution_count\\\\\\\":1,\\\\\\\"outputs\\\\\\\":[{\\\\\\\"output_type\\\\\\\":\\\\\\\"stream\\\\\\\",\\\\\\\"text\\\\\\\":[\\\\\\\"['ArithmeticError', 'AssertionError', 'AttributeError', 'BaseException', 'BlockingIOError', 'BrokenPipeError', 'BufferError', 'BytesWarning', 'ChildProcessError', 'ConnectionAbortedError', 'ConnectionError', 'ConnectionRefusedError', 'ConnectionResetError', 'DeprecationWarning', 'EOFError', 'Ellipsis', 'EnvironmentError', 'Exception', 'False', 'FileExistsError', 'FileNotFoundError', 'FloatingPointError', 'FutureWarning', 'GeneratorExit', 'IOError', 'ImportError', 'ImportWarning', 'IndentationError', 'IndexError', 'InterruptedError', 'IsADirectoryError', 'KeyError', 'KeyboardInterrupt', 'LookupError', 'MemoryError', 'ModuleNotFoundError', 'NameError', 'None', 'NotADirectoryError', 'NotImplemented', 'NotImplementedError', 'OSError', 'OverflowError', 'PendingDeprecationWarning', 'PermissionError', 'ProcessLookupError', 'RecursionError', 'ReferenceError', 'ResourceWarning', 'RuntimeError', 'RuntimeWarning', 'StopAsyncIteration', 'StopIteration', 'SyntaxError', 'SyntaxWarning', 'SystemError', 'SystemExit', 'TabError', 'TimeoutError', 'True', 'TypeError', 'UnboundLocalError', 'UnicodeDecodeError', 'UnicodeEncodeError', 'UnicodeError', 'UnicodeTranslateError', 'UnicodeWarning', 'UserWarning', 'ValueError', 'Warning', 'ZeroDivisionError', '__IPYTHON__', '__build_class__', '__debug__', '__doc__', '__import__', '__loader__', '__name__', '__package__', '__spec__', 'abs', 'all', 'any', 'ascii', 'bin', 'bool', 'bytearray', 'bytes', 'callable', 'chr', 'classmethod', 'compile', 'complex', 'copyright', 'credits', 'delattr', 'dict', 'dir', 'display', 'divmod', 'dreload', 'enumerate', 'eval', 'exec', 'filter', 'float', 'format', 'frozenset', 'get_ipython', 'getattr', 'globals', 'hasattr', 'hash', 'help', 'hex', 'id', 'input', 'int', 'isinstance', 'issubclass', 'iter', 'len', 'license', 'list', 'locals', 'map', 'max', 'memoryview', 'min', 'next', 'object', 'oct', 'open', 'ord', 'pow', 'print', 'property', 'range', 'repr', 'reversed', 'round', 'set', 'setattr', 'slice', 'sorted', 'staticmethod', 'str', 'sum', 'super', 'tuple', 'type', 'vars', 'zip']\\\\\\\\n\\\\\\\"],\\\\\\\"name\\\\\\\":\\\\\\\"stdout\\\\\\\"}]},{\\\\\\\"cell_type\\\\\\\":\\\\\\\"markdown\\\\\\\",\\\\\\\"metadata\\\\\\\":{\\\\\\\"id\\\\\\\":\\\\\\\"iMOXNlJxhQd8\\\\\\\",\\\\\\\"colab_type\\\\\\\":\\\\\\\"text\\\\\\\"},\\\\\\\"source\\\\\\\":[\\\\\\\"# FileHandling\\\\\\\"]},{\\\\\\\"cell_type\\\\\\\":\\\\\\\"code\\\\\\\",\\\\\\\"metadata\\\\\\\":{\\\\\\\"id\\\\\\\":\\\\\\\"lYyHvXK8hf6B\\\\\\\",\\\\\\\"colab_type\\\\\\\":\\\\\\\"code\\\\\\\",\\\\\\\"colab\\\\\\\":{},\\\\\\\"executionInfo\\\\\\\":{\\\\\\\"status\\\\\\\":\\\\\\\"ok\\\\\\\",\\\\\\\"timestamp\\\\\\\":1599045615006,\\\\\\\"user_tz\\\\\\\":-330,\\\\\\\"elapsed\\\\\\\":1523,\\\\\\\"user\\\\\\\":{\\\\\\\"displayName\\\\\\\":\\\\\\\"Prashant Singh\\\\\\\",\\\\\\\"photoUrl\\\\\\\":\\\\\\\"\\\\\\\",\\\\\\\"userId\\\\\\\":\\\\\\\"04712602781244046847\\\\\\\"}}},\\\\\\\"source\\\\\\\":[\\\\\\\"try:\\\\\\\\n\\\\\\\",\\\\\\\"  myfile = open(\\\\\\\\\\\\\\\"drive/My Drive/abc.txt\\\\\\\\\\\\\\\", \\\\\\\\\\\\\\\"w\\\\\\\\\\\\\\\")\\\\\\\\n\\\\\\\",\\\\\\\"  myfile.write(\\\\\\\\\\\\\\\"Hello hi Python.\\\\\\\\\\\\\\\")\\\\\\\\n\\\\\\\",\\\\\\\"  myfile.close()\\\\\\\\n\\\\\\\",\\\\\\\"except Exception as err:\\\\\\\\n\\\\\\\",\\\\\\\"  print(err)\\\\\\\"],\\\\\\\"execution_count\\\\\\\":8,\\\\\\\"outputs\\\\\\\":[]},{\\\\\\\"cell_type\\\\\\\":\\\\\\\"code\\\\\\\",\\\\\\\"metadata\\\\\\\":{\\\\\\\"id\\\\\\\":\\\\\\\"UvdOohXOi7KS\\\\\\\",\\\\\\\"colab_type\\\\\\\":\\\\\\\"code\\\\\\\",\\\\\\\"colab\\\\\\\":{\\\\\\\"base_uri\\\\\\\":\\\\\\\"https://localhost:8080/\\\\\\\",\\\\\\\"height\\\\\\\":34},\\\\\\\"executionInfo\\\\\\\":{\\\\\\\"status\\\\\\\":\\\\\\\"ok\\\\\\\",\\\\\\\"timestamp\\\\\\\":1599046055761,\\\\\\\"user_tz\\\\\\\":-330,\\\\\\\"elapsed\\\\\\\":1490,\\\\\\\"user\\\\\\\":{\\\\\\\"displayName\\\\\\\":\\\\\\\"Prashant Singh\\\\\\\",\\\\\\\"photoUrl\\\\\\\":\\\\\\\"\\\\\\\",\\\\\\\"userId\\\\\\\":\\\\\\\"04712602781244046847\\\\\\\"}},\\\\\\\"outputId\\\\\\\":\\\\\\\"ec821dad-0247-49c2-d0ee-6141cf1ef009\\\\\\\"},\\\\\\\"source\\\\\\\":[\\\\\\\"try:\\\\\\\\n\\\\\\\",\\\\\\\"  myfile = open(r\\\\\\\\\\\\\\\"drive/My Drive/abc.txt\\\\\\\\\\\\\\\", \\\\\\\\\\\\\\\"r\\\\\\\\\\\\\\\")\\\\\\\\n\\\\\\\",\\\\\\\"  print(myfile.read())\\\\\\\\n\\\\\\\",\\\\\\\"  myfile.close()\\\\\\\\n\\\\\\\",\\\\\\\"except Exception as err:\\\\\\\\n\\\\\\\",\\\\\\\"  print(err)\\\\\\\"],\\\\\\\"execution_count\\\\\\\":11,\\\\\\\"outputs\\\\\\\":[{\\\\\\\"output_type\\\\\\\":\\\\\\\"stream\\\\\\\",\\\\\\\"text\\\\\\\":[\\\\\\\"Hello hi Python.\\\\\\\\n\\\\\\\"],\\\\\\\"name\\\\\\\":\\\\\\\"stdout\\\\\\\"}]},{\\\\\\\"cell_type\\\\\\\":\\\\\\\"code\\\\\\\",\\\\\\\"metadata\\\\\\\":{\\\\\\\"id\\\\\\\":\\\\\\\"AEx9mG9xj5AT\\\\\\\",\\\\\\\"colab_type\\\\\\\":\\\\\\\"code\\\\\\\",\\\\\\\"colab\\\\\\\":{\\\\\\\"base_uri\\\\\\\":\\\\\\\"https://localhost:8080/\\\\\\\",\\\\\\\"height\\\\\\\":54},\\\\\\\"executionInfo\\\\\\\":{\\\\\\\"status\\\\\\\":\\\\\\\"ok\\\\\\\",\\\\\\\"timestamp\\\\\\\":1599046279553,\\\\\\\"user_tz\\\\\\\":-330,\\\\\\\"elapsed\\\\\\\":1341,\\\\\\\"user\\\\\\\":{\\\\\\\"displayName\\\\\\\":\\\\\\\"Prashant Singh\\\\\\\",\\\\\\\"photoUrl\\\\\\\":\\\\\\\"\\\\\\\",\\\\\\\"userId\\\\\\\":\\\\\\\"04712602781244046847\\\\\\\"}},\\\\\\\"outputId\\\\\\\":\\\\\\\"d5aeb983-42e0-4002-e53f-35f11a225b05\\\\\\\"},\\\\\\\"source\\\\\\\":[\\\\\\\"try:\\\\\\\\n\\\\\\\",\\\\\\\"  myfile = open(\\\\\\\\\\\\\\\"drive/My Drive/Data/houses.csv\\\\\\\\\\\\\\\", \\\\\\\\\\\\\\\"r\\\\\\\\\\\\\\\")\\\\\\\\n\\\\\\\",\\\\\\\"  print(myfile)\\\\\\\\n\\\\\\\",\\\\\\\"  myfile.close()\\\\\\\\n\\\\\\\",\\\\\\\"except Exception as err:\\\\\\\\n\\\\\\\",\\\\\\\"  print(\\\\\\\\\\\\\\\"error:\\\\\\\\\\\\\\\",err)\\\\\\\"],\\\\\\\"execution_count\\\\\\\":15,\\\\\\\"outputs\\\\\\\":[{\\\\\\\"output_type\\\\\\\":\\\\\\\"stream\\\\\\\",\\\\\\\"text\\\\\\\":[\\\\\\\"<_io.TextIOWrapper name='drive/My Drive/Data/houses.csv' mode='r' encoding='UTF-8'>\\\\\\\\n\\\\\\\"],\\\\\\\"name\\\\\\\":\\\\\\\"stdout\\\\\\\"}]},{\\\\\\\"cell_type\\\\\\\":\\\\\\\"code\\\\\\\",\\\\\\\"metadata\\\\\\\":{\\\\\\\"id\\\\\\\":\\\\\\\"WC3OPG3jm7gz\\\\\\\",\\\\\\\"colab_type\\\\\\\":\\\\\\\"code\\\\\\\",\\\\\\\"colab\\\\\\\":{},\\\\\\\"executionInfo\\\\\\\":{\\\\\\\"status\\\\\\\":\\\\\\\"ok\\\\\\\",\\\\\\\"timestamp\\\\\\\":1599046676711,\\\\\\\"user_tz\\\\\\\":-330,\\\\\\\"elapsed\\\\\\\":1761,\\\\\\\"user\\\\\\\":{\\\\\\\"displayName\\\\\\\":\\\\\\\"Prashant Singh\\\\\\\",\\\\\\\"photoUrl\\\\\\\":\\\\\\\"\\\\\\\",\\\\\\\"userId\\\\\\\":\\\\\\\"04712602781244046847\\\\\\\"}}},\\\\\\\"source\\\\\\\":[\\\\\\\"#### appending a file\\\\\\\"],\\\\\\\"execution_count\\\\\\\":17,\\\\\\\"outputs\\\\\\\":[]},{\\\\\\\"cell_type\\\\\\\":\\\\\\\"code\\\\\\\",\\\\\\\"metadata\\\\\\\":{\\\\\\\"id\\\\\\\":\\\\\\\"T29OeGodlL9L\\\\\\\",\\\\\\\"colab_type\\\\\\\":\\\\\\\"code\\\\\\\",\\\\\\\"colab\\\\\\\":{},\\\\\\\"executionInfo\\\\\\\":{\\\\\\\"status\\\\\\\":\\\\\\\"ok\\\\\\\",\\\\\\\"timestamp\\\\\\\":1599046676713,\\\\\\\"user_tz\\\\\\\":-330,\\\\\\\"elapsed\\\\\\\":1649,\\\\\\\"user\\\\\\\":{\\\\\\\"displayName\\\\\\\":\\\\\\\"Prashant Singh\\\\\\\",\\\\\\\"photoUrl\\\\\\\":\\\\\\\"\\\\\\\",\\\\\\\"userId\\\\\\\":\\\\\\\"04712602781244046847\\\\\\\"}}},\\\\\\\"source\\\\\\\":[\\\\\\\"try:\\\\\\\\n\\\\\\\",\\\\\\\"  myfile = open(r\\\\\\\\\\\\\\\"drive/My Drive/abc.txt\\\\\\\\\\\\\\\", \\\\\\\\\\\\\\\"a\\\\\\\\\\\\\\\")\\\\\\\\n\\\\\\\",\\\\\\\"  myfile.write(\\\\\\\\\\\\\\\"This is the second line\\\\\\\\\\\\\\\")\\\\\\\\n\\\\\\\",\\\\\\\"  myfile.close()\\\\\\\\n\\\\\\\",\\\\\\\"except Exception as err:\\\\\\\\n\\\\\\\",\\\\\\\"  print(err)\\\\\\\"],\\\\\\\"execution_count\\\\\\\":18,\\\\\\\"outputs\\\\\\\":[]},{\\\\\\\"cell_type\\\\\\\":\\\\\\\"code\\\\\\\",\\\\\\\"metadata\\\\\\\":{\\\\\\\"id\\\\\\\":\\\\\\\"KfuupU0Vm5Q4\\\\\\\",\\\\\\\"colab_type\\\\\\\":\\\\\\\"code\\\\\\\",\\\\\\\"colab\\\\\\\":{}},\\\\\\\"source\\\\\\\":[\\\\\\\"\\\\\\\"],\\\\\\\"execution_count\\\\\\\":null,\\\\\\\"outputs\\\\\\\":[]},{\\\\\\\"cell_type\\\\\\\":\\\\\\\"code\\\\\\\",\\\\\\\"metadata\\\\\\\":{\\\\\\\"id\\\\\\\":\\\\\\\"8puUXf5wmaMz\\\\\\\",\\\\\\\"colab_type\\\\\\\":\\\\\\\"code\\\\\\\",\\\\\\\"colab\\\\\\\":{\\\\\\\"base_uri\\\\\\\":\\\\\\\"https://localhost:8080/\\\\\\\",\\\\\\\"height\\\\\\\":102},\\\\\\\"executionInfo\\\\\\\":{\\\\\\\"status\\\\\\\":\\\\\\\"ok\\\\\\\",\\\\\\\"timestamp\\\\\\\":1599047730813,\\\\\\\"user_tz\\\\\\\":-330,\\\\\\\"elapsed\\\\\\\":1355,\\\\\\\"user\\\\\\\":{\\\\\\\"displayName\\\\\\\":\\\\\\\"Prashant Singh\\\\\\\",\\\\\\\"photoUrl\\\\\\\":\\\\\\\"\\\\\\\",\\\\\\\"userId\\\\\\\":\\\\\\\"04712602781244046847\\\\\\\"}},\\\\\\\"outputId\\\\\\\":\\\\\\\"bff34727-5f82-454c-d0af-267109ce26ef\\\\\\\"},\\\\\\\"source\\\\\\\":[\\\\\\\"try:\\\\\\\\n\\\\\\\",\\\\\\\"  myfile = open(r\\\\\\\\\\\\\\\"drive/My Drive/abc.txt\\\\\\\\\\\\\\\")\\\\\\\\n\\\\\\\",\\\\\\\"  # print(myfile.read())\\\\\\\\n\\\\\\\",\\\\\\\"  # print(myfile.read(18))  # it takes only 18 characters\\\\\\\\n\\\\\\\",\\\\\\\"  # print(myfile.readline())  #it print only first line\\\\\\\\n\\\\\\\",\\\\\\\"  # print(myfile.readlines())\\\\\\\\n\\\\\\\",\\\\\\\"  for line in myfile.readlines(): # This is the efficient way\\\\\\\\n\\\\\\\",\\\\\\\"    print(line, end=\\\\\\\\\\\\\\\"\\\\\\\\\\\\\\\")\\\\\\\\n\\\\\\\",\\\\\\\"  myfile.close()\\\\\\\\n\\\\\\\",\\\\\\\"except Exception as err:\\\\\\\\n\\\\\\\",\\\\\\\"  print(err)\\\\\\\"],\\\\\\\"execution_count\\\\\\\":27,\\\\\\\"outputs\\\\\\\":[{\\\\\\\"output_type\\\\\\\":\\\\\\\"stream\\\\\\\",\\\\\\\"text\\\\\\\":[\\\\\\\"Hello hi Python.This is the second lineThis is the second line\\\\\\\\n\\\\\\\",\\\\\\\"\\\\\\\\n\\\\\\\",\\\\\\\"Hello\\\\\\\\n\\\\\\\",\\\\\\\"How are you\\\\\\\\n\\\\\\\",\\\\\\\"omg\\\\\\\\n\\\\\\\"],\\\\\\\"name\\\\\\\":\\\\\\\"stdout\\\\\\\"}]},{\\\\\\\"cell_type\\\\\\\":\\\\\\\"code\\\\\\\",\\\\\\\"metadata\\\\\\\":{\\\\\\\"id\\\\\\\":\\\\\\\"EJhax3bgp9Nd\\\\\\\",\\\\\\\"colab_type\\\\\\\":\\\\\\\"code\\\\\\\",\\\\\\\"colab\\\\\\\":{}},\\\\\\\"source\\\\\\\":[\\\\\\\"#### wap to read your own code\\\\\\\\n\\\\\\\",\\\\\\\"try:\\\\\\\\n\\\\\\\",\\\\\\\"  myfile = open('/content/drive/My Drive/Colab Notebooks/DSML_colabs/Day 1/12th_DSML.ipynb')\\\\\\\\n\\\\\\\",\\\\\\\"  for line in myfile.readlines():\\\\\\\\n\\\\\\\",\\\\\\\"    print(line, end=\\\\\\\\\\\\\\\"\\\\\\\\\\\\\\\")\\\\\\\\n\\\\\\\",\\\\\\\"  \\\\\\\"],\\\\\\\"execution_count\\\\\\\":null,\\\\\\\"outputs\\\\\\\":[]}]}\\\"],\\\"name\\\":\\\"stdout\\\"}]}]}\"],\"name\":\"stdout\"}]},{\"cell_type\":\"code\",\"metadata\":{\"id\":\"rnqqacUqsfh9\",\"colab_type\":\"code\",\"colab\":{\"base_uri\":\"https://localhost:8080/\",\"height\":51},\"executionInfo\":{\"status\":\"ok\",\"timestamp\":1599048337502,\"user_tz\":-330,\"elapsed\":1372,\"user\":{\"displayName\":\"Prashant Singh\",\"photoUrl\":\"\",\"userId\":\"04712602781244046847\"}},\"outputId\":\"01c3accc-8530-4abc-c306-aaa528a06bf8\"},\"source\":[\"try:\\n\",\"  myfile = open(r\\\"drive/My Drive/abc.txt\\\")\\n\",\"  # print(myfile.read())\\n\",\"  # print(myfile.read(18))  # it takes only 18 characters\\n\",\"  # print(myfile.readline())  #it print only first line\\n\",\"  # print(myfile.readlines())\\n\",\"  # This is the efficient way\\n\",\"  for line in myfile.readlines():  \\n\",\"    if line.startswith('#'):\\n\",\"      continue\\n\",\"    else:\\n\",\"      print(line, end=\\\"\\\")\\n\",\"  myfile.close()\\n\",\"except Exception as err:\\n\",\"  print(err)\"],\"execution_count\":34,\"outputs\":[{\"output_type\":\"stream\",\"text\":[\"Hello hi Python.This is the second lineThis is the second line\\n\",\"omg\\n\"],\"name\":\"stdout\"}]},{\"cell_type\":\"code\",\"metadata\":{\"id\":\"WFK1l2jEtHyJ\",\"colab_type\":\"code\",\"colab\":{}},\"source\":[\"\"],\"execution_count\":null,\"outputs\":[]}]}\n"
     ]
    }
   ],
   "source": [
    "#### wap to read your own code\n",
    "try:\n",
    "  myfile = open('/content/drive/My Drive/Colab Notebooks/DSML_colabs/Day 1/12th_DSML.ipynb')\n",
    "  for line in myfile.readlines():\n",
    "    print(line)\n",
    "  myfile.close()\n",
    "except Exception as err:\n",
    "  print(err)"
   ]
  },
  {
   "cell_type": "code",
   "execution_count": null,
   "metadata": {
    "colab": {},
    "colab_type": "code",
    "id": "rnqqacUqsfh9"
   },
   "outputs": [],
   "source": [
    "try:\n",
    "  myfile = open(r\"drive/My Drive/abc.txt\")\n",
    "  another_file = open(\"drive/My Drive/production_code.txt\", 'w')\n",
    "  another_file.write(\"hello\")\n",
    "  for line in myfile.readlines():  \n",
    "    if line.strip().startswith('#'):\n",
    "      continue\n",
    "    else:\n",
    "      another_file.writelines(line)\n",
    "  myfile.close()\n",
    "  another_file.close()\n",
    "except Exception as err:\n",
    "  print(err)"
   ]
  },
  {
   "cell_type": "code",
   "execution_count": null,
   "metadata": {
    "colab": {
     "base_uri": "https://localhost:8080/",
     "height": 214
    },
    "colab_type": "code",
    "id": "WFK1l2jEtHyJ",
    "outputId": "ac3e23d0-e6d3-47f3-984c-b0f7704e1212"
   },
   "outputs": [
    {
     "ename": "FileNotFoundError",
     "evalue": "ignored",
     "output_type": "error",
     "traceback": [
      "\u001b[0;31m---------------------------------------------------------------------------\u001b[0m",
      "\u001b[0;31mFileNotFoundError\u001b[0m                         Traceback (most recent call last)",
      "\u001b[0;32m<ipython-input-1-c727d0c8e3a2>\u001b[0m in \u001b[0;36m<module>\u001b[0;34m()\u001b[0m\n\u001b[0;32m----> 1\u001b[0;31m \u001b[0;32mwith\u001b[0m \u001b[0mopen\u001b[0m\u001b[0;34m(\u001b[0m\u001b[0;34m'drive/My Drive/abc.txt'\u001b[0m\u001b[0;34m,\u001b[0m\u001b[0;34m'a'\u001b[0m\u001b[0;34m)\u001b[0m \u001b[0;32mas\u001b[0m \u001b[0mfile1\u001b[0m\u001b[0;34m:\u001b[0m\u001b[0;34m\u001b[0m\u001b[0;34m\u001b[0m\u001b[0m\n\u001b[0m\u001b[1;32m      2\u001b[0m   \u001b[0mfile1\u001b[0m\u001b[0;34m.\u001b[0m\u001b[0mwrite\u001b[0m\u001b[0;34m(\u001b[0m\u001b[0;34m\"hello this is not working\"\u001b[0m\u001b[0;34m)\u001b[0m\u001b[0;34m\u001b[0m\u001b[0;34m\u001b[0m\u001b[0m\n\u001b[1;32m      3\u001b[0m \u001b[0;34m\u001b[0m\u001b[0m\n\u001b[1;32m      4\u001b[0m \u001b[0mprint\u001b[0m\u001b[0;34m(\u001b[0m\u001b[0mfile1\u001b[0m\u001b[0;34m.\u001b[0m\u001b[0mclosed\u001b[0m\u001b[0;34m)\u001b[0m\u001b[0;34m\u001b[0m\u001b[0;34m\u001b[0m\u001b[0m\n",
      "\u001b[0;31mFileNotFoundError\u001b[0m: [Errno 2] No such file or directory: 'drive/My Drive/abc.txt'"
     ]
    }
   ],
   "source": [
    "with open('drive/My Drive/abc.txt','a') as file1:\n",
    "  file1.write(\"hello this is not working\")\n",
    "\n",
    "print(file1.closed)"
   ]
  },
  {
   "cell_type": "code",
   "execution_count": null,
   "metadata": {
    "colab": {
     "base_uri": "https://localhost:8080/",
     "height": 51
    },
    "colab_type": "code",
    "id": "7EG0kxTUYPTQ",
    "outputId": "42eac8c8-968b-4d69-97f5-b68349903b7b"
   },
   "outputs": [
    {
     "name": "stdout",
     "output_type": "stream",
     "text": [
      "Country is :->  India\n"
     ]
    },
    {
     "data": {
      "text/plain": [
       "<bound method district.dis of <__main__.district object at 0x7f0c3f046fd0>>"
      ]
     },
     "execution_count": 2,
     "metadata": {
      "tags": []
     },
     "output_type": "execute_result"
    }
   ],
   "source": [
    "class country:\n",
    "    def __init__(self,name):\n",
    "        self.name = name\n",
    "    def display(self):\n",
    "        print(\"Country is :-> \",self.name)\n",
    "    \n",
    "class state(country):\n",
    "    def __init__(self,name,state_name):\n",
    "        country.__init__(self,name)\n",
    "    def disp(self):\n",
    "        print(\"state is   :->\",self.state_name)\n",
    "       \n",
    "class district(state):\n",
    "    def __init__(self,name,state_name,dis_name):\n",
    "        state.__init__(self,name,state_name)\n",
    "    def dis(self):\n",
    "        print(\"District name is :-> \",self.dis_name)\n",
    "    \n",
    "\n",
    "ob=district(\"India\",\"Himachal\",\"Shimla\")\n",
    "ob.display()\n",
    "ob.disp\n",
    "ob.dis"
   ]
  },
  {
   "cell_type": "code",
   "execution_count": null,
   "metadata": {
    "colab": {
     "base_uri": "https://localhost:8080/",
     "height": 68
    },
    "colab_type": "code",
    "id": "T4PQEr4XYR1p",
    "outputId": "237c044f-9da2-475c-87b2-db4e88a13eba"
   },
   "outputs": [
    {
     "name": "stdout",
     "output_type": "stream",
     "text": [
      "lambergine 5000000\n",
      "desiel red\n",
      "300km\\h power_steering\n"
     ]
    }
   ],
   "source": [
    "class car:\n",
    "    def __init__(self, company, price):\n",
    "        self.company = company\n",
    "        self.price = price\n",
    "        \n",
    "    def display(self):\n",
    "        print(self.company,self.price)\n",
    "        \n",
    "class super_car(car):\n",
    "    def __init__(self, company, price,petrol_type, color):\n",
    "        car.__init__(self, company, price)\n",
    "        self.petrol_type = petrol_type\n",
    "        self.color = color\n",
    "        \n",
    "    def display(self):\n",
    "        print(self.petrol_type,self.color)\n",
    "        \n",
    "class racing_car(super_car):\n",
    "    def __init__(self, company, price, petrol_type, color, speed, steering):\n",
    "        super_car.__init__(self, company, price, petrol_type, color)\n",
    "        self.speed = speed\n",
    "        self.steering = steering\n",
    "        \n",
    "    def display(self):\n",
    "        car.display(self)\n",
    "        super_car.display(self) \n",
    "        print(self.speed,self.steering)\n",
    "        \n",
    "r1 = racing_car(\"lambergine\", 5000000, \"desiel\", 'red', \"300km\\h\", 'power_steering')\n",
    "r1.display()\n"
   ]
  },
  {
   "cell_type": "code",
   "execution_count": null,
   "metadata": {
    "colab": {},
    "colab_type": "code",
    "id": "AdvkPOCgY_CN"
   },
   "outputs": [],
   "source": [
    "class car:\n",
    "    def __init__(self, company, price):\n",
    "        self.company = company\n",
    "        self.price = price\n",
    "        \n",
    "    def display(self):\n",
    "        print(self.company,self.price)\n",
    "        \n",
    "class super_car(car):\n",
    "    def __init__(self, company, price,petrol_type, color):\n",
    "        car.__init__(self, company, price)\n",
    "        self.petrol_type = petrol_type\n",
    "        self.color = color\n",
    "        \n",
    "    def display(self):\n",
    "        print(self.petrol_type,self.color)\n",
    "        \n",
    "class racing_car(super_car):\n",
    "    def __init__(self, company, price, petrol_type, color, speed, steering):\n",
    "        super_car.__init__(self, company, price, petrol_type, color)\n",
    "        # super(self)\n",
    "        self.speed = speed\n",
    "        self.steering = steering\n",
    "        \n",
    "    def display(self):\n",
    "        car.display(self)\n",
    "        super_car.display(self) \n",
    "        print(self.speed,self.steering)\n",
    "        \n",
    "r1 = racing_car(\"lambergine\", 5000000, \"desiel\", 'red', \"300km\\h\", 'power_steering')\n",
    "r1.display()\n"
   ]
  },
  {
   "cell_type": "code",
   "execution_count": null,
   "metadata": {
    "colab": {
     "base_uri": "https://localhost:8080/",
     "height": 34
    },
    "colab_type": "code",
    "id": "4gpZYZ27Zo49",
    "outputId": "360f2588-987f-4ecd-c1fa-c33ab18e243f"
   },
   "outputs": [
    {
     "name": "stdout",
     "output_type": "stream",
     "text": [
      "Name:Prashant Age:20 Address:Shimla\n"
     ]
    }
   ],
   "source": [
    "class Person:\n",
    "  def __init__(self, name, age, address):\n",
    "    self.name = name\n",
    "    self.age = age\n",
    "    self.address = address\n",
    "  def __str__(self):\n",
    "    return \"Name:{} Age:{} Address:{}\".format(self.name, self.age, self.address)\n",
    "  \n",
    "p1 = Person('Prashant', 20, 'Shimla')\n",
    "print(p1)"
   ]
  },
  {
   "cell_type": "code",
   "execution_count": null,
   "metadata": {
    "colab": {
     "base_uri": "https://localhost:8080/",
     "height": 68
    },
    "colab_type": "code",
    "id": "hfku68h_af7E",
    "outputId": "d0d01105-bc59-4b8e-dd9b-fbcc2c125215"
   },
   "outputs": [
    {
     "name": "stdout",
     "output_type": "stream",
     "text": [
      "True\n",
      "True\n",
      "False\n"
     ]
    }
   ],
   "source": [
    "# issubclass Return whether 'cls' is a derived from another class or is the same class.\n",
    "print(issubclass(Person, object))\n",
    "print(issubclass(Person, Person))\n",
    "print(issubclass(car, Person))"
   ]
  },
  {
   "cell_type": "code",
   "execution_count": null,
   "metadata": {
    "colab": {
     "base_uri": "https://localhost:8080/",
     "height": 34
    },
    "colab_type": "code",
    "id": "p2DLmc__bM-Y",
    "outputId": "ca8d0937-1348-44e4-90e1-692bb78252e5"
   },
   "outputs": [
    {
     "name": "stdout",
     "output_type": "stream",
     "text": [
      "Total Price: 85140\n"
     ]
    }
   ],
   "source": [
    "class Product:\n",
    "  def __init__(self, name, price):\n",
    "    self.name = name\n",
    "    self.price = price\n",
    "  \n",
    "  def __str__(self):\n",
    "    return \"{} Price: {}\".format(self.name, self.price)\n",
    "\n",
    "  def __add__(self, other):\n",
    "    p = self.price + other.price\n",
    "    return Product('Total', p)\n",
    "  \n",
    "p1 = Product(\"Mobile\", 15000)\n",
    "p2 = Product(\"Laptop\", 70000)\n",
    "p3 = Product(\"Pen\", 70)\n",
    "p4 = Product(\"Pen\", 70)\n",
    "total_price = p1 + p2 + p3 + p4\n",
    "print(total_price)"
   ]
  },
  {
   "cell_type": "code",
   "execution_count": null,
   "metadata": {
    "colab": {
     "base_uri": "https://localhost:8080/",
     "height": 34
    },
    "colab_type": "code",
    "id": "Zzd3OWaegLfb",
    "outputId": "40c0cb18-1eb2-49b6-9822-c5f7d00d6da4"
   },
   "outputs": [
    {
     "name": "stdout",
     "output_type": "stream",
     "text": [
      "Distance 36 km 100 meter\n"
     ]
    }
   ],
   "source": [
    "class Distance:\n",
    "  def __init__(self, km, meter):\n",
    "    self.km = km\n",
    "    self.meter = meter\n",
    "\n",
    "  def __add__(self, other):\n",
    "    d_km = self.km + other.km\n",
    "    d_m = self.meter + other.meter\n",
    "    if(d_m>999):\n",
    "      d_km += 1\n",
    "      d_m -= 1000\n",
    "    return Distance(d_km, d_m)  # Here we return object\n",
    "  \n",
    "  def __str__(self):\n",
    "    return \"Distance {} km {} meter\".format(self.km, self.meter)\n",
    "\n",
    "  def __gt__(self, other):\n",
    "    pass\n",
    "  \n",
    "d1 = Distance(12, 200)\n",
    "d2 = Distance(23, 900)\n",
    "\n",
    "total = d1 + d2\n",
    "print(total)\n"
   ]
  },
  {
   "cell_type": "code",
   "execution_count": null,
   "metadata": {
    "colab": {
     "base_uri": "https://localhost:8080/",
     "height": 34
    },
    "colab_type": "code",
    "id": "HJS_3yCMleIE",
    "outputId": "99a3b342-679d-49c3-98e7-c5989255bd96"
   },
   "outputs": [
    {
     "name": "stdout",
     "output_type": "stream",
     "text": [
      "(23, 900)\n"
     ]
    }
   ],
   "source": [
    "class Distance:\n",
    "    def __init__(self, km, meter):\n",
    "        self.km = km\n",
    "        self.meter = meter\n",
    "\n",
    "    def __gt__(self, other):\n",
    "        if self.km + self.meter/1000 > other.km + other.meter/1000:\n",
    "            return self.km, self.meter\n",
    "        else:\n",
    "            return other.km, other.meter\n",
    "\n",
    "    def __str__(self):\n",
    "        return \"Greater distance among objects is  {} km {} meter\".format(self.km, self.meter)\n",
    "\n",
    "\n",
    "d1 = Distance(12, 200)\n",
    "d2 = Distance(23, 900)\n",
    "greater = d1 > d2\n",
    "print(greater)"
   ]
  },
  {
   "cell_type": "code",
   "execution_count": null,
   "metadata": {
    "colab": {},
    "colab_type": "code",
    "id": "WxtgCSj2vD_9"
   },
   "outputs": [],
   "source": [
    "class Distance:\n",
    "    def __init__(self, km, meter):\n",
    "        self.km = km\n",
    "        self.meter = meter\n",
    "\n",
    "    def __gt__(self, other):\n",
    "        if self.km + self.meter/1000 > other.km + other.meter/1000:"
   ]
  }
 ],
 "metadata": {
  "colab": {
   "collapsed_sections": [],
   "name": "12th_DSML.ipynb",
   "provenance": []
  },
  "kernelspec": {
   "display_name": "Python 3",
   "language": "python",
   "name": "python3"
  },
  "language_info": {
   "codemirror_mode": {
    "name": "ipython",
    "version": 3
   },
   "file_extension": ".py",
   "mimetype": "text/x-python",
   "name": "python",
   "nbconvert_exporter": "python",
   "pygments_lexer": "ipython3",
   "version": "3.8.3"
  }
 },
 "nbformat": 4,
 "nbformat_minor": 1
}
