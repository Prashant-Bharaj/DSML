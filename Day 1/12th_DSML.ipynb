{
  "nbformat": 4,
  "nbformat_minor": 0,
  "metadata": {
    "colab": {
      "name": "12th_DSML.ipynb",
      "provenance": [],
      "collapsed_sections": []
    },
    "kernelspec": {
      "name": "python3",
      "display_name": "Python 3"
    }
  },
  "cells": [
    {
      "cell_type": "code",
      "metadata": {
        "id": "-8nR4QuL6NOB",
        "colab_type": "code",
        "colab": {
          "base_uri": "https://localhost:8080/",
          "height": 55
        },
        "outputId": "bce8a750-e0b7-4c2a-f2e1-90b14b6d3b6f"
      },
      "source": [
        "a=4\n",
        "b=9.0\n",
        "print(a+b)"
      ],
      "execution_count": null,
      "outputs": [
        {
          "output_type": "stream",
          "text": [
            "13.0\n"
          ],
          "name": "stdout"
        }
      ]
    },
    {
      "cell_type": "code",
      "metadata": {
        "id": "tTaqZl_U7kRj",
        "colab_type": "code",
        "colab": {
          "base_uri": "https://localhost:8080/",
          "height": 55
        },
        "outputId": "e3787952-6910-4678-abd9-01c90f5a9fb8"
      },
      "source": [
        "c = 'bipul'\n",
        "print(c)"
      ],
      "execution_count": null,
      "outputs": [
        {
          "output_type": "stream",
          "text": [
            "bipul\n"
          ],
          "name": "stdout"
        }
      ]
    },
    {
      "cell_type": "code",
      "metadata": {
        "id": "IzNqGeAu6rpF",
        "colab_type": "code",
        "colab": {}
      },
      "source": [
        "#List\n",
        "#Tuple\n",
        "#Dictionary\n",
        "#For loop\n",
        "#if else\n",
        "#function"
      ],
      "execution_count": null,
      "outputs": []
    },
    {
      "cell_type": "code",
      "metadata": {
        "id": "pZG25yz27Bdh",
        "colab_type": "code",
        "colab": {
          "base_uri": "https://localhost:8080/",
          "height": 55
        },
        "outputId": "ccee7f9b-1c24-4588-8090-fc0b89b3c57f"
      },
      "source": [
        "l = [11,21,31,41,51]\n",
        "print(l[1])"
      ],
      "execution_count": null,
      "outputs": [
        {
          "output_type": "stream",
          "text": [
            "21\n"
          ],
          "name": "stdout"
        }
      ]
    },
    {
      "cell_type": "code",
      "metadata": {
        "id": "iXqBsmgB7Nn7",
        "colab_type": "code",
        "colab": {
          "base_uri": "https://localhost:8080/",
          "height": 55
        },
        "outputId": "5e212a12-51cb-4454-8b2b-cb498482a93e"
      },
      "source": [
        "t = (11,21,31,41,51)\n",
        "print(t[3])"
      ],
      "execution_count": null,
      "outputs": [
        {
          "output_type": "stream",
          "text": [
            "41\n"
          ],
          "name": "stdout"
        }
      ]
    },
    {
      "cell_type": "code",
      "metadata": {
        "id": "rE0vCmtd71h3",
        "colab_type": "code",
        "colab": {
          "base_uri": "https://localhost:8080/",
          "height": 72
        },
        "outputId": "6cf838f6-148f-46f9-bab7-e712b501a105"
      },
      "source": [
        "print(l)\n",
        "l[0] = 889\n",
        "print(l)"
      ],
      "execution_count": null,
      "outputs": [
        {
          "output_type": "stream",
          "text": [
            "[11, 21, 31, 41, 51]\n",
            "[889, 21, 31, 41, 51]\n"
          ],
          "name": "stdout"
        }
      ]
    },
    {
      "cell_type": "markdown",
      "metadata": {
        "id": "OFRQ4MTl8UII",
        "colab_type": "text"
      },
      "source": [
        "append , remove , insert , sort , revrse"
      ]
    },
    {
      "cell_type": "code",
      "metadata": {
        "id": "DYvoY_CZ78yP",
        "colab_type": "code",
        "colab": {
          "base_uri": "https://localhost:8080/",
          "height": 72
        },
        "outputId": "b7dc0b6e-46fb-4388-ac1d-0d3785c244c8"
      },
      "source": [
        "print(l)\n",
        "l.append(456)\n",
        "print(l)"
      ],
      "execution_count": null,
      "outputs": [
        {
          "output_type": "stream",
          "text": [
            "[889, 21, 31, 41, 51]\n",
            "[889, 21, 31, 41, 51, 456]\n"
          ],
          "name": "stdout"
        }
      ]
    },
    {
      "cell_type": "code",
      "metadata": {
        "id": "420cbWPn8Ns_",
        "colab_type": "code",
        "colab": {
          "base_uri": "https://localhost:8080/",
          "height": 72
        },
        "outputId": "1758b09b-ea57-414d-84f0-701e76e36be5"
      },
      "source": [
        "print(l)\n",
        "l.sort()\n",
        "print(l)"
      ],
      "execution_count": null,
      "outputs": [
        {
          "output_type": "stream",
          "text": [
            "[889, 21, 31, 41, 51, 456]\n",
            "[21, 31, 41, 51, 456, 889]\n"
          ],
          "name": "stdout"
        }
      ]
    },
    {
      "cell_type": "code",
      "metadata": {
        "id": "wRa0pXDW8bNH",
        "colab_type": "code",
        "colab": {
          "base_uri": "https://localhost:8080/",
          "height": 72
        },
        "outputId": "cdbeb635-bf59-445e-8b5e-a0cecd7dd494"
      },
      "source": [
        "print(l)\n",
        "l.reverse()\n",
        "print(l)"
      ],
      "execution_count": null,
      "outputs": [
        {
          "output_type": "stream",
          "text": [
            "[21, 31, 41, 51, 456, 889]\n",
            "[889, 456, 51, 41, 31, 21]\n"
          ],
          "name": "stdout"
        }
      ]
    },
    {
      "cell_type": "code",
      "metadata": {
        "id": "olMLWrey8nBY",
        "colab_type": "code",
        "colab": {
          "base_uri": "https://localhost:8080/",
          "height": 72
        },
        "outputId": "497d80f8-ae5b-47bd-9df4-e190b3e97ad5"
      },
      "source": [
        "print(l)\n",
        "l.remove(51)\n",
        "print(l)"
      ],
      "execution_count": null,
      "outputs": [
        {
          "output_type": "stream",
          "text": [
            "[889, 456, 51, 41, 31, 21]\n",
            "[889, 456, 41, 31, 21]\n"
          ],
          "name": "stdout"
        }
      ]
    },
    {
      "cell_type": "code",
      "metadata": {
        "id": "MM-_YxOC8vyT",
        "colab_type": "code",
        "colab": {
          "base_uri": "https://localhost:8080/",
          "height": 72
        },
        "outputId": "420059f0-6599-4e77-ab06-a29ef8147d56"
      },
      "source": [
        "print(l)\n",
        "l.insert(2,467)\n",
        "print(l)"
      ],
      "execution_count": null,
      "outputs": [
        {
          "output_type": "stream",
          "text": [
            "[889, 456, 41, 31, 21]\n",
            "[889, 456, 467, 41, 31, 21]\n"
          ],
          "name": "stdout"
        }
      ]
    },
    {
      "cell_type": "code",
      "metadata": {
        "id": "fyaLTBVu84Tz",
        "colab_type": "code",
        "colab": {
          "base_uri": "https://localhost:8080/",
          "height": 55
        },
        "outputId": "25754593-8488-4a17-dcb9-231305398f8d"
      },
      "source": [
        "list(t)"
      ],
      "execution_count": null,
      "outputs": [
        {
          "output_type": "execute_result",
          "data": {
            "text/plain": [
              "[11, 21, 31, 41, 51]"
            ]
          },
          "metadata": {
            "tags": []
          },
          "execution_count": 19
        }
      ]
    },
    {
      "cell_type": "code",
      "metadata": {
        "id": "rv19lbZV93B2",
        "colab_type": "code",
        "colab": {
          "base_uri": "https://localhost:8080/",
          "height": 72
        },
        "outputId": "5a8b9f49-0ba7-47b1-ae6e-7ee5f30c48fb"
      },
      "source": [
        "d = {'name':'Bipul' , 'email':'bipul@diginique.com'}\n",
        "print(d['name'])\n",
        "print(d['email'])"
      ],
      "execution_count": null,
      "outputs": [
        {
          "output_type": "stream",
          "text": [
            "Bipul\n",
            "bipul@diginique.com\n"
          ],
          "name": "stdout"
        }
      ]
    },
    {
      "cell_type": "code",
      "metadata": {
        "id": "-wFgkjts-Grl",
        "colab_type": "code",
        "colab": {
          "base_uri": "https://localhost:8080/",
          "height": 124
        },
        "outputId": "c8512a14-38d1-4748-d134-33448f38b0ff"
      },
      "source": [
        "# == , != , >, < , >= , <=\n",
        "age = int(input('Enter your age'))\n",
        "if(age >= 18):\n",
        "  print('You can vote')\n",
        "  print('Hello')\n",
        "  print('Google')\n",
        "  if (age < 35):\n",
        "    print('Please go left')\n",
        "  else:\n",
        "    print('please go right')\n",
        "else:\n",
        "  print('You can not vote')"
      ],
      "execution_count": null,
      "outputs": [
        {
          "output_type": "stream",
          "text": [
            "Enter your age39\n",
            "You can vote\n",
            "Hello\n",
            "Google\n",
            "please go right\n"
          ],
          "name": "stdout"
        }
      ]
    },
    {
      "cell_type": "code",
      "metadata": {
        "id": "SKUDDJRW-XFu",
        "colab_type": "code",
        "colab": {
          "base_uri": "https://localhost:8080/",
          "height": 211
        },
        "outputId": "51796186-ecb8-483a-9e8b-db2181e4c4ce"
      },
      "source": [
        "#looping\n",
        "#while, for loop\n",
        "i = 0\n",
        "while(True):\n",
        "  i += 1\n",
        "  print('Bipul',i)\n",
        "  if i >= 10:\n",
        "    break"
      ],
      "execution_count": null,
      "outputs": [
        {
          "output_type": "stream",
          "text": [
            "Bipul 1\n",
            "Bipul 2\n",
            "Bipul 3\n",
            "Bipul 4\n",
            "Bipul 5\n",
            "Bipul 6\n",
            "Bipul 7\n",
            "Bipul 8\n",
            "Bipul 9\n",
            "Bipul 10\n"
          ],
          "name": "stdout"
        }
      ]
    },
    {
      "cell_type": "code",
      "metadata": {
        "id": "WBCl5bWOABh9",
        "colab_type": "code",
        "colab": {
          "base_uri": "https://localhost:8080/",
          "height": 228
        },
        "outputId": "f6013bfa-1a9e-483d-9324-41f778d16df6"
      },
      "source": [
        "i = 0\n",
        "while(i <= 10):\n",
        "  print('Bipul',i)\n",
        "  i += 1"
      ],
      "execution_count": null,
      "outputs": [
        {
          "output_type": "stream",
          "text": [
            "Bipul 0\n",
            "Bipul 1\n",
            "Bipul 2\n",
            "Bipul 3\n",
            "Bipul 4\n",
            "Bipul 5\n",
            "Bipul 6\n",
            "Bipul 7\n",
            "Bipul 8\n",
            "Bipul 9\n",
            "Bipul 10\n"
          ],
          "name": "stdout"
        }
      ]
    },
    {
      "cell_type": "code",
      "metadata": {
        "id": "12WpBg22AcGv",
        "colab_type": "code",
        "colab": {}
      },
      "source": [
        "while(False):\n",
        "  print('Google')"
      ],
      "execution_count": null,
      "outputs": []
    },
    {
      "cell_type": "code",
      "metadata": {
        "id": "OxxRVXDdAk7I",
        "colab_type": "code",
        "colab": {
          "base_uri": "https://localhost:8080/",
          "height": 211
        },
        "outputId": "47bfa32f-064a-440a-cd0a-37625f8241fd"
      },
      "source": [
        "for i in range(0,10):\n",
        "  print('Google',i)"
      ],
      "execution_count": null,
      "outputs": [
        {
          "output_type": "stream",
          "text": [
            "Google 0\n",
            "Google 1\n",
            "Google 2\n",
            "Google 3\n",
            "Google 4\n",
            "Google 5\n",
            "Google 6\n",
            "Google 7\n",
            "Google 8\n",
            "Google 9\n"
          ],
          "name": "stdout"
        }
      ]
    },
    {
      "cell_type": "code",
      "metadata": {
        "id": "-XStUT8RBWHh",
        "colab_type": "code",
        "colab": {
          "base_uri": "https://localhost:8080/",
          "height": 55
        },
        "outputId": "9c544284-0661-4f2b-b4ac-831349e97f42"
      },
      "source": [
        "print(len(l))"
      ],
      "execution_count": null,
      "outputs": [
        {
          "output_type": "stream",
          "text": [
            "6\n"
          ],
          "name": "stdout"
        }
      ]
    },
    {
      "cell_type": "code",
      "metadata": {
        "id": "P3epsCE6AuuO",
        "colab_type": "code",
        "colab": {
          "base_uri": "https://localhost:8080/",
          "height": 55
        },
        "outputId": "4928948a-6934-4dc1-8cec-8d765b09075e"
      },
      "source": [
        "#For loop for a varible with multiple values\n",
        "#l*2\n",
        "l2 = []\n",
        "for i in range(len(l)):\n",
        "  l2.append(l[i]*2)\n",
        "print(l2)"
      ],
      "execution_count": null,
      "outputs": [
        {
          "output_type": "stream",
          "text": [
            "[1778, 912, 934, 82, 62, 42]\n"
          ],
          "name": "stdout"
        }
      ]
    },
    {
      "cell_type": "code",
      "metadata": {
        "id": "JIBjRpY9A4rp",
        "colab_type": "code",
        "colab": {
          "base_uri": "https://localhost:8080/",
          "height": 55
        },
        "outputId": "bb3f7cb2-ead0-41a5-8b2b-22e7dee177cf"
      },
      "source": [
        "l3 = []\n",
        "for i in l:\n",
        "  l3.append(i*3)\n",
        "print(l3)"
      ],
      "execution_count": null,
      "outputs": [
        {
          "output_type": "stream",
          "text": [
            "[2667, 1368, 1401, 123, 93, 63]\n"
          ],
          "name": "stdout"
        }
      ]
    },
    {
      "cell_type": "code",
      "metadata": {
        "id": "VMQMRU8fBiaa",
        "colab_type": "code",
        "colab": {
          "base_uri": "https://localhost:8080/",
          "height": 72
        },
        "outputId": "4c3bad59-1772-4f90-ae43-4f58dc13d2d1"
      },
      "source": [
        "for i in d:\n",
        "  print(i,d[i])"
      ],
      "execution_count": null,
      "outputs": [
        {
          "output_type": "stream",
          "text": [
            "name Bipul\n",
            "email bipul@diginique.com\n"
          ],
          "name": "stdout"
        }
      ]
    },
    {
      "cell_type": "code",
      "metadata": {
        "id": "-O_JR-0_BxCD",
        "colab_type": "code",
        "colab": {}
      },
      "source": [
        "#function\n",
        "#f(x) = x*2+3\n",
        "#f(3) = 9\n",
        "#Local Decalartion\n",
        "def abc():\n",
        "  a1 = 4\n",
        "  b1 = 7\n",
        "  c1 = 2*(a1*b1)\n",
        "  print(c1)"
      ],
      "execution_count": null,
      "outputs": []
    },
    {
      "cell_type": "code",
      "metadata": {
        "id": "v2NZhnpwCXMg",
        "colab_type": "code",
        "colab": {
          "base_uri": "https://localhost:8080/",
          "height": 274
        },
        "outputId": "4bd4459d-06a6-4781-9a9c-7e99b0df2080"
      },
      "source": [
        "abc()\n",
        "abc()\n",
        "abc()\n",
        "print(a1+b1)"
      ],
      "execution_count": null,
      "outputs": [
        {
          "output_type": "stream",
          "text": [
            "56\n",
            "56\n",
            "56\n"
          ],
          "name": "stdout"
        },
        {
          "output_type": "error",
          "ename": "NameError",
          "evalue": "ignored",
          "traceback": [
            "\u001b[0;31m---------------------------------------------------------------------------\u001b[0m",
            "\u001b[0;31mNameError\u001b[0m                                 Traceback (most recent call last)",
            "\u001b[0;32m<ipython-input-63-52a5fe12f27b>\u001b[0m in \u001b[0;36m<module>\u001b[0;34m()\u001b[0m\n\u001b[1;32m      2\u001b[0m \u001b[0mabc\u001b[0m\u001b[0;34m(\u001b[0m\u001b[0;34m)\u001b[0m\u001b[0;34m\u001b[0m\u001b[0;34m\u001b[0m\u001b[0m\n\u001b[1;32m      3\u001b[0m \u001b[0mabc\u001b[0m\u001b[0;34m(\u001b[0m\u001b[0;34m)\u001b[0m\u001b[0;34m\u001b[0m\u001b[0;34m\u001b[0m\u001b[0m\n\u001b[0;32m----> 4\u001b[0;31m \u001b[0mprint\u001b[0m\u001b[0;34m(\u001b[0m\u001b[0ma1\u001b[0m\u001b[0;34m+\u001b[0m\u001b[0mb1\u001b[0m\u001b[0;34m)\u001b[0m\u001b[0;34m\u001b[0m\u001b[0;34m\u001b[0m\u001b[0m\n\u001b[0m",
            "\u001b[0;31mNameError\u001b[0m: name 'a1' is not defined"
          ]
        }
      ]
    },
    {
      "cell_type": "code",
      "metadata": {
        "id": "NIylT5nlDE3X",
        "colab_type": "code",
        "colab": {}
      },
      "source": [
        "#Global Declaration\n",
        "x = 4\n",
        "y = 7\n",
        "def abc():\n",
        "  z = 2*(x*y)\n",
        "  print(z)"
      ],
      "execution_count": null,
      "outputs": []
    },
    {
      "cell_type": "code",
      "metadata": {
        "id": "5igVtjcyC-OQ",
        "colab_type": "code",
        "colab": {
          "base_uri": "https://localhost:8080/",
          "height": 107
        },
        "outputId": "715a5cdb-aa7b-46a7-f168-53505051e886"
      },
      "source": [
        "abc()\n",
        "abc()\n",
        "abc()\n",
        "print(x+y)"
      ],
      "execution_count": null,
      "outputs": [
        {
          "output_type": "stream",
          "text": [
            "56\n",
            "56\n",
            "56\n",
            "11\n"
          ],
          "name": "stdout"
        }
      ]
    },
    {
      "cell_type": "code",
      "metadata": {
        "id": "X_1IUX8PCZd3",
        "colab_type": "code",
        "colab": {}
      },
      "source": [
        "#Functions with parameter\n",
        "def xyz(x,y):\n",
        "  z = 2*(x+y)\n",
        "  print(z)"
      ],
      "execution_count": null,
      "outputs": []
    },
    {
      "cell_type": "code",
      "metadata": {
        "id": "iDe0GR_YCpjK",
        "colab_type": "code",
        "colab": {
          "base_uri": "https://localhost:8080/",
          "height": 90
        },
        "outputId": "ef16ed2c-6559-4f7b-996d-c774973ac200"
      },
      "source": [
        "xyz(1,2)\n",
        "xyz(3,2)\n",
        "xyz(5,2)"
      ],
      "execution_count": null,
      "outputs": [
        {
          "output_type": "stream",
          "text": [
            "6\n",
            "10\n",
            "14\n"
          ],
          "name": "stdout"
        }
      ]
    },
    {
      "cell_type": "code",
      "metadata": {
        "id": "OnzmR7CSCu8z",
        "colab_type": "code",
        "colab": {}
      },
      "source": [
        "#Return type function - if we need to operate on the top of function\n",
        "def xyz(x,y):\n",
        "  z = 2*(x+y)\n",
        "  return z"
      ],
      "execution_count": null,
      "outputs": []
    },
    {
      "cell_type": "code",
      "metadata": {
        "id": "O3ixTkLmD9F7",
        "colab_type": "code",
        "colab": {
          "base_uri": "https://localhost:8080/",
          "height": 55
        },
        "outputId": "840fe481-52cf-466e-f75c-6d7317c5108e"
      },
      "source": [
        "xyz(5,2) * 3"
      ],
      "execution_count": null,
      "outputs": [
        {
          "output_type": "execute_result",
          "data": {
            "text/plain": [
              "42"
            ]
          },
          "metadata": {
            "tags": []
          },
          "execution_count": 71
        }
      ]
    },
    {
      "cell_type": "code",
      "metadata": {
        "id": "zM2AXftyDox2",
        "colab_type": "code",
        "colab": {
          "base_uri": "https://localhost:8080/",
          "height": 55
        },
        "outputId": "b6bd36ae-6e1f-4196-d547-140c26e4ae5d"
      },
      "source": [
        "14*2"
      ],
      "execution_count": null,
      "outputs": [
        {
          "output_type": "execute_result",
          "data": {
            "text/plain": [
              "28"
            ]
          },
          "metadata": {
            "tags": []
          },
          "execution_count": 67
        }
      ]
    },
    {
      "cell_type": "code",
      "metadata": {
        "id": "5dGo8foHDqZ2",
        "colab_type": "code",
        "colab": {
          "base_uri": "https://localhost:8080/",
          "height": 55
        },
        "outputId": "8fb2402b-0e56-416e-ee0c-3aaf6fd6173e"
      },
      "source": [
        "3*2"
      ],
      "execution_count": null,
      "outputs": [
        {
          "output_type": "execute_result",
          "data": {
            "text/plain": [
              "6"
            ]
          },
          "metadata": {
            "tags": []
          },
          "execution_count": 72
        }
      ]
    },
    {
      "cell_type": "code",
      "metadata": {
        "id": "29ixp5g1FfC9",
        "colab_type": "code",
        "colab": {}
      },
      "source": [
        ""
      ],
      "execution_count": null,
      "outputs": []
    }
  ]
}